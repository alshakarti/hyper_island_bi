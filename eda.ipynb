{
 "cells": [
  {
   "cell_type": "markdown",
   "id": "98b8b270",
   "metadata": {},
   "source": [
    "# Exploratory Data Analysis"
   ]
  },
  {
   "cell_type": "markdown",
   "id": "f00bcd2e",
   "metadata": {},
   "source": [
    "## Setting up the environment"
   ]
  },
  {
   "cell_type": "code",
   "execution_count": 1,
   "id": "f6cb046e",
   "metadata": {},
   "outputs": [],
   "source": [
    "import pandas as pd\n",
    "import os\n",
    "from pathlib import Path"
   ]
  },
  {
   "cell_type": "markdown",
   "id": "9dc3b8a6",
   "metadata": {},
   "source": [
    "## Loading CSV files "
   ]
  },
  {
   "cell_type": "code",
   "execution_count": 14,
   "id": "bc9d6a5b",
   "metadata": {},
   "outputs": [],
   "source": [
    "def load_all_csv_files(data_dir='data', show_rows=5):\n",
    "    \n",
    "    # check if the directory exists\n",
    "    if not os.path.exists(data_dir):\n",
    "        print(f\"Directory '{data_dir}' not found!\")\n",
    "        return {}, {}\n",
    "    \n",
    "    # store dataframes, file mappings and get csv files \n",
    "    dataframes = {}\n",
    "    file_mappings = {}\n",
    "    csv_files = list(Path(data_dir).glob('*.csv'))\n",
    "    csv_files.sort() \n",
    "    \n",
    "    print(f\"Found {len(csv_files)} CSV files in '{data_dir}' directory.\\n\")\n",
    "    \n",
    "    # load each CSV file into a dataframe\n",
    "    for i, file_path in enumerate(csv_files, 1):\n",
    "        df_name = f\"df{i}\"\n",
    "        file_mappings[df_name] = str(file_path)\n",
    "        \n",
    "        print(f\"Loaded {file_path} as {df_name}\")\n",
    "        \n",
    "        df = pd.read_csv(file_path)\n",
    "        dataframes[df_name] = df\n",
    "\n",
    "        print(f\"File: {file_path}\")\n",
    "        print(f\"Shape: {df.shape[0]} rows × {df.shape[1]} columns\")\n",
    "        print(f\"\\nFirst {show_rows} rows of {df_name}:\")\n",
    "        display(df.head(show_rows))\n",
    "        print(\"-\" * 80 + \"\\n\")\n",
    "    \n",
    "    return dataframes, file_mappings"
   ]
  },
  {
   "cell_type": "code",
   "execution_count": 16,
   "id": "afa66a0b",
   "metadata": {},
   "outputs": [
    {
     "name": "stdout",
     "output_type": "stream",
     "text": [
      "Found 12 CSV files in 'data' directory.\n",
      "\n",
      "Loaded data/dim__hubspot_sales_pipeline_stages.csv as df1\n",
      "File: data/dim__hubspot_sales_pipeline_stages.csv\n",
      "Shape: 6 rows × 6 columns\n",
      "\n",
      "First 5 rows of df1:\n"
     ]
    },
    {
     "data": {
      "application/vnd.microsoft.datawrangler.viewer.v0+json": {
       "columns": [
        {
         "name": "index",
         "rawType": "int64",
         "type": "integer"
        },
        {
         "name": "pipeline_stage_id",
         "rawType": "object",
         "type": "string"
        },
        {
         "name": "pipeline_stage_order",
         "rawType": "int64",
         "type": "integer"
        },
        {
         "name": "pipeline_stage",
         "rawType": "object",
         "type": "string"
        },
        {
         "name": "close_probability",
         "rawType": "float64",
         "type": "float"
        },
        {
         "name": "stage_is_archived",
         "rawType": "bool",
         "type": "boolean"
        },
        {
         "name": "deal_is_closed",
         "rawType": "bool",
         "type": "boolean"
        }
       ],
       "ref": "52086ea6-6d22-4363-8a86-57cc069afe59",
       "rows": [
        [
         "0",
         "1102499",
         "1",
         "Qualification",
         "0.2",
         "False",
         "False"
        ],
        [
         "1",
         "12008384",
         "0",
         "Lead",
         "0.1",
         "False",
         "False"
        ],
        [
         "2",
         "qualifiedtobuy",
         "3",
         "Proposal",
         "0.6",
         "False",
         "False"
        ],
        [
         "3",
         "appointmentscheduled",
         "2",
         "Exploration",
         "0.4",
         "False",
         "False"
        ],
        [
         "4",
         "closedlost",
         "5",
         "Closed Lost",
         "0.0",
         "False",
         "True"
        ]
       ],
       "shape": {
        "columns": 6,
        "rows": 5
       }
      },
      "text/html": [
       "<div>\n",
       "<style scoped>\n",
       "    .dataframe tbody tr th:only-of-type {\n",
       "        vertical-align: middle;\n",
       "    }\n",
       "\n",
       "    .dataframe tbody tr th {\n",
       "        vertical-align: top;\n",
       "    }\n",
       "\n",
       "    .dataframe thead th {\n",
       "        text-align: right;\n",
       "    }\n",
       "</style>\n",
       "<table border=\"1\" class=\"dataframe\">\n",
       "  <thead>\n",
       "    <tr style=\"text-align: right;\">\n",
       "      <th></th>\n",
       "      <th>pipeline_stage_id</th>\n",
       "      <th>pipeline_stage_order</th>\n",
       "      <th>pipeline_stage</th>\n",
       "      <th>close_probability</th>\n",
       "      <th>stage_is_archived</th>\n",
       "      <th>deal_is_closed</th>\n",
       "    </tr>\n",
       "  </thead>\n",
       "  <tbody>\n",
       "    <tr>\n",
       "      <th>0</th>\n",
       "      <td>1102499</td>\n",
       "      <td>1</td>\n",
       "      <td>Qualification</td>\n",
       "      <td>0.2</td>\n",
       "      <td>False</td>\n",
       "      <td>False</td>\n",
       "    </tr>\n",
       "    <tr>\n",
       "      <th>1</th>\n",
       "      <td>12008384</td>\n",
       "      <td>0</td>\n",
       "      <td>Lead</td>\n",
       "      <td>0.1</td>\n",
       "      <td>False</td>\n",
       "      <td>False</td>\n",
       "    </tr>\n",
       "    <tr>\n",
       "      <th>2</th>\n",
       "      <td>qualifiedtobuy</td>\n",
       "      <td>3</td>\n",
       "      <td>Proposal</td>\n",
       "      <td>0.6</td>\n",
       "      <td>False</td>\n",
       "      <td>False</td>\n",
       "    </tr>\n",
       "    <tr>\n",
       "      <th>3</th>\n",
       "      <td>appointmentscheduled</td>\n",
       "      <td>2</td>\n",
       "      <td>Exploration</td>\n",
       "      <td>0.4</td>\n",
       "      <td>False</td>\n",
       "      <td>False</td>\n",
       "    </tr>\n",
       "    <tr>\n",
       "      <th>4</th>\n",
       "      <td>closedlost</td>\n",
       "      <td>5</td>\n",
       "      <td>Closed Lost</td>\n",
       "      <td>0.0</td>\n",
       "      <td>False</td>\n",
       "      <td>True</td>\n",
       "    </tr>\n",
       "  </tbody>\n",
       "</table>\n",
       "</div>"
      ],
      "text/plain": [
       "      pipeline_stage_id  pipeline_stage_order pipeline_stage  \\\n",
       "0               1102499                     1  Qualification   \n",
       "1              12008384                     0           Lead   \n",
       "2        qualifiedtobuy                     3       Proposal   \n",
       "3  appointmentscheduled                     2    Exploration   \n",
       "4            closedlost                     5    Closed Lost   \n",
       "\n",
       "   close_probability  stage_is_archived  deal_is_closed  \n",
       "0                0.2              False           False  \n",
       "1                0.1              False           False  \n",
       "2                0.6              False           False  \n",
       "3                0.4              False           False  \n",
       "4                0.0              False            True  "
      ]
     },
     "metadata": {},
     "output_type": "display_data"
    },
    {
     "name": "stdout",
     "output_type": "stream",
     "text": [
      "--------------------------------------------------------------------------------\n",
      "\n",
      "Loaded data/dim__notion_clients__anonymized.csv as df2\n",
      "File: data/dim__notion_clients__anonymized.csv\n",
      "Shape: 48 rows × 10 columns\n",
      "\n",
      "First 5 rows of df2:\n"
     ]
    },
    {
     "data": {
      "application/vnd.microsoft.datawrangler.viewer.v0+json": {
       "columns": [
        {
         "name": "index",
         "rawType": "int64",
         "type": "integer"
        },
        {
         "name": "client_id",
         "rawType": "object",
         "type": "string"
        },
        {
         "name": "category",
         "rawType": "object",
         "type": "string"
        },
        {
         "name": "industry_id",
         "rawType": "object",
         "type": "unknown"
        },
        {
         "name": "company_size",
         "rawType": "object",
         "type": "unknown"
        },
        {
         "name": "company_type",
         "rawType": "object",
         "type": "unknown"
        },
        {
         "name": "n_roles",
         "rawType": "int64",
         "type": "integer"
        },
        {
         "name": "n_projects",
         "rawType": "int64",
         "type": "integer"
        },
        {
         "name": "n_people",
         "rawType": "int64",
         "type": "integer"
        },
        {
         "name": "started_at",
         "rawType": "object",
         "type": "unknown"
        },
        {
         "name": "name_anon",
         "rawType": "object",
         "type": "string"
        }
       ],
       "ref": "fcee4cac-da4d-467e-88fe-b722387b03f1",
       "rows": [
        [
         "0",
         "2f0a5150-aeeb-49f7-b11b-5307511068ff",
         "Internal",
         null,
         null,
         null,
         "0",
         "1",
         "0",
         null,
         "Smith, Fields and Bentley"
        ],
        [
         "1",
         "2dc74fac-c75a-4770-855f-9943969f18e3",
         "Internal",
         null,
         null,
         null,
         "0",
         "2",
         "0",
         null,
         "Ryan-Ward"
        ],
        [
         "2",
         "3d619f69-ee9c-41f8-ac3a-ac5cc851cf10",
         "Internal",
         null,
         null,
         null,
         "0",
         "3",
         "0",
         null,
         "Edwards-Jenkins"
        ],
        [
         "3",
         "87163a01-08e8-487c-b200-6f04138c53bf",
         "Internal",
         null,
         null,
         null,
         "0",
         "3",
         "0",
         null,
         "Avila LLC"
        ],
        [
         "4",
         "0a1a94ab-d574-4c92-9b69-b21df5080288",
         "Internal",
         null,
         null,
         null,
         "0",
         "3",
         "0",
         null,
         "Adams Group"
        ]
       ],
       "shape": {
        "columns": 10,
        "rows": 5
       }
      },
      "text/html": [
       "<div>\n",
       "<style scoped>\n",
       "    .dataframe tbody tr th:only-of-type {\n",
       "        vertical-align: middle;\n",
       "    }\n",
       "\n",
       "    .dataframe tbody tr th {\n",
       "        vertical-align: top;\n",
       "    }\n",
       "\n",
       "    .dataframe thead th {\n",
       "        text-align: right;\n",
       "    }\n",
       "</style>\n",
       "<table border=\"1\" class=\"dataframe\">\n",
       "  <thead>\n",
       "    <tr style=\"text-align: right;\">\n",
       "      <th></th>\n",
       "      <th>client_id</th>\n",
       "      <th>category</th>\n",
       "      <th>industry_id</th>\n",
       "      <th>company_size</th>\n",
       "      <th>company_type</th>\n",
       "      <th>n_roles</th>\n",
       "      <th>n_projects</th>\n",
       "      <th>n_people</th>\n",
       "      <th>started_at</th>\n",
       "      <th>name_anon</th>\n",
       "    </tr>\n",
       "  </thead>\n",
       "  <tbody>\n",
       "    <tr>\n",
       "      <th>0</th>\n",
       "      <td>2f0a5150-aeeb-49f7-b11b-5307511068ff</td>\n",
       "      <td>Internal</td>\n",
       "      <td>NaN</td>\n",
       "      <td>NaN</td>\n",
       "      <td>NaN</td>\n",
       "      <td>0</td>\n",
       "      <td>1</td>\n",
       "      <td>0</td>\n",
       "      <td>NaN</td>\n",
       "      <td>Smith, Fields and Bentley</td>\n",
       "    </tr>\n",
       "    <tr>\n",
       "      <th>1</th>\n",
       "      <td>2dc74fac-c75a-4770-855f-9943969f18e3</td>\n",
       "      <td>Internal</td>\n",
       "      <td>NaN</td>\n",
       "      <td>NaN</td>\n",
       "      <td>NaN</td>\n",
       "      <td>0</td>\n",
       "      <td>2</td>\n",
       "      <td>0</td>\n",
       "      <td>NaN</td>\n",
       "      <td>Ryan-Ward</td>\n",
       "    </tr>\n",
       "    <tr>\n",
       "      <th>2</th>\n",
       "      <td>3d619f69-ee9c-41f8-ac3a-ac5cc851cf10</td>\n",
       "      <td>Internal</td>\n",
       "      <td>NaN</td>\n",
       "      <td>NaN</td>\n",
       "      <td>NaN</td>\n",
       "      <td>0</td>\n",
       "      <td>3</td>\n",
       "      <td>0</td>\n",
       "      <td>NaN</td>\n",
       "      <td>Edwards-Jenkins</td>\n",
       "    </tr>\n",
       "    <tr>\n",
       "      <th>3</th>\n",
       "      <td>87163a01-08e8-487c-b200-6f04138c53bf</td>\n",
       "      <td>Internal</td>\n",
       "      <td>NaN</td>\n",
       "      <td>NaN</td>\n",
       "      <td>NaN</td>\n",
       "      <td>0</td>\n",
       "      <td>3</td>\n",
       "      <td>0</td>\n",
       "      <td>NaN</td>\n",
       "      <td>Avila LLC</td>\n",
       "    </tr>\n",
       "    <tr>\n",
       "      <th>4</th>\n",
       "      <td>0a1a94ab-d574-4c92-9b69-b21df5080288</td>\n",
       "      <td>Internal</td>\n",
       "      <td>NaN</td>\n",
       "      <td>NaN</td>\n",
       "      <td>NaN</td>\n",
       "      <td>0</td>\n",
       "      <td>3</td>\n",
       "      <td>0</td>\n",
       "      <td>NaN</td>\n",
       "      <td>Adams Group</td>\n",
       "    </tr>\n",
       "  </tbody>\n",
       "</table>\n",
       "</div>"
      ],
      "text/plain": [
       "                              client_id  category industry_id company_size  \\\n",
       "0  2f0a5150-aeeb-49f7-b11b-5307511068ff  Internal         NaN          NaN   \n",
       "1  2dc74fac-c75a-4770-855f-9943969f18e3  Internal         NaN          NaN   \n",
       "2  3d619f69-ee9c-41f8-ac3a-ac5cc851cf10  Internal         NaN          NaN   \n",
       "3  87163a01-08e8-487c-b200-6f04138c53bf  Internal         NaN          NaN   \n",
       "4  0a1a94ab-d574-4c92-9b69-b21df5080288  Internal         NaN          NaN   \n",
       "\n",
       "  company_type  n_roles  n_projects  n_people started_at  \\\n",
       "0          NaN        0           1         0        NaN   \n",
       "1          NaN        0           2         0        NaN   \n",
       "2          NaN        0           3         0        NaN   \n",
       "3          NaN        0           3         0        NaN   \n",
       "4          NaN        0           3         0        NaN   \n",
       "\n",
       "                   name_anon  \n",
       "0  Smith, Fields and Bentley  \n",
       "1                  Ryan-Ward  \n",
       "2            Edwards-Jenkins  \n",
       "3                  Avila LLC  \n",
       "4                Adams Group  "
      ]
     },
     "metadata": {},
     "output_type": "display_data"
    },
    {
     "name": "stdout",
     "output_type": "stream",
     "text": [
      "--------------------------------------------------------------------------------\n",
      "\n",
      "Loaded data/dim__notion_hr__anonymized.csv as df3\n",
      "File: data/dim__notion_hr__anonymized.csv\n",
      "Shape: 13 rows × 6 columns\n",
      "\n",
      "First 5 rows of df3:\n"
     ]
    },
    {
     "data": {
      "application/vnd.microsoft.datawrangler.viewer.v0+json": {
       "columns": [
        {
         "name": "index",
         "rawType": "int64",
         "type": "integer"
        },
        {
         "name": "consultant_id",
         "rawType": "object",
         "type": "string"
        },
        {
         "name": "active",
         "rawType": "object",
         "type": "unknown"
        },
        {
         "name": "startdate",
         "rawType": "object",
         "type": "string"
        },
        {
         "name": "enddate",
         "rawType": "float64",
         "type": "float"
        },
        {
         "name": "seniority",
         "rawType": "object",
         "type": "string"
        },
        {
         "name": "consultant_name_anon",
         "rawType": "object",
         "type": "string"
        }
       ],
       "ref": "c8424612-fdcb-4fe4-acb9-be132cccb2ec",
       "rows": [
        [
         "0",
         "2a554628-d7f2-475f-8872-5a7057388c36",
         "No",
         "2024-08-19",
         null,
         "K2",
         "Bertil Grind"
        ],
        [
         "1",
         "261b42da-30b3-801f-ade8-e0f9f5d087b6",
         "Yes",
         "2025-09-01",
         null,
         "K2",
         "Alexander Macedon"
        ],
        [
         "2",
         "261b42da-30b3-8088-b413-f0676fb78aa4",
         null,
         "2025-09-01",
         null,
         "K1",
         "Luke Rhinehart"
        ],
        [
         "3",
         "086ef6c0-d4f2-45bb-bf64-2cb51ce8fec4",
         "Yes",
         "2023-09-04",
         null,
         "K1",
         "Rachel Lamb"
        ],
        [
         "4",
         "afd559ec-90bf-40c9-8e96-57e3d7af66fd",
         "Yes",
         "2023-03-13",
         null,
         "K2",
         "Astarion Baldursson"
        ]
       ],
       "shape": {
        "columns": 6,
        "rows": 5
       }
      },
      "text/html": [
       "<div>\n",
       "<style scoped>\n",
       "    .dataframe tbody tr th:only-of-type {\n",
       "        vertical-align: middle;\n",
       "    }\n",
       "\n",
       "    .dataframe tbody tr th {\n",
       "        vertical-align: top;\n",
       "    }\n",
       "\n",
       "    .dataframe thead th {\n",
       "        text-align: right;\n",
       "    }\n",
       "</style>\n",
       "<table border=\"1\" class=\"dataframe\">\n",
       "  <thead>\n",
       "    <tr style=\"text-align: right;\">\n",
       "      <th></th>\n",
       "      <th>consultant_id</th>\n",
       "      <th>active</th>\n",
       "      <th>startdate</th>\n",
       "      <th>enddate</th>\n",
       "      <th>seniority</th>\n",
       "      <th>consultant_name_anon</th>\n",
       "    </tr>\n",
       "  </thead>\n",
       "  <tbody>\n",
       "    <tr>\n",
       "      <th>0</th>\n",
       "      <td>2a554628-d7f2-475f-8872-5a7057388c36</td>\n",
       "      <td>No</td>\n",
       "      <td>2024-08-19</td>\n",
       "      <td>NaN</td>\n",
       "      <td>K2</td>\n",
       "      <td>Bertil Grind</td>\n",
       "    </tr>\n",
       "    <tr>\n",
       "      <th>1</th>\n",
       "      <td>261b42da-30b3-801f-ade8-e0f9f5d087b6</td>\n",
       "      <td>Yes</td>\n",
       "      <td>2025-09-01</td>\n",
       "      <td>NaN</td>\n",
       "      <td>K2</td>\n",
       "      <td>Alexander Macedon</td>\n",
       "    </tr>\n",
       "    <tr>\n",
       "      <th>2</th>\n",
       "      <td>261b42da-30b3-8088-b413-f0676fb78aa4</td>\n",
       "      <td>NaN</td>\n",
       "      <td>2025-09-01</td>\n",
       "      <td>NaN</td>\n",
       "      <td>K1</td>\n",
       "      <td>Luke Rhinehart</td>\n",
       "    </tr>\n",
       "    <tr>\n",
       "      <th>3</th>\n",
       "      <td>086ef6c0-d4f2-45bb-bf64-2cb51ce8fec4</td>\n",
       "      <td>Yes</td>\n",
       "      <td>2023-09-04</td>\n",
       "      <td>NaN</td>\n",
       "      <td>K1</td>\n",
       "      <td>Rachel Lamb</td>\n",
       "    </tr>\n",
       "    <tr>\n",
       "      <th>4</th>\n",
       "      <td>afd559ec-90bf-40c9-8e96-57e3d7af66fd</td>\n",
       "      <td>Yes</td>\n",
       "      <td>2023-03-13</td>\n",
       "      <td>NaN</td>\n",
       "      <td>K2</td>\n",
       "      <td>Astarion Baldursson</td>\n",
       "    </tr>\n",
       "  </tbody>\n",
       "</table>\n",
       "</div>"
      ],
      "text/plain": [
       "                          consultant_id active   startdate  enddate seniority  \\\n",
       "0  2a554628-d7f2-475f-8872-5a7057388c36     No  2024-08-19      NaN        K2   \n",
       "1  261b42da-30b3-801f-ade8-e0f9f5d087b6    Yes  2025-09-01      NaN        K2   \n",
       "2  261b42da-30b3-8088-b413-f0676fb78aa4    NaN  2025-09-01      NaN        K1   \n",
       "3  086ef6c0-d4f2-45bb-bf64-2cb51ce8fec4    Yes  2023-09-04      NaN        K1   \n",
       "4  afd559ec-90bf-40c9-8e96-57e3d7af66fd    Yes  2023-03-13      NaN        K2   \n",
       "\n",
       "  consultant_name_anon  \n",
       "0         Bertil Grind  \n",
       "1    Alexander Macedon  \n",
       "2       Luke Rhinehart  \n",
       "3          Rachel Lamb  \n",
       "4  Astarion Baldursson  "
      ]
     },
     "metadata": {},
     "output_type": "display_data"
    },
    {
     "name": "stdout",
     "output_type": "stream",
     "text": [
      "--------------------------------------------------------------------------------\n",
      "\n",
      "Loaded data/dim__notion_roles__anonymized.csv as df4\n",
      "File: data/dim__notion_roles__anonymized.csv\n",
      "Shape: 101 rows × 8 columns\n",
      "\n",
      "First 5 rows of df4:\n"
     ]
    },
    {
     "data": {
      "application/vnd.microsoft.datawrangler.viewer.v0+json": {
       "columns": [
        {
         "name": "index",
         "rawType": "int64",
         "type": "integer"
        },
        {
         "name": "role_id",
         "rawType": "object",
         "type": "string"
        },
        {
         "name": "industry_name",
         "rawType": "object",
         "type": "unknown"
        },
        {
         "name": "role_category_name",
         "rawType": "object",
         "type": "unknown"
        },
        {
         "name": "hourly_rate",
         "rawType": "float64",
         "type": "float"
        },
        {
         "name": "billing_type",
         "rawType": "object",
         "type": "unknown"
        },
        {
         "name": "seniority",
         "rawType": "object",
         "type": "unknown"
        },
        {
         "name": "startdate",
         "rawType": "object",
         "type": "unknown"
        },
        {
         "name": "name_anon",
         "rawType": "object",
         "type": "unknown"
        }
       ],
       "ref": "1db5a37a-8d19-4667-8f23-ba9cfed1a1cf",
       "rows": [
        [
         "0",
         "68fb318f-438b-4257-95f2-3893564ebd01",
         null,
         null,
         null,
         null,
         "K2",
         "2023-10-01",
         null
        ],
        [
         "1",
         "b5a1a16b-99d7-4895-b927-0d0afa074c35",
         null,
         null,
         null,
         null,
         null,
         null,
         null
        ],
        [
         "2",
         "264b42da-30b3-8026-b4e1-f6a7c2832cc2",
         null,
         "Data Analyst",
         "900.0",
         "Direct",
         null,
         "2025-09-04",
         "Terry and Sons"
        ],
        [
         "3",
         "0517e8f8-b88c-41fa-ae1a-57458f4571d0",
         null,
         "Data Engineer",
         "1100.0",
         "Invoicing(Right people Group)",
         null,
         "2022-12-05",
         "Payne-Nelson"
        ],
        [
         "4",
         "347c5d6b-8487-437c-8945-612a32c0b866",
         null,
         null,
         "1100.0",
         null,
         null,
         "2022-09-11",
         "Payne-Nelson"
        ]
       ],
       "shape": {
        "columns": 8,
        "rows": 5
       }
      },
      "text/html": [
       "<div>\n",
       "<style scoped>\n",
       "    .dataframe tbody tr th:only-of-type {\n",
       "        vertical-align: middle;\n",
       "    }\n",
       "\n",
       "    .dataframe tbody tr th {\n",
       "        vertical-align: top;\n",
       "    }\n",
       "\n",
       "    .dataframe thead th {\n",
       "        text-align: right;\n",
       "    }\n",
       "</style>\n",
       "<table border=\"1\" class=\"dataframe\">\n",
       "  <thead>\n",
       "    <tr style=\"text-align: right;\">\n",
       "      <th></th>\n",
       "      <th>role_id</th>\n",
       "      <th>industry_name</th>\n",
       "      <th>role_category_name</th>\n",
       "      <th>hourly_rate</th>\n",
       "      <th>billing_type</th>\n",
       "      <th>seniority</th>\n",
       "      <th>startdate</th>\n",
       "      <th>name_anon</th>\n",
       "    </tr>\n",
       "  </thead>\n",
       "  <tbody>\n",
       "    <tr>\n",
       "      <th>0</th>\n",
       "      <td>68fb318f-438b-4257-95f2-3893564ebd01</td>\n",
       "      <td>NaN</td>\n",
       "      <td>NaN</td>\n",
       "      <td>NaN</td>\n",
       "      <td>NaN</td>\n",
       "      <td>K2</td>\n",
       "      <td>2023-10-01</td>\n",
       "      <td>NaN</td>\n",
       "    </tr>\n",
       "    <tr>\n",
       "      <th>1</th>\n",
       "      <td>b5a1a16b-99d7-4895-b927-0d0afa074c35</td>\n",
       "      <td>NaN</td>\n",
       "      <td>NaN</td>\n",
       "      <td>NaN</td>\n",
       "      <td>NaN</td>\n",
       "      <td>NaN</td>\n",
       "      <td>NaN</td>\n",
       "      <td>NaN</td>\n",
       "    </tr>\n",
       "    <tr>\n",
       "      <th>2</th>\n",
       "      <td>264b42da-30b3-8026-b4e1-f6a7c2832cc2</td>\n",
       "      <td>NaN</td>\n",
       "      <td>Data Analyst</td>\n",
       "      <td>900.0</td>\n",
       "      <td>Direct</td>\n",
       "      <td>NaN</td>\n",
       "      <td>2025-09-04</td>\n",
       "      <td>Terry and Sons</td>\n",
       "    </tr>\n",
       "    <tr>\n",
       "      <th>3</th>\n",
       "      <td>0517e8f8-b88c-41fa-ae1a-57458f4571d0</td>\n",
       "      <td>NaN</td>\n",
       "      <td>Data Engineer</td>\n",
       "      <td>1100.0</td>\n",
       "      <td>Invoicing(Right people Group)</td>\n",
       "      <td>NaN</td>\n",
       "      <td>2022-12-05</td>\n",
       "      <td>Payne-Nelson</td>\n",
       "    </tr>\n",
       "    <tr>\n",
       "      <th>4</th>\n",
       "      <td>347c5d6b-8487-437c-8945-612a32c0b866</td>\n",
       "      <td>NaN</td>\n",
       "      <td>NaN</td>\n",
       "      <td>1100.0</td>\n",
       "      <td>NaN</td>\n",
       "      <td>NaN</td>\n",
       "      <td>2022-09-11</td>\n",
       "      <td>Payne-Nelson</td>\n",
       "    </tr>\n",
       "  </tbody>\n",
       "</table>\n",
       "</div>"
      ],
      "text/plain": [
       "                                role_id industry_name role_category_name  \\\n",
       "0  68fb318f-438b-4257-95f2-3893564ebd01           NaN                NaN   \n",
       "1  b5a1a16b-99d7-4895-b927-0d0afa074c35           NaN                NaN   \n",
       "2  264b42da-30b3-8026-b4e1-f6a7c2832cc2           NaN       Data Analyst   \n",
       "3  0517e8f8-b88c-41fa-ae1a-57458f4571d0           NaN      Data Engineer   \n",
       "4  347c5d6b-8487-437c-8945-612a32c0b866           NaN                NaN   \n",
       "\n",
       "   hourly_rate                   billing_type seniority   startdate  \\\n",
       "0          NaN                            NaN        K2  2023-10-01   \n",
       "1          NaN                            NaN       NaN         NaN   \n",
       "2        900.0                         Direct       NaN  2025-09-04   \n",
       "3       1100.0  Invoicing(Right people Group)       NaN  2022-12-05   \n",
       "4       1100.0                            NaN       NaN  2022-09-11   \n",
       "\n",
       "        name_anon  \n",
       "0             NaN  \n",
       "1             NaN  \n",
       "2  Terry and Sons  \n",
       "3    Payne-Nelson  \n",
       "4    Payne-Nelson  "
      ]
     },
     "metadata": {},
     "output_type": "display_data"
    },
    {
     "name": "stdout",
     "output_type": "stream",
     "text": [
      "--------------------------------------------------------------------------------\n",
      "\n",
      "Loaded data/dim__projects__anonymized.csv as df5\n",
      "File: data/dim__projects__anonymized.csv\n",
      "Shape: 91 rows × 7 columns\n",
      "\n",
      "First 5 rows of df5:\n"
     ]
    },
    {
     "data": {
      "application/vnd.microsoft.datawrangler.viewer.v0+json": {
       "columns": [
        {
         "name": "index",
         "rawType": "int64",
         "type": "integer"
        },
        {
         "name": "project_id",
         "rawType": "object",
         "type": "string"
        },
        {
         "name": "client_id",
         "rawType": "object",
         "type": "string"
        },
        {
         "name": "clockify_project_billable",
         "rawType": "bool",
         "type": "boolean"
        },
        {
         "name": "project_duration",
         "rawType": "object",
         "type": "string"
        },
        {
         "name": "estimated_durationn",
         "rawType": "object",
         "type": "string"
        },
        {
         "name": "client_anon",
         "rawType": "object",
         "type": "string"
        },
        {
         "name": "project_anon",
         "rawType": "object",
         "type": "string"
        }
       ],
       "ref": "4d84010d-f529-4c54-a09e-76cd05cc6eb8",
       "rows": [
        [
         "0",
         "5f60a92df2bfed445099122e",
         "5f437b54d13ed94468add358",
         "False",
         "232H",
         "Not estimated",
         "Taylor, Simmons and Anderson",
         "Obetald semester"
        ],
        [
         "1",
         "65a66b6f7349ba6dbd1f1086",
         "5f437b54d13ed94468add358",
         "False",
         "414H",
         "Not estimated",
         "Taylor, Simmons and Anderson",
         "Brown, Martinez and Manning Projects"
        ],
        [
         "2",
         "5f437f189decb91192e37bc0",
         "5f437b54d13ed94468add358",
         "False",
         "10321H",
         "Not estimated",
         "Taylor, Simmons and Anderson",
         "Semester"
        ],
        [
         "3",
         "6179a9ac4d694b7ecbe75ea6",
         "5f437b54d13ed94468add358",
         "False",
         "396H",
         "Not estimated",
         "Taylor, Simmons and Anderson",
         "Vård av barn"
        ],
        [
         "4",
         "65a66b65efacdd3a4371df50",
         "5f437b54d13ed94468add358",
         "False",
         "52H",
         "Not estimated",
         "Taylor, Simmons and Anderson",
         "Competence development"
        ]
       ],
       "shape": {
        "columns": 7,
        "rows": 5
       }
      },
      "text/html": [
       "<div>\n",
       "<style scoped>\n",
       "    .dataframe tbody tr th:only-of-type {\n",
       "        vertical-align: middle;\n",
       "    }\n",
       "\n",
       "    .dataframe tbody tr th {\n",
       "        vertical-align: top;\n",
       "    }\n",
       "\n",
       "    .dataframe thead th {\n",
       "        text-align: right;\n",
       "    }\n",
       "</style>\n",
       "<table border=\"1\" class=\"dataframe\">\n",
       "  <thead>\n",
       "    <tr style=\"text-align: right;\">\n",
       "      <th></th>\n",
       "      <th>project_id</th>\n",
       "      <th>client_id</th>\n",
       "      <th>clockify_project_billable</th>\n",
       "      <th>project_duration</th>\n",
       "      <th>estimated_durationn</th>\n",
       "      <th>client_anon</th>\n",
       "      <th>project_anon</th>\n",
       "    </tr>\n",
       "  </thead>\n",
       "  <tbody>\n",
       "    <tr>\n",
       "      <th>0</th>\n",
       "      <td>5f60a92df2bfed445099122e</td>\n",
       "      <td>5f437b54d13ed94468add358</td>\n",
       "      <td>False</td>\n",
       "      <td>232H</td>\n",
       "      <td>Not estimated</td>\n",
       "      <td>Taylor, Simmons and Anderson</td>\n",
       "      <td>Obetald semester</td>\n",
       "    </tr>\n",
       "    <tr>\n",
       "      <th>1</th>\n",
       "      <td>65a66b6f7349ba6dbd1f1086</td>\n",
       "      <td>5f437b54d13ed94468add358</td>\n",
       "      <td>False</td>\n",
       "      <td>414H</td>\n",
       "      <td>Not estimated</td>\n",
       "      <td>Taylor, Simmons and Anderson</td>\n",
       "      <td>Brown, Martinez and Manning Projects</td>\n",
       "    </tr>\n",
       "    <tr>\n",
       "      <th>2</th>\n",
       "      <td>5f437f189decb91192e37bc0</td>\n",
       "      <td>5f437b54d13ed94468add358</td>\n",
       "      <td>False</td>\n",
       "      <td>10321H</td>\n",
       "      <td>Not estimated</td>\n",
       "      <td>Taylor, Simmons and Anderson</td>\n",
       "      <td>Semester</td>\n",
       "    </tr>\n",
       "    <tr>\n",
       "      <th>3</th>\n",
       "      <td>6179a9ac4d694b7ecbe75ea6</td>\n",
       "      <td>5f437b54d13ed94468add358</td>\n",
       "      <td>False</td>\n",
       "      <td>396H</td>\n",
       "      <td>Not estimated</td>\n",
       "      <td>Taylor, Simmons and Anderson</td>\n",
       "      <td>Vård av barn</td>\n",
       "    </tr>\n",
       "    <tr>\n",
       "      <th>4</th>\n",
       "      <td>65a66b65efacdd3a4371df50</td>\n",
       "      <td>5f437b54d13ed94468add358</td>\n",
       "      <td>False</td>\n",
       "      <td>52H</td>\n",
       "      <td>Not estimated</td>\n",
       "      <td>Taylor, Simmons and Anderson</td>\n",
       "      <td>Competence development</td>\n",
       "    </tr>\n",
       "  </tbody>\n",
       "</table>\n",
       "</div>"
      ],
      "text/plain": [
       "                 project_id                 client_id  \\\n",
       "0  5f60a92df2bfed445099122e  5f437b54d13ed94468add358   \n",
       "1  65a66b6f7349ba6dbd1f1086  5f437b54d13ed94468add358   \n",
       "2  5f437f189decb91192e37bc0  5f437b54d13ed94468add358   \n",
       "3  6179a9ac4d694b7ecbe75ea6  5f437b54d13ed94468add358   \n",
       "4  65a66b65efacdd3a4371df50  5f437b54d13ed94468add358   \n",
       "\n",
       "   clockify_project_billable project_duration estimated_durationn  \\\n",
       "0                      False             232H       Not estimated   \n",
       "1                      False             414H       Not estimated   \n",
       "2                      False           10321H       Not estimated   \n",
       "3                      False             396H       Not estimated   \n",
       "4                      False              52H       Not estimated   \n",
       "\n",
       "                    client_anon                          project_anon  \n",
       "0  Taylor, Simmons and Anderson                      Obetald semester  \n",
       "1  Taylor, Simmons and Anderson  Brown, Martinez and Manning Projects  \n",
       "2  Taylor, Simmons and Anderson                              Semester  \n",
       "3  Taylor, Simmons and Anderson                          Vård av barn  \n",
       "4  Taylor, Simmons and Anderson                Competence development  "
      ]
     },
     "metadata": {},
     "output_type": "display_data"
    },
    {
     "name": "stdout",
     "output_type": "stream",
     "text": [
      "--------------------------------------------------------------------------------\n",
      "\n",
      "Loaded data/dim_employees_anon.csv as df6\n",
      "File: data/dim_employees_anon.csv\n",
      "Shape: 13 rows × 6 columns\n",
      "\n",
      "First 5 rows of df6:\n"
     ]
    },
    {
     "data": {
      "application/vnd.microsoft.datawrangler.viewer.v0+json": {
       "columns": [
        {
         "name": "index",
         "rawType": "int64",
         "type": "integer"
        },
        {
         "name": "employee_id",
         "rawType": "int64",
         "type": "integer"
        },
        {
         "name": "employee_code",
         "rawType": "int64",
         "type": "integer"
        },
        {
         "name": "first_name",
         "rawType": "object",
         "type": "string"
        },
        {
         "name": "last_name",
         "rawType": "object",
         "type": "string"
        },
        {
         "name": "is_active",
         "rawType": "bool",
         "type": "boolean"
        },
        {
         "name": "practice",
         "rawType": "object",
         "type": "unknown"
        }
       ],
       "ref": "1411562f-c099-4d8d-8eb4-1279e6bbf0ab",
       "rows": [
        [
         "0",
         "20",
         "22",
         "Luke",
         "Rhinehart",
         "True",
         null
        ],
        [
         "1",
         "21",
         "23",
         "Alexander",
         "Macedon",
         "True",
         null
        ],
        [
         "2",
         "12",
         "18",
         "Rachel",
         "Lamb",
         "True",
         "Analytics"
        ],
        [
         "3",
         "2",
         "9",
         "Bingo",
         "Storm",
         "True",
         "Analytics"
        ],
        [
         "4",
         "9",
         "15",
         "Astarion",
         "Baldersson",
         "True",
         "Analytics"
        ]
       ],
       "shape": {
        "columns": 6,
        "rows": 5
       }
      },
      "text/html": [
       "<div>\n",
       "<style scoped>\n",
       "    .dataframe tbody tr th:only-of-type {\n",
       "        vertical-align: middle;\n",
       "    }\n",
       "\n",
       "    .dataframe tbody tr th {\n",
       "        vertical-align: top;\n",
       "    }\n",
       "\n",
       "    .dataframe thead th {\n",
       "        text-align: right;\n",
       "    }\n",
       "</style>\n",
       "<table border=\"1\" class=\"dataframe\">\n",
       "  <thead>\n",
       "    <tr style=\"text-align: right;\">\n",
       "      <th></th>\n",
       "      <th>employee_id</th>\n",
       "      <th>employee_code</th>\n",
       "      <th>first_name</th>\n",
       "      <th>last_name</th>\n",
       "      <th>is_active</th>\n",
       "      <th>practice</th>\n",
       "    </tr>\n",
       "  </thead>\n",
       "  <tbody>\n",
       "    <tr>\n",
       "      <th>0</th>\n",
       "      <td>20</td>\n",
       "      <td>22</td>\n",
       "      <td>Luke</td>\n",
       "      <td>Rhinehart</td>\n",
       "      <td>True</td>\n",
       "      <td>NaN</td>\n",
       "    </tr>\n",
       "    <tr>\n",
       "      <th>1</th>\n",
       "      <td>21</td>\n",
       "      <td>23</td>\n",
       "      <td>Alexander</td>\n",
       "      <td>Macedon</td>\n",
       "      <td>True</td>\n",
       "      <td>NaN</td>\n",
       "    </tr>\n",
       "    <tr>\n",
       "      <th>2</th>\n",
       "      <td>12</td>\n",
       "      <td>18</td>\n",
       "      <td>Rachel</td>\n",
       "      <td>Lamb</td>\n",
       "      <td>True</td>\n",
       "      <td>Analytics</td>\n",
       "    </tr>\n",
       "    <tr>\n",
       "      <th>3</th>\n",
       "      <td>2</td>\n",
       "      <td>9</td>\n",
       "      <td>Bingo</td>\n",
       "      <td>Storm</td>\n",
       "      <td>True</td>\n",
       "      <td>Analytics</td>\n",
       "    </tr>\n",
       "    <tr>\n",
       "      <th>4</th>\n",
       "      <td>9</td>\n",
       "      <td>15</td>\n",
       "      <td>Astarion</td>\n",
       "      <td>Baldersson</td>\n",
       "      <td>True</td>\n",
       "      <td>Analytics</td>\n",
       "    </tr>\n",
       "  </tbody>\n",
       "</table>\n",
       "</div>"
      ],
      "text/plain": [
       "   employee_id  employee_code first_name   last_name  is_active   practice\n",
       "0           20             22       Luke   Rhinehart       True        NaN\n",
       "1           21             23  Alexander     Macedon       True        NaN\n",
       "2           12             18     Rachel        Lamb       True  Analytics\n",
       "3            2              9      Bingo       Storm       True  Analytics\n",
       "4            9             15   Astarion  Baldersson       True  Analytics"
      ]
     },
     "metadata": {},
     "output_type": "display_data"
    },
    {
     "name": "stdout",
     "output_type": "stream",
     "text": [
      "--------------------------------------------------------------------------------\n",
      "\n",
      "Loaded data/fct__fortnox_invoices__anonymized.csv as df7\n",
      "File: data/fct__fortnox_invoices__anonymized.csv\n",
      "Shape: 615 rows × 12 columns\n",
      "\n",
      "First 5 rows of df7:\n"
     ]
    },
    {
     "data": {
      "application/vnd.microsoft.datawrangler.viewer.v0+json": {
       "columns": [
        {
         "name": "index",
         "rawType": "int64",
         "type": "integer"
        },
        {
         "name": "invoice_amount_net",
         "rawType": "float64",
         "type": "float"
        },
        {
         "name": "invoice_amount_total",
         "rawType": "float64",
         "type": "float"
        },
        {
         "name": "customer_number",
         "rawType": "int64",
         "type": "integer"
        },
        {
         "name": "due_date",
         "rawType": "object",
         "type": "string"
        },
        {
         "name": "invoice_date",
         "rawType": "object",
         "type": "string"
        },
        {
         "name": "final_pay_date",
         "rawType": "object",
         "type": "unknown"
        },
        {
         "name": "month_name",
         "rawType": "object",
         "type": "string"
        },
        {
         "name": "accounting_month",
         "rawType": "int64",
         "type": "integer"
        },
        {
         "name": "accounting_year",
         "rawType": "int64",
         "type": "integer"
        },
        {
         "name": "accounting_year_date",
         "rawType": "object",
         "type": "string"
        },
        {
         "name": "broker",
         "rawType": "object",
         "type": "unknown"
        },
        {
         "name": "client_anon",
         "rawType": "object",
         "type": "string"
        }
       ],
       "ref": "eb145c3e-3da8-4227-bb89-ffe3a8e77ea6",
       "rows": [
        [
         "0",
         "52000.0",
         "65000.0",
         "559296",
         "2024-10-15",
         "2024-09-30",
         null,
         "September",
         "5",
         "2024",
         "2024-05-28",
         null,
         "Mccoy, Singh and Smith"
        ],
        [
         "1",
         "136500.0",
         "170625.0",
         "559298",
         "2024-12-04",
         "2024-11-04",
         "2024-12-04",
         "November",
         "7",
         "2024",
         "2024-07-04",
         null,
         "Atkinson, Bishop and Cohen"
        ],
        [
         "2",
         "192000.0",
         "240000.0",
         "559298",
         "2025-01-01",
         "2024-11-30",
         "2024-12-30",
         "November",
         "7",
         "2024",
         "2024-07-28",
         null,
         "Atkinson, Bishop and Cohen"
        ],
        [
         "3",
         "133500.0",
         "166875.0",
         "559298",
         "2025-02-02",
         "2024-12-31",
         "2025-01-31",
         "December",
         "8",
         "2024",
         "2024-08-28",
         null,
         "Atkinson, Bishop and Cohen"
        ],
        [
         "4",
         "212800.0",
         "266000.0",
         "559298",
         "2025-03-05",
         "2025-01-31",
         "2025-03-05",
         "January",
         "9",
         "2024",
         "2024-09-28",
         null,
         "Atkinson, Bishop and Cohen"
        ]
       ],
       "shape": {
        "columns": 12,
        "rows": 5
       }
      },
      "text/html": [
       "<div>\n",
       "<style scoped>\n",
       "    .dataframe tbody tr th:only-of-type {\n",
       "        vertical-align: middle;\n",
       "    }\n",
       "\n",
       "    .dataframe tbody tr th {\n",
       "        vertical-align: top;\n",
       "    }\n",
       "\n",
       "    .dataframe thead th {\n",
       "        text-align: right;\n",
       "    }\n",
       "</style>\n",
       "<table border=\"1\" class=\"dataframe\">\n",
       "  <thead>\n",
       "    <tr style=\"text-align: right;\">\n",
       "      <th></th>\n",
       "      <th>invoice_amount_net</th>\n",
       "      <th>invoice_amount_total</th>\n",
       "      <th>customer_number</th>\n",
       "      <th>due_date</th>\n",
       "      <th>invoice_date</th>\n",
       "      <th>final_pay_date</th>\n",
       "      <th>month_name</th>\n",
       "      <th>accounting_month</th>\n",
       "      <th>accounting_year</th>\n",
       "      <th>accounting_year_date</th>\n",
       "      <th>broker</th>\n",
       "      <th>client_anon</th>\n",
       "    </tr>\n",
       "  </thead>\n",
       "  <tbody>\n",
       "    <tr>\n",
       "      <th>0</th>\n",
       "      <td>52000.0</td>\n",
       "      <td>65000.0</td>\n",
       "      <td>559296</td>\n",
       "      <td>2024-10-15</td>\n",
       "      <td>2024-09-30</td>\n",
       "      <td>NaN</td>\n",
       "      <td>September</td>\n",
       "      <td>5</td>\n",
       "      <td>2024</td>\n",
       "      <td>2024-05-28</td>\n",
       "      <td>NaN</td>\n",
       "      <td>Mccoy, Singh and Smith</td>\n",
       "    </tr>\n",
       "    <tr>\n",
       "      <th>1</th>\n",
       "      <td>136500.0</td>\n",
       "      <td>170625.0</td>\n",
       "      <td>559298</td>\n",
       "      <td>2024-12-04</td>\n",
       "      <td>2024-11-04</td>\n",
       "      <td>2024-12-04</td>\n",
       "      <td>November</td>\n",
       "      <td>7</td>\n",
       "      <td>2024</td>\n",
       "      <td>2024-07-04</td>\n",
       "      <td>NaN</td>\n",
       "      <td>Atkinson, Bishop and Cohen</td>\n",
       "    </tr>\n",
       "    <tr>\n",
       "      <th>2</th>\n",
       "      <td>192000.0</td>\n",
       "      <td>240000.0</td>\n",
       "      <td>559298</td>\n",
       "      <td>2025-01-01</td>\n",
       "      <td>2024-11-30</td>\n",
       "      <td>2024-12-30</td>\n",
       "      <td>November</td>\n",
       "      <td>7</td>\n",
       "      <td>2024</td>\n",
       "      <td>2024-07-28</td>\n",
       "      <td>NaN</td>\n",
       "      <td>Atkinson, Bishop and Cohen</td>\n",
       "    </tr>\n",
       "    <tr>\n",
       "      <th>3</th>\n",
       "      <td>133500.0</td>\n",
       "      <td>166875.0</td>\n",
       "      <td>559298</td>\n",
       "      <td>2025-02-02</td>\n",
       "      <td>2024-12-31</td>\n",
       "      <td>2025-01-31</td>\n",
       "      <td>December</td>\n",
       "      <td>8</td>\n",
       "      <td>2024</td>\n",
       "      <td>2024-08-28</td>\n",
       "      <td>NaN</td>\n",
       "      <td>Atkinson, Bishop and Cohen</td>\n",
       "    </tr>\n",
       "    <tr>\n",
       "      <th>4</th>\n",
       "      <td>212800.0</td>\n",
       "      <td>266000.0</td>\n",
       "      <td>559298</td>\n",
       "      <td>2025-03-05</td>\n",
       "      <td>2025-01-31</td>\n",
       "      <td>2025-03-05</td>\n",
       "      <td>January</td>\n",
       "      <td>9</td>\n",
       "      <td>2024</td>\n",
       "      <td>2024-09-28</td>\n",
       "      <td>NaN</td>\n",
       "      <td>Atkinson, Bishop and Cohen</td>\n",
       "    </tr>\n",
       "  </tbody>\n",
       "</table>\n",
       "</div>"
      ],
      "text/plain": [
       "   invoice_amount_net  invoice_amount_total  customer_number    due_date  \\\n",
       "0             52000.0               65000.0           559296  2024-10-15   \n",
       "1            136500.0              170625.0           559298  2024-12-04   \n",
       "2            192000.0              240000.0           559298  2025-01-01   \n",
       "3            133500.0              166875.0           559298  2025-02-02   \n",
       "4            212800.0              266000.0           559298  2025-03-05   \n",
       "\n",
       "  invoice_date final_pay_date month_name  accounting_month  accounting_year  \\\n",
       "0   2024-09-30            NaN  September                 5             2024   \n",
       "1   2024-11-04     2024-12-04   November                 7             2024   \n",
       "2   2024-11-30     2024-12-30   November                 7             2024   \n",
       "3   2024-12-31     2025-01-31   December                 8             2024   \n",
       "4   2025-01-31     2025-03-05    January                 9             2024   \n",
       "\n",
       "  accounting_year_date broker                 client_anon  \n",
       "0           2024-05-28    NaN      Mccoy, Singh and Smith  \n",
       "1           2024-07-04    NaN  Atkinson, Bishop and Cohen  \n",
       "2           2024-07-28    NaN  Atkinson, Bishop and Cohen  \n",
       "3           2024-08-28    NaN  Atkinson, Bishop and Cohen  \n",
       "4           2024-09-28    NaN  Atkinson, Bishop and Cohen  "
      ]
     },
     "metadata": {},
     "output_type": "display_data"
    },
    {
     "name": "stdout",
     "output_type": "stream",
     "text": [
      "--------------------------------------------------------------------------------\n",
      "\n",
      "Loaded data/fct__fortnox_supplier_invoices.csv as df8\n",
      "File: data/fct__fortnox_supplier_invoices.csv\n",
      "Shape: 748 rows × 5 columns\n",
      "\n",
      "First 5 rows of df8:\n"
     ]
    },
    {
     "data": {
      "application/vnd.microsoft.datawrangler.viewer.v0+json": {
       "columns": [
        {
         "name": "index",
         "rawType": "int64",
         "type": "integer"
        },
        {
         "name": "invoice_payment",
         "rawType": "float64",
         "type": "float"
        },
        {
         "name": "categorization",
         "rawType": "object",
         "type": "string"
        },
        {
         "name": "invoice_date",
         "rawType": "object",
         "type": "string"
        },
        {
         "name": "due_date",
         "rawType": "object",
         "type": "string"
        },
        {
         "name": "final_pay_date",
         "rawType": "object",
         "type": "string"
        }
       ],
       "ref": "859cb6a3-3fa4-43dc-a3e6-86214fa56377",
       "rows": [
        [
         "0",
         "296.5",
         "mobile_costs",
         "2019-11-04",
         "2019-11-28",
         "2019-11-26"
        ],
        [
         "1",
         "253.2",
         "mobile_costs",
         "2019-10-03",
         "2019-10-27",
         "2019-10-25"
        ],
        [
         "2",
         "516.55",
         "mobile_costs",
         "2020-04-01",
         "2020-04-01",
         "2020-04-27"
        ],
        [
         "3",
         "452.71",
         "mobile_costs",
         "2020-03-03",
         "2020-03-27",
         "2020-04-08"
        ],
        [
         "4",
         "353.05",
         "mobile_costs",
         "2020-02-03",
         "2020-02-27",
         "2020-02-05"
        ]
       ],
       "shape": {
        "columns": 5,
        "rows": 5
       }
      },
      "text/html": [
       "<div>\n",
       "<style scoped>\n",
       "    .dataframe tbody tr th:only-of-type {\n",
       "        vertical-align: middle;\n",
       "    }\n",
       "\n",
       "    .dataframe tbody tr th {\n",
       "        vertical-align: top;\n",
       "    }\n",
       "\n",
       "    .dataframe thead th {\n",
       "        text-align: right;\n",
       "    }\n",
       "</style>\n",
       "<table border=\"1\" class=\"dataframe\">\n",
       "  <thead>\n",
       "    <tr style=\"text-align: right;\">\n",
       "      <th></th>\n",
       "      <th>invoice_payment</th>\n",
       "      <th>categorization</th>\n",
       "      <th>invoice_date</th>\n",
       "      <th>due_date</th>\n",
       "      <th>final_pay_date</th>\n",
       "    </tr>\n",
       "  </thead>\n",
       "  <tbody>\n",
       "    <tr>\n",
       "      <th>0</th>\n",
       "      <td>296.50</td>\n",
       "      <td>mobile_costs</td>\n",
       "      <td>2019-11-04</td>\n",
       "      <td>2019-11-28</td>\n",
       "      <td>2019-11-26</td>\n",
       "    </tr>\n",
       "    <tr>\n",
       "      <th>1</th>\n",
       "      <td>253.20</td>\n",
       "      <td>mobile_costs</td>\n",
       "      <td>2019-10-03</td>\n",
       "      <td>2019-10-27</td>\n",
       "      <td>2019-10-25</td>\n",
       "    </tr>\n",
       "    <tr>\n",
       "      <th>2</th>\n",
       "      <td>516.55</td>\n",
       "      <td>mobile_costs</td>\n",
       "      <td>2020-04-01</td>\n",
       "      <td>2020-04-01</td>\n",
       "      <td>2020-04-27</td>\n",
       "    </tr>\n",
       "    <tr>\n",
       "      <th>3</th>\n",
       "      <td>452.71</td>\n",
       "      <td>mobile_costs</td>\n",
       "      <td>2020-03-03</td>\n",
       "      <td>2020-03-27</td>\n",
       "      <td>2020-04-08</td>\n",
       "    </tr>\n",
       "    <tr>\n",
       "      <th>4</th>\n",
       "      <td>353.05</td>\n",
       "      <td>mobile_costs</td>\n",
       "      <td>2020-02-03</td>\n",
       "      <td>2020-02-27</td>\n",
       "      <td>2020-02-05</td>\n",
       "    </tr>\n",
       "  </tbody>\n",
       "</table>\n",
       "</div>"
      ],
      "text/plain": [
       "   invoice_payment categorization invoice_date    due_date final_pay_date\n",
       "0           296.50   mobile_costs   2019-11-04  2019-11-28     2019-11-26\n",
       "1           253.20   mobile_costs   2019-10-03  2019-10-27     2019-10-25\n",
       "2           516.55   mobile_costs   2020-04-01  2020-04-01     2020-04-27\n",
       "3           452.71   mobile_costs   2020-03-03  2020-03-27     2020-04-08\n",
       "4           353.05   mobile_costs   2020-02-03  2020-02-27     2020-02-05"
      ]
     },
     "metadata": {},
     "output_type": "display_data"
    },
    {
     "name": "stdout",
     "output_type": "stream",
     "text": [
      "--------------------------------------------------------------------------------\n",
      "\n",
      "Loaded data/fct__hubspot_deals__anonymized.csv as df9\n",
      "File: data/fct__hubspot_deals__anonymized.csv\n",
      "Shape: 322 rows × 11 columns\n",
      "\n",
      "First 5 rows of df9:\n"
     ]
    },
    {
     "data": {
      "application/vnd.microsoft.datawrangler.viewer.v0+json": {
       "columns": [
        {
         "name": "index",
         "rawType": "int64",
         "type": "integer"
        },
        {
         "name": "deal_id",
         "rawType": "int64",
         "type": "integer"
        },
        {
         "name": "deal_amount",
         "rawType": "float64",
         "type": "float"
        },
        {
         "name": "deal_stage",
         "rawType": "object",
         "type": "string"
        },
        {
         "name": "deal_close_probability",
         "rawType": "float64",
         "type": "float"
        },
        {
         "name": "create_date",
         "rawType": "object",
         "type": "string"
        },
        {
         "name": "last_modified_date",
         "rawType": "object",
         "type": "string"
        },
        {
         "name": "close_date",
         "rawType": "object",
         "type": "string"
        },
        {
         "name": "owner_id",
         "rawType": "int64",
         "type": "integer"
        },
        {
         "name": "is_archived",
         "rawType": "bool",
         "type": "boolean"
        },
        {
         "name": "weighted_deal_amount",
         "rawType": "float64",
         "type": "float"
        },
        {
         "name": "deal_name_anon",
         "rawType": "object",
         "type": "string"
        }
       ],
       "ref": "64cb2013-176d-4bda-a293-3c08403be10b",
       "rows": [
        [
         "0",
         "12204336178",
         "1000000.0",
         "closedlost",
         "0.0",
         "2023-02-17 15:36:41.602000 UTC",
         "2023-03-17 10:52:17.288000 UTC",
         "2023-02-27 11:15:06.295000 UTC",
         "184321862",
         "False",
         "0.0",
         "Dometic - Data Solution Architect role"
        ],
        [
         "1",
         "15856959370",
         "1000000.0",
         "closedlost",
         "0.0",
         "2023-10-31 08:43:47.711000 UTC",
         "2023-11-17 09:41:31.071000 UTC",
         "2023-11-17 09:41:30.971000 UTC",
         "184321862",
         "False",
         "0.0",
         "Morris, Juarez and Chavez - Optimize delivery routes in DK"
        ],
        [
         "2",
         "18757261362",
         "1200000.0",
         "closedlost",
         "0.0",
         "2024-04-19 12:24:49.100000 UTC",
         "2024-05-17 12:08:02.490000 UTC",
         "2024-05-17 12:07:46.527000 UTC",
         "184321862",
         "False",
         "0.0",
         "ICA Banken GCP Architect"
        ],
        [
         "3",
         "17014095971",
         "1000000.0",
         "closedlost",
         "0.0",
         "2024-01-18 10:32:41.435000 UTC",
         "2024-02-23 08:12:52.206000 UTC",
         "2024-02-23 08:12:46.209000 UTC",
         "184321862",
         "False",
         "0.0",
         "Morris, Juarez and Chavez Miller, Kidd and Dickson within pricing"
        ],
        [
         "4",
         "20551258523",
         "600000.0",
         "closedlost",
         "0.0",
         "2024-07-05 13:08:26.064000 UTC",
         "2024-12-13 13:18:34.627000 UTC",
         "2024-12-13 13:18:30.146000 UTC",
         "184321862",
         "False",
         "0.0",
         "Morris, Juarez and Chavez AI opportunities"
        ]
       ],
       "shape": {
        "columns": 11,
        "rows": 5
       }
      },
      "text/html": [
       "<div>\n",
       "<style scoped>\n",
       "    .dataframe tbody tr th:only-of-type {\n",
       "        vertical-align: middle;\n",
       "    }\n",
       "\n",
       "    .dataframe tbody tr th {\n",
       "        vertical-align: top;\n",
       "    }\n",
       "\n",
       "    .dataframe thead th {\n",
       "        text-align: right;\n",
       "    }\n",
       "</style>\n",
       "<table border=\"1\" class=\"dataframe\">\n",
       "  <thead>\n",
       "    <tr style=\"text-align: right;\">\n",
       "      <th></th>\n",
       "      <th>deal_id</th>\n",
       "      <th>deal_amount</th>\n",
       "      <th>deal_stage</th>\n",
       "      <th>deal_close_probability</th>\n",
       "      <th>create_date</th>\n",
       "      <th>last_modified_date</th>\n",
       "      <th>close_date</th>\n",
       "      <th>owner_id</th>\n",
       "      <th>is_archived</th>\n",
       "      <th>weighted_deal_amount</th>\n",
       "      <th>deal_name_anon</th>\n",
       "    </tr>\n",
       "  </thead>\n",
       "  <tbody>\n",
       "    <tr>\n",
       "      <th>0</th>\n",
       "      <td>12204336178</td>\n",
       "      <td>1000000.0</td>\n",
       "      <td>closedlost</td>\n",
       "      <td>0.0</td>\n",
       "      <td>2023-02-17 15:36:41.602000 UTC</td>\n",
       "      <td>2023-03-17 10:52:17.288000 UTC</td>\n",
       "      <td>2023-02-27 11:15:06.295000 UTC</td>\n",
       "      <td>184321862</td>\n",
       "      <td>False</td>\n",
       "      <td>0.0</td>\n",
       "      <td>Dometic - Data Solution Architect role</td>\n",
       "    </tr>\n",
       "    <tr>\n",
       "      <th>1</th>\n",
       "      <td>15856959370</td>\n",
       "      <td>1000000.0</td>\n",
       "      <td>closedlost</td>\n",
       "      <td>0.0</td>\n",
       "      <td>2023-10-31 08:43:47.711000 UTC</td>\n",
       "      <td>2023-11-17 09:41:31.071000 UTC</td>\n",
       "      <td>2023-11-17 09:41:30.971000 UTC</td>\n",
       "      <td>184321862</td>\n",
       "      <td>False</td>\n",
       "      <td>0.0</td>\n",
       "      <td>Morris, Juarez and Chavez - Optimize delivery ...</td>\n",
       "    </tr>\n",
       "    <tr>\n",
       "      <th>2</th>\n",
       "      <td>18757261362</td>\n",
       "      <td>1200000.0</td>\n",
       "      <td>closedlost</td>\n",
       "      <td>0.0</td>\n",
       "      <td>2024-04-19 12:24:49.100000 UTC</td>\n",
       "      <td>2024-05-17 12:08:02.490000 UTC</td>\n",
       "      <td>2024-05-17 12:07:46.527000 UTC</td>\n",
       "      <td>184321862</td>\n",
       "      <td>False</td>\n",
       "      <td>0.0</td>\n",
       "      <td>ICA Banken GCP Architect</td>\n",
       "    </tr>\n",
       "    <tr>\n",
       "      <th>3</th>\n",
       "      <td>17014095971</td>\n",
       "      <td>1000000.0</td>\n",
       "      <td>closedlost</td>\n",
       "      <td>0.0</td>\n",
       "      <td>2024-01-18 10:32:41.435000 UTC</td>\n",
       "      <td>2024-02-23 08:12:52.206000 UTC</td>\n",
       "      <td>2024-02-23 08:12:46.209000 UTC</td>\n",
       "      <td>184321862</td>\n",
       "      <td>False</td>\n",
       "      <td>0.0</td>\n",
       "      <td>Morris, Juarez and Chavez Miller, Kidd and Dic...</td>\n",
       "    </tr>\n",
       "    <tr>\n",
       "      <th>4</th>\n",
       "      <td>20551258523</td>\n",
       "      <td>600000.0</td>\n",
       "      <td>closedlost</td>\n",
       "      <td>0.0</td>\n",
       "      <td>2024-07-05 13:08:26.064000 UTC</td>\n",
       "      <td>2024-12-13 13:18:34.627000 UTC</td>\n",
       "      <td>2024-12-13 13:18:30.146000 UTC</td>\n",
       "      <td>184321862</td>\n",
       "      <td>False</td>\n",
       "      <td>0.0</td>\n",
       "      <td>Morris, Juarez and Chavez AI opportunities</td>\n",
       "    </tr>\n",
       "  </tbody>\n",
       "</table>\n",
       "</div>"
      ],
      "text/plain": [
       "       deal_id  deal_amount  deal_stage  deal_close_probability  \\\n",
       "0  12204336178    1000000.0  closedlost                     0.0   \n",
       "1  15856959370    1000000.0  closedlost                     0.0   \n",
       "2  18757261362    1200000.0  closedlost                     0.0   \n",
       "3  17014095971    1000000.0  closedlost                     0.0   \n",
       "4  20551258523     600000.0  closedlost                     0.0   \n",
       "\n",
       "                      create_date              last_modified_date  \\\n",
       "0  2023-02-17 15:36:41.602000 UTC  2023-03-17 10:52:17.288000 UTC   \n",
       "1  2023-10-31 08:43:47.711000 UTC  2023-11-17 09:41:31.071000 UTC   \n",
       "2  2024-04-19 12:24:49.100000 UTC  2024-05-17 12:08:02.490000 UTC   \n",
       "3  2024-01-18 10:32:41.435000 UTC  2024-02-23 08:12:52.206000 UTC   \n",
       "4  2024-07-05 13:08:26.064000 UTC  2024-12-13 13:18:34.627000 UTC   \n",
       "\n",
       "                       close_date   owner_id  is_archived  \\\n",
       "0  2023-02-27 11:15:06.295000 UTC  184321862        False   \n",
       "1  2023-11-17 09:41:30.971000 UTC  184321862        False   \n",
       "2  2024-05-17 12:07:46.527000 UTC  184321862        False   \n",
       "3  2024-02-23 08:12:46.209000 UTC  184321862        False   \n",
       "4  2024-12-13 13:18:30.146000 UTC  184321862        False   \n",
       "\n",
       "   weighted_deal_amount                                     deal_name_anon  \n",
       "0                   0.0             Dometic - Data Solution Architect role  \n",
       "1                   0.0  Morris, Juarez and Chavez - Optimize delivery ...  \n",
       "2                   0.0                           ICA Banken GCP Architect  \n",
       "3                   0.0  Morris, Juarez and Chavez Miller, Kidd and Dic...  \n",
       "4                   0.0         Morris, Juarez and Chavez AI opportunities  "
      ]
     },
     "metadata": {},
     "output_type": "display_data"
    },
    {
     "name": "stdout",
     "output_type": "stream",
     "text": [
      "--------------------------------------------------------------------------------\n",
      "\n",
      "Loaded data/fct__time_entries.csv as df10\n",
      "File: data/fct__time_entries.csv\n",
      "Shape: 9808 rows × 7 columns\n",
      "\n",
      "First 5 rows of df10:\n"
     ]
    },
    {
     "data": {
      "application/vnd.microsoft.datawrangler.viewer.v0+json": {
       "columns": [
        {
         "name": "index",
         "rawType": "int64",
         "type": "integer"
        },
        {
         "name": "dt",
         "rawType": "object",
         "type": "string"
        },
        {
         "name": "time_entry_id",
         "rawType": "object",
         "type": "string"
        },
        {
         "name": "project_id",
         "rawType": "object",
         "type": "string"
        },
        {
         "name": "user_id",
         "rawType": "object",
         "type": "string"
        },
        {
         "name": "billable",
         "rawType": "bool",
         "type": "boolean"
        },
        {
         "name": "hours",
         "rawType": "float64",
         "type": "float"
        },
        {
         "name": "billable_hours",
         "rawType": "float64",
         "type": "float"
        }
       ],
       "ref": "04af2186-e0e4-400f-9d27-e764f72aa684",
       "rows": [
        [
         "0",
         "2025-11-28",
         "67c592453f4d6b42ba2ee7bb",
         "60106d6e9ab6ce7c1dacbc9c",
         "64e5f63d97f5910c716406b8",
         "False",
         "8.0",
         null
        ],
        [
         "1",
         "2025-11-27",
         "67c592453f4d6b42ba2ee7ba",
         "60106d6e9ab6ce7c1dacbc9c",
         "64e5f63d97f5910c716406b8",
         "False",
         "8.0",
         null
        ],
        [
         "2",
         "2025-11-26",
         "67c592453f4d6b42ba2ee7b9",
         "60106d6e9ab6ce7c1dacbc9c",
         "64e5f63d97f5910c716406b8",
         "False",
         "8.0",
         null
        ],
        [
         "3",
         "2025-11-25",
         "67c592453f4d6b42ba2ee7b8",
         "60106d6e9ab6ce7c1dacbc9c",
         "64e5f63d97f5910c716406b8",
         "False",
         "8.0",
         null
        ],
        [
         "4",
         "2025-11-24",
         "67c592453f4d6b42ba2ee7b7",
         "60106d6e9ab6ce7c1dacbc9c",
         "64e5f63d97f5910c716406b8",
         "False",
         "8.0",
         null
        ]
       ],
       "shape": {
        "columns": 7,
        "rows": 5
       }
      },
      "text/html": [
       "<div>\n",
       "<style scoped>\n",
       "    .dataframe tbody tr th:only-of-type {\n",
       "        vertical-align: middle;\n",
       "    }\n",
       "\n",
       "    .dataframe tbody tr th {\n",
       "        vertical-align: top;\n",
       "    }\n",
       "\n",
       "    .dataframe thead th {\n",
       "        text-align: right;\n",
       "    }\n",
       "</style>\n",
       "<table border=\"1\" class=\"dataframe\">\n",
       "  <thead>\n",
       "    <tr style=\"text-align: right;\">\n",
       "      <th></th>\n",
       "      <th>dt</th>\n",
       "      <th>time_entry_id</th>\n",
       "      <th>project_id</th>\n",
       "      <th>user_id</th>\n",
       "      <th>billable</th>\n",
       "      <th>hours</th>\n",
       "      <th>billable_hours</th>\n",
       "    </tr>\n",
       "  </thead>\n",
       "  <tbody>\n",
       "    <tr>\n",
       "      <th>0</th>\n",
       "      <td>2025-11-28</td>\n",
       "      <td>67c592453f4d6b42ba2ee7bb</td>\n",
       "      <td>60106d6e9ab6ce7c1dacbc9c</td>\n",
       "      <td>64e5f63d97f5910c716406b8</td>\n",
       "      <td>False</td>\n",
       "      <td>8.0</td>\n",
       "      <td>NaN</td>\n",
       "    </tr>\n",
       "    <tr>\n",
       "      <th>1</th>\n",
       "      <td>2025-11-27</td>\n",
       "      <td>67c592453f4d6b42ba2ee7ba</td>\n",
       "      <td>60106d6e9ab6ce7c1dacbc9c</td>\n",
       "      <td>64e5f63d97f5910c716406b8</td>\n",
       "      <td>False</td>\n",
       "      <td>8.0</td>\n",
       "      <td>NaN</td>\n",
       "    </tr>\n",
       "    <tr>\n",
       "      <th>2</th>\n",
       "      <td>2025-11-26</td>\n",
       "      <td>67c592453f4d6b42ba2ee7b9</td>\n",
       "      <td>60106d6e9ab6ce7c1dacbc9c</td>\n",
       "      <td>64e5f63d97f5910c716406b8</td>\n",
       "      <td>False</td>\n",
       "      <td>8.0</td>\n",
       "      <td>NaN</td>\n",
       "    </tr>\n",
       "    <tr>\n",
       "      <th>3</th>\n",
       "      <td>2025-11-25</td>\n",
       "      <td>67c592453f4d6b42ba2ee7b8</td>\n",
       "      <td>60106d6e9ab6ce7c1dacbc9c</td>\n",
       "      <td>64e5f63d97f5910c716406b8</td>\n",
       "      <td>False</td>\n",
       "      <td>8.0</td>\n",
       "      <td>NaN</td>\n",
       "    </tr>\n",
       "    <tr>\n",
       "      <th>4</th>\n",
       "      <td>2025-11-24</td>\n",
       "      <td>67c592453f4d6b42ba2ee7b7</td>\n",
       "      <td>60106d6e9ab6ce7c1dacbc9c</td>\n",
       "      <td>64e5f63d97f5910c716406b8</td>\n",
       "      <td>False</td>\n",
       "      <td>8.0</td>\n",
       "      <td>NaN</td>\n",
       "    </tr>\n",
       "  </tbody>\n",
       "</table>\n",
       "</div>"
      ],
      "text/plain": [
       "           dt             time_entry_id                project_id  \\\n",
       "0  2025-11-28  67c592453f4d6b42ba2ee7bb  60106d6e9ab6ce7c1dacbc9c   \n",
       "1  2025-11-27  67c592453f4d6b42ba2ee7ba  60106d6e9ab6ce7c1dacbc9c   \n",
       "2  2025-11-26  67c592453f4d6b42ba2ee7b9  60106d6e9ab6ce7c1dacbc9c   \n",
       "3  2025-11-25  67c592453f4d6b42ba2ee7b8  60106d6e9ab6ce7c1dacbc9c   \n",
       "4  2025-11-24  67c592453f4d6b42ba2ee7b7  60106d6e9ab6ce7c1dacbc9c   \n",
       "\n",
       "                    user_id  billable  hours  billable_hours  \n",
       "0  64e5f63d97f5910c716406b8     False    8.0             NaN  \n",
       "1  64e5f63d97f5910c716406b8     False    8.0             NaN  \n",
       "2  64e5f63d97f5910c716406b8     False    8.0             NaN  \n",
       "3  64e5f63d97f5910c716406b8     False    8.0             NaN  \n",
       "4  64e5f63d97f5910c716406b8     False    8.0             NaN  "
      ]
     },
     "metadata": {},
     "output_type": "display_data"
    },
    {
     "name": "stdout",
     "output_type": "stream",
     "text": [
      "--------------------------------------------------------------------------------\n",
      "\n",
      "Loaded data/stg_qbis__activity_time.csv as df11\n",
      "File: data/stg_qbis__activity_time.csv\n",
      "Shape: 866 rows × 8 columns\n",
      "\n",
      "First 5 rows of df11:\n"
     ]
    },
    {
     "data": {
      "application/vnd.microsoft.datawrangler.viewer.v0+json": {
       "columns": [
        {
         "name": "index",
         "rawType": "int64",
         "type": "integer"
        },
        {
         "name": "activity_time_id",
         "rawType": "int64",
         "type": "integer"
        },
        {
         "name": "employee_id",
         "rawType": "int64",
         "type": "integer"
        },
        {
         "name": "activity_id",
         "rawType": "int64",
         "type": "integer"
        },
        {
         "name": "activity_date",
         "rawType": "object",
         "type": "string"
        },
        {
         "name": "minutes",
         "rawType": "int64",
         "type": "integer"
        },
        {
         "name": "factor_value",
         "rawType": "float64",
         "type": "float"
        },
        {
         "name": "notes_internal",
         "rawType": "object",
         "type": "unknown"
        },
        {
         "name": "processed_at",
         "rawType": "object",
         "type": "string"
        }
       ],
       "ref": "73d44bf3-b49f-429f-8124-3b02cded15f9",
       "rows": [
        [
         "0",
         "750",
         "5",
         "20",
         "2025-05-10",
         "0",
         "0.0",
         "Data Innovation Summit + Interna möten fredag",
         "2025-09-08 05:26:08.566517 UTC"
        ],
        [
         "1",
         "1256",
         "3",
         "17",
         "2025-06-26",
         "30",
         "1.0",
         null,
         "2025-09-08 05:26:08.566517 UTC"
        ],
        [
         "2",
         "1255",
         "3",
         "17",
         "2025-06-25",
         "30",
         "1.0",
         null,
         "2025-09-08 05:26:08.566517 UTC"
        ],
        [
         "3",
         "1257",
         "3",
         "17",
         "2025-06-27",
         "30",
         "1.0",
         null,
         "2025-09-08 05:26:08.566517 UTC"
        ],
        [
         "4",
         "1564",
         "3",
         "21",
         "2025-08-21",
         "30",
         "1.0",
         null,
         "2025-09-08 05:26:08.566517 UTC"
        ]
       ],
       "shape": {
        "columns": 8,
        "rows": 5
       }
      },
      "text/html": [
       "<div>\n",
       "<style scoped>\n",
       "    .dataframe tbody tr th:only-of-type {\n",
       "        vertical-align: middle;\n",
       "    }\n",
       "\n",
       "    .dataframe tbody tr th {\n",
       "        vertical-align: top;\n",
       "    }\n",
       "\n",
       "    .dataframe thead th {\n",
       "        text-align: right;\n",
       "    }\n",
       "</style>\n",
       "<table border=\"1\" class=\"dataframe\">\n",
       "  <thead>\n",
       "    <tr style=\"text-align: right;\">\n",
       "      <th></th>\n",
       "      <th>activity_time_id</th>\n",
       "      <th>employee_id</th>\n",
       "      <th>activity_id</th>\n",
       "      <th>activity_date</th>\n",
       "      <th>minutes</th>\n",
       "      <th>factor_value</th>\n",
       "      <th>notes_internal</th>\n",
       "      <th>processed_at</th>\n",
       "    </tr>\n",
       "  </thead>\n",
       "  <tbody>\n",
       "    <tr>\n",
       "      <th>0</th>\n",
       "      <td>750</td>\n",
       "      <td>5</td>\n",
       "      <td>20</td>\n",
       "      <td>2025-05-10</td>\n",
       "      <td>0</td>\n",
       "      <td>0.0</td>\n",
       "      <td>Data Innovation Summit + Interna möten fredag</td>\n",
       "      <td>2025-09-08 05:26:08.566517 UTC</td>\n",
       "    </tr>\n",
       "    <tr>\n",
       "      <th>1</th>\n",
       "      <td>1256</td>\n",
       "      <td>3</td>\n",
       "      <td>17</td>\n",
       "      <td>2025-06-26</td>\n",
       "      <td>30</td>\n",
       "      <td>1.0</td>\n",
       "      <td>NaN</td>\n",
       "      <td>2025-09-08 05:26:08.566517 UTC</td>\n",
       "    </tr>\n",
       "    <tr>\n",
       "      <th>2</th>\n",
       "      <td>1255</td>\n",
       "      <td>3</td>\n",
       "      <td>17</td>\n",
       "      <td>2025-06-25</td>\n",
       "      <td>30</td>\n",
       "      <td>1.0</td>\n",
       "      <td>NaN</td>\n",
       "      <td>2025-09-08 05:26:08.566517 UTC</td>\n",
       "    </tr>\n",
       "    <tr>\n",
       "      <th>3</th>\n",
       "      <td>1257</td>\n",
       "      <td>3</td>\n",
       "      <td>17</td>\n",
       "      <td>2025-06-27</td>\n",
       "      <td>30</td>\n",
       "      <td>1.0</td>\n",
       "      <td>NaN</td>\n",
       "      <td>2025-09-08 05:26:08.566517 UTC</td>\n",
       "    </tr>\n",
       "    <tr>\n",
       "      <th>4</th>\n",
       "      <td>1564</td>\n",
       "      <td>3</td>\n",
       "      <td>21</td>\n",
       "      <td>2025-08-21</td>\n",
       "      <td>30</td>\n",
       "      <td>1.0</td>\n",
       "      <td>NaN</td>\n",
       "      <td>2025-09-08 05:26:08.566517 UTC</td>\n",
       "    </tr>\n",
       "  </tbody>\n",
       "</table>\n",
       "</div>"
      ],
      "text/plain": [
       "   activity_time_id  employee_id  activity_id activity_date  minutes  \\\n",
       "0               750            5           20    2025-05-10        0   \n",
       "1              1256            3           17    2025-06-26       30   \n",
       "2              1255            3           17    2025-06-25       30   \n",
       "3              1257            3           17    2025-06-27       30   \n",
       "4              1564            3           21    2025-08-21       30   \n",
       "\n",
       "   factor_value                                 notes_internal  \\\n",
       "0           0.0  Data Innovation Summit + Interna möten fredag   \n",
       "1           1.0                                            NaN   \n",
       "2           1.0                                            NaN   \n",
       "3           1.0                                            NaN   \n",
       "4           1.0                                            NaN   \n",
       "\n",
       "                     processed_at  \n",
       "0  2025-09-08 05:26:08.566517 UTC  \n",
       "1  2025-09-08 05:26:08.566517 UTC  \n",
       "2  2025-09-08 05:26:08.566517 UTC  \n",
       "3  2025-09-08 05:26:08.566517 UTC  \n",
       "4  2025-09-08 05:26:08.566517 UTC  "
      ]
     },
     "metadata": {},
     "output_type": "display_data"
    },
    {
     "name": "stdout",
     "output_type": "stream",
     "text": [
      "--------------------------------------------------------------------------------\n",
      "\n",
      "Loaded data/stg_qbis__project_activities.csv as df12\n",
      "File: data/stg_qbis__project_activities.csv\n",
      "Shape: 25 rows × 20 columns\n",
      "\n",
      "First 5 rows of df12:\n"
     ]
    },
    {
     "data": {
      "application/vnd.microsoft.datawrangler.viewer.v0+json": {
       "columns": [
        {
         "name": "index",
         "rawType": "int64",
         "type": "integer"
        },
        {
         "name": "project_activity_id",
         "rawType": "int64",
         "type": "integer"
        },
        {
         "name": "project_id",
         "rawType": "int64",
         "type": "integer"
        },
        {
         "name": "phase_id",
         "rawType": "int64",
         "type": "integer"
        },
        {
         "name": "activity_name",
         "rawType": "object",
         "type": "string"
        },
        {
         "name": "is_active",
         "rawType": "bool",
         "type": "boolean"
        },
        {
         "name": "is_complete",
         "rawType": "bool",
         "type": "boolean"
        },
        {
         "name": "is_chargeable",
         "rawType": "bool",
         "type": "boolean"
        },
        {
         "name": "is_locked",
         "rawType": "bool",
         "type": "boolean"
        },
        {
         "name": "has_warning",
         "rawType": "bool",
         "type": "boolean"
        },
        {
         "name": "is_group_budget",
         "rawType": "bool",
         "type": "boolean"
        },
        {
         "name": "start_date",
         "rawType": "float64",
         "type": "float"
        },
        {
         "name": "end_date",
         "rawType": "float64",
         "type": "float"
        },
        {
         "name": "chargeable_date",
         "rawType": "float64",
         "type": "float"
        },
        {
         "name": "max_hours",
         "rawType": "float64",
         "type": "float"
        },
        {
         "name": "budget_hours",
         "rawType": "float64",
         "type": "float"
        },
        {
         "name": "factor",
         "rawType": "float64",
         "type": "float"
        },
        {
         "name": "cost_per_hour",
         "rawType": "float64",
         "type": "float"
        },
        {
         "name": "price_per_hour",
         "rawType": "float64",
         "type": "float"
        },
        {
         "name": "price_fixed",
         "rawType": "float64",
         "type": "float"
        },
        {
         "name": "processed_at",
         "rawType": "object",
         "type": "string"
        }
       ],
       "ref": "e944c9cb-1f6e-416e-a9cc-58ba11aa4e00",
       "rows": [
        [
         "0",
         "20",
         "19",
         "0",
         "Internal",
         "True",
         "False",
         "False",
         "False",
         "False",
         "False",
         null,
         null,
         null,
         "0.0",
         "0.0",
         "0.0",
         "0.0",
         "0.0",
         "0.0",
         "2025-09-08 05:25:58.210172 UTC"
        ],
        [
         "1",
         "24",
         "23",
         "0",
         "Internal",
         "True",
         "False",
         "False",
         "False",
         "False",
         "False",
         null,
         null,
         null,
         "0.0",
         "0.0",
         "0.0",
         "0.0",
         "0.0",
         "0.0",
         "2025-09-08 05:25:58.210172 UTC"
        ],
        [
         "2",
         "23",
         "22",
         "0",
         "Internal",
         "True",
         "False",
         "False",
         "False",
         "False",
         "False",
         null,
         null,
         null,
         "0.0",
         "0.0",
         "0.0",
         "0.0",
         "0.0",
         "0.0",
         "2025-09-08 05:25:58.210172 UTC"
        ],
        [
         "3",
         "22",
         "21",
         "0",
         "Internal",
         "True",
         "False",
         "False",
         "False",
         "False",
         "False",
         null,
         null,
         null,
         "0.0",
         "0.0",
         "0.0",
         "0.0",
         "0.0",
         "0.0",
         "2025-09-08 05:25:58.210172 UTC"
        ],
        [
         "4",
         "2",
         "1",
         "0",
         "Aktivitet 1",
         "True",
         "False",
         "True",
         "False",
         "False",
         "False",
         null,
         null,
         null,
         "0.0",
         "0.0",
         "1.0",
         "0.0",
         "0.0",
         "0.0",
         "2025-09-08 05:25:58.210172 UTC"
        ]
       ],
       "shape": {
        "columns": 20,
        "rows": 5
       }
      },
      "text/html": [
       "<div>\n",
       "<style scoped>\n",
       "    .dataframe tbody tr th:only-of-type {\n",
       "        vertical-align: middle;\n",
       "    }\n",
       "\n",
       "    .dataframe tbody tr th {\n",
       "        vertical-align: top;\n",
       "    }\n",
       "\n",
       "    .dataframe thead th {\n",
       "        text-align: right;\n",
       "    }\n",
       "</style>\n",
       "<table border=\"1\" class=\"dataframe\">\n",
       "  <thead>\n",
       "    <tr style=\"text-align: right;\">\n",
       "      <th></th>\n",
       "      <th>project_activity_id</th>\n",
       "      <th>project_id</th>\n",
       "      <th>phase_id</th>\n",
       "      <th>activity_name</th>\n",
       "      <th>is_active</th>\n",
       "      <th>is_complete</th>\n",
       "      <th>is_chargeable</th>\n",
       "      <th>is_locked</th>\n",
       "      <th>has_warning</th>\n",
       "      <th>is_group_budget</th>\n",
       "      <th>start_date</th>\n",
       "      <th>end_date</th>\n",
       "      <th>chargeable_date</th>\n",
       "      <th>max_hours</th>\n",
       "      <th>budget_hours</th>\n",
       "      <th>factor</th>\n",
       "      <th>cost_per_hour</th>\n",
       "      <th>price_per_hour</th>\n",
       "      <th>price_fixed</th>\n",
       "      <th>processed_at</th>\n",
       "    </tr>\n",
       "  </thead>\n",
       "  <tbody>\n",
       "    <tr>\n",
       "      <th>0</th>\n",
       "      <td>20</td>\n",
       "      <td>19</td>\n",
       "      <td>0</td>\n",
       "      <td>Internal</td>\n",
       "      <td>True</td>\n",
       "      <td>False</td>\n",
       "      <td>False</td>\n",
       "      <td>False</td>\n",
       "      <td>False</td>\n",
       "      <td>False</td>\n",
       "      <td>NaN</td>\n",
       "      <td>NaN</td>\n",
       "      <td>NaN</td>\n",
       "      <td>0.0</td>\n",
       "      <td>0.0</td>\n",
       "      <td>0.0</td>\n",
       "      <td>0.0</td>\n",
       "      <td>0.0</td>\n",
       "      <td>0.0</td>\n",
       "      <td>2025-09-08 05:25:58.210172 UTC</td>\n",
       "    </tr>\n",
       "    <tr>\n",
       "      <th>1</th>\n",
       "      <td>24</td>\n",
       "      <td>23</td>\n",
       "      <td>0</td>\n",
       "      <td>Internal</td>\n",
       "      <td>True</td>\n",
       "      <td>False</td>\n",
       "      <td>False</td>\n",
       "      <td>False</td>\n",
       "      <td>False</td>\n",
       "      <td>False</td>\n",
       "      <td>NaN</td>\n",
       "      <td>NaN</td>\n",
       "      <td>NaN</td>\n",
       "      <td>0.0</td>\n",
       "      <td>0.0</td>\n",
       "      <td>0.0</td>\n",
       "      <td>0.0</td>\n",
       "      <td>0.0</td>\n",
       "      <td>0.0</td>\n",
       "      <td>2025-09-08 05:25:58.210172 UTC</td>\n",
       "    </tr>\n",
       "    <tr>\n",
       "      <th>2</th>\n",
       "      <td>23</td>\n",
       "      <td>22</td>\n",
       "      <td>0</td>\n",
       "      <td>Internal</td>\n",
       "      <td>True</td>\n",
       "      <td>False</td>\n",
       "      <td>False</td>\n",
       "      <td>False</td>\n",
       "      <td>False</td>\n",
       "      <td>False</td>\n",
       "      <td>NaN</td>\n",
       "      <td>NaN</td>\n",
       "      <td>NaN</td>\n",
       "      <td>0.0</td>\n",
       "      <td>0.0</td>\n",
       "      <td>0.0</td>\n",
       "      <td>0.0</td>\n",
       "      <td>0.0</td>\n",
       "      <td>0.0</td>\n",
       "      <td>2025-09-08 05:25:58.210172 UTC</td>\n",
       "    </tr>\n",
       "    <tr>\n",
       "      <th>3</th>\n",
       "      <td>22</td>\n",
       "      <td>21</td>\n",
       "      <td>0</td>\n",
       "      <td>Internal</td>\n",
       "      <td>True</td>\n",
       "      <td>False</td>\n",
       "      <td>False</td>\n",
       "      <td>False</td>\n",
       "      <td>False</td>\n",
       "      <td>False</td>\n",
       "      <td>NaN</td>\n",
       "      <td>NaN</td>\n",
       "      <td>NaN</td>\n",
       "      <td>0.0</td>\n",
       "      <td>0.0</td>\n",
       "      <td>0.0</td>\n",
       "      <td>0.0</td>\n",
       "      <td>0.0</td>\n",
       "      <td>0.0</td>\n",
       "      <td>2025-09-08 05:25:58.210172 UTC</td>\n",
       "    </tr>\n",
       "    <tr>\n",
       "      <th>4</th>\n",
       "      <td>2</td>\n",
       "      <td>1</td>\n",
       "      <td>0</td>\n",
       "      <td>Aktivitet 1</td>\n",
       "      <td>True</td>\n",
       "      <td>False</td>\n",
       "      <td>True</td>\n",
       "      <td>False</td>\n",
       "      <td>False</td>\n",
       "      <td>False</td>\n",
       "      <td>NaN</td>\n",
       "      <td>NaN</td>\n",
       "      <td>NaN</td>\n",
       "      <td>0.0</td>\n",
       "      <td>0.0</td>\n",
       "      <td>1.0</td>\n",
       "      <td>0.0</td>\n",
       "      <td>0.0</td>\n",
       "      <td>0.0</td>\n",
       "      <td>2025-09-08 05:25:58.210172 UTC</td>\n",
       "    </tr>\n",
       "  </tbody>\n",
       "</table>\n",
       "</div>"
      ],
      "text/plain": [
       "   project_activity_id  project_id  phase_id activity_name  is_active  \\\n",
       "0                   20          19         0      Internal       True   \n",
       "1                   24          23         0      Internal       True   \n",
       "2                   23          22         0      Internal       True   \n",
       "3                   22          21         0      Internal       True   \n",
       "4                    2           1         0   Aktivitet 1       True   \n",
       "\n",
       "   is_complete  is_chargeable  is_locked  has_warning  is_group_budget  \\\n",
       "0        False          False      False        False            False   \n",
       "1        False          False      False        False            False   \n",
       "2        False          False      False        False            False   \n",
       "3        False          False      False        False            False   \n",
       "4        False           True      False        False            False   \n",
       "\n",
       "   start_date  end_date  chargeable_date  max_hours  budget_hours  factor  \\\n",
       "0         NaN       NaN              NaN        0.0           0.0     0.0   \n",
       "1         NaN       NaN              NaN        0.0           0.0     0.0   \n",
       "2         NaN       NaN              NaN        0.0           0.0     0.0   \n",
       "3         NaN       NaN              NaN        0.0           0.0     0.0   \n",
       "4         NaN       NaN              NaN        0.0           0.0     1.0   \n",
       "\n",
       "   cost_per_hour  price_per_hour  price_fixed                    processed_at  \n",
       "0            0.0             0.0          0.0  2025-09-08 05:25:58.210172 UTC  \n",
       "1            0.0             0.0          0.0  2025-09-08 05:25:58.210172 UTC  \n",
       "2            0.0             0.0          0.0  2025-09-08 05:25:58.210172 UTC  \n",
       "3            0.0             0.0          0.0  2025-09-08 05:25:58.210172 UTC  \n",
       "4            0.0             0.0          0.0  2025-09-08 05:25:58.210172 UTC  "
      ]
     },
     "metadata": {},
     "output_type": "display_data"
    },
    {
     "name": "stdout",
     "output_type": "stream",
     "text": [
      "--------------------------------------------------------------------------------\n",
      "\n",
      "df1 is from file: data/dim__hubspot_sales_pipeline_stages.csv\n"
     ]
    }
   ],
   "source": [
    "dataframes, file_mappings = load_all_csv_files()\n",
    "\n",
    "for name, df in dataframes.items():\n",
    "    globals()[name] = df\n",
    "\n",
    "print(f\"df1 is from file: {file_mappings['df1']}\")"
   ]
  },
  {
   "cell_type": "markdown",
   "id": "c32efa31",
   "metadata": {},
   "source": [
    "## Examining hubspot files  "
   ]
  },
  {
   "cell_type": "code",
   "execution_count": 4,
   "id": "e32e2792",
   "metadata": {},
   "outputs": [
    {
     "data": {
      "text/html": [
       "<div>\n",
       "<style scoped>\n",
       "    .dataframe tbody tr th:only-of-type {\n",
       "        vertical-align: middle;\n",
       "    }\n",
       "\n",
       "    .dataframe tbody tr th {\n",
       "        vertical-align: top;\n",
       "    }\n",
       "\n",
       "    .dataframe thead th {\n",
       "        text-align: right;\n",
       "    }\n",
       "</style>\n",
       "<table border=\"1\" class=\"dataframe\">\n",
       "  <thead>\n",
       "    <tr style=\"text-align: right;\">\n",
       "      <th></th>\n",
       "      <th>pipeline_stage_id</th>\n",
       "      <th>pipeline_stage_order</th>\n",
       "      <th>pipeline_stage</th>\n",
       "      <th>close_probability</th>\n",
       "      <th>stage_is_archived</th>\n",
       "      <th>deal_is_closed</th>\n",
       "    </tr>\n",
       "  </thead>\n",
       "  <tbody>\n",
       "    <tr>\n",
       "      <th>0</th>\n",
       "      <td>1102499</td>\n",
       "      <td>1</td>\n",
       "      <td>Qualification</td>\n",
       "      <td>0.2</td>\n",
       "      <td>False</td>\n",
       "      <td>False</td>\n",
       "    </tr>\n",
       "    <tr>\n",
       "      <th>1</th>\n",
       "      <td>12008384</td>\n",
       "      <td>0</td>\n",
       "      <td>Lead</td>\n",
       "      <td>0.1</td>\n",
       "      <td>False</td>\n",
       "      <td>False</td>\n",
       "    </tr>\n",
       "    <tr>\n",
       "      <th>2</th>\n",
       "      <td>qualifiedtobuy</td>\n",
       "      <td>3</td>\n",
       "      <td>Proposal</td>\n",
       "      <td>0.6</td>\n",
       "      <td>False</td>\n",
       "      <td>False</td>\n",
       "    </tr>\n",
       "    <tr>\n",
       "      <th>3</th>\n",
       "      <td>appointmentscheduled</td>\n",
       "      <td>2</td>\n",
       "      <td>Exploration</td>\n",
       "      <td>0.4</td>\n",
       "      <td>False</td>\n",
       "      <td>False</td>\n",
       "    </tr>\n",
       "    <tr>\n",
       "      <th>4</th>\n",
       "      <td>closedlost</td>\n",
       "      <td>5</td>\n",
       "      <td>Closed Lost</td>\n",
       "      <td>0.0</td>\n",
       "      <td>False</td>\n",
       "      <td>True</td>\n",
       "    </tr>\n",
       "    <tr>\n",
       "      <th>5</th>\n",
       "      <td>closedwon</td>\n",
       "      <td>4</td>\n",
       "      <td>Closed Won</td>\n",
       "      <td>1.0</td>\n",
       "      <td>False</td>\n",
       "      <td>True</td>\n",
       "    </tr>\n",
       "  </tbody>\n",
       "</table>\n",
       "</div>"
      ],
      "text/plain": [
       "      pipeline_stage_id  pipeline_stage_order pipeline_stage  \\\n",
       "0               1102499                     1  Qualification   \n",
       "1              12008384                     0           Lead   \n",
       "2        qualifiedtobuy                     3       Proposal   \n",
       "3  appointmentscheduled                     2    Exploration   \n",
       "4            closedlost                     5    Closed Lost   \n",
       "5             closedwon                     4     Closed Won   \n",
       "\n",
       "   close_probability  stage_is_archived  deal_is_closed  \n",
       "0                0.2              False           False  \n",
       "1                0.1              False           False  \n",
       "2                0.6              False           False  \n",
       "3                0.4              False           False  \n",
       "4                0.0              False            True  \n",
       "5                1.0              False            True  "
      ]
     },
     "execution_count": 4,
     "metadata": {},
     "output_type": "execute_result"
    }
   ],
   "source": [
    "df1"
   ]
  },
  {
   "cell_type": "code",
   "execution_count": 5,
   "id": "946cea16",
   "metadata": {},
   "outputs": [
    {
     "name": "stdout",
     "output_type": "stream",
     "text": [
      "<class 'pandas.core.frame.DataFrame'>\n",
      "RangeIndex: 322 entries, 0 to 321\n",
      "Data columns (total 11 columns):\n",
      " #   Column                  Non-Null Count  Dtype  \n",
      "---  ------                  --------------  -----  \n",
      " 0   deal_id                 322 non-null    int64  \n",
      " 1   deal_amount             279 non-null    float64\n",
      " 2   deal_stage              322 non-null    object \n",
      " 3   deal_close_probability  322 non-null    float64\n",
      " 4   create_date             322 non-null    object \n",
      " 5   last_modified_date      322 non-null    object \n",
      " 6   close_date              322 non-null    object \n",
      " 7   owner_id                322 non-null    int64  \n",
      " 8   is_archived             322 non-null    bool   \n",
      " 9   weighted_deal_amount    279 non-null    float64\n",
      " 10  deal_name_anon          322 non-null    object \n",
      "dtypes: bool(1), float64(3), int64(2), object(5)\n",
      "memory usage: 25.6+ KB\n"
     ]
    }
   ],
   "source": [
    "df9.info()"
   ]
  },
  {
   "cell_type": "code",
   "execution_count": 6,
   "id": "d6e1e21b",
   "metadata": {},
   "outputs": [
    {
     "data": {
      "text/html": [
       "<div>\n",
       "<style scoped>\n",
       "    .dataframe tbody tr th:only-of-type {\n",
       "        vertical-align: middle;\n",
       "    }\n",
       "\n",
       "    .dataframe tbody tr th {\n",
       "        vertical-align: top;\n",
       "    }\n",
       "\n",
       "    .dataframe thead th {\n",
       "        text-align: right;\n",
       "    }\n",
       "</style>\n",
       "<table border=\"1\" class=\"dataframe\">\n",
       "  <thead>\n",
       "    <tr style=\"text-align: right;\">\n",
       "      <th></th>\n",
       "      <th>deal_id</th>\n",
       "      <th>deal_amount</th>\n",
       "      <th>deal_stage</th>\n",
       "      <th>deal_close_probability</th>\n",
       "      <th>create_date</th>\n",
       "      <th>last_modified_date</th>\n",
       "      <th>close_date</th>\n",
       "      <th>owner_id</th>\n",
       "      <th>is_archived</th>\n",
       "      <th>weighted_deal_amount</th>\n",
       "      <th>deal_name_anon</th>\n",
       "    </tr>\n",
       "  </thead>\n",
       "  <tbody>\n",
       "    <tr>\n",
       "      <th>104</th>\n",
       "      <td>6345738653</td>\n",
       "      <td>1000000.0</td>\n",
       "      <td>closedlost</td>\n",
       "      <td>0.0</td>\n",
       "      <td>2021-10-01 12:51:53.119000 UTC</td>\n",
       "      <td>2022-03-16 12:11:14.325000 UTC</td>\n",
       "      <td>2022-03-16 12:11:13.484000 UTC</td>\n",
       "      <td>38986547</td>\n",
       "      <td>False</td>\n",
       "      <td>0.0</td>\n",
       "      <td>Thomas, Morales and Porter&amp;B - Dataplattform</td>\n",
       "    </tr>\n",
       "    <tr>\n",
       "      <th>249</th>\n",
       "      <td>1007324971</td>\n",
       "      <td>150000.0</td>\n",
       "      <td>closedwon</td>\n",
       "      <td>1.0</td>\n",
       "      <td>2019-09-10 16:15:46.912000 UTC</td>\n",
       "      <td>2022-04-25 07:51:04.469000 UTC</td>\n",
       "      <td>2020-02-28 15:15:38.867000 UTC</td>\n",
       "      <td>51510172</td>\n",
       "      <td>False</td>\n",
       "      <td>150000.0</td>\n",
       "      <td>Fernandez, Brewer and Vasquez - Dataanalytiker</td>\n",
       "    </tr>\n",
       "    <tr>\n",
       "      <th>58</th>\n",
       "      <td>12238180884</td>\n",
       "      <td>600000.0</td>\n",
       "      <td>closedlost</td>\n",
       "      <td>0.0</td>\n",
       "      <td>2023-02-20 08:55:13.081000 UTC</td>\n",
       "      <td>2023-04-12 19:04:00.490000 UTC</td>\n",
       "      <td>2023-04-12 19:03:59.337000 UTC</td>\n",
       "      <td>38986547</td>\n",
       "      <td>False</td>\n",
       "      <td>0.0</td>\n",
       "      <td>SRB Valuation - IT Analyst</td>\n",
       "    </tr>\n",
       "    <tr>\n",
       "      <th>290</th>\n",
       "      <td>20403073402</td>\n",
       "      <td>1500000.0</td>\n",
       "      <td>closedlost</td>\n",
       "      <td>0.0</td>\n",
       "      <td>2024-06-28 13:49:54.714000 UTC</td>\n",
       "      <td>2024-09-02 07:39:45.651000 UTC</td>\n",
       "      <td>2024-09-02 07:39:42.082000 UTC</td>\n",
       "      <td>644882961</td>\n",
       "      <td>False</td>\n",
       "      <td>0.0</td>\n",
       "      <td>Ortega Group Collection implementation</td>\n",
       "    </tr>\n",
       "    <tr>\n",
       "      <th>18</th>\n",
       "      <td>21989866572</td>\n",
       "      <td>1100000.0</td>\n",
       "      <td>closedlost</td>\n",
       "      <td>0.0</td>\n",
       "      <td>2024-09-06 12:19:07.768000 UTC</td>\n",
       "      <td>2024-10-30 22:36:46.558000 UTC</td>\n",
       "      <td>2024-10-30 22:36:33.127000 UTC</td>\n",
       "      <td>2031800790</td>\n",
       "      <td>False</td>\n",
       "      <td>0.0</td>\n",
       "      <td>Qliro - Miller, Kidd and Dickson</td>\n",
       "    </tr>\n",
       "    <tr>\n",
       "      <th>56</th>\n",
       "      <td>14514138116</td>\n",
       "      <td>1000000.0</td>\n",
       "      <td>closedlost</td>\n",
       "      <td>0.0</td>\n",
       "      <td>2023-08-07 08:09:07.644000 UTC</td>\n",
       "      <td>2023-08-29 14:38:11.770000 UTC</td>\n",
       "      <td>2023-08-29 14:38:07.498000 UTC</td>\n",
       "      <td>38986547</td>\n",
       "      <td>False</td>\n",
       "      <td>0.0</td>\n",
       "      <td>Broker - Dataanalytiker inom test</td>\n",
       "    </tr>\n",
       "    <tr>\n",
       "      <th>171</th>\n",
       "      <td>9353792316</td>\n",
       "      <td>1800000.0</td>\n",
       "      <td>closedwon</td>\n",
       "      <td>1.0</td>\n",
       "      <td>2022-06-30 13:19:16.072000 UTC</td>\n",
       "      <td>2023-06-29 15:27:43.717000 UTC</td>\n",
       "      <td>2022-08-16 10:06:45.903000 UTC</td>\n",
       "      <td>38986548</td>\n",
       "      <td>False</td>\n",
       "      <td>1800000.0</td>\n",
       "      <td>LF Datadriven affärsutveckling HT 2022</td>\n",
       "    </tr>\n",
       "    <tr>\n",
       "      <th>85</th>\n",
       "      <td>37960350725</td>\n",
       "      <td>400000.0</td>\n",
       "      <td>closedlost</td>\n",
       "      <td>0.0</td>\n",
       "      <td>2025-05-26 20:12:23.042000 UTC</td>\n",
       "      <td>2025-06-04 10:13:52.871000 UTC</td>\n",
       "      <td>2025-06-04 10:13:48.564000 UTC</td>\n",
       "      <td>38986547</td>\n",
       "      <td>False</td>\n",
       "      <td>0.0</td>\n",
       "      <td>JM - Dataplattform förstudie</td>\n",
       "    </tr>\n",
       "    <tr>\n",
       "      <th>82</th>\n",
       "      <td>1011424537</td>\n",
       "      <td>500000.0</td>\n",
       "      <td>closedlost</td>\n",
       "      <td>0.0</td>\n",
       "      <td>2019-09-11 18:21:14.838000 UTC</td>\n",
       "      <td>2022-04-25 07:51:04.328000 UTC</td>\n",
       "      <td>2019-12-02 12:24:19.859000 UTC</td>\n",
       "      <td>38986547</td>\n",
       "      <td>False</td>\n",
       "      <td>0.0</td>\n",
       "      <td>Dustin - Analytics Manager</td>\n",
       "    </tr>\n",
       "    <tr>\n",
       "      <th>263</th>\n",
       "      <td>20069262668</td>\n",
       "      <td>70000.0</td>\n",
       "      <td>closedlost</td>\n",
       "      <td>0.0</td>\n",
       "      <td>2024-06-14 04:43:03.943000 UTC</td>\n",
       "      <td>2024-09-06 12:11:01.275000 UTC</td>\n",
       "      <td>2024-09-06 12:08:38.199000 UTC</td>\n",
       "      <td>51657849</td>\n",
       "      <td>False</td>\n",
       "      <td>0.0</td>\n",
       "      <td>Designplan (Ortega Group) - Report changes</td>\n",
       "    </tr>\n",
       "  </tbody>\n",
       "</table>\n",
       "</div>"
      ],
      "text/plain": [
       "         deal_id  deal_amount  deal_stage  deal_close_probability  \\\n",
       "104   6345738653    1000000.0  closedlost                     0.0   \n",
       "249   1007324971     150000.0   closedwon                     1.0   \n",
       "58   12238180884     600000.0  closedlost                     0.0   \n",
       "290  20403073402    1500000.0  closedlost                     0.0   \n",
       "18   21989866572    1100000.0  closedlost                     0.0   \n",
       "56   14514138116    1000000.0  closedlost                     0.0   \n",
       "171   9353792316    1800000.0   closedwon                     1.0   \n",
       "85   37960350725     400000.0  closedlost                     0.0   \n",
       "82    1011424537     500000.0  closedlost                     0.0   \n",
       "263  20069262668      70000.0  closedlost                     0.0   \n",
       "\n",
       "                        create_date              last_modified_date  \\\n",
       "104  2021-10-01 12:51:53.119000 UTC  2022-03-16 12:11:14.325000 UTC   \n",
       "249  2019-09-10 16:15:46.912000 UTC  2022-04-25 07:51:04.469000 UTC   \n",
       "58   2023-02-20 08:55:13.081000 UTC  2023-04-12 19:04:00.490000 UTC   \n",
       "290  2024-06-28 13:49:54.714000 UTC  2024-09-02 07:39:45.651000 UTC   \n",
       "18   2024-09-06 12:19:07.768000 UTC  2024-10-30 22:36:46.558000 UTC   \n",
       "56   2023-08-07 08:09:07.644000 UTC  2023-08-29 14:38:11.770000 UTC   \n",
       "171  2022-06-30 13:19:16.072000 UTC  2023-06-29 15:27:43.717000 UTC   \n",
       "85   2025-05-26 20:12:23.042000 UTC  2025-06-04 10:13:52.871000 UTC   \n",
       "82   2019-09-11 18:21:14.838000 UTC  2022-04-25 07:51:04.328000 UTC   \n",
       "263  2024-06-14 04:43:03.943000 UTC  2024-09-06 12:11:01.275000 UTC   \n",
       "\n",
       "                         close_date    owner_id  is_archived  \\\n",
       "104  2022-03-16 12:11:13.484000 UTC    38986547        False   \n",
       "249  2020-02-28 15:15:38.867000 UTC    51510172        False   \n",
       "58   2023-04-12 19:03:59.337000 UTC    38986547        False   \n",
       "290  2024-09-02 07:39:42.082000 UTC   644882961        False   \n",
       "18   2024-10-30 22:36:33.127000 UTC  2031800790        False   \n",
       "56   2023-08-29 14:38:07.498000 UTC    38986547        False   \n",
       "171  2022-08-16 10:06:45.903000 UTC    38986548        False   \n",
       "85   2025-06-04 10:13:48.564000 UTC    38986547        False   \n",
       "82   2019-12-02 12:24:19.859000 UTC    38986547        False   \n",
       "263  2024-09-06 12:08:38.199000 UTC    51657849        False   \n",
       "\n",
       "     weighted_deal_amount                                  deal_name_anon  \n",
       "104                   0.0    Thomas, Morales and Porter&B - Dataplattform  \n",
       "249              150000.0  Fernandez, Brewer and Vasquez - Dataanalytiker  \n",
       "58                    0.0                      SRB Valuation - IT Analyst  \n",
       "290                   0.0          Ortega Group Collection implementation  \n",
       "18                    0.0                Qliro - Miller, Kidd and Dickson  \n",
       "56                    0.0               Broker - Dataanalytiker inom test  \n",
       "171             1800000.0          LF Datadriven affärsutveckling HT 2022  \n",
       "85                    0.0                    JM - Dataplattform förstudie  \n",
       "82                    0.0                      Dustin - Analytics Manager  \n",
       "263                   0.0      Designplan (Ortega Group) - Report changes  "
      ]
     },
     "execution_count": 6,
     "metadata": {},
     "output_type": "execute_result"
    }
   ],
   "source": [
    "df9.sample(10)"
   ]
  },
  {
   "cell_type": "markdown",
   "id": "db1a4ef9",
   "metadata": {},
   "source": [
    "## Examining fortnox files  "
   ]
  },
  {
   "cell_type": "code",
   "execution_count": 8,
   "id": "42c8a4f0",
   "metadata": {},
   "outputs": [
    {
     "name": "stdout",
     "output_type": "stream",
     "text": [
      "<class 'pandas.core.frame.DataFrame'>\n",
      "RangeIndex: 615 entries, 0 to 614\n",
      "Data columns (total 12 columns):\n",
      " #   Column                Non-Null Count  Dtype  \n",
      "---  ------                --------------  -----  \n",
      " 0   invoice_amount_net    615 non-null    float64\n",
      " 1   invoice_amount_total  615 non-null    float64\n",
      " 2   customer_number       615 non-null    int64  \n",
      " 3   due_date              615 non-null    object \n",
      " 4   invoice_date          615 non-null    object \n",
      " 5   final_pay_date        594 non-null    object \n",
      " 6   month_name            615 non-null    object \n",
      " 7   accounting_month      615 non-null    int64  \n",
      " 8   accounting_year       615 non-null    int64  \n",
      " 9   accounting_year_date  615 non-null    object \n",
      " 10  broker                594 non-null    object \n",
      " 11  client_anon           615 non-null    object \n",
      "dtypes: float64(2), int64(3), object(7)\n",
      "memory usage: 57.8+ KB\n"
     ]
    }
   ],
   "source": [
    "df7.info()"
   ]
  },
  {
   "cell_type": "code",
   "execution_count": 10,
   "id": "d468a8c2",
   "metadata": {},
   "outputs": [
    {
     "data": {
      "text/html": [
       "<div>\n",
       "<style scoped>\n",
       "    .dataframe tbody tr th:only-of-type {\n",
       "        vertical-align: middle;\n",
       "    }\n",
       "\n",
       "    .dataframe tbody tr th {\n",
       "        vertical-align: top;\n",
       "    }\n",
       "\n",
       "    .dataframe thead th {\n",
       "        text-align: right;\n",
       "    }\n",
       "</style>\n",
       "<table border=\"1\" class=\"dataframe\">\n",
       "  <thead>\n",
       "    <tr style=\"text-align: right;\">\n",
       "      <th></th>\n",
       "      <th>invoice_amount_net</th>\n",
       "      <th>invoice_amount_total</th>\n",
       "      <th>customer_number</th>\n",
       "      <th>due_date</th>\n",
       "      <th>invoice_date</th>\n",
       "      <th>final_pay_date</th>\n",
       "      <th>month_name</th>\n",
       "      <th>accounting_month</th>\n",
       "      <th>accounting_year</th>\n",
       "      <th>accounting_year_date</th>\n",
       "      <th>broker</th>\n",
       "      <th>client_anon</th>\n",
       "    </tr>\n",
       "  </thead>\n",
       "  <tbody>\n",
       "    <tr>\n",
       "      <th>439</th>\n",
       "      <td>243800.00000</td>\n",
       "      <td>304750.000</td>\n",
       "      <td>27</td>\n",
       "      <td>2023-06-30</td>\n",
       "      <td>2023-05-31</td>\n",
       "      <td>2023-06-29</td>\n",
       "      <td>May</td>\n",
       "      <td>1</td>\n",
       "      <td>2023</td>\n",
       "      <td>2023-01-28</td>\n",
       "      <td>Direct</td>\n",
       "      <td>Butler, Rodriguez and Townsend</td>\n",
       "    </tr>\n",
       "    <tr>\n",
       "      <th>145</th>\n",
       "      <td>123200.00000</td>\n",
       "      <td>123200.000</td>\n",
       "      <td>22</td>\n",
       "      <td>2023-01-05</td>\n",
       "      <td>2022-11-30</td>\n",
       "      <td>2022-12-30</td>\n",
       "      <td>November</td>\n",
       "      <td>7</td>\n",
       "      <td>2022</td>\n",
       "      <td>2022-07-28</td>\n",
       "      <td>Broker</td>\n",
       "      <td>Carrillo Inc</td>\n",
       "    </tr>\n",
       "    <tr>\n",
       "      <th>305</th>\n",
       "      <td>47200.00000</td>\n",
       "      <td>59000.000</td>\n",
       "      <td>35</td>\n",
       "      <td>2025-08-30</td>\n",
       "      <td>2025-07-31</td>\n",
       "      <td>2025-08-15</td>\n",
       "      <td>July</td>\n",
       "      <td>3</td>\n",
       "      <td>2025</td>\n",
       "      <td>2025-03-28</td>\n",
       "      <td>Broker</td>\n",
       "      <td>Lynch Ltd</td>\n",
       "    </tr>\n",
       "    <tr>\n",
       "      <th>238</th>\n",
       "      <td>228620.00000</td>\n",
       "      <td>285775.000</td>\n",
       "      <td>35</td>\n",
       "      <td>2024-11-01</td>\n",
       "      <td>2024-09-30</td>\n",
       "      <td>2024-10-18</td>\n",
       "      <td>September</td>\n",
       "      <td>5</td>\n",
       "      <td>2024</td>\n",
       "      <td>2024-05-28</td>\n",
       "      <td>Broker</td>\n",
       "      <td>Lynch Ltd</td>\n",
       "    </tr>\n",
       "    <tr>\n",
       "      <th>215</th>\n",
       "      <td>201600.00000</td>\n",
       "      <td>252000.000</td>\n",
       "      <td>37</td>\n",
       "      <td>2024-07-02</td>\n",
       "      <td>2024-05-31</td>\n",
       "      <td>2024-07-01</td>\n",
       "      <td>May</td>\n",
       "      <td>1</td>\n",
       "      <td>2024</td>\n",
       "      <td>2024-01-28</td>\n",
       "      <td>Broker</td>\n",
       "      <td>Carroll Inc</td>\n",
       "    </tr>\n",
       "    <tr>\n",
       "      <th>538</th>\n",
       "      <td>81600.00000</td>\n",
       "      <td>102000.000</td>\n",
       "      <td>19</td>\n",
       "      <td>2024-07-30</td>\n",
       "      <td>2024-06-30</td>\n",
       "      <td>2024-07-30</td>\n",
       "      <td>June</td>\n",
       "      <td>2</td>\n",
       "      <td>2024</td>\n",
       "      <td>2024-02-28</td>\n",
       "      <td>Direct</td>\n",
       "      <td>Anderson Ltd</td>\n",
       "    </tr>\n",
       "    <tr>\n",
       "      <th>217</th>\n",
       "      <td>205900.00000</td>\n",
       "      <td>257375.000</td>\n",
       "      <td>35</td>\n",
       "      <td>2024-07-02</td>\n",
       "      <td>2024-05-31</td>\n",
       "      <td>2024-06-11</td>\n",
       "      <td>May</td>\n",
       "      <td>1</td>\n",
       "      <td>2024</td>\n",
       "      <td>2024-01-28</td>\n",
       "      <td>Broker</td>\n",
       "      <td>Lynch Ltd</td>\n",
       "    </tr>\n",
       "    <tr>\n",
       "      <th>57</th>\n",
       "      <td>177840.00000</td>\n",
       "      <td>222300.000</td>\n",
       "      <td>5</td>\n",
       "      <td>2021-03-19</td>\n",
       "      <td>2021-01-31</td>\n",
       "      <td>2021-03-03</td>\n",
       "      <td>January</td>\n",
       "      <td>9</td>\n",
       "      <td>2020</td>\n",
       "      <td>2020-09-28</td>\n",
       "      <td>Broker</td>\n",
       "      <td>Bush, Sawyer and Chambers</td>\n",
       "    </tr>\n",
       "    <tr>\n",
       "      <th>450</th>\n",
       "      <td>12848.26875</td>\n",
       "      <td>12854.176</td>\n",
       "      <td>28</td>\n",
       "      <td>2023-07-30</td>\n",
       "      <td>2023-06-30</td>\n",
       "      <td>2023-07-07</td>\n",
       "      <td>June</td>\n",
       "      <td>2</td>\n",
       "      <td>2023</td>\n",
       "      <td>2023-02-28</td>\n",
       "      <td>Direct</td>\n",
       "      <td>Pugh-Rodriguez</td>\n",
       "    </tr>\n",
       "    <tr>\n",
       "      <th>546</th>\n",
       "      <td>96000.00000</td>\n",
       "      <td>120000.000</td>\n",
       "      <td>559294</td>\n",
       "      <td>2024-10-01</td>\n",
       "      <td>2024-08-31</td>\n",
       "      <td>2024-10-03</td>\n",
       "      <td>August</td>\n",
       "      <td>4</td>\n",
       "      <td>2024</td>\n",
       "      <td>2024-04-28</td>\n",
       "      <td>Direct</td>\n",
       "      <td>Harvey, Collins and Walker</td>\n",
       "    </tr>\n",
       "  </tbody>\n",
       "</table>\n",
       "</div>"
      ],
      "text/plain": [
       "     invoice_amount_net  invoice_amount_total  customer_number    due_date  \\\n",
       "439        243800.00000            304750.000               27  2023-06-30   \n",
       "145        123200.00000            123200.000               22  2023-01-05   \n",
       "305         47200.00000             59000.000               35  2025-08-30   \n",
       "238        228620.00000            285775.000               35  2024-11-01   \n",
       "215        201600.00000            252000.000               37  2024-07-02   \n",
       "538         81600.00000            102000.000               19  2024-07-30   \n",
       "217        205900.00000            257375.000               35  2024-07-02   \n",
       "57         177840.00000            222300.000                5  2021-03-19   \n",
       "450         12848.26875             12854.176               28  2023-07-30   \n",
       "546         96000.00000            120000.000           559294  2024-10-01   \n",
       "\n",
       "    invoice_date final_pay_date month_name  accounting_month  accounting_year  \\\n",
       "439   2023-05-31     2023-06-29        May                 1             2023   \n",
       "145   2022-11-30     2022-12-30   November                 7             2022   \n",
       "305   2025-07-31     2025-08-15       July                 3             2025   \n",
       "238   2024-09-30     2024-10-18  September                 5             2024   \n",
       "215   2024-05-31     2024-07-01        May                 1             2024   \n",
       "538   2024-06-30     2024-07-30       June                 2             2024   \n",
       "217   2024-05-31     2024-06-11        May                 1             2024   \n",
       "57    2021-01-31     2021-03-03    January                 9             2020   \n",
       "450   2023-06-30     2023-07-07       June                 2             2023   \n",
       "546   2024-08-31     2024-10-03     August                 4             2024   \n",
       "\n",
       "    accounting_year_date  broker                     client_anon  \n",
       "439           2023-01-28  Direct  Butler, Rodriguez and Townsend  \n",
       "145           2022-07-28  Broker                    Carrillo Inc  \n",
       "305           2025-03-28  Broker                       Lynch Ltd  \n",
       "238           2024-05-28  Broker                       Lynch Ltd  \n",
       "215           2024-01-28  Broker                     Carroll Inc  \n",
       "538           2024-02-28  Direct                    Anderson Ltd  \n",
       "217           2024-01-28  Broker                       Lynch Ltd  \n",
       "57            2020-09-28  Broker       Bush, Sawyer and Chambers  \n",
       "450           2023-02-28  Direct                  Pugh-Rodriguez  \n",
       "546           2024-04-28  Direct      Harvey, Collins and Walker  "
      ]
     },
     "execution_count": 10,
     "metadata": {},
     "output_type": "execute_result"
    }
   ],
   "source": [
    "df7.sample(10)"
   ]
  },
  {
   "cell_type": "code",
   "execution_count": 11,
   "id": "319d4a8f",
   "metadata": {},
   "outputs": [
    {
     "data": {
      "text/html": [
       "<div>\n",
       "<style scoped>\n",
       "    .dataframe tbody tr th:only-of-type {\n",
       "        vertical-align: middle;\n",
       "    }\n",
       "\n",
       "    .dataframe tbody tr th {\n",
       "        vertical-align: top;\n",
       "    }\n",
       "\n",
       "    .dataframe thead th {\n",
       "        text-align: right;\n",
       "    }\n",
       "</style>\n",
       "<table border=\"1\" class=\"dataframe\">\n",
       "  <thead>\n",
       "    <tr style=\"text-align: right;\">\n",
       "      <th></th>\n",
       "      <th>invoice_amount_net</th>\n",
       "      <th>invoice_amount_total</th>\n",
       "      <th>customer_number</th>\n",
       "      <th>accounting_month</th>\n",
       "      <th>accounting_year</th>\n",
       "    </tr>\n",
       "  </thead>\n",
       "  <tbody>\n",
       "    <tr>\n",
       "      <th>count</th>\n",
       "      <td>615.000000</td>\n",
       "      <td>615.000000</td>\n",
       "      <td>615.000000</td>\n",
       "      <td>615.000000</td>\n",
       "      <td>615.000000</td>\n",
       "    </tr>\n",
       "    <tr>\n",
       "      <th>mean</th>\n",
       "      <td>124309.705080</td>\n",
       "      <td>151148.936653</td>\n",
       "      <td>62766.320325</td>\n",
       "      <td>6.466667</td>\n",
       "      <td>2022.513821</td>\n",
       "    </tr>\n",
       "    <tr>\n",
       "      <th>std</th>\n",
       "      <td>91246.479676</td>\n",
       "      <td>112522.651908</td>\n",
       "      <td>176654.613963</td>\n",
       "      <td>3.532784</td>\n",
       "      <td>1.507653</td>\n",
       "    </tr>\n",
       "    <tr>\n",
       "      <th>min</th>\n",
       "      <td>-325600.000000</td>\n",
       "      <td>-407000.000000</td>\n",
       "      <td>1.000000</td>\n",
       "      <td>1.000000</td>\n",
       "      <td>2019.000000</td>\n",
       "    </tr>\n",
       "    <tr>\n",
       "      <th>25%</th>\n",
       "      <td>56050.000000</td>\n",
       "      <td>62493.000000</td>\n",
       "      <td>7.000000</td>\n",
       "      <td>3.000000</td>\n",
       "      <td>2022.000000</td>\n",
       "    </tr>\n",
       "    <tr>\n",
       "      <th>50%</th>\n",
       "      <td>133480.000000</td>\n",
       "      <td>160000.000000</td>\n",
       "      <td>21.000000</td>\n",
       "      <td>6.000000</td>\n",
       "      <td>2023.000000</td>\n",
       "    </tr>\n",
       "    <tr>\n",
       "      <th>75%</th>\n",
       "      <td>178560.000000</td>\n",
       "      <td>220250.000000</td>\n",
       "      <td>32.000000</td>\n",
       "      <td>10.000000</td>\n",
       "      <td>2024.000000</td>\n",
       "    </tr>\n",
       "    <tr>\n",
       "      <th>max</th>\n",
       "      <td>463800.000000</td>\n",
       "      <td>579750.000000</td>\n",
       "      <td>559299.000000</td>\n",
       "      <td>12.000000</td>\n",
       "      <td>2025.000000</td>\n",
       "    </tr>\n",
       "  </tbody>\n",
       "</table>\n",
       "</div>"
      ],
      "text/plain": [
       "       invoice_amount_net  invoice_amount_total  customer_number  \\\n",
       "count          615.000000            615.000000       615.000000   \n",
       "mean        124309.705080         151148.936653     62766.320325   \n",
       "std          91246.479676         112522.651908    176654.613963   \n",
       "min        -325600.000000        -407000.000000         1.000000   \n",
       "25%          56050.000000          62493.000000         7.000000   \n",
       "50%         133480.000000         160000.000000        21.000000   \n",
       "75%         178560.000000         220250.000000        32.000000   \n",
       "max         463800.000000         579750.000000    559299.000000   \n",
       "\n",
       "       accounting_month  accounting_year  \n",
       "count        615.000000       615.000000  \n",
       "mean           6.466667      2022.513821  \n",
       "std            3.532784         1.507653  \n",
       "min            1.000000      2019.000000  \n",
       "25%            3.000000      2022.000000  \n",
       "50%            6.000000      2023.000000  \n",
       "75%           10.000000      2024.000000  \n",
       "max           12.000000      2025.000000  "
      ]
     },
     "execution_count": 11,
     "metadata": {},
     "output_type": "execute_result"
    }
   ],
   "source": [
    "df7.describe()"
   ]
  },
  {
   "cell_type": "code",
   "execution_count": 12,
   "id": "25655a51",
   "metadata": {},
   "outputs": [
    {
     "name": "stdout",
     "output_type": "stream",
     "text": [
      "<class 'pandas.core.frame.DataFrame'>\n",
      "RangeIndex: 748 entries, 0 to 747\n",
      "Data columns (total 5 columns):\n",
      " #   Column           Non-Null Count  Dtype  \n",
      "---  ------           --------------  -----  \n",
      " 0   invoice_payment  748 non-null    float64\n",
      " 1   categorization   748 non-null    object \n",
      " 2   invoice_date     748 non-null    object \n",
      " 3   due_date         748 non-null    object \n",
      " 4   final_pay_date   729 non-null    object \n",
      "dtypes: float64(1), object(4)\n",
      "memory usage: 29.3+ KB\n"
     ]
    }
   ],
   "source": [
    "df8.info()"
   ]
  },
  {
   "cell_type": "code",
   "execution_count": 13,
   "id": "9c88f2f2",
   "metadata": {},
   "outputs": [
    {
     "data": {
      "text/html": [
       "<div>\n",
       "<style scoped>\n",
       "    .dataframe tbody tr th:only-of-type {\n",
       "        vertical-align: middle;\n",
       "    }\n",
       "\n",
       "    .dataframe tbody tr th {\n",
       "        vertical-align: top;\n",
       "    }\n",
       "\n",
       "    .dataframe thead th {\n",
       "        text-align: right;\n",
       "    }\n",
       "</style>\n",
       "<table border=\"1\" class=\"dataframe\">\n",
       "  <thead>\n",
       "    <tr style=\"text-align: right;\">\n",
       "      <th></th>\n",
       "      <th>invoice_payment</th>\n",
       "    </tr>\n",
       "  </thead>\n",
       "  <tbody>\n",
       "    <tr>\n",
       "      <th>count</th>\n",
       "      <td>7.480000e+02</td>\n",
       "    </tr>\n",
       "    <tr>\n",
       "      <th>mean</th>\n",
       "      <td>4.195408e+04</td>\n",
       "    </tr>\n",
       "    <tr>\n",
       "      <th>std</th>\n",
       "      <td>2.110119e+05</td>\n",
       "    </tr>\n",
       "    <tr>\n",
       "      <th>min</th>\n",
       "      <td>-8.102200e+04</td>\n",
       "    </tr>\n",
       "    <tr>\n",
       "      <th>25%</th>\n",
       "      <td>8.827500e+02</td>\n",
       "    </tr>\n",
       "    <tr>\n",
       "      <th>50%</th>\n",
       "      <td>3.380500e+03</td>\n",
       "    </tr>\n",
       "    <tr>\n",
       "      <th>75%</th>\n",
       "      <td>1.578600e+04</td>\n",
       "    </tr>\n",
       "    <tr>\n",
       "      <th>max</th>\n",
       "      <td>4.000000e+06</td>\n",
       "    </tr>\n",
       "  </tbody>\n",
       "</table>\n",
       "</div>"
      ],
      "text/plain": [
       "       invoice_payment\n",
       "count     7.480000e+02\n",
       "mean      4.195408e+04\n",
       "std       2.110119e+05\n",
       "min      -8.102200e+04\n",
       "25%       8.827500e+02\n",
       "50%       3.380500e+03\n",
       "75%       1.578600e+04\n",
       "max       4.000000e+06"
      ]
     },
     "execution_count": 13,
     "metadata": {},
     "output_type": "execute_result"
    }
   ],
   "source": [
    "df8.describe()"
   ]
  },
  {
   "cell_type": "code",
   "execution_count": 22,
   "id": "31c44298",
   "metadata": {},
   "outputs": [
    {
     "data": {
      "text/html": [
       "<div>\n",
       "<style scoped>\n",
       "    .dataframe tbody tr th:only-of-type {\n",
       "        vertical-align: middle;\n",
       "    }\n",
       "\n",
       "    .dataframe tbody tr th {\n",
       "        vertical-align: top;\n",
       "    }\n",
       "\n",
       "    .dataframe thead th {\n",
       "        text-align: right;\n",
       "    }\n",
       "</style>\n",
       "<table border=\"1\" class=\"dataframe\">\n",
       "  <thead>\n",
       "    <tr style=\"text-align: right;\">\n",
       "      <th></th>\n",
       "      <th>invoice_payment</th>\n",
       "      <th>categorization</th>\n",
       "      <th>invoice_date</th>\n",
       "      <th>due_date</th>\n",
       "      <th>final_pay_date</th>\n",
       "    </tr>\n",
       "  </thead>\n",
       "  <tbody>\n",
       "    <tr>\n",
       "      <th>329</th>\n",
       "      <td>13528.00</td>\n",
       "      <td>Other</td>\n",
       "      <td>2024-05-20</td>\n",
       "      <td>2024-06-19</td>\n",
       "      <td>2024-06-19</td>\n",
       "    </tr>\n",
       "    <tr>\n",
       "      <th>88</th>\n",
       "      <td>11250.00</td>\n",
       "      <td>accounting_costs</td>\n",
       "      <td>2021-06-07</td>\n",
       "      <td>2021-06-22</td>\n",
       "      <td>2021-06-28</td>\n",
       "    </tr>\n",
       "    <tr>\n",
       "      <th>508</th>\n",
       "      <td>0.00</td>\n",
       "      <td>it_costs</td>\n",
       "      <td>2025-04-09</td>\n",
       "      <td>2025-04-09</td>\n",
       "      <td>NaN</td>\n",
       "    </tr>\n",
       "    <tr>\n",
       "      <th>102</th>\n",
       "      <td>3756.00</td>\n",
       "      <td>accounting_costs</td>\n",
       "      <td>2022-03-01</td>\n",
       "      <td>2022-03-16</td>\n",
       "      <td>2022-03-29</td>\n",
       "    </tr>\n",
       "    <tr>\n",
       "      <th>592</th>\n",
       "      <td>2288.00</td>\n",
       "      <td>accounting_costs</td>\n",
       "      <td>2021-07-01</td>\n",
       "      <td>2021-07-16</td>\n",
       "      <td>2021-07-21</td>\n",
       "    </tr>\n",
       "    <tr>\n",
       "      <th>366</th>\n",
       "      <td>1485.00</td>\n",
       "      <td>web_page_costs</td>\n",
       "      <td>2020-05-01</td>\n",
       "      <td>2020-05-01</td>\n",
       "      <td>2020-05-07</td>\n",
       "    </tr>\n",
       "    <tr>\n",
       "      <th>450</th>\n",
       "      <td>1683.00</td>\n",
       "      <td>Other</td>\n",
       "      <td>2023-11-16</td>\n",
       "      <td>2023-12-16</td>\n",
       "      <td>2023-12-18</td>\n",
       "    </tr>\n",
       "    <tr>\n",
       "      <th>682</th>\n",
       "      <td>21250.00</td>\n",
       "      <td>rental_costs</td>\n",
       "      <td>2020-05-01</td>\n",
       "      <td>2020-05-01</td>\n",
       "      <td>2020-05-11</td>\n",
       "    </tr>\n",
       "    <tr>\n",
       "      <th>739</th>\n",
       "      <td>195000.00</td>\n",
       "      <td>rental_costs</td>\n",
       "      <td>2023-03-09</td>\n",
       "      <td>2023-03-31</td>\n",
       "      <td>2023-04-03</td>\n",
       "    </tr>\n",
       "    <tr>\n",
       "      <th>8</th>\n",
       "      <td>508.25</td>\n",
       "      <td>mobile_costs</td>\n",
       "      <td>2020-07-01</td>\n",
       "      <td>2020-07-01</td>\n",
       "      <td>2020-07-01</td>\n",
       "    </tr>\n",
       "  </tbody>\n",
       "</table>\n",
       "</div>"
      ],
      "text/plain": [
       "     invoice_payment    categorization invoice_date    due_date final_pay_date\n",
       "329         13528.00             Other   2024-05-20  2024-06-19     2024-06-19\n",
       "88          11250.00  accounting_costs   2021-06-07  2021-06-22     2021-06-28\n",
       "508             0.00          it_costs   2025-04-09  2025-04-09            NaN\n",
       "102          3756.00  accounting_costs   2022-03-01  2022-03-16     2022-03-29\n",
       "592          2288.00  accounting_costs   2021-07-01  2021-07-16     2021-07-21\n",
       "366          1485.00    web_page_costs   2020-05-01  2020-05-01     2020-05-07\n",
       "450          1683.00             Other   2023-11-16  2023-12-16     2023-12-18\n",
       "682         21250.00      rental_costs   2020-05-01  2020-05-01     2020-05-11\n",
       "739        195000.00      rental_costs   2023-03-09  2023-03-31     2023-04-03\n",
       "8             508.25      mobile_costs   2020-07-01  2020-07-01     2020-07-01"
      ]
     },
     "execution_count": 22,
     "metadata": {},
     "output_type": "execute_result"
    }
   ],
   "source": [
    "df8.sample(10)"
   ]
  },
  {
   "cell_type": "markdown",
   "id": "c84be252",
   "metadata": {},
   "source": [
    "# **KPI Calculations:** \n",
    "Calculates Revenue, Costs, Utilization %, and Pipeline values "
   ]
  },
  {
   "cell_type": "code",
   "execution_count": 20,
   "id": "5af3f393",
   "metadata": {},
   "outputs": [],
   "source": [
    "# Create KPI aliases from these dfs\n",
    "# Aliases for KPI analysis (map to dfX)\n",
    "invoices          = df7   # fct__fortnox_invoices__anonymized\n",
    "supplier_invoices = df8   # fct__fortnox_supplier_invoices\n",
    "hubspot_deals     = df9   # fct__hubspot_deals__anonymized\n",
    "time_entries      = df10  # fct__time_entries\n"
   ]
  },
  {
   "cell_type": "code",
   "execution_count": 27,
   "id": "b2908af7",
   "metadata": {},
   "outputs": [],
   "source": [
    "import plotly.graph_objects as go\n",
    "import plotly.express as px\n",
    "\n",
    "# Finance KPIs\n",
    "total_revenue = invoices[\"invoice_amount_total\"].sum(skipna=True)\n",
    "total_costs   = supplier_invoices[\"invoice_payment\"].sum(skipna=True)"
   ]
  },
  {
   "cell_type": "code",
   "execution_count": 22,
   "id": "19236691",
   "metadata": {},
   "outputs": [],
   "source": [
    "# Utilization KPI\n",
    "total_worked   = time_entries[\"hours\"].sum(skipna=True)\n",
    "total_billable = time_entries[\"billable_hours\"].sum(skipna=True)\n",
    "utilization_pct = (total_billable / total_worked * 100) if total_worked > 0 else None"
   ]
  },
  {
   "cell_type": "code",
   "execution_count": 23,
   "id": "6f80f0b1",
   "metadata": {},
   "outputs": [],
   "source": [
    "# Pipeline KPIs\n",
    "pipeline_summary = (\n",
    "    hubspot_deals.groupby(\"deal_stage\")[\"deal_amount\"]\n",
    "    .sum(min_count=1)\n",
    "    .reset_index()\n",
    "    .sort_values(\"deal_amount\", ascending=False)\n",
    ")\n"
   ]
  },
  {
   "cell_type": "code",
   "execution_count": 24,
   "id": "2f2874b4",
   "metadata": {},
   "outputs": [
    {
     "name": "stdout",
     "output_type": "stream",
     "text": [
      "=== KPI Dashboard Summary ===\n",
      "Total Revenue (Fortnox): 92,956,596.04 SEK\n",
      "Total Costs (Fortnox): 31,381,655.43 SEK\n",
      "Utilization % (Qbis): 56.96%\n",
      "\n",
      "Pipeline by Stage (Hubspot):\n",
      "       deal_stage  deal_amount\n",
      "2      closedlost  106954002.0\n",
      "3       closedwon   54715400.0\n",
      "0         1102499    2190000.0\n",
      "1        12008384     900500.0\n",
      "4  qualifiedtobuy     700000.0\n"
     ]
    }
   ],
   "source": [
    "\n",
    "# --- Print KPI Results ---\n",
    "print(\"=== KPI Dashboard Summary ===\")\n",
    "print(f\"Total Revenue (Fortnox): {total_revenue:,.2f} SEK\")\n",
    "print(f\"Total Costs (Fortnox): {total_costs:,.2f} SEK\")\n",
    "print(f\"Utilization % (Qbis): {utilization_pct:.2f}%\")\n",
    "print(\"\\nPipeline by Stage (Hubspot):\")\n",
    "print(pipeline_summary)\n"
   ]
  },
  {
   "cell_type": "markdown",
   "id": "21306131",
   "metadata": {},
   "source": [
    "## **KPI Cards Visualization**\n"
   ]
  },
  {
   "cell_type": "code",
   "execution_count": null,
   "id": "20bb7060",
   "metadata": {},
   "outputs": [
    {
     "data": {
      "application/vnd.plotly.v1+json": {
       "config": {
        "plotlyServerURL": "https://plot.ly"
       },
       "data": [
        {
         "domain": {
          "column": 0,
          "row": 0
         },
         "mode": "number",
         "title": {
          "text": "Revenue (M SEK)"
         },
         "type": "indicator",
         "value": 92.95659604160001
        },
        {
         "domain": {
          "column": 1,
          "row": 0
         },
         "mode": "number",
         "number": {
          "font": {
           "color": "red"
          }
         },
         "title": {
          "text": "Costs (M SEK)"
         },
         "type": "indicator",
         "value": 31.381655427815996
        },
        {
         "domain": {
          "column": 2,
          "row": 0
         },
         "mode": "number",
         "number": {
          "font": {
           "color": "green"
          },
          "suffix": "%"
         },
         "title": {
          "text": "Utilization %"
         },
         "type": "indicator",
         "value": 56.961693769522256
        }
       ],
       "layout": {
        "grid": {
         "columns": 3,
         "pattern": "independent",
         "rows": 1
        },
        "template": {
         "data": {
          "bar": [
           {
            "error_x": {
             "color": "#2a3f5f"
            },
            "error_y": {
             "color": "#2a3f5f"
            },
            "marker": {
             "line": {
              "color": "#E5ECF6",
              "width": 0.5
             },
             "pattern": {
              "fillmode": "overlay",
              "size": 10,
              "solidity": 0.2
             }
            },
            "type": "bar"
           }
          ],
          "barpolar": [
           {
            "marker": {
             "line": {
              "color": "#E5ECF6",
              "width": 0.5
             },
             "pattern": {
              "fillmode": "overlay",
              "size": 10,
              "solidity": 0.2
             }
            },
            "type": "barpolar"
           }
          ],
          "carpet": [
           {
            "aaxis": {
             "endlinecolor": "#2a3f5f",
             "gridcolor": "white",
             "linecolor": "white",
             "minorgridcolor": "white",
             "startlinecolor": "#2a3f5f"
            },
            "baxis": {
             "endlinecolor": "#2a3f5f",
             "gridcolor": "white",
             "linecolor": "white",
             "minorgridcolor": "white",
             "startlinecolor": "#2a3f5f"
            },
            "type": "carpet"
           }
          ],
          "choropleth": [
           {
            "colorbar": {
             "outlinewidth": 0,
             "ticks": ""
            },
            "type": "choropleth"
           }
          ],
          "contour": [
           {
            "colorbar": {
             "outlinewidth": 0,
             "ticks": ""
            },
            "colorscale": [
             [
              0,
              "#0d0887"
             ],
             [
              0.1111111111111111,
              "#46039f"
             ],
             [
              0.2222222222222222,
              "#7201a8"
             ],
             [
              0.3333333333333333,
              "#9c179e"
             ],
             [
              0.4444444444444444,
              "#bd3786"
             ],
             [
              0.5555555555555556,
              "#d8576b"
             ],
             [
              0.6666666666666666,
              "#ed7953"
             ],
             [
              0.7777777777777778,
              "#fb9f3a"
             ],
             [
              0.8888888888888888,
              "#fdca26"
             ],
             [
              1,
              "#f0f921"
             ]
            ],
            "type": "contour"
           }
          ],
          "contourcarpet": [
           {
            "colorbar": {
             "outlinewidth": 0,
             "ticks": ""
            },
            "type": "contourcarpet"
           }
          ],
          "heatmap": [
           {
            "colorbar": {
             "outlinewidth": 0,
             "ticks": ""
            },
            "colorscale": [
             [
              0,
              "#0d0887"
             ],
             [
              0.1111111111111111,
              "#46039f"
             ],
             [
              0.2222222222222222,
              "#7201a8"
             ],
             [
              0.3333333333333333,
              "#9c179e"
             ],
             [
              0.4444444444444444,
              "#bd3786"
             ],
             [
              0.5555555555555556,
              "#d8576b"
             ],
             [
              0.6666666666666666,
              "#ed7953"
             ],
             [
              0.7777777777777778,
              "#fb9f3a"
             ],
             [
              0.8888888888888888,
              "#fdca26"
             ],
             [
              1,
              "#f0f921"
             ]
            ],
            "type": "heatmap"
           }
          ],
          "heatmapgl": [
           {
            "colorbar": {
             "outlinewidth": 0,
             "ticks": ""
            },
            "colorscale": [
             [
              0,
              "#0d0887"
             ],
             [
              0.1111111111111111,
              "#46039f"
             ],
             [
              0.2222222222222222,
              "#7201a8"
             ],
             [
              0.3333333333333333,
              "#9c179e"
             ],
             [
              0.4444444444444444,
              "#bd3786"
             ],
             [
              0.5555555555555556,
              "#d8576b"
             ],
             [
              0.6666666666666666,
              "#ed7953"
             ],
             [
              0.7777777777777778,
              "#fb9f3a"
             ],
             [
              0.8888888888888888,
              "#fdca26"
             ],
             [
              1,
              "#f0f921"
             ]
            ],
            "type": "heatmapgl"
           }
          ],
          "histogram": [
           {
            "marker": {
             "pattern": {
              "fillmode": "overlay",
              "size": 10,
              "solidity": 0.2
             }
            },
            "type": "histogram"
           }
          ],
          "histogram2d": [
           {
            "colorbar": {
             "outlinewidth": 0,
             "ticks": ""
            },
            "colorscale": [
             [
              0,
              "#0d0887"
             ],
             [
              0.1111111111111111,
              "#46039f"
             ],
             [
              0.2222222222222222,
              "#7201a8"
             ],
             [
              0.3333333333333333,
              "#9c179e"
             ],
             [
              0.4444444444444444,
              "#bd3786"
             ],
             [
              0.5555555555555556,
              "#d8576b"
             ],
             [
              0.6666666666666666,
              "#ed7953"
             ],
             [
              0.7777777777777778,
              "#fb9f3a"
             ],
             [
              0.8888888888888888,
              "#fdca26"
             ],
             [
              1,
              "#f0f921"
             ]
            ],
            "type": "histogram2d"
           }
          ],
          "histogram2dcontour": [
           {
            "colorbar": {
             "outlinewidth": 0,
             "ticks": ""
            },
            "colorscale": [
             [
              0,
              "#0d0887"
             ],
             [
              0.1111111111111111,
              "#46039f"
             ],
             [
              0.2222222222222222,
              "#7201a8"
             ],
             [
              0.3333333333333333,
              "#9c179e"
             ],
             [
              0.4444444444444444,
              "#bd3786"
             ],
             [
              0.5555555555555556,
              "#d8576b"
             ],
             [
              0.6666666666666666,
              "#ed7953"
             ],
             [
              0.7777777777777778,
              "#fb9f3a"
             ],
             [
              0.8888888888888888,
              "#fdca26"
             ],
             [
              1,
              "#f0f921"
             ]
            ],
            "type": "histogram2dcontour"
           }
          ],
          "mesh3d": [
           {
            "colorbar": {
             "outlinewidth": 0,
             "ticks": ""
            },
            "type": "mesh3d"
           }
          ],
          "parcoords": [
           {
            "line": {
             "colorbar": {
              "outlinewidth": 0,
              "ticks": ""
             }
            },
            "type": "parcoords"
           }
          ],
          "pie": [
           {
            "automargin": true,
            "type": "pie"
           }
          ],
          "scatter": [
           {
            "fillpattern": {
             "fillmode": "overlay",
             "size": 10,
             "solidity": 0.2
            },
            "type": "scatter"
           }
          ],
          "scatter3d": [
           {
            "line": {
             "colorbar": {
              "outlinewidth": 0,
              "ticks": ""
             }
            },
            "marker": {
             "colorbar": {
              "outlinewidth": 0,
              "ticks": ""
             }
            },
            "type": "scatter3d"
           }
          ],
          "scattercarpet": [
           {
            "marker": {
             "colorbar": {
              "outlinewidth": 0,
              "ticks": ""
             }
            },
            "type": "scattercarpet"
           }
          ],
          "scattergeo": [
           {
            "marker": {
             "colorbar": {
              "outlinewidth": 0,
              "ticks": ""
             }
            },
            "type": "scattergeo"
           }
          ],
          "scattergl": [
           {
            "marker": {
             "colorbar": {
              "outlinewidth": 0,
              "ticks": ""
             }
            },
            "type": "scattergl"
           }
          ],
          "scattermapbox": [
           {
            "marker": {
             "colorbar": {
              "outlinewidth": 0,
              "ticks": ""
             }
            },
            "type": "scattermapbox"
           }
          ],
          "scatterpolar": [
           {
            "marker": {
             "colorbar": {
              "outlinewidth": 0,
              "ticks": ""
             }
            },
            "type": "scatterpolar"
           }
          ],
          "scatterpolargl": [
           {
            "marker": {
             "colorbar": {
              "outlinewidth": 0,
              "ticks": ""
             }
            },
            "type": "scatterpolargl"
           }
          ],
          "scatterternary": [
           {
            "marker": {
             "colorbar": {
              "outlinewidth": 0,
              "ticks": ""
             }
            },
            "type": "scatterternary"
           }
          ],
          "surface": [
           {
            "colorbar": {
             "outlinewidth": 0,
             "ticks": ""
            },
            "colorscale": [
             [
              0,
              "#0d0887"
             ],
             [
              0.1111111111111111,
              "#46039f"
             ],
             [
              0.2222222222222222,
              "#7201a8"
             ],
             [
              0.3333333333333333,
              "#9c179e"
             ],
             [
              0.4444444444444444,
              "#bd3786"
             ],
             [
              0.5555555555555556,
              "#d8576b"
             ],
             [
              0.6666666666666666,
              "#ed7953"
             ],
             [
              0.7777777777777778,
              "#fb9f3a"
             ],
             [
              0.8888888888888888,
              "#fdca26"
             ],
             [
              1,
              "#f0f921"
             ]
            ],
            "type": "surface"
           }
          ],
          "table": [
           {
            "cells": {
             "fill": {
              "color": "#EBF0F8"
             },
             "line": {
              "color": "white"
             }
            },
            "header": {
             "fill": {
              "color": "#C8D4E3"
             },
             "line": {
              "color": "white"
             }
            },
            "type": "table"
           }
          ]
         },
         "layout": {
          "annotationdefaults": {
           "arrowcolor": "#2a3f5f",
           "arrowhead": 0,
           "arrowwidth": 1
          },
          "autotypenumbers": "strict",
          "coloraxis": {
           "colorbar": {
            "outlinewidth": 0,
            "ticks": ""
           }
          },
          "colorscale": {
           "diverging": [
            [
             0,
             "#8e0152"
            ],
            [
             0.1,
             "#c51b7d"
            ],
            [
             0.2,
             "#de77ae"
            ],
            [
             0.3,
             "#f1b6da"
            ],
            [
             0.4,
             "#fde0ef"
            ],
            [
             0.5,
             "#f7f7f7"
            ],
            [
             0.6,
             "#e6f5d0"
            ],
            [
             0.7,
             "#b8e186"
            ],
            [
             0.8,
             "#7fbc41"
            ],
            [
             0.9,
             "#4d9221"
            ],
            [
             1,
             "#276419"
            ]
           ],
           "sequential": [
            [
             0,
             "#0d0887"
            ],
            [
             0.1111111111111111,
             "#46039f"
            ],
            [
             0.2222222222222222,
             "#7201a8"
            ],
            [
             0.3333333333333333,
             "#9c179e"
            ],
            [
             0.4444444444444444,
             "#bd3786"
            ],
            [
             0.5555555555555556,
             "#d8576b"
            ],
            [
             0.6666666666666666,
             "#ed7953"
            ],
            [
             0.7777777777777778,
             "#fb9f3a"
            ],
            [
             0.8888888888888888,
             "#fdca26"
            ],
            [
             1,
             "#f0f921"
            ]
           ],
           "sequentialminus": [
            [
             0,
             "#0d0887"
            ],
            [
             0.1111111111111111,
             "#46039f"
            ],
            [
             0.2222222222222222,
             "#7201a8"
            ],
            [
             0.3333333333333333,
             "#9c179e"
            ],
            [
             0.4444444444444444,
             "#bd3786"
            ],
            [
             0.5555555555555556,
             "#d8576b"
            ],
            [
             0.6666666666666666,
             "#ed7953"
            ],
            [
             0.7777777777777778,
             "#fb9f3a"
            ],
            [
             0.8888888888888888,
             "#fdca26"
            ],
            [
             1,
             "#f0f921"
            ]
           ]
          },
          "colorway": [
           "#636efa",
           "#EF553B",
           "#00cc96",
           "#ab63fa",
           "#FFA15A",
           "#19d3f3",
           "#FF6692",
           "#B6E880",
           "#FF97FF",
           "#FECB52"
          ],
          "font": {
           "color": "#2a3f5f"
          },
          "geo": {
           "bgcolor": "white",
           "lakecolor": "white",
           "landcolor": "#E5ECF6",
           "showlakes": true,
           "showland": true,
           "subunitcolor": "white"
          },
          "hoverlabel": {
           "align": "left"
          },
          "hovermode": "closest",
          "mapbox": {
           "style": "light"
          },
          "paper_bgcolor": "white",
          "plot_bgcolor": "#E5ECF6",
          "polar": {
           "angularaxis": {
            "gridcolor": "white",
            "linecolor": "white",
            "ticks": ""
           },
           "bgcolor": "#E5ECF6",
           "radialaxis": {
            "gridcolor": "white",
            "linecolor": "white",
            "ticks": ""
           }
          },
          "scene": {
           "xaxis": {
            "backgroundcolor": "#E5ECF6",
            "gridcolor": "white",
            "gridwidth": 2,
            "linecolor": "white",
            "showbackground": true,
            "ticks": "",
            "zerolinecolor": "white"
           },
           "yaxis": {
            "backgroundcolor": "#E5ECF6",
            "gridcolor": "white",
            "gridwidth": 2,
            "linecolor": "white",
            "showbackground": true,
            "ticks": "",
            "zerolinecolor": "white"
           },
           "zaxis": {
            "backgroundcolor": "#E5ECF6",
            "gridcolor": "white",
            "gridwidth": 2,
            "linecolor": "white",
            "showbackground": true,
            "ticks": "",
            "zerolinecolor": "white"
           }
          },
          "shapedefaults": {
           "line": {
            "color": "#2a3f5f"
           }
          },
          "ternary": {
           "aaxis": {
            "gridcolor": "white",
            "linecolor": "white",
            "ticks": ""
           },
           "baxis": {
            "gridcolor": "white",
            "linecolor": "white",
            "ticks": ""
           },
           "bgcolor": "#E5ECF6",
           "caxis": {
            "gridcolor": "white",
            "linecolor": "white",
            "ticks": ""
           }
          },
          "title": {
           "x": 0.05
          },
          "xaxis": {
           "automargin": true,
           "gridcolor": "white",
           "linecolor": "white",
           "ticks": "",
           "title": {
            "standoff": 15
           },
           "zerolinecolor": "white",
           "zerolinewidth": 2
          },
          "yaxis": {
           "automargin": true,
           "gridcolor": "white",
           "linecolor": "white",
           "ticks": "",
           "title": {
            "standoff": 15
           },
           "zerolinecolor": "white",
           "zerolinewidth": 2
          }
         }
        },
        "title": {
         "text": "KPI Cards"
        }
       }
      }
     },
     "metadata": {},
     "output_type": "display_data"
    }
   ],
   "source": [
    "#  KPI Cards \n",
    "fig = go.Figure()\n",
    "\n",
    "fig.add_trace(go.Indicator(\n",
    "    mode=\"number\",\n",
    "    value=total_revenue/1e6,\n",
    "    title={\"text\": \"Revenue (M SEK)\"},\n",
    "    domain={'row': 0, 'column': 0}\n",
    "))\n",
    "\n",
    "\n",
    "fig.add_trace(go.Indicator(\n",
    "    mode=\"number\",\n",
    "    value=total_costs/1e6,\n",
    "    title={\"text\": \"Costs (M SEK)\"},\n",
    "    number={\"font\": {\"color\": \"red\"}},\n",
    "    domain={'row': 0, 'column': 1}\n",
    "))\n",
    "\n",
    "fig.add_trace(go.Indicator(\n",
    "    mode=\"number\",\n",
    "    value=utilization_pct,\n",
    "    title={\"text\": \"Utilization %\"},\n",
    "    number={\"suffix\": \"%\", \"font\": {\"color\": \"green\"}},\n",
    "    domain={'row': 0, 'column': 2}\n",
    "))\n",
    "\n",
    "fig.update_layout(\n",
    "    grid={'rows': 1, 'columns': 3, 'pattern': \"independent\"},\n",
    "    title=\"KPI Cards\"\n",
    ")\n",
    "fig.show()\n",
    "\n",
    "\n"
   ]
  },
  {
   "cell_type": "code",
   "execution_count": 34,
   "id": "be50ae94",
   "metadata": {},
   "outputs": [
    {
     "data": {
      "application/vnd.plotly.v1+json": {
       "config": {
        "plotlyServerURL": "https://plot.ly"
       },
       "data": [
        {
         "hovertemplate": "accounting_month=%{x}<br>invoice_amount_total=%{y}<extra></extra>",
         "legendgroup": "",
         "line": {
          "color": "#636efa",
          "dash": "solid"
         },
         "marker": {
          "symbol": "circle"
         },
         "mode": "lines+markers",
         "name": "",
         "orientation": "v",
         "showlegend": false,
         "type": "scatter",
         "x": [
          1,
          2,
          3,
          4,
          5,
          6,
          7,
          8,
          9,
          10,
          11,
          12
         ],
         "xaxis": "x",
         "y": [
          8986342.3285,
          7636236.99,
          4148817.7091,
          6653098.4721,
          7805106.4427000005,
          8000770.3498,
          9099208.101,
          7206176.0671999995,
          7055818.4391,
          7322105.5956,
          10016763.458,
          9026152.0885
         ],
         "yaxis": "y"
        }
       ],
       "layout": {
        "legend": {
         "tracegroupgap": 0
        },
        "template": {
         "data": {
          "bar": [
           {
            "error_x": {
             "color": "#2a3f5f"
            },
            "error_y": {
             "color": "#2a3f5f"
            },
            "marker": {
             "line": {
              "color": "#E5ECF6",
              "width": 0.5
             },
             "pattern": {
              "fillmode": "overlay",
              "size": 10,
              "solidity": 0.2
             }
            },
            "type": "bar"
           }
          ],
          "barpolar": [
           {
            "marker": {
             "line": {
              "color": "#E5ECF6",
              "width": 0.5
             },
             "pattern": {
              "fillmode": "overlay",
              "size": 10,
              "solidity": 0.2
             }
            },
            "type": "barpolar"
           }
          ],
          "carpet": [
           {
            "aaxis": {
             "endlinecolor": "#2a3f5f",
             "gridcolor": "white",
             "linecolor": "white",
             "minorgridcolor": "white",
             "startlinecolor": "#2a3f5f"
            },
            "baxis": {
             "endlinecolor": "#2a3f5f",
             "gridcolor": "white",
             "linecolor": "white",
             "minorgridcolor": "white",
             "startlinecolor": "#2a3f5f"
            },
            "type": "carpet"
           }
          ],
          "choropleth": [
           {
            "colorbar": {
             "outlinewidth": 0,
             "ticks": ""
            },
            "type": "choropleth"
           }
          ],
          "contour": [
           {
            "colorbar": {
             "outlinewidth": 0,
             "ticks": ""
            },
            "colorscale": [
             [
              0,
              "#0d0887"
             ],
             [
              0.1111111111111111,
              "#46039f"
             ],
             [
              0.2222222222222222,
              "#7201a8"
             ],
             [
              0.3333333333333333,
              "#9c179e"
             ],
             [
              0.4444444444444444,
              "#bd3786"
             ],
             [
              0.5555555555555556,
              "#d8576b"
             ],
             [
              0.6666666666666666,
              "#ed7953"
             ],
             [
              0.7777777777777778,
              "#fb9f3a"
             ],
             [
              0.8888888888888888,
              "#fdca26"
             ],
             [
              1,
              "#f0f921"
             ]
            ],
            "type": "contour"
           }
          ],
          "contourcarpet": [
           {
            "colorbar": {
             "outlinewidth": 0,
             "ticks": ""
            },
            "type": "contourcarpet"
           }
          ],
          "heatmap": [
           {
            "colorbar": {
             "outlinewidth": 0,
             "ticks": ""
            },
            "colorscale": [
             [
              0,
              "#0d0887"
             ],
             [
              0.1111111111111111,
              "#46039f"
             ],
             [
              0.2222222222222222,
              "#7201a8"
             ],
             [
              0.3333333333333333,
              "#9c179e"
             ],
             [
              0.4444444444444444,
              "#bd3786"
             ],
             [
              0.5555555555555556,
              "#d8576b"
             ],
             [
              0.6666666666666666,
              "#ed7953"
             ],
             [
              0.7777777777777778,
              "#fb9f3a"
             ],
             [
              0.8888888888888888,
              "#fdca26"
             ],
             [
              1,
              "#f0f921"
             ]
            ],
            "type": "heatmap"
           }
          ],
          "heatmapgl": [
           {
            "colorbar": {
             "outlinewidth": 0,
             "ticks": ""
            },
            "colorscale": [
             [
              0,
              "#0d0887"
             ],
             [
              0.1111111111111111,
              "#46039f"
             ],
             [
              0.2222222222222222,
              "#7201a8"
             ],
             [
              0.3333333333333333,
              "#9c179e"
             ],
             [
              0.4444444444444444,
              "#bd3786"
             ],
             [
              0.5555555555555556,
              "#d8576b"
             ],
             [
              0.6666666666666666,
              "#ed7953"
             ],
             [
              0.7777777777777778,
              "#fb9f3a"
             ],
             [
              0.8888888888888888,
              "#fdca26"
             ],
             [
              1,
              "#f0f921"
             ]
            ],
            "type": "heatmapgl"
           }
          ],
          "histogram": [
           {
            "marker": {
             "pattern": {
              "fillmode": "overlay",
              "size": 10,
              "solidity": 0.2
             }
            },
            "type": "histogram"
           }
          ],
          "histogram2d": [
           {
            "colorbar": {
             "outlinewidth": 0,
             "ticks": ""
            },
            "colorscale": [
             [
              0,
              "#0d0887"
             ],
             [
              0.1111111111111111,
              "#46039f"
             ],
             [
              0.2222222222222222,
              "#7201a8"
             ],
             [
              0.3333333333333333,
              "#9c179e"
             ],
             [
              0.4444444444444444,
              "#bd3786"
             ],
             [
              0.5555555555555556,
              "#d8576b"
             ],
             [
              0.6666666666666666,
              "#ed7953"
             ],
             [
              0.7777777777777778,
              "#fb9f3a"
             ],
             [
              0.8888888888888888,
              "#fdca26"
             ],
             [
              1,
              "#f0f921"
             ]
            ],
            "type": "histogram2d"
           }
          ],
          "histogram2dcontour": [
           {
            "colorbar": {
             "outlinewidth": 0,
             "ticks": ""
            },
            "colorscale": [
             [
              0,
              "#0d0887"
             ],
             [
              0.1111111111111111,
              "#46039f"
             ],
             [
              0.2222222222222222,
              "#7201a8"
             ],
             [
              0.3333333333333333,
              "#9c179e"
             ],
             [
              0.4444444444444444,
              "#bd3786"
             ],
             [
              0.5555555555555556,
              "#d8576b"
             ],
             [
              0.6666666666666666,
              "#ed7953"
             ],
             [
              0.7777777777777778,
              "#fb9f3a"
             ],
             [
              0.8888888888888888,
              "#fdca26"
             ],
             [
              1,
              "#f0f921"
             ]
            ],
            "type": "histogram2dcontour"
           }
          ],
          "mesh3d": [
           {
            "colorbar": {
             "outlinewidth": 0,
             "ticks": ""
            },
            "type": "mesh3d"
           }
          ],
          "parcoords": [
           {
            "line": {
             "colorbar": {
              "outlinewidth": 0,
              "ticks": ""
             }
            },
            "type": "parcoords"
           }
          ],
          "pie": [
           {
            "automargin": true,
            "type": "pie"
           }
          ],
          "scatter": [
           {
            "fillpattern": {
             "fillmode": "overlay",
             "size": 10,
             "solidity": 0.2
            },
            "type": "scatter"
           }
          ],
          "scatter3d": [
           {
            "line": {
             "colorbar": {
              "outlinewidth": 0,
              "ticks": ""
             }
            },
            "marker": {
             "colorbar": {
              "outlinewidth": 0,
              "ticks": ""
             }
            },
            "type": "scatter3d"
           }
          ],
          "scattercarpet": [
           {
            "marker": {
             "colorbar": {
              "outlinewidth": 0,
              "ticks": ""
             }
            },
            "type": "scattercarpet"
           }
          ],
          "scattergeo": [
           {
            "marker": {
             "colorbar": {
              "outlinewidth": 0,
              "ticks": ""
             }
            },
            "type": "scattergeo"
           }
          ],
          "scattergl": [
           {
            "marker": {
             "colorbar": {
              "outlinewidth": 0,
              "ticks": ""
             }
            },
            "type": "scattergl"
           }
          ],
          "scattermapbox": [
           {
            "marker": {
             "colorbar": {
              "outlinewidth": 0,
              "ticks": ""
             }
            },
            "type": "scattermapbox"
           }
          ],
          "scatterpolar": [
           {
            "marker": {
             "colorbar": {
              "outlinewidth": 0,
              "ticks": ""
             }
            },
            "type": "scatterpolar"
           }
          ],
          "scatterpolargl": [
           {
            "marker": {
             "colorbar": {
              "outlinewidth": 0,
              "ticks": ""
             }
            },
            "type": "scatterpolargl"
           }
          ],
          "scatterternary": [
           {
            "marker": {
             "colorbar": {
              "outlinewidth": 0,
              "ticks": ""
             }
            },
            "type": "scatterternary"
           }
          ],
          "surface": [
           {
            "colorbar": {
             "outlinewidth": 0,
             "ticks": ""
            },
            "colorscale": [
             [
              0,
              "#0d0887"
             ],
             [
              0.1111111111111111,
              "#46039f"
             ],
             [
              0.2222222222222222,
              "#7201a8"
             ],
             [
              0.3333333333333333,
              "#9c179e"
             ],
             [
              0.4444444444444444,
              "#bd3786"
             ],
             [
              0.5555555555555556,
              "#d8576b"
             ],
             [
              0.6666666666666666,
              "#ed7953"
             ],
             [
              0.7777777777777778,
              "#fb9f3a"
             ],
             [
              0.8888888888888888,
              "#fdca26"
             ],
             [
              1,
              "#f0f921"
             ]
            ],
            "type": "surface"
           }
          ],
          "table": [
           {
            "cells": {
             "fill": {
              "color": "#EBF0F8"
             },
             "line": {
              "color": "white"
             }
            },
            "header": {
             "fill": {
              "color": "#C8D4E3"
             },
             "line": {
              "color": "white"
             }
            },
            "type": "table"
           }
          ]
         },
         "layout": {
          "annotationdefaults": {
           "arrowcolor": "#2a3f5f",
           "arrowhead": 0,
           "arrowwidth": 1
          },
          "autotypenumbers": "strict",
          "coloraxis": {
           "colorbar": {
            "outlinewidth": 0,
            "ticks": ""
           }
          },
          "colorscale": {
           "diverging": [
            [
             0,
             "#8e0152"
            ],
            [
             0.1,
             "#c51b7d"
            ],
            [
             0.2,
             "#de77ae"
            ],
            [
             0.3,
             "#f1b6da"
            ],
            [
             0.4,
             "#fde0ef"
            ],
            [
             0.5,
             "#f7f7f7"
            ],
            [
             0.6,
             "#e6f5d0"
            ],
            [
             0.7,
             "#b8e186"
            ],
            [
             0.8,
             "#7fbc41"
            ],
            [
             0.9,
             "#4d9221"
            ],
            [
             1,
             "#276419"
            ]
           ],
           "sequential": [
            [
             0,
             "#0d0887"
            ],
            [
             0.1111111111111111,
             "#46039f"
            ],
            [
             0.2222222222222222,
             "#7201a8"
            ],
            [
             0.3333333333333333,
             "#9c179e"
            ],
            [
             0.4444444444444444,
             "#bd3786"
            ],
            [
             0.5555555555555556,
             "#d8576b"
            ],
            [
             0.6666666666666666,
             "#ed7953"
            ],
            [
             0.7777777777777778,
             "#fb9f3a"
            ],
            [
             0.8888888888888888,
             "#fdca26"
            ],
            [
             1,
             "#f0f921"
            ]
           ],
           "sequentialminus": [
            [
             0,
             "#0d0887"
            ],
            [
             0.1111111111111111,
             "#46039f"
            ],
            [
             0.2222222222222222,
             "#7201a8"
            ],
            [
             0.3333333333333333,
             "#9c179e"
            ],
            [
             0.4444444444444444,
             "#bd3786"
            ],
            [
             0.5555555555555556,
             "#d8576b"
            ],
            [
             0.6666666666666666,
             "#ed7953"
            ],
            [
             0.7777777777777778,
             "#fb9f3a"
            ],
            [
             0.8888888888888888,
             "#fdca26"
            ],
            [
             1,
             "#f0f921"
            ]
           ]
          },
          "colorway": [
           "#636efa",
           "#EF553B",
           "#00cc96",
           "#ab63fa",
           "#FFA15A",
           "#19d3f3",
           "#FF6692",
           "#B6E880",
           "#FF97FF",
           "#FECB52"
          ],
          "font": {
           "color": "#2a3f5f"
          },
          "geo": {
           "bgcolor": "white",
           "lakecolor": "white",
           "landcolor": "#E5ECF6",
           "showlakes": true,
           "showland": true,
           "subunitcolor": "white"
          },
          "hoverlabel": {
           "align": "left"
          },
          "hovermode": "closest",
          "mapbox": {
           "style": "light"
          },
          "paper_bgcolor": "white",
          "plot_bgcolor": "#E5ECF6",
          "polar": {
           "angularaxis": {
            "gridcolor": "white",
            "linecolor": "white",
            "ticks": ""
           },
           "bgcolor": "#E5ECF6",
           "radialaxis": {
            "gridcolor": "white",
            "linecolor": "white",
            "ticks": ""
           }
          },
          "scene": {
           "xaxis": {
            "backgroundcolor": "#E5ECF6",
            "gridcolor": "white",
            "gridwidth": 2,
            "linecolor": "white",
            "showbackground": true,
            "ticks": "",
            "zerolinecolor": "white"
           },
           "yaxis": {
            "backgroundcolor": "#E5ECF6",
            "gridcolor": "white",
            "gridwidth": 2,
            "linecolor": "white",
            "showbackground": true,
            "ticks": "",
            "zerolinecolor": "white"
           },
           "zaxis": {
            "backgroundcolor": "#E5ECF6",
            "gridcolor": "white",
            "gridwidth": 2,
            "linecolor": "white",
            "showbackground": true,
            "ticks": "",
            "zerolinecolor": "white"
           }
          },
          "shapedefaults": {
           "line": {
            "color": "#2a3f5f"
           }
          },
          "ternary": {
           "aaxis": {
            "gridcolor": "white",
            "linecolor": "white",
            "ticks": ""
           },
           "baxis": {
            "gridcolor": "white",
            "linecolor": "white",
            "ticks": ""
           },
           "bgcolor": "#E5ECF6",
           "caxis": {
            "gridcolor": "white",
            "linecolor": "white",
            "ticks": ""
           }
          },
          "title": {
           "x": 0.05
          },
          "xaxis": {
           "automargin": true,
           "gridcolor": "white",
           "linecolor": "white",
           "ticks": "",
           "title": {
            "standoff": 15
           },
           "zerolinecolor": "white",
           "zerolinewidth": 2
          },
          "yaxis": {
           "automargin": true,
           "gridcolor": "white",
           "linecolor": "white",
           "ticks": "",
           "title": {
            "standoff": 15
           },
           "zerolinecolor": "white",
           "zerolinewidth": 2
          }
         }
        },
        "title": {
         "text": "Revenue Trend by Month (Fortnox)"
        },
        "xaxis": {
         "anchor": "y",
         "domain": [
          0,
          1
         ],
         "title": {
          "text": "Month"
         }
        },
        "yaxis": {
         "anchor": "x",
         "domain": [
          0,
          1
         ],
         "title": {
          "text": "Revenue (SEK)"
         }
        }
       }
      }
     },
     "metadata": {},
     "output_type": "display_data"
    }
   ],
   "source": [
    "# Finance Trend \n",
    "if \"accounting_month\" in invoices.columns:\n",
    "    finance_trend = (\n",
    "        invoices.groupby(\"accounting_month\")[\"invoice_amount_total\"]\n",
    "        .sum()\n",
    "        .reset_index()\n",
    "    )\n",
    "    fig = px.line(\n",
    "        finance_trend,\n",
    "        x=\"accounting_month\", y=\"invoice_amount_total\",\n",
    "        markers=True,\n",
    "        title=\"Revenue Trend by Month (Fortnox)\"\n",
    "    )\n",
    "    fig.update_layout(yaxis_title=\"Revenue (SEK)\", xaxis_title=\"Month\")\n",
    "    fig.show()\n"
   ]
  },
  {
   "cell_type": "code",
   "execution_count": 33,
   "id": "f006044e",
   "metadata": {},
   "outputs": [
    {
     "data": {
      "application/vnd.plotly.v1+json": {
       "config": {
        "plotlyServerURL": "https://plot.ly"
       },
       "data": [
        {
         "alignmentgroup": "True",
         "hovertemplate": "Deal Stage=%{x}<br>Value (SEK)=%{y}<extra></extra>",
         "legendgroup": "",
         "marker": {
          "color": "#636efa",
          "pattern": {
           "shape": ""
          }
         },
         "name": "",
         "offsetgroup": "",
         "orientation": "v",
         "showlegend": false,
         "textposition": "auto",
         "type": "bar",
         "x": [
          "closedlost",
          "closedwon",
          "1102499",
          "12008384",
          "qualifiedtobuy"
         ],
         "xaxis": "x",
         "y": [
          106954002,
          54715400,
          2190000,
          900500,
          700000
         ],
         "yaxis": "y"
        }
       ],
       "layout": {
        "barmode": "relative",
        "legend": {
         "tracegroupgap": 0
        },
        "template": {
         "data": {
          "bar": [
           {
            "error_x": {
             "color": "#2a3f5f"
            },
            "error_y": {
             "color": "#2a3f5f"
            },
            "marker": {
             "line": {
              "color": "#E5ECF6",
              "width": 0.5
             },
             "pattern": {
              "fillmode": "overlay",
              "size": 10,
              "solidity": 0.2
             }
            },
            "type": "bar"
           }
          ],
          "barpolar": [
           {
            "marker": {
             "line": {
              "color": "#E5ECF6",
              "width": 0.5
             },
             "pattern": {
              "fillmode": "overlay",
              "size": 10,
              "solidity": 0.2
             }
            },
            "type": "barpolar"
           }
          ],
          "carpet": [
           {
            "aaxis": {
             "endlinecolor": "#2a3f5f",
             "gridcolor": "white",
             "linecolor": "white",
             "minorgridcolor": "white",
             "startlinecolor": "#2a3f5f"
            },
            "baxis": {
             "endlinecolor": "#2a3f5f",
             "gridcolor": "white",
             "linecolor": "white",
             "minorgridcolor": "white",
             "startlinecolor": "#2a3f5f"
            },
            "type": "carpet"
           }
          ],
          "choropleth": [
           {
            "colorbar": {
             "outlinewidth": 0,
             "ticks": ""
            },
            "type": "choropleth"
           }
          ],
          "contour": [
           {
            "colorbar": {
             "outlinewidth": 0,
             "ticks": ""
            },
            "colorscale": [
             [
              0,
              "#0d0887"
             ],
             [
              0.1111111111111111,
              "#46039f"
             ],
             [
              0.2222222222222222,
              "#7201a8"
             ],
             [
              0.3333333333333333,
              "#9c179e"
             ],
             [
              0.4444444444444444,
              "#bd3786"
             ],
             [
              0.5555555555555556,
              "#d8576b"
             ],
             [
              0.6666666666666666,
              "#ed7953"
             ],
             [
              0.7777777777777778,
              "#fb9f3a"
             ],
             [
              0.8888888888888888,
              "#fdca26"
             ],
             [
              1,
              "#f0f921"
             ]
            ],
            "type": "contour"
           }
          ],
          "contourcarpet": [
           {
            "colorbar": {
             "outlinewidth": 0,
             "ticks": ""
            },
            "type": "contourcarpet"
           }
          ],
          "heatmap": [
           {
            "colorbar": {
             "outlinewidth": 0,
             "ticks": ""
            },
            "colorscale": [
             [
              0,
              "#0d0887"
             ],
             [
              0.1111111111111111,
              "#46039f"
             ],
             [
              0.2222222222222222,
              "#7201a8"
             ],
             [
              0.3333333333333333,
              "#9c179e"
             ],
             [
              0.4444444444444444,
              "#bd3786"
             ],
             [
              0.5555555555555556,
              "#d8576b"
             ],
             [
              0.6666666666666666,
              "#ed7953"
             ],
             [
              0.7777777777777778,
              "#fb9f3a"
             ],
             [
              0.8888888888888888,
              "#fdca26"
             ],
             [
              1,
              "#f0f921"
             ]
            ],
            "type": "heatmap"
           }
          ],
          "heatmapgl": [
           {
            "colorbar": {
             "outlinewidth": 0,
             "ticks": ""
            },
            "colorscale": [
             [
              0,
              "#0d0887"
             ],
             [
              0.1111111111111111,
              "#46039f"
             ],
             [
              0.2222222222222222,
              "#7201a8"
             ],
             [
              0.3333333333333333,
              "#9c179e"
             ],
             [
              0.4444444444444444,
              "#bd3786"
             ],
             [
              0.5555555555555556,
              "#d8576b"
             ],
             [
              0.6666666666666666,
              "#ed7953"
             ],
             [
              0.7777777777777778,
              "#fb9f3a"
             ],
             [
              0.8888888888888888,
              "#fdca26"
             ],
             [
              1,
              "#f0f921"
             ]
            ],
            "type": "heatmapgl"
           }
          ],
          "histogram": [
           {
            "marker": {
             "pattern": {
              "fillmode": "overlay",
              "size": 10,
              "solidity": 0.2
             }
            },
            "type": "histogram"
           }
          ],
          "histogram2d": [
           {
            "colorbar": {
             "outlinewidth": 0,
             "ticks": ""
            },
            "colorscale": [
             [
              0,
              "#0d0887"
             ],
             [
              0.1111111111111111,
              "#46039f"
             ],
             [
              0.2222222222222222,
              "#7201a8"
             ],
             [
              0.3333333333333333,
              "#9c179e"
             ],
             [
              0.4444444444444444,
              "#bd3786"
             ],
             [
              0.5555555555555556,
              "#d8576b"
             ],
             [
              0.6666666666666666,
              "#ed7953"
             ],
             [
              0.7777777777777778,
              "#fb9f3a"
             ],
             [
              0.8888888888888888,
              "#fdca26"
             ],
             [
              1,
              "#f0f921"
             ]
            ],
            "type": "histogram2d"
           }
          ],
          "histogram2dcontour": [
           {
            "colorbar": {
             "outlinewidth": 0,
             "ticks": ""
            },
            "colorscale": [
             [
              0,
              "#0d0887"
             ],
             [
              0.1111111111111111,
              "#46039f"
             ],
             [
              0.2222222222222222,
              "#7201a8"
             ],
             [
              0.3333333333333333,
              "#9c179e"
             ],
             [
              0.4444444444444444,
              "#bd3786"
             ],
             [
              0.5555555555555556,
              "#d8576b"
             ],
             [
              0.6666666666666666,
              "#ed7953"
             ],
             [
              0.7777777777777778,
              "#fb9f3a"
             ],
             [
              0.8888888888888888,
              "#fdca26"
             ],
             [
              1,
              "#f0f921"
             ]
            ],
            "type": "histogram2dcontour"
           }
          ],
          "mesh3d": [
           {
            "colorbar": {
             "outlinewidth": 0,
             "ticks": ""
            },
            "type": "mesh3d"
           }
          ],
          "parcoords": [
           {
            "line": {
             "colorbar": {
              "outlinewidth": 0,
              "ticks": ""
             }
            },
            "type": "parcoords"
           }
          ],
          "pie": [
           {
            "automargin": true,
            "type": "pie"
           }
          ],
          "scatter": [
           {
            "fillpattern": {
             "fillmode": "overlay",
             "size": 10,
             "solidity": 0.2
            },
            "type": "scatter"
           }
          ],
          "scatter3d": [
           {
            "line": {
             "colorbar": {
              "outlinewidth": 0,
              "ticks": ""
             }
            },
            "marker": {
             "colorbar": {
              "outlinewidth": 0,
              "ticks": ""
             }
            },
            "type": "scatter3d"
           }
          ],
          "scattercarpet": [
           {
            "marker": {
             "colorbar": {
              "outlinewidth": 0,
              "ticks": ""
             }
            },
            "type": "scattercarpet"
           }
          ],
          "scattergeo": [
           {
            "marker": {
             "colorbar": {
              "outlinewidth": 0,
              "ticks": ""
             }
            },
            "type": "scattergeo"
           }
          ],
          "scattergl": [
           {
            "marker": {
             "colorbar": {
              "outlinewidth": 0,
              "ticks": ""
             }
            },
            "type": "scattergl"
           }
          ],
          "scattermapbox": [
           {
            "marker": {
             "colorbar": {
              "outlinewidth": 0,
              "ticks": ""
             }
            },
            "type": "scattermapbox"
           }
          ],
          "scatterpolar": [
           {
            "marker": {
             "colorbar": {
              "outlinewidth": 0,
              "ticks": ""
             }
            },
            "type": "scatterpolar"
           }
          ],
          "scatterpolargl": [
           {
            "marker": {
             "colorbar": {
              "outlinewidth": 0,
              "ticks": ""
             }
            },
            "type": "scatterpolargl"
           }
          ],
          "scatterternary": [
           {
            "marker": {
             "colorbar": {
              "outlinewidth": 0,
              "ticks": ""
             }
            },
            "type": "scatterternary"
           }
          ],
          "surface": [
           {
            "colorbar": {
             "outlinewidth": 0,
             "ticks": ""
            },
            "colorscale": [
             [
              0,
              "#0d0887"
             ],
             [
              0.1111111111111111,
              "#46039f"
             ],
             [
              0.2222222222222222,
              "#7201a8"
             ],
             [
              0.3333333333333333,
              "#9c179e"
             ],
             [
              0.4444444444444444,
              "#bd3786"
             ],
             [
              0.5555555555555556,
              "#d8576b"
             ],
             [
              0.6666666666666666,
              "#ed7953"
             ],
             [
              0.7777777777777778,
              "#fb9f3a"
             ],
             [
              0.8888888888888888,
              "#fdca26"
             ],
             [
              1,
              "#f0f921"
             ]
            ],
            "type": "surface"
           }
          ],
          "table": [
           {
            "cells": {
             "fill": {
              "color": "#EBF0F8"
             },
             "line": {
              "color": "white"
             }
            },
            "header": {
             "fill": {
              "color": "#C8D4E3"
             },
             "line": {
              "color": "white"
             }
            },
            "type": "table"
           }
          ]
         },
         "layout": {
          "annotationdefaults": {
           "arrowcolor": "#2a3f5f",
           "arrowhead": 0,
           "arrowwidth": 1
          },
          "autotypenumbers": "strict",
          "coloraxis": {
           "colorbar": {
            "outlinewidth": 0,
            "ticks": ""
           }
          },
          "colorscale": {
           "diverging": [
            [
             0,
             "#8e0152"
            ],
            [
             0.1,
             "#c51b7d"
            ],
            [
             0.2,
             "#de77ae"
            ],
            [
             0.3,
             "#f1b6da"
            ],
            [
             0.4,
             "#fde0ef"
            ],
            [
             0.5,
             "#f7f7f7"
            ],
            [
             0.6,
             "#e6f5d0"
            ],
            [
             0.7,
             "#b8e186"
            ],
            [
             0.8,
             "#7fbc41"
            ],
            [
             0.9,
             "#4d9221"
            ],
            [
             1,
             "#276419"
            ]
           ],
           "sequential": [
            [
             0,
             "#0d0887"
            ],
            [
             0.1111111111111111,
             "#46039f"
            ],
            [
             0.2222222222222222,
             "#7201a8"
            ],
            [
             0.3333333333333333,
             "#9c179e"
            ],
            [
             0.4444444444444444,
             "#bd3786"
            ],
            [
             0.5555555555555556,
             "#d8576b"
            ],
            [
             0.6666666666666666,
             "#ed7953"
            ],
            [
             0.7777777777777778,
             "#fb9f3a"
            ],
            [
             0.8888888888888888,
             "#fdca26"
            ],
            [
             1,
             "#f0f921"
            ]
           ],
           "sequentialminus": [
            [
             0,
             "#0d0887"
            ],
            [
             0.1111111111111111,
             "#46039f"
            ],
            [
             0.2222222222222222,
             "#7201a8"
            ],
            [
             0.3333333333333333,
             "#9c179e"
            ],
            [
             0.4444444444444444,
             "#bd3786"
            ],
            [
             0.5555555555555556,
             "#d8576b"
            ],
            [
             0.6666666666666666,
             "#ed7953"
            ],
            [
             0.7777777777777778,
             "#fb9f3a"
            ],
            [
             0.8888888888888888,
             "#fdca26"
            ],
            [
             1,
             "#f0f921"
            ]
           ]
          },
          "colorway": [
           "#636efa",
           "#EF553B",
           "#00cc96",
           "#ab63fa",
           "#FFA15A",
           "#19d3f3",
           "#FF6692",
           "#B6E880",
           "#FF97FF",
           "#FECB52"
          ],
          "font": {
           "color": "#2a3f5f"
          },
          "geo": {
           "bgcolor": "white",
           "lakecolor": "white",
           "landcolor": "#E5ECF6",
           "showlakes": true,
           "showland": true,
           "subunitcolor": "white"
          },
          "hoverlabel": {
           "align": "left"
          },
          "hovermode": "closest",
          "mapbox": {
           "style": "light"
          },
          "paper_bgcolor": "white",
          "plot_bgcolor": "#E5ECF6",
          "polar": {
           "angularaxis": {
            "gridcolor": "white",
            "linecolor": "white",
            "ticks": ""
           },
           "bgcolor": "#E5ECF6",
           "radialaxis": {
            "gridcolor": "white",
            "linecolor": "white",
            "ticks": ""
           }
          },
          "scene": {
           "xaxis": {
            "backgroundcolor": "#E5ECF6",
            "gridcolor": "white",
            "gridwidth": 2,
            "linecolor": "white",
            "showbackground": true,
            "ticks": "",
            "zerolinecolor": "white"
           },
           "yaxis": {
            "backgroundcolor": "#E5ECF6",
            "gridcolor": "white",
            "gridwidth": 2,
            "linecolor": "white",
            "showbackground": true,
            "ticks": "",
            "zerolinecolor": "white"
           },
           "zaxis": {
            "backgroundcolor": "#E5ECF6",
            "gridcolor": "white",
            "gridwidth": 2,
            "linecolor": "white",
            "showbackground": true,
            "ticks": "",
            "zerolinecolor": "white"
           }
          },
          "shapedefaults": {
           "line": {
            "color": "#2a3f5f"
           }
          },
          "ternary": {
           "aaxis": {
            "gridcolor": "white",
            "linecolor": "white",
            "ticks": ""
           },
           "baxis": {
            "gridcolor": "white",
            "linecolor": "white",
            "ticks": ""
           },
           "bgcolor": "#E5ECF6",
           "caxis": {
            "gridcolor": "white",
            "linecolor": "white",
            "ticks": ""
           }
          },
          "title": {
           "x": 0.05
          },
          "xaxis": {
           "automargin": true,
           "gridcolor": "white",
           "linecolor": "white",
           "ticks": "",
           "title": {
            "standoff": 15
           },
           "zerolinecolor": "white",
           "zerolinewidth": 2
          },
          "yaxis": {
           "automargin": true,
           "gridcolor": "white",
           "linecolor": "white",
           "ticks": "",
           "title": {
            "standoff": 15
           },
           "zerolinecolor": "white",
           "zerolinewidth": 2
          }
         }
        },
        "title": {
         "text": "Pipeline Value by Stage (Hubspot)"
        },
        "xaxis": {
         "anchor": "y",
         "domain": [
          0,
          1
         ],
         "title": {
          "text": "Deal Stage"
         }
        },
        "yaxis": {
         "anchor": "x",
         "domain": [
          0,
          1
         ],
         "title": {
          "text": "Value (SEK)"
         }
        }
       }
      }
     },
     "metadata": {},
     "output_type": "display_data"
    }
   ],
   "source": [
    "\n",
    "# Pipeline Bar Chart\n",
    "fig = px.bar(\n",
    "    pipeline_summary,\n",
    "    x=\"deal_stage\", y=\"deal_amount\",\n",
    "    title=\"Pipeline Value by Stage (Hubspot)\",\n",
    "    labels={\"deal_stage\": \"Deal Stage\", \"deal_amount\": \"Value (SEK)\"}\n",
    ")\n",
    "fig.show()"
   ]
  },
  {
   "cell_type": "code",
   "execution_count": null,
   "id": "eb50deeb",
   "metadata": {},
   "outputs": [],
   "source": []
  }
 ],
 "metadata": {
  "kernelspec": {
   "display_name": "base",
   "language": "python",
   "name": "python3"
  },
  "language_info": {
   "codemirror_mode": {
    "name": "ipython",
    "version": 3
   },
   "file_extension": ".py",
   "mimetype": "text/x-python",
   "name": "python",
   "nbconvert_exporter": "python",
   "pygments_lexer": "ipython3",
   "version": "3.12.7"
  }
 },
 "nbformat": 4,
 "nbformat_minor": 5
}
