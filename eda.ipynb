{
 "cells": [
  {
   "cell_type": "markdown",
   "id": "98b8b270",
   "metadata": {},
   "source": [
    "# Exploratory Data Analysis"
   ]
  },
  {
   "cell_type": "markdown",
   "id": "f00bcd2e",
   "metadata": {},
   "source": [
    "## Setting up the environment"
   ]
  },
  {
   "cell_type": "code",
   "execution_count": 94,
   "id": "f6cb046e",
   "metadata": {},
   "outputs": [],
   "source": [
    "import os\n",
    "from pathlib import Path\n",
    "import io\n",
    "import plotly.graph_objects as go\n",
    "import plotly.express as px\n",
    "import numpy as np\n",
    "import pandas as pd "
   ]
  },
  {
   "cell_type": "markdown",
   "id": "9dc3b8a6",
   "metadata": {},
   "source": [
    "## Loading CSV files "
   ]
  },
  {
   "cell_type": "code",
   "execution_count": 95,
   "id": "bc9d6a5b",
   "metadata": {},
   "outputs": [],
   "source": [
    "def load_all_csv_files(data_dir='data', show_rows=5):\n",
    "    \n",
    "    # check if the directory exists\n",
    "    if not os.path.exists(data_dir):\n",
    "        print(f\"Directory '{data_dir}' not found!\")\n",
    "        return {}, {}\n",
    "    \n",
    "    # store dataframes, file mappings and get csv files \n",
    "    dataframes = {}\n",
    "    file_mappings = {}\n",
    "    csv_files = list(Path(data_dir).glob('*.csv'))\n",
    "    csv_files.sort() \n",
    "    \n",
    "    print(f\"Found {len(csv_files)} CSV files in '{data_dir}' directory.\\n\")\n",
    "    \n",
    "    # load each CSV file into a dataframe\n",
    "    for i, file_path in enumerate(csv_files, 1):\n",
    "        df_name = f\"df{i}\"\n",
    "        file_mappings[df_name] = str(file_path)\n",
    "        \n",
    "        print(f\"Loaded {file_path} as {df_name}\")\n",
    "        \n",
    "        df = pd.read_csv(file_path)\n",
    "        dataframes[df_name] = df\n",
    "\n",
    "        print(f\"File: {file_path}\")\n",
    "        print(f\"Shape: {df.shape[0]} rows × {df.shape[1]} columns\")\n",
    "        print(f\"\\nFirst {show_rows} rows of {df_name}:\")\n",
    "        display(df.head(show_rows))\n",
    "        print(\"-\" * 80 + \"\\n\")\n",
    "    \n",
    "    return dataframes, file_mappings"
   ]
  },
  {
   "cell_type": "code",
   "execution_count": 96,
   "id": "afa66a0b",
   "metadata": {},
   "outputs": [
    {
     "name": "stdout",
     "output_type": "stream",
     "text": [
      "Found 13 CSV files in 'data' directory.\n",
      "\n",
      "Loaded data/dim__hubspot_sales_pipeline_stages.csv as df1\n",
      "File: data/dim__hubspot_sales_pipeline_stages.csv\n",
      "Shape: 6 rows × 6 columns\n",
      "\n",
      "First 5 rows of df1:\n"
     ]
    },
    {
     "data": {
      "text/html": [
       "<div>\n",
       "<style scoped>\n",
       "    .dataframe tbody tr th:only-of-type {\n",
       "        vertical-align: middle;\n",
       "    }\n",
       "\n",
       "    .dataframe tbody tr th {\n",
       "        vertical-align: top;\n",
       "    }\n",
       "\n",
       "    .dataframe thead th {\n",
       "        text-align: right;\n",
       "    }\n",
       "</style>\n",
       "<table border=\"1\" class=\"dataframe\">\n",
       "  <thead>\n",
       "    <tr style=\"text-align: right;\">\n",
       "      <th></th>\n",
       "      <th>pipeline_stage_id</th>\n",
       "      <th>pipeline_stage_order</th>\n",
       "      <th>pipeline_stage</th>\n",
       "      <th>close_probability</th>\n",
       "      <th>stage_is_archived</th>\n",
       "      <th>deal_is_closed</th>\n",
       "    </tr>\n",
       "  </thead>\n",
       "  <tbody>\n",
       "    <tr>\n",
       "      <th>0</th>\n",
       "      <td>1102499</td>\n",
       "      <td>1</td>\n",
       "      <td>Qualification</td>\n",
       "      <td>0.2</td>\n",
       "      <td>False</td>\n",
       "      <td>False</td>\n",
       "    </tr>\n",
       "    <tr>\n",
       "      <th>1</th>\n",
       "      <td>12008384</td>\n",
       "      <td>0</td>\n",
       "      <td>Lead</td>\n",
       "      <td>0.1</td>\n",
       "      <td>False</td>\n",
       "      <td>False</td>\n",
       "    </tr>\n",
       "    <tr>\n",
       "      <th>2</th>\n",
       "      <td>qualifiedtobuy</td>\n",
       "      <td>3</td>\n",
       "      <td>Proposal</td>\n",
       "      <td>0.6</td>\n",
       "      <td>False</td>\n",
       "      <td>False</td>\n",
       "    </tr>\n",
       "    <tr>\n",
       "      <th>3</th>\n",
       "      <td>appointmentscheduled</td>\n",
       "      <td>2</td>\n",
       "      <td>Exploration</td>\n",
       "      <td>0.4</td>\n",
       "      <td>False</td>\n",
       "      <td>False</td>\n",
       "    </tr>\n",
       "    <tr>\n",
       "      <th>4</th>\n",
       "      <td>closedlost</td>\n",
       "      <td>5</td>\n",
       "      <td>Closed Lost</td>\n",
       "      <td>0.0</td>\n",
       "      <td>False</td>\n",
       "      <td>True</td>\n",
       "    </tr>\n",
       "  </tbody>\n",
       "</table>\n",
       "</div>"
      ],
      "text/plain": [
       "      pipeline_stage_id  pipeline_stage_order pipeline_stage  \\\n",
       "0               1102499                     1  Qualification   \n",
       "1              12008384                     0           Lead   \n",
       "2        qualifiedtobuy                     3       Proposal   \n",
       "3  appointmentscheduled                     2    Exploration   \n",
       "4            closedlost                     5    Closed Lost   \n",
       "\n",
       "   close_probability  stage_is_archived  deal_is_closed  \n",
       "0                0.2              False           False  \n",
       "1                0.1              False           False  \n",
       "2                0.6              False           False  \n",
       "3                0.4              False           False  \n",
       "4                0.0              False            True  "
      ]
     },
     "metadata": {},
     "output_type": "display_data"
    },
    {
     "name": "stdout",
     "output_type": "stream",
     "text": [
      "--------------------------------------------------------------------------------\n",
      "\n",
      "Loaded data/dim__notion_clients__anonymized.csv as df2\n",
      "File: data/dim__notion_clients__anonymized.csv\n",
      "Shape: 48 rows × 10 columns\n",
      "\n",
      "First 5 rows of df2:\n"
     ]
    },
    {
     "data": {
      "text/html": [
       "<div>\n",
       "<style scoped>\n",
       "    .dataframe tbody tr th:only-of-type {\n",
       "        vertical-align: middle;\n",
       "    }\n",
       "\n",
       "    .dataframe tbody tr th {\n",
       "        vertical-align: top;\n",
       "    }\n",
       "\n",
       "    .dataframe thead th {\n",
       "        text-align: right;\n",
       "    }\n",
       "</style>\n",
       "<table border=\"1\" class=\"dataframe\">\n",
       "  <thead>\n",
       "    <tr style=\"text-align: right;\">\n",
       "      <th></th>\n",
       "      <th>client_id</th>\n",
       "      <th>category</th>\n",
       "      <th>industry_id</th>\n",
       "      <th>company_size</th>\n",
       "      <th>company_type</th>\n",
       "      <th>n_roles</th>\n",
       "      <th>n_projects</th>\n",
       "      <th>n_people</th>\n",
       "      <th>started_at</th>\n",
       "      <th>name_anon</th>\n",
       "    </tr>\n",
       "  </thead>\n",
       "  <tbody>\n",
       "    <tr>\n",
       "      <th>0</th>\n",
       "      <td>2f0a5150-aeeb-49f7-b11b-5307511068ff</td>\n",
       "      <td>Internal</td>\n",
       "      <td>NaN</td>\n",
       "      <td>NaN</td>\n",
       "      <td>NaN</td>\n",
       "      <td>0</td>\n",
       "      <td>1</td>\n",
       "      <td>0</td>\n",
       "      <td>NaN</td>\n",
       "      <td>Smith, Fields and Bentley</td>\n",
       "    </tr>\n",
       "    <tr>\n",
       "      <th>1</th>\n",
       "      <td>2dc74fac-c75a-4770-855f-9943969f18e3</td>\n",
       "      <td>Internal</td>\n",
       "      <td>NaN</td>\n",
       "      <td>NaN</td>\n",
       "      <td>NaN</td>\n",
       "      <td>0</td>\n",
       "      <td>2</td>\n",
       "      <td>0</td>\n",
       "      <td>NaN</td>\n",
       "      <td>Ryan-Ward</td>\n",
       "    </tr>\n",
       "    <tr>\n",
       "      <th>2</th>\n",
       "      <td>3d619f69-ee9c-41f8-ac3a-ac5cc851cf10</td>\n",
       "      <td>Internal</td>\n",
       "      <td>NaN</td>\n",
       "      <td>NaN</td>\n",
       "      <td>NaN</td>\n",
       "      <td>0</td>\n",
       "      <td>3</td>\n",
       "      <td>0</td>\n",
       "      <td>NaN</td>\n",
       "      <td>Edwards-Jenkins</td>\n",
       "    </tr>\n",
       "    <tr>\n",
       "      <th>3</th>\n",
       "      <td>87163a01-08e8-487c-b200-6f04138c53bf</td>\n",
       "      <td>Internal</td>\n",
       "      <td>NaN</td>\n",
       "      <td>NaN</td>\n",
       "      <td>NaN</td>\n",
       "      <td>0</td>\n",
       "      <td>3</td>\n",
       "      <td>0</td>\n",
       "      <td>NaN</td>\n",
       "      <td>Avila LLC</td>\n",
       "    </tr>\n",
       "    <tr>\n",
       "      <th>4</th>\n",
       "      <td>0a1a94ab-d574-4c92-9b69-b21df5080288</td>\n",
       "      <td>Internal</td>\n",
       "      <td>NaN</td>\n",
       "      <td>NaN</td>\n",
       "      <td>NaN</td>\n",
       "      <td>0</td>\n",
       "      <td>3</td>\n",
       "      <td>0</td>\n",
       "      <td>NaN</td>\n",
       "      <td>Adams Group</td>\n",
       "    </tr>\n",
       "  </tbody>\n",
       "</table>\n",
       "</div>"
      ],
      "text/plain": [
       "                              client_id  category industry_id company_size  \\\n",
       "0  2f0a5150-aeeb-49f7-b11b-5307511068ff  Internal         NaN          NaN   \n",
       "1  2dc74fac-c75a-4770-855f-9943969f18e3  Internal         NaN          NaN   \n",
       "2  3d619f69-ee9c-41f8-ac3a-ac5cc851cf10  Internal         NaN          NaN   \n",
       "3  87163a01-08e8-487c-b200-6f04138c53bf  Internal         NaN          NaN   \n",
       "4  0a1a94ab-d574-4c92-9b69-b21df5080288  Internal         NaN          NaN   \n",
       "\n",
       "  company_type  n_roles  n_projects  n_people started_at  \\\n",
       "0          NaN        0           1         0        NaN   \n",
       "1          NaN        0           2         0        NaN   \n",
       "2          NaN        0           3         0        NaN   \n",
       "3          NaN        0           3         0        NaN   \n",
       "4          NaN        0           3         0        NaN   \n",
       "\n",
       "                   name_anon  \n",
       "0  Smith, Fields and Bentley  \n",
       "1                  Ryan-Ward  \n",
       "2            Edwards-Jenkins  \n",
       "3                  Avila LLC  \n",
       "4                Adams Group  "
      ]
     },
     "metadata": {},
     "output_type": "display_data"
    },
    {
     "name": "stdout",
     "output_type": "stream",
     "text": [
      "--------------------------------------------------------------------------------\n",
      "\n",
      "Loaded data/dim__notion_hr__anonymized.csv as df3\n",
      "File: data/dim__notion_hr__anonymized.csv\n",
      "Shape: 13 rows × 6 columns\n",
      "\n",
      "First 5 rows of df3:\n"
     ]
    },
    {
     "data": {
      "text/html": [
       "<div>\n",
       "<style scoped>\n",
       "    .dataframe tbody tr th:only-of-type {\n",
       "        vertical-align: middle;\n",
       "    }\n",
       "\n",
       "    .dataframe tbody tr th {\n",
       "        vertical-align: top;\n",
       "    }\n",
       "\n",
       "    .dataframe thead th {\n",
       "        text-align: right;\n",
       "    }\n",
       "</style>\n",
       "<table border=\"1\" class=\"dataframe\">\n",
       "  <thead>\n",
       "    <tr style=\"text-align: right;\">\n",
       "      <th></th>\n",
       "      <th>consultant_id</th>\n",
       "      <th>active</th>\n",
       "      <th>startdate</th>\n",
       "      <th>enddate</th>\n",
       "      <th>seniority</th>\n",
       "      <th>consultant_name_anon</th>\n",
       "    </tr>\n",
       "  </thead>\n",
       "  <tbody>\n",
       "    <tr>\n",
       "      <th>0</th>\n",
       "      <td>2a554628-d7f2-475f-8872-5a7057388c36</td>\n",
       "      <td>No</td>\n",
       "      <td>2024-08-19</td>\n",
       "      <td>NaN</td>\n",
       "      <td>K2</td>\n",
       "      <td>Bertil Grind</td>\n",
       "    </tr>\n",
       "    <tr>\n",
       "      <th>1</th>\n",
       "      <td>261b42da-30b3-801f-ade8-e0f9f5d087b6</td>\n",
       "      <td>Yes</td>\n",
       "      <td>2025-09-01</td>\n",
       "      <td>NaN</td>\n",
       "      <td>K2</td>\n",
       "      <td>Alexander Macedon</td>\n",
       "    </tr>\n",
       "    <tr>\n",
       "      <th>2</th>\n",
       "      <td>261b42da-30b3-8088-b413-f0676fb78aa4</td>\n",
       "      <td>NaN</td>\n",
       "      <td>2025-09-01</td>\n",
       "      <td>NaN</td>\n",
       "      <td>K1</td>\n",
       "      <td>Luke Rhinehart</td>\n",
       "    </tr>\n",
       "    <tr>\n",
       "      <th>3</th>\n",
       "      <td>086ef6c0-d4f2-45bb-bf64-2cb51ce8fec4</td>\n",
       "      <td>Yes</td>\n",
       "      <td>2023-09-04</td>\n",
       "      <td>NaN</td>\n",
       "      <td>K1</td>\n",
       "      <td>Rachel Lamb</td>\n",
       "    </tr>\n",
       "    <tr>\n",
       "      <th>4</th>\n",
       "      <td>afd559ec-90bf-40c9-8e96-57e3d7af66fd</td>\n",
       "      <td>Yes</td>\n",
       "      <td>2023-03-13</td>\n",
       "      <td>NaN</td>\n",
       "      <td>K2</td>\n",
       "      <td>Astarion Baldursson</td>\n",
       "    </tr>\n",
       "  </tbody>\n",
       "</table>\n",
       "</div>"
      ],
      "text/plain": [
       "                          consultant_id active   startdate  enddate seniority  \\\n",
       "0  2a554628-d7f2-475f-8872-5a7057388c36     No  2024-08-19      NaN        K2   \n",
       "1  261b42da-30b3-801f-ade8-e0f9f5d087b6    Yes  2025-09-01      NaN        K2   \n",
       "2  261b42da-30b3-8088-b413-f0676fb78aa4    NaN  2025-09-01      NaN        K1   \n",
       "3  086ef6c0-d4f2-45bb-bf64-2cb51ce8fec4    Yes  2023-09-04      NaN        K1   \n",
       "4  afd559ec-90bf-40c9-8e96-57e3d7af66fd    Yes  2023-03-13      NaN        K2   \n",
       "\n",
       "  consultant_name_anon  \n",
       "0         Bertil Grind  \n",
       "1    Alexander Macedon  \n",
       "2       Luke Rhinehart  \n",
       "3          Rachel Lamb  \n",
       "4  Astarion Baldursson  "
      ]
     },
     "metadata": {},
     "output_type": "display_data"
    },
    {
     "name": "stdout",
     "output_type": "stream",
     "text": [
      "--------------------------------------------------------------------------------\n",
      "\n",
      "Loaded data/dim__notion_roles__anonymized.csv as df4\n",
      "File: data/dim__notion_roles__anonymized.csv\n",
      "Shape: 101 rows × 8 columns\n",
      "\n",
      "First 5 rows of df4:\n"
     ]
    },
    {
     "data": {
      "text/html": [
       "<div>\n",
       "<style scoped>\n",
       "    .dataframe tbody tr th:only-of-type {\n",
       "        vertical-align: middle;\n",
       "    }\n",
       "\n",
       "    .dataframe tbody tr th {\n",
       "        vertical-align: top;\n",
       "    }\n",
       "\n",
       "    .dataframe thead th {\n",
       "        text-align: right;\n",
       "    }\n",
       "</style>\n",
       "<table border=\"1\" class=\"dataframe\">\n",
       "  <thead>\n",
       "    <tr style=\"text-align: right;\">\n",
       "      <th></th>\n",
       "      <th>role_id</th>\n",
       "      <th>industry_name</th>\n",
       "      <th>role_category_name</th>\n",
       "      <th>hourly_rate</th>\n",
       "      <th>billing_type</th>\n",
       "      <th>seniority</th>\n",
       "      <th>startdate</th>\n",
       "      <th>name_anon</th>\n",
       "    </tr>\n",
       "  </thead>\n",
       "  <tbody>\n",
       "    <tr>\n",
       "      <th>0</th>\n",
       "      <td>68fb318f-438b-4257-95f2-3893564ebd01</td>\n",
       "      <td>NaN</td>\n",
       "      <td>NaN</td>\n",
       "      <td>NaN</td>\n",
       "      <td>NaN</td>\n",
       "      <td>K2</td>\n",
       "      <td>2023-10-01</td>\n",
       "      <td>NaN</td>\n",
       "    </tr>\n",
       "    <tr>\n",
       "      <th>1</th>\n",
       "      <td>b5a1a16b-99d7-4895-b927-0d0afa074c35</td>\n",
       "      <td>NaN</td>\n",
       "      <td>NaN</td>\n",
       "      <td>NaN</td>\n",
       "      <td>NaN</td>\n",
       "      <td>NaN</td>\n",
       "      <td>NaN</td>\n",
       "      <td>NaN</td>\n",
       "    </tr>\n",
       "    <tr>\n",
       "      <th>2</th>\n",
       "      <td>264b42da-30b3-8026-b4e1-f6a7c2832cc2</td>\n",
       "      <td>NaN</td>\n",
       "      <td>Data Analyst</td>\n",
       "      <td>900.0</td>\n",
       "      <td>Direct</td>\n",
       "      <td>NaN</td>\n",
       "      <td>2025-09-04</td>\n",
       "      <td>Terry and Sons</td>\n",
       "    </tr>\n",
       "    <tr>\n",
       "      <th>3</th>\n",
       "      <td>0517e8f8-b88c-41fa-ae1a-57458f4571d0</td>\n",
       "      <td>NaN</td>\n",
       "      <td>Data Engineer</td>\n",
       "      <td>1100.0</td>\n",
       "      <td>Invoicing(Right people Group)</td>\n",
       "      <td>NaN</td>\n",
       "      <td>2022-12-05</td>\n",
       "      <td>Payne-Nelson</td>\n",
       "    </tr>\n",
       "    <tr>\n",
       "      <th>4</th>\n",
       "      <td>347c5d6b-8487-437c-8945-612a32c0b866</td>\n",
       "      <td>NaN</td>\n",
       "      <td>NaN</td>\n",
       "      <td>1100.0</td>\n",
       "      <td>NaN</td>\n",
       "      <td>NaN</td>\n",
       "      <td>2022-09-11</td>\n",
       "      <td>Payne-Nelson</td>\n",
       "    </tr>\n",
       "  </tbody>\n",
       "</table>\n",
       "</div>"
      ],
      "text/plain": [
       "                                role_id industry_name role_category_name  \\\n",
       "0  68fb318f-438b-4257-95f2-3893564ebd01           NaN                NaN   \n",
       "1  b5a1a16b-99d7-4895-b927-0d0afa074c35           NaN                NaN   \n",
       "2  264b42da-30b3-8026-b4e1-f6a7c2832cc2           NaN       Data Analyst   \n",
       "3  0517e8f8-b88c-41fa-ae1a-57458f4571d0           NaN      Data Engineer   \n",
       "4  347c5d6b-8487-437c-8945-612a32c0b866           NaN                NaN   \n",
       "\n",
       "   hourly_rate                   billing_type seniority   startdate  \\\n",
       "0          NaN                            NaN        K2  2023-10-01   \n",
       "1          NaN                            NaN       NaN         NaN   \n",
       "2        900.0                         Direct       NaN  2025-09-04   \n",
       "3       1100.0  Invoicing(Right people Group)       NaN  2022-12-05   \n",
       "4       1100.0                            NaN       NaN  2022-09-11   \n",
       "\n",
       "        name_anon  \n",
       "0             NaN  \n",
       "1             NaN  \n",
       "2  Terry and Sons  \n",
       "3    Payne-Nelson  \n",
       "4    Payne-Nelson  "
      ]
     },
     "metadata": {},
     "output_type": "display_data"
    },
    {
     "name": "stdout",
     "output_type": "stream",
     "text": [
      "--------------------------------------------------------------------------------\n",
      "\n",
      "Loaded data/dim__projects__anonymized.csv as df5\n",
      "File: data/dim__projects__anonymized.csv\n",
      "Shape: 91 rows × 7 columns\n",
      "\n",
      "First 5 rows of df5:\n"
     ]
    },
    {
     "data": {
      "text/html": [
       "<div>\n",
       "<style scoped>\n",
       "    .dataframe tbody tr th:only-of-type {\n",
       "        vertical-align: middle;\n",
       "    }\n",
       "\n",
       "    .dataframe tbody tr th {\n",
       "        vertical-align: top;\n",
       "    }\n",
       "\n",
       "    .dataframe thead th {\n",
       "        text-align: right;\n",
       "    }\n",
       "</style>\n",
       "<table border=\"1\" class=\"dataframe\">\n",
       "  <thead>\n",
       "    <tr style=\"text-align: right;\">\n",
       "      <th></th>\n",
       "      <th>project_id</th>\n",
       "      <th>client_id</th>\n",
       "      <th>clockify_project_billable</th>\n",
       "      <th>project_duration</th>\n",
       "      <th>estimated_durationn</th>\n",
       "      <th>client_anon</th>\n",
       "      <th>project_anon</th>\n",
       "    </tr>\n",
       "  </thead>\n",
       "  <tbody>\n",
       "    <tr>\n",
       "      <th>0</th>\n",
       "      <td>5f60a92df2bfed445099122e</td>\n",
       "      <td>5f437b54d13ed94468add358</td>\n",
       "      <td>False</td>\n",
       "      <td>232H</td>\n",
       "      <td>Not estimated</td>\n",
       "      <td>Taylor, Simmons and Anderson</td>\n",
       "      <td>Obetald semester</td>\n",
       "    </tr>\n",
       "    <tr>\n",
       "      <th>1</th>\n",
       "      <td>65a66b6f7349ba6dbd1f1086</td>\n",
       "      <td>5f437b54d13ed94468add358</td>\n",
       "      <td>False</td>\n",
       "      <td>414H</td>\n",
       "      <td>Not estimated</td>\n",
       "      <td>Taylor, Simmons and Anderson</td>\n",
       "      <td>Brown, Martinez and Manning Projects</td>\n",
       "    </tr>\n",
       "    <tr>\n",
       "      <th>2</th>\n",
       "      <td>5f437f189decb91192e37bc0</td>\n",
       "      <td>5f437b54d13ed94468add358</td>\n",
       "      <td>False</td>\n",
       "      <td>10321H</td>\n",
       "      <td>Not estimated</td>\n",
       "      <td>Taylor, Simmons and Anderson</td>\n",
       "      <td>Semester</td>\n",
       "    </tr>\n",
       "    <tr>\n",
       "      <th>3</th>\n",
       "      <td>6179a9ac4d694b7ecbe75ea6</td>\n",
       "      <td>5f437b54d13ed94468add358</td>\n",
       "      <td>False</td>\n",
       "      <td>396H</td>\n",
       "      <td>Not estimated</td>\n",
       "      <td>Taylor, Simmons and Anderson</td>\n",
       "      <td>Vård av barn</td>\n",
       "    </tr>\n",
       "    <tr>\n",
       "      <th>4</th>\n",
       "      <td>65a66b65efacdd3a4371df50</td>\n",
       "      <td>5f437b54d13ed94468add358</td>\n",
       "      <td>False</td>\n",
       "      <td>52H</td>\n",
       "      <td>Not estimated</td>\n",
       "      <td>Taylor, Simmons and Anderson</td>\n",
       "      <td>Competence development</td>\n",
       "    </tr>\n",
       "  </tbody>\n",
       "</table>\n",
       "</div>"
      ],
      "text/plain": [
       "                 project_id                 client_id  \\\n",
       "0  5f60a92df2bfed445099122e  5f437b54d13ed94468add358   \n",
       "1  65a66b6f7349ba6dbd1f1086  5f437b54d13ed94468add358   \n",
       "2  5f437f189decb91192e37bc0  5f437b54d13ed94468add358   \n",
       "3  6179a9ac4d694b7ecbe75ea6  5f437b54d13ed94468add358   \n",
       "4  65a66b65efacdd3a4371df50  5f437b54d13ed94468add358   \n",
       "\n",
       "   clockify_project_billable project_duration estimated_durationn  \\\n",
       "0                      False             232H       Not estimated   \n",
       "1                      False             414H       Not estimated   \n",
       "2                      False           10321H       Not estimated   \n",
       "3                      False             396H       Not estimated   \n",
       "4                      False              52H       Not estimated   \n",
       "\n",
       "                    client_anon                          project_anon  \n",
       "0  Taylor, Simmons and Anderson                      Obetald semester  \n",
       "1  Taylor, Simmons and Anderson  Brown, Martinez and Manning Projects  \n",
       "2  Taylor, Simmons and Anderson                              Semester  \n",
       "3  Taylor, Simmons and Anderson                          Vård av barn  \n",
       "4  Taylor, Simmons and Anderson                Competence development  "
      ]
     },
     "metadata": {},
     "output_type": "display_data"
    },
    {
     "name": "stdout",
     "output_type": "stream",
     "text": [
      "--------------------------------------------------------------------------------\n",
      "\n",
      "Loaded data/dim_employees_anon.csv as df6\n",
      "File: data/dim_employees_anon.csv\n",
      "Shape: 13 rows × 6 columns\n",
      "\n",
      "First 5 rows of df6:\n"
     ]
    },
    {
     "data": {
      "text/html": [
       "<div>\n",
       "<style scoped>\n",
       "    .dataframe tbody tr th:only-of-type {\n",
       "        vertical-align: middle;\n",
       "    }\n",
       "\n",
       "    .dataframe tbody tr th {\n",
       "        vertical-align: top;\n",
       "    }\n",
       "\n",
       "    .dataframe thead th {\n",
       "        text-align: right;\n",
       "    }\n",
       "</style>\n",
       "<table border=\"1\" class=\"dataframe\">\n",
       "  <thead>\n",
       "    <tr style=\"text-align: right;\">\n",
       "      <th></th>\n",
       "      <th>employee_id</th>\n",
       "      <th>employee_code</th>\n",
       "      <th>first_name</th>\n",
       "      <th>last_name</th>\n",
       "      <th>is_active</th>\n",
       "      <th>practice</th>\n",
       "    </tr>\n",
       "  </thead>\n",
       "  <tbody>\n",
       "    <tr>\n",
       "      <th>0</th>\n",
       "      <td>20</td>\n",
       "      <td>22</td>\n",
       "      <td>Luke</td>\n",
       "      <td>Rhinehart</td>\n",
       "      <td>True</td>\n",
       "      <td>NaN</td>\n",
       "    </tr>\n",
       "    <tr>\n",
       "      <th>1</th>\n",
       "      <td>21</td>\n",
       "      <td>23</td>\n",
       "      <td>Alexander</td>\n",
       "      <td>Macedon</td>\n",
       "      <td>True</td>\n",
       "      <td>NaN</td>\n",
       "    </tr>\n",
       "    <tr>\n",
       "      <th>2</th>\n",
       "      <td>12</td>\n",
       "      <td>18</td>\n",
       "      <td>Rachel</td>\n",
       "      <td>Lamb</td>\n",
       "      <td>True</td>\n",
       "      <td>Analytics</td>\n",
       "    </tr>\n",
       "    <tr>\n",
       "      <th>3</th>\n",
       "      <td>2</td>\n",
       "      <td>9</td>\n",
       "      <td>Bingo</td>\n",
       "      <td>Storm</td>\n",
       "      <td>True</td>\n",
       "      <td>Analytics</td>\n",
       "    </tr>\n",
       "    <tr>\n",
       "      <th>4</th>\n",
       "      <td>9</td>\n",
       "      <td>15</td>\n",
       "      <td>Astarion</td>\n",
       "      <td>Baldersson</td>\n",
       "      <td>True</td>\n",
       "      <td>Analytics</td>\n",
       "    </tr>\n",
       "  </tbody>\n",
       "</table>\n",
       "</div>"
      ],
      "text/plain": [
       "   employee_id  employee_code first_name   last_name  is_active   practice\n",
       "0           20             22       Luke   Rhinehart       True        NaN\n",
       "1           21             23  Alexander     Macedon       True        NaN\n",
       "2           12             18     Rachel        Lamb       True  Analytics\n",
       "3            2              9      Bingo       Storm       True  Analytics\n",
       "4            9             15   Astarion  Baldersson       True  Analytics"
      ]
     },
     "metadata": {},
     "output_type": "display_data"
    },
    {
     "name": "stdout",
     "output_type": "stream",
     "text": [
      "--------------------------------------------------------------------------------\n",
      "\n",
      "Loaded data/fct__fortnox_invoices__anonymized.csv as df7\n",
      "File: data/fct__fortnox_invoices__anonymized.csv\n",
      "Shape: 615 rows × 12 columns\n",
      "\n",
      "First 5 rows of df7:\n"
     ]
    },
    {
     "data": {
      "text/html": [
       "<div>\n",
       "<style scoped>\n",
       "    .dataframe tbody tr th:only-of-type {\n",
       "        vertical-align: middle;\n",
       "    }\n",
       "\n",
       "    .dataframe tbody tr th {\n",
       "        vertical-align: top;\n",
       "    }\n",
       "\n",
       "    .dataframe thead th {\n",
       "        text-align: right;\n",
       "    }\n",
       "</style>\n",
       "<table border=\"1\" class=\"dataframe\">\n",
       "  <thead>\n",
       "    <tr style=\"text-align: right;\">\n",
       "      <th></th>\n",
       "      <th>invoice_amount_net</th>\n",
       "      <th>invoice_amount_total</th>\n",
       "      <th>customer_number</th>\n",
       "      <th>due_date</th>\n",
       "      <th>invoice_date</th>\n",
       "      <th>final_pay_date</th>\n",
       "      <th>month_name</th>\n",
       "      <th>accounting_month</th>\n",
       "      <th>accounting_year</th>\n",
       "      <th>accounting_year_date</th>\n",
       "      <th>broker</th>\n",
       "      <th>client_anon</th>\n",
       "    </tr>\n",
       "  </thead>\n",
       "  <tbody>\n",
       "    <tr>\n",
       "      <th>0</th>\n",
       "      <td>52000.0</td>\n",
       "      <td>65000.0</td>\n",
       "      <td>559296</td>\n",
       "      <td>2024-10-15</td>\n",
       "      <td>2024-09-30</td>\n",
       "      <td>NaN</td>\n",
       "      <td>September</td>\n",
       "      <td>5</td>\n",
       "      <td>2024</td>\n",
       "      <td>2024-05-28</td>\n",
       "      <td>NaN</td>\n",
       "      <td>Mccoy, Singh and Smith</td>\n",
       "    </tr>\n",
       "    <tr>\n",
       "      <th>1</th>\n",
       "      <td>136500.0</td>\n",
       "      <td>170625.0</td>\n",
       "      <td>559298</td>\n",
       "      <td>2024-12-04</td>\n",
       "      <td>2024-11-04</td>\n",
       "      <td>2024-12-04</td>\n",
       "      <td>November</td>\n",
       "      <td>7</td>\n",
       "      <td>2024</td>\n",
       "      <td>2024-07-04</td>\n",
       "      <td>NaN</td>\n",
       "      <td>Atkinson, Bishop and Cohen</td>\n",
       "    </tr>\n",
       "    <tr>\n",
       "      <th>2</th>\n",
       "      <td>192000.0</td>\n",
       "      <td>240000.0</td>\n",
       "      <td>559298</td>\n",
       "      <td>2025-01-01</td>\n",
       "      <td>2024-11-30</td>\n",
       "      <td>2024-12-30</td>\n",
       "      <td>November</td>\n",
       "      <td>7</td>\n",
       "      <td>2024</td>\n",
       "      <td>2024-07-28</td>\n",
       "      <td>NaN</td>\n",
       "      <td>Atkinson, Bishop and Cohen</td>\n",
       "    </tr>\n",
       "    <tr>\n",
       "      <th>3</th>\n",
       "      <td>133500.0</td>\n",
       "      <td>166875.0</td>\n",
       "      <td>559298</td>\n",
       "      <td>2025-02-02</td>\n",
       "      <td>2024-12-31</td>\n",
       "      <td>2025-01-31</td>\n",
       "      <td>December</td>\n",
       "      <td>8</td>\n",
       "      <td>2024</td>\n",
       "      <td>2024-08-28</td>\n",
       "      <td>NaN</td>\n",
       "      <td>Atkinson, Bishop and Cohen</td>\n",
       "    </tr>\n",
       "    <tr>\n",
       "      <th>4</th>\n",
       "      <td>212800.0</td>\n",
       "      <td>266000.0</td>\n",
       "      <td>559298</td>\n",
       "      <td>2025-03-05</td>\n",
       "      <td>2025-01-31</td>\n",
       "      <td>2025-03-05</td>\n",
       "      <td>January</td>\n",
       "      <td>9</td>\n",
       "      <td>2024</td>\n",
       "      <td>2024-09-28</td>\n",
       "      <td>NaN</td>\n",
       "      <td>Atkinson, Bishop and Cohen</td>\n",
       "    </tr>\n",
       "  </tbody>\n",
       "</table>\n",
       "</div>"
      ],
      "text/plain": [
       "   invoice_amount_net  invoice_amount_total  customer_number    due_date  \\\n",
       "0             52000.0               65000.0           559296  2024-10-15   \n",
       "1            136500.0              170625.0           559298  2024-12-04   \n",
       "2            192000.0              240000.0           559298  2025-01-01   \n",
       "3            133500.0              166875.0           559298  2025-02-02   \n",
       "4            212800.0              266000.0           559298  2025-03-05   \n",
       "\n",
       "  invoice_date final_pay_date month_name  accounting_month  accounting_year  \\\n",
       "0   2024-09-30            NaN  September                 5             2024   \n",
       "1   2024-11-04     2024-12-04   November                 7             2024   \n",
       "2   2024-11-30     2024-12-30   November                 7             2024   \n",
       "3   2024-12-31     2025-01-31   December                 8             2024   \n",
       "4   2025-01-31     2025-03-05    January                 9             2024   \n",
       "\n",
       "  accounting_year_date broker                 client_anon  \n",
       "0           2024-05-28    NaN      Mccoy, Singh and Smith  \n",
       "1           2024-07-04    NaN  Atkinson, Bishop and Cohen  \n",
       "2           2024-07-28    NaN  Atkinson, Bishop and Cohen  \n",
       "3           2024-08-28    NaN  Atkinson, Bishop and Cohen  \n",
       "4           2024-09-28    NaN  Atkinson, Bishop and Cohen  "
      ]
     },
     "metadata": {},
     "output_type": "display_data"
    },
    {
     "name": "stdout",
     "output_type": "stream",
     "text": [
      "--------------------------------------------------------------------------------\n",
      "\n",
      "Loaded data/fct__fortnox_supplier_invoices.csv as df8\n",
      "File: data/fct__fortnox_supplier_invoices.csv\n",
      "Shape: 748 rows × 5 columns\n",
      "\n",
      "First 5 rows of df8:\n"
     ]
    },
    {
     "data": {
      "text/html": [
       "<div>\n",
       "<style scoped>\n",
       "    .dataframe tbody tr th:only-of-type {\n",
       "        vertical-align: middle;\n",
       "    }\n",
       "\n",
       "    .dataframe tbody tr th {\n",
       "        vertical-align: top;\n",
       "    }\n",
       "\n",
       "    .dataframe thead th {\n",
       "        text-align: right;\n",
       "    }\n",
       "</style>\n",
       "<table border=\"1\" class=\"dataframe\">\n",
       "  <thead>\n",
       "    <tr style=\"text-align: right;\">\n",
       "      <th></th>\n",
       "      <th>invoice_payment</th>\n",
       "      <th>categorization</th>\n",
       "      <th>invoice_date</th>\n",
       "      <th>due_date</th>\n",
       "      <th>final_pay_date</th>\n",
       "    </tr>\n",
       "  </thead>\n",
       "  <tbody>\n",
       "    <tr>\n",
       "      <th>0</th>\n",
       "      <td>296.50</td>\n",
       "      <td>mobile_costs</td>\n",
       "      <td>2019-11-04</td>\n",
       "      <td>2019-11-28</td>\n",
       "      <td>2019-11-26</td>\n",
       "    </tr>\n",
       "    <tr>\n",
       "      <th>1</th>\n",
       "      <td>253.20</td>\n",
       "      <td>mobile_costs</td>\n",
       "      <td>2019-10-03</td>\n",
       "      <td>2019-10-27</td>\n",
       "      <td>2019-10-25</td>\n",
       "    </tr>\n",
       "    <tr>\n",
       "      <th>2</th>\n",
       "      <td>516.55</td>\n",
       "      <td>mobile_costs</td>\n",
       "      <td>2020-04-01</td>\n",
       "      <td>2020-04-01</td>\n",
       "      <td>2020-04-27</td>\n",
       "    </tr>\n",
       "    <tr>\n",
       "      <th>3</th>\n",
       "      <td>452.71</td>\n",
       "      <td>mobile_costs</td>\n",
       "      <td>2020-03-03</td>\n",
       "      <td>2020-03-27</td>\n",
       "      <td>2020-04-08</td>\n",
       "    </tr>\n",
       "    <tr>\n",
       "      <th>4</th>\n",
       "      <td>353.05</td>\n",
       "      <td>mobile_costs</td>\n",
       "      <td>2020-02-03</td>\n",
       "      <td>2020-02-27</td>\n",
       "      <td>2020-02-05</td>\n",
       "    </tr>\n",
       "  </tbody>\n",
       "</table>\n",
       "</div>"
      ],
      "text/plain": [
       "   invoice_payment categorization invoice_date    due_date final_pay_date\n",
       "0           296.50   mobile_costs   2019-11-04  2019-11-28     2019-11-26\n",
       "1           253.20   mobile_costs   2019-10-03  2019-10-27     2019-10-25\n",
       "2           516.55   mobile_costs   2020-04-01  2020-04-01     2020-04-27\n",
       "3           452.71   mobile_costs   2020-03-03  2020-03-27     2020-04-08\n",
       "4           353.05   mobile_costs   2020-02-03  2020-02-27     2020-02-05"
      ]
     },
     "metadata": {},
     "output_type": "display_data"
    },
    {
     "name": "stdout",
     "output_type": "stream",
     "text": [
      "--------------------------------------------------------------------------------\n",
      "\n",
      "Loaded data/fct__hubspot_deals__anonymized.csv as df9\n",
      "File: data/fct__hubspot_deals__anonymized.csv\n",
      "Shape: 322 rows × 11 columns\n",
      "\n",
      "First 5 rows of df9:\n"
     ]
    },
    {
     "data": {
      "text/html": [
       "<div>\n",
       "<style scoped>\n",
       "    .dataframe tbody tr th:only-of-type {\n",
       "        vertical-align: middle;\n",
       "    }\n",
       "\n",
       "    .dataframe tbody tr th {\n",
       "        vertical-align: top;\n",
       "    }\n",
       "\n",
       "    .dataframe thead th {\n",
       "        text-align: right;\n",
       "    }\n",
       "</style>\n",
       "<table border=\"1\" class=\"dataframe\">\n",
       "  <thead>\n",
       "    <tr style=\"text-align: right;\">\n",
       "      <th></th>\n",
       "      <th>deal_id</th>\n",
       "      <th>deal_amount</th>\n",
       "      <th>deal_stage</th>\n",
       "      <th>deal_close_probability</th>\n",
       "      <th>create_date</th>\n",
       "      <th>last_modified_date</th>\n",
       "      <th>close_date</th>\n",
       "      <th>owner_id</th>\n",
       "      <th>is_archived</th>\n",
       "      <th>weighted_deal_amount</th>\n",
       "      <th>deal_name_anon</th>\n",
       "    </tr>\n",
       "  </thead>\n",
       "  <tbody>\n",
       "    <tr>\n",
       "      <th>0</th>\n",
       "      <td>12204336178</td>\n",
       "      <td>1000000.0</td>\n",
       "      <td>closedlost</td>\n",
       "      <td>0.0</td>\n",
       "      <td>2023-02-17 15:36:41.602000 UTC</td>\n",
       "      <td>2023-03-17 10:52:17.288000 UTC</td>\n",
       "      <td>2023-02-27 11:15:06.295000 UTC</td>\n",
       "      <td>184321862</td>\n",
       "      <td>False</td>\n",
       "      <td>0.0</td>\n",
       "      <td>Dometic - Data Solution Architect role</td>\n",
       "    </tr>\n",
       "    <tr>\n",
       "      <th>1</th>\n",
       "      <td>15856959370</td>\n",
       "      <td>1000000.0</td>\n",
       "      <td>closedlost</td>\n",
       "      <td>0.0</td>\n",
       "      <td>2023-10-31 08:43:47.711000 UTC</td>\n",
       "      <td>2023-11-17 09:41:31.071000 UTC</td>\n",
       "      <td>2023-11-17 09:41:30.971000 UTC</td>\n",
       "      <td>184321862</td>\n",
       "      <td>False</td>\n",
       "      <td>0.0</td>\n",
       "      <td>Morris, Juarez and Chavez - Optimize delivery ...</td>\n",
       "    </tr>\n",
       "    <tr>\n",
       "      <th>2</th>\n",
       "      <td>18757261362</td>\n",
       "      <td>1200000.0</td>\n",
       "      <td>closedlost</td>\n",
       "      <td>0.0</td>\n",
       "      <td>2024-04-19 12:24:49.100000 UTC</td>\n",
       "      <td>2024-05-17 12:08:02.490000 UTC</td>\n",
       "      <td>2024-05-17 12:07:46.527000 UTC</td>\n",
       "      <td>184321862</td>\n",
       "      <td>False</td>\n",
       "      <td>0.0</td>\n",
       "      <td>ICA Banken GCP Architect</td>\n",
       "    </tr>\n",
       "    <tr>\n",
       "      <th>3</th>\n",
       "      <td>17014095971</td>\n",
       "      <td>1000000.0</td>\n",
       "      <td>closedlost</td>\n",
       "      <td>0.0</td>\n",
       "      <td>2024-01-18 10:32:41.435000 UTC</td>\n",
       "      <td>2024-02-23 08:12:52.206000 UTC</td>\n",
       "      <td>2024-02-23 08:12:46.209000 UTC</td>\n",
       "      <td>184321862</td>\n",
       "      <td>False</td>\n",
       "      <td>0.0</td>\n",
       "      <td>Morris, Juarez and Chavez Miller, Kidd and Dic...</td>\n",
       "    </tr>\n",
       "    <tr>\n",
       "      <th>4</th>\n",
       "      <td>20551258523</td>\n",
       "      <td>600000.0</td>\n",
       "      <td>closedlost</td>\n",
       "      <td>0.0</td>\n",
       "      <td>2024-07-05 13:08:26.064000 UTC</td>\n",
       "      <td>2024-12-13 13:18:34.627000 UTC</td>\n",
       "      <td>2024-12-13 13:18:30.146000 UTC</td>\n",
       "      <td>184321862</td>\n",
       "      <td>False</td>\n",
       "      <td>0.0</td>\n",
       "      <td>Morris, Juarez and Chavez AI opportunities</td>\n",
       "    </tr>\n",
       "  </tbody>\n",
       "</table>\n",
       "</div>"
      ],
      "text/plain": [
       "       deal_id  deal_amount  deal_stage  deal_close_probability  \\\n",
       "0  12204336178    1000000.0  closedlost                     0.0   \n",
       "1  15856959370    1000000.0  closedlost                     0.0   \n",
       "2  18757261362    1200000.0  closedlost                     0.0   \n",
       "3  17014095971    1000000.0  closedlost                     0.0   \n",
       "4  20551258523     600000.0  closedlost                     0.0   \n",
       "\n",
       "                      create_date              last_modified_date  \\\n",
       "0  2023-02-17 15:36:41.602000 UTC  2023-03-17 10:52:17.288000 UTC   \n",
       "1  2023-10-31 08:43:47.711000 UTC  2023-11-17 09:41:31.071000 UTC   \n",
       "2  2024-04-19 12:24:49.100000 UTC  2024-05-17 12:08:02.490000 UTC   \n",
       "3  2024-01-18 10:32:41.435000 UTC  2024-02-23 08:12:52.206000 UTC   \n",
       "4  2024-07-05 13:08:26.064000 UTC  2024-12-13 13:18:34.627000 UTC   \n",
       "\n",
       "                       close_date   owner_id  is_archived  \\\n",
       "0  2023-02-27 11:15:06.295000 UTC  184321862        False   \n",
       "1  2023-11-17 09:41:30.971000 UTC  184321862        False   \n",
       "2  2024-05-17 12:07:46.527000 UTC  184321862        False   \n",
       "3  2024-02-23 08:12:46.209000 UTC  184321862        False   \n",
       "4  2024-12-13 13:18:30.146000 UTC  184321862        False   \n",
       "\n",
       "   weighted_deal_amount                                     deal_name_anon  \n",
       "0                   0.0             Dometic - Data Solution Architect role  \n",
       "1                   0.0  Morris, Juarez and Chavez - Optimize delivery ...  \n",
       "2                   0.0                           ICA Banken GCP Architect  \n",
       "3                   0.0  Morris, Juarez and Chavez Miller, Kidd and Dic...  \n",
       "4                   0.0         Morris, Juarez and Chavez AI opportunities  "
      ]
     },
     "metadata": {},
     "output_type": "display_data"
    },
    {
     "name": "stdout",
     "output_type": "stream",
     "text": [
      "--------------------------------------------------------------------------------\n",
      "\n",
      "Loaded data/fct__time_entries.csv as df10\n",
      "File: data/fct__time_entries.csv\n",
      "Shape: 9808 rows × 7 columns\n",
      "\n",
      "First 5 rows of df10:\n"
     ]
    },
    {
     "data": {
      "text/html": [
       "<div>\n",
       "<style scoped>\n",
       "    .dataframe tbody tr th:only-of-type {\n",
       "        vertical-align: middle;\n",
       "    }\n",
       "\n",
       "    .dataframe tbody tr th {\n",
       "        vertical-align: top;\n",
       "    }\n",
       "\n",
       "    .dataframe thead th {\n",
       "        text-align: right;\n",
       "    }\n",
       "</style>\n",
       "<table border=\"1\" class=\"dataframe\">\n",
       "  <thead>\n",
       "    <tr style=\"text-align: right;\">\n",
       "      <th></th>\n",
       "      <th>dt</th>\n",
       "      <th>time_entry_id</th>\n",
       "      <th>project_id</th>\n",
       "      <th>user_id</th>\n",
       "      <th>billable</th>\n",
       "      <th>hours</th>\n",
       "      <th>billable_hours</th>\n",
       "    </tr>\n",
       "  </thead>\n",
       "  <tbody>\n",
       "    <tr>\n",
       "      <th>0</th>\n",
       "      <td>2025-11-28</td>\n",
       "      <td>67c592453f4d6b42ba2ee7bb</td>\n",
       "      <td>60106d6e9ab6ce7c1dacbc9c</td>\n",
       "      <td>64e5f63d97f5910c716406b8</td>\n",
       "      <td>False</td>\n",
       "      <td>8.0</td>\n",
       "      <td>NaN</td>\n",
       "    </tr>\n",
       "    <tr>\n",
       "      <th>1</th>\n",
       "      <td>2025-11-27</td>\n",
       "      <td>67c592453f4d6b42ba2ee7ba</td>\n",
       "      <td>60106d6e9ab6ce7c1dacbc9c</td>\n",
       "      <td>64e5f63d97f5910c716406b8</td>\n",
       "      <td>False</td>\n",
       "      <td>8.0</td>\n",
       "      <td>NaN</td>\n",
       "    </tr>\n",
       "    <tr>\n",
       "      <th>2</th>\n",
       "      <td>2025-11-26</td>\n",
       "      <td>67c592453f4d6b42ba2ee7b9</td>\n",
       "      <td>60106d6e9ab6ce7c1dacbc9c</td>\n",
       "      <td>64e5f63d97f5910c716406b8</td>\n",
       "      <td>False</td>\n",
       "      <td>8.0</td>\n",
       "      <td>NaN</td>\n",
       "    </tr>\n",
       "    <tr>\n",
       "      <th>3</th>\n",
       "      <td>2025-11-25</td>\n",
       "      <td>67c592453f4d6b42ba2ee7b8</td>\n",
       "      <td>60106d6e9ab6ce7c1dacbc9c</td>\n",
       "      <td>64e5f63d97f5910c716406b8</td>\n",
       "      <td>False</td>\n",
       "      <td>8.0</td>\n",
       "      <td>NaN</td>\n",
       "    </tr>\n",
       "    <tr>\n",
       "      <th>4</th>\n",
       "      <td>2025-11-24</td>\n",
       "      <td>67c592453f4d6b42ba2ee7b7</td>\n",
       "      <td>60106d6e9ab6ce7c1dacbc9c</td>\n",
       "      <td>64e5f63d97f5910c716406b8</td>\n",
       "      <td>False</td>\n",
       "      <td>8.0</td>\n",
       "      <td>NaN</td>\n",
       "    </tr>\n",
       "  </tbody>\n",
       "</table>\n",
       "</div>"
      ],
      "text/plain": [
       "           dt             time_entry_id                project_id  \\\n",
       "0  2025-11-28  67c592453f4d6b42ba2ee7bb  60106d6e9ab6ce7c1dacbc9c   \n",
       "1  2025-11-27  67c592453f4d6b42ba2ee7ba  60106d6e9ab6ce7c1dacbc9c   \n",
       "2  2025-11-26  67c592453f4d6b42ba2ee7b9  60106d6e9ab6ce7c1dacbc9c   \n",
       "3  2025-11-25  67c592453f4d6b42ba2ee7b8  60106d6e9ab6ce7c1dacbc9c   \n",
       "4  2025-11-24  67c592453f4d6b42ba2ee7b7  60106d6e9ab6ce7c1dacbc9c   \n",
       "\n",
       "                    user_id  billable  hours  billable_hours  \n",
       "0  64e5f63d97f5910c716406b8     False    8.0             NaN  \n",
       "1  64e5f63d97f5910c716406b8     False    8.0             NaN  \n",
       "2  64e5f63d97f5910c716406b8     False    8.0             NaN  \n",
       "3  64e5f63d97f5910c716406b8     False    8.0             NaN  \n",
       "4  64e5f63d97f5910c716406b8     False    8.0             NaN  "
      ]
     },
     "metadata": {},
     "output_type": "display_data"
    },
    {
     "name": "stdout",
     "output_type": "stream",
     "text": [
      "--------------------------------------------------------------------------------\n",
      "\n",
      "Loaded data/stg_qbis__activity_time.csv as df11\n",
      "File: data/stg_qbis__activity_time.csv\n",
      "Shape: 866 rows × 8 columns\n",
      "\n",
      "First 5 rows of df11:\n"
     ]
    },
    {
     "data": {
      "text/html": [
       "<div>\n",
       "<style scoped>\n",
       "    .dataframe tbody tr th:only-of-type {\n",
       "        vertical-align: middle;\n",
       "    }\n",
       "\n",
       "    .dataframe tbody tr th {\n",
       "        vertical-align: top;\n",
       "    }\n",
       "\n",
       "    .dataframe thead th {\n",
       "        text-align: right;\n",
       "    }\n",
       "</style>\n",
       "<table border=\"1\" class=\"dataframe\">\n",
       "  <thead>\n",
       "    <tr style=\"text-align: right;\">\n",
       "      <th></th>\n",
       "      <th>activity_time_id</th>\n",
       "      <th>employee_id</th>\n",
       "      <th>activity_id</th>\n",
       "      <th>activity_date</th>\n",
       "      <th>minutes</th>\n",
       "      <th>factor_value</th>\n",
       "      <th>notes_internal</th>\n",
       "      <th>processed_at</th>\n",
       "    </tr>\n",
       "  </thead>\n",
       "  <tbody>\n",
       "    <tr>\n",
       "      <th>0</th>\n",
       "      <td>750</td>\n",
       "      <td>5</td>\n",
       "      <td>20</td>\n",
       "      <td>2025-05-10</td>\n",
       "      <td>0</td>\n",
       "      <td>0.0</td>\n",
       "      <td>Data Innovation Summit + Interna möten fredag</td>\n",
       "      <td>2025-09-08 05:26:08.566517 UTC</td>\n",
       "    </tr>\n",
       "    <tr>\n",
       "      <th>1</th>\n",
       "      <td>1256</td>\n",
       "      <td>3</td>\n",
       "      <td>17</td>\n",
       "      <td>2025-06-26</td>\n",
       "      <td>30</td>\n",
       "      <td>1.0</td>\n",
       "      <td>NaN</td>\n",
       "      <td>2025-09-08 05:26:08.566517 UTC</td>\n",
       "    </tr>\n",
       "    <tr>\n",
       "      <th>2</th>\n",
       "      <td>1255</td>\n",
       "      <td>3</td>\n",
       "      <td>17</td>\n",
       "      <td>2025-06-25</td>\n",
       "      <td>30</td>\n",
       "      <td>1.0</td>\n",
       "      <td>NaN</td>\n",
       "      <td>2025-09-08 05:26:08.566517 UTC</td>\n",
       "    </tr>\n",
       "    <tr>\n",
       "      <th>3</th>\n",
       "      <td>1257</td>\n",
       "      <td>3</td>\n",
       "      <td>17</td>\n",
       "      <td>2025-06-27</td>\n",
       "      <td>30</td>\n",
       "      <td>1.0</td>\n",
       "      <td>NaN</td>\n",
       "      <td>2025-09-08 05:26:08.566517 UTC</td>\n",
       "    </tr>\n",
       "    <tr>\n",
       "      <th>4</th>\n",
       "      <td>1564</td>\n",
       "      <td>3</td>\n",
       "      <td>21</td>\n",
       "      <td>2025-08-21</td>\n",
       "      <td>30</td>\n",
       "      <td>1.0</td>\n",
       "      <td>NaN</td>\n",
       "      <td>2025-09-08 05:26:08.566517 UTC</td>\n",
       "    </tr>\n",
       "  </tbody>\n",
       "</table>\n",
       "</div>"
      ],
      "text/plain": [
       "   activity_time_id  employee_id  activity_id activity_date  minutes  \\\n",
       "0               750            5           20    2025-05-10        0   \n",
       "1              1256            3           17    2025-06-26       30   \n",
       "2              1255            3           17    2025-06-25       30   \n",
       "3              1257            3           17    2025-06-27       30   \n",
       "4              1564            3           21    2025-08-21       30   \n",
       "\n",
       "   factor_value                                 notes_internal  \\\n",
       "0           0.0  Data Innovation Summit + Interna möten fredag   \n",
       "1           1.0                                            NaN   \n",
       "2           1.0                                            NaN   \n",
       "3           1.0                                            NaN   \n",
       "4           1.0                                            NaN   \n",
       "\n",
       "                     processed_at  \n",
       "0  2025-09-08 05:26:08.566517 UTC  \n",
       "1  2025-09-08 05:26:08.566517 UTC  \n",
       "2  2025-09-08 05:26:08.566517 UTC  \n",
       "3  2025-09-08 05:26:08.566517 UTC  \n",
       "4  2025-09-08 05:26:08.566517 UTC  "
      ]
     },
     "metadata": {},
     "output_type": "display_data"
    },
    {
     "name": "stdout",
     "output_type": "stream",
     "text": [
      "--------------------------------------------------------------------------------\n",
      "\n",
      "Loaded data/stg_qbis__project_activities.csv as df12\n",
      "File: data/stg_qbis__project_activities.csv\n",
      "Shape: 25 rows × 20 columns\n",
      "\n",
      "First 5 rows of df12:\n"
     ]
    },
    {
     "data": {
      "text/html": [
       "<div>\n",
       "<style scoped>\n",
       "    .dataframe tbody tr th:only-of-type {\n",
       "        vertical-align: middle;\n",
       "    }\n",
       "\n",
       "    .dataframe tbody tr th {\n",
       "        vertical-align: top;\n",
       "    }\n",
       "\n",
       "    .dataframe thead th {\n",
       "        text-align: right;\n",
       "    }\n",
       "</style>\n",
       "<table border=\"1\" class=\"dataframe\">\n",
       "  <thead>\n",
       "    <tr style=\"text-align: right;\">\n",
       "      <th></th>\n",
       "      <th>project_activity_id</th>\n",
       "      <th>project_id</th>\n",
       "      <th>phase_id</th>\n",
       "      <th>activity_name</th>\n",
       "      <th>is_active</th>\n",
       "      <th>is_complete</th>\n",
       "      <th>is_chargeable</th>\n",
       "      <th>is_locked</th>\n",
       "      <th>has_warning</th>\n",
       "      <th>is_group_budget</th>\n",
       "      <th>start_date</th>\n",
       "      <th>end_date</th>\n",
       "      <th>chargeable_date</th>\n",
       "      <th>max_hours</th>\n",
       "      <th>budget_hours</th>\n",
       "      <th>factor</th>\n",
       "      <th>cost_per_hour</th>\n",
       "      <th>price_per_hour</th>\n",
       "      <th>price_fixed</th>\n",
       "      <th>processed_at</th>\n",
       "    </tr>\n",
       "  </thead>\n",
       "  <tbody>\n",
       "    <tr>\n",
       "      <th>0</th>\n",
       "      <td>20</td>\n",
       "      <td>19</td>\n",
       "      <td>0</td>\n",
       "      <td>Internal</td>\n",
       "      <td>True</td>\n",
       "      <td>False</td>\n",
       "      <td>False</td>\n",
       "      <td>False</td>\n",
       "      <td>False</td>\n",
       "      <td>False</td>\n",
       "      <td>NaN</td>\n",
       "      <td>NaN</td>\n",
       "      <td>NaN</td>\n",
       "      <td>0.0</td>\n",
       "      <td>0.0</td>\n",
       "      <td>0.0</td>\n",
       "      <td>0.0</td>\n",
       "      <td>0.0</td>\n",
       "      <td>0.0</td>\n",
       "      <td>2025-09-08 05:25:58.210172 UTC</td>\n",
       "    </tr>\n",
       "    <tr>\n",
       "      <th>1</th>\n",
       "      <td>24</td>\n",
       "      <td>23</td>\n",
       "      <td>0</td>\n",
       "      <td>Internal</td>\n",
       "      <td>True</td>\n",
       "      <td>False</td>\n",
       "      <td>False</td>\n",
       "      <td>False</td>\n",
       "      <td>False</td>\n",
       "      <td>False</td>\n",
       "      <td>NaN</td>\n",
       "      <td>NaN</td>\n",
       "      <td>NaN</td>\n",
       "      <td>0.0</td>\n",
       "      <td>0.0</td>\n",
       "      <td>0.0</td>\n",
       "      <td>0.0</td>\n",
       "      <td>0.0</td>\n",
       "      <td>0.0</td>\n",
       "      <td>2025-09-08 05:25:58.210172 UTC</td>\n",
       "    </tr>\n",
       "    <tr>\n",
       "      <th>2</th>\n",
       "      <td>23</td>\n",
       "      <td>22</td>\n",
       "      <td>0</td>\n",
       "      <td>Internal</td>\n",
       "      <td>True</td>\n",
       "      <td>False</td>\n",
       "      <td>False</td>\n",
       "      <td>False</td>\n",
       "      <td>False</td>\n",
       "      <td>False</td>\n",
       "      <td>NaN</td>\n",
       "      <td>NaN</td>\n",
       "      <td>NaN</td>\n",
       "      <td>0.0</td>\n",
       "      <td>0.0</td>\n",
       "      <td>0.0</td>\n",
       "      <td>0.0</td>\n",
       "      <td>0.0</td>\n",
       "      <td>0.0</td>\n",
       "      <td>2025-09-08 05:25:58.210172 UTC</td>\n",
       "    </tr>\n",
       "    <tr>\n",
       "      <th>3</th>\n",
       "      <td>22</td>\n",
       "      <td>21</td>\n",
       "      <td>0</td>\n",
       "      <td>Internal</td>\n",
       "      <td>True</td>\n",
       "      <td>False</td>\n",
       "      <td>False</td>\n",
       "      <td>False</td>\n",
       "      <td>False</td>\n",
       "      <td>False</td>\n",
       "      <td>NaN</td>\n",
       "      <td>NaN</td>\n",
       "      <td>NaN</td>\n",
       "      <td>0.0</td>\n",
       "      <td>0.0</td>\n",
       "      <td>0.0</td>\n",
       "      <td>0.0</td>\n",
       "      <td>0.0</td>\n",
       "      <td>0.0</td>\n",
       "      <td>2025-09-08 05:25:58.210172 UTC</td>\n",
       "    </tr>\n",
       "    <tr>\n",
       "      <th>4</th>\n",
       "      <td>2</td>\n",
       "      <td>1</td>\n",
       "      <td>0</td>\n",
       "      <td>Aktivitet 1</td>\n",
       "      <td>True</td>\n",
       "      <td>False</td>\n",
       "      <td>True</td>\n",
       "      <td>False</td>\n",
       "      <td>False</td>\n",
       "      <td>False</td>\n",
       "      <td>NaN</td>\n",
       "      <td>NaN</td>\n",
       "      <td>NaN</td>\n",
       "      <td>0.0</td>\n",
       "      <td>0.0</td>\n",
       "      <td>1.0</td>\n",
       "      <td>0.0</td>\n",
       "      <td>0.0</td>\n",
       "      <td>0.0</td>\n",
       "      <td>2025-09-08 05:25:58.210172 UTC</td>\n",
       "    </tr>\n",
       "  </tbody>\n",
       "</table>\n",
       "</div>"
      ],
      "text/plain": [
       "   project_activity_id  project_id  phase_id activity_name  is_active  \\\n",
       "0                   20          19         0      Internal       True   \n",
       "1                   24          23         0      Internal       True   \n",
       "2                   23          22         0      Internal       True   \n",
       "3                   22          21         0      Internal       True   \n",
       "4                    2           1         0   Aktivitet 1       True   \n",
       "\n",
       "   is_complete  is_chargeable  is_locked  has_warning  is_group_budget  \\\n",
       "0        False          False      False        False            False   \n",
       "1        False          False      False        False            False   \n",
       "2        False          False      False        False            False   \n",
       "3        False          False      False        False            False   \n",
       "4        False           True      False        False            False   \n",
       "\n",
       "   start_date  end_date  chargeable_date  max_hours  budget_hours  factor  \\\n",
       "0         NaN       NaN              NaN        0.0           0.0     0.0   \n",
       "1         NaN       NaN              NaN        0.0           0.0     0.0   \n",
       "2         NaN       NaN              NaN        0.0           0.0     0.0   \n",
       "3         NaN       NaN              NaN        0.0           0.0     0.0   \n",
       "4         NaN       NaN              NaN        0.0           0.0     1.0   \n",
       "\n",
       "   cost_per_hour  price_per_hour  price_fixed                    processed_at  \n",
       "0            0.0             0.0          0.0  2025-09-08 05:25:58.210172 UTC  \n",
       "1            0.0             0.0          0.0  2025-09-08 05:25:58.210172 UTC  \n",
       "2            0.0             0.0          0.0  2025-09-08 05:25:58.210172 UTC  \n",
       "3            0.0             0.0          0.0  2025-09-08 05:25:58.210172 UTC  \n",
       "4            0.0             0.0          0.0  2025-09-08 05:25:58.210172 UTC  "
      ]
     },
     "metadata": {},
     "output_type": "display_data"
    },
    {
     "name": "stdout",
     "output_type": "stream",
     "text": [
      "--------------------------------------------------------------------------------\n",
      "\n",
      "Loaded data/z.csv as df13\n",
      "File: data/z.csv\n",
      "Shape: 103 rows × 2 columns\n",
      "\n",
      "First 5 rows of df13:\n"
     ]
    },
    {
     "data": {
      "text/html": [
       "<div>\n",
       "<style scoped>\n",
       "    .dataframe tbody tr th:only-of-type {\n",
       "        vertical-align: middle;\n",
       "    }\n",
       "\n",
       "    .dataframe tbody tr th {\n",
       "        vertical-align: top;\n",
       "    }\n",
       "\n",
       "    .dataframe thead th {\n",
       "        text-align: right;\n",
       "    }\n",
       "</style>\n",
       "<table border=\"1\" class=\"dataframe\">\n",
       "  <thead>\n",
       "    <tr style=\"text-align: right;\">\n",
       "      <th></th>\n",
       "      <th>role_id</th>\n",
       "      <th>enddate</th>\n",
       "    </tr>\n",
       "  </thead>\n",
       "  <tbody>\n",
       "    <tr>\n",
       "      <th>0</th>\n",
       "      <td>68fb318f-438b-4257-95f2-3893564ebd01</td>\n",
       "      <td>2023-11-30</td>\n",
       "    </tr>\n",
       "    <tr>\n",
       "      <th>1</th>\n",
       "      <td>b5a1a16b-99d7-4895-b927-0d0afa074c35</td>\n",
       "      <td>NaN</td>\n",
       "    </tr>\n",
       "    <tr>\n",
       "      <th>2</th>\n",
       "      <td>6fad142b-c2f6-4a68-b3e6-aa309dbb0bc7</td>\n",
       "      <td>2023-05-01</td>\n",
       "    </tr>\n",
       "    <tr>\n",
       "      <th>3</th>\n",
       "      <td>849de986-d3ce-40d4-9b7d-ac24ad54ddcf</td>\n",
       "      <td>2023-04-28</td>\n",
       "    </tr>\n",
       "    <tr>\n",
       "      <th>4</th>\n",
       "      <td>185b42da-30b3-80c5-b9c3-ca3ea65ff40b</td>\n",
       "      <td>2025-03-05</td>\n",
       "    </tr>\n",
       "  </tbody>\n",
       "</table>\n",
       "</div>"
      ],
      "text/plain": [
       "                                role_id     enddate\n",
       "0  68fb318f-438b-4257-95f2-3893564ebd01  2023-11-30\n",
       "1  b5a1a16b-99d7-4895-b927-0d0afa074c35         NaN\n",
       "2  6fad142b-c2f6-4a68-b3e6-aa309dbb0bc7  2023-05-01\n",
       "3  849de986-d3ce-40d4-9b7d-ac24ad54ddcf  2023-04-28\n",
       "4  185b42da-30b3-80c5-b9c3-ca3ea65ff40b  2025-03-05"
      ]
     },
     "metadata": {},
     "output_type": "display_data"
    },
    {
     "name": "stdout",
     "output_type": "stream",
     "text": [
      "--------------------------------------------------------------------------------\n",
      "\n",
      "df1 is from file: data/dim__hubspot_sales_pipeline_stages.csv\n"
     ]
    }
   ],
   "source": [
    "dataframes, file_mappings = load_all_csv_files()\n",
    "\n",
    "for name, df in dataframes.items():\n",
    "    globals()[name] = df\n",
    "\n",
    "print(f\"df1 is from file: {file_mappings['df1']}\")"
   ]
  },
  {
   "cell_type": "markdown",
   "id": "0a18a6af",
   "metadata": {},
   "source": [
    "## Data modelling"
   ]
  },
  {
   "cell_type": "code",
   "execution_count": 97,
   "id": "6477af53",
   "metadata": {},
   "outputs": [
    {
     "data": {
      "text/html": [
       "<div>\n",
       "<style scoped>\n",
       "    .dataframe tbody tr th:only-of-type {\n",
       "        vertical-align: middle;\n",
       "    }\n",
       "\n",
       "    .dataframe tbody tr th {\n",
       "        vertical-align: top;\n",
       "    }\n",
       "\n",
       "    .dataframe thead th {\n",
       "        text-align: right;\n",
       "    }\n",
       "</style>\n",
       "<table border=\"1\" class=\"dataframe\">\n",
       "  <thead>\n",
       "    <tr style=\"text-align: right;\">\n",
       "      <th></th>\n",
       "      <th>invoice_payment</th>\n",
       "      <th>categorization</th>\n",
       "      <th>invoice_date</th>\n",
       "      <th>due_date</th>\n",
       "      <th>final_pay_date</th>\n",
       "    </tr>\n",
       "  </thead>\n",
       "  <tbody>\n",
       "    <tr>\n",
       "      <th>720</th>\n",
       "      <td>29150.00</td>\n",
       "      <td>finance_costs</td>\n",
       "      <td>2024-06-07</td>\n",
       "      <td>2024-06-30</td>\n",
       "      <td>2024-07-01</td>\n",
       "    </tr>\n",
       "    <tr>\n",
       "      <th>132</th>\n",
       "      <td>4000000.00</td>\n",
       "      <td>Other</td>\n",
       "      <td>2024-03-07</td>\n",
       "      <td>2024-03-08</td>\n",
       "      <td>2024-03-11</td>\n",
       "    </tr>\n",
       "    <tr>\n",
       "      <th>649</th>\n",
       "      <td>5200.00</td>\n",
       "      <td>accounting_costs</td>\n",
       "      <td>2023-07-03</td>\n",
       "      <td>2023-07-18</td>\n",
       "      <td>2023-07-28</td>\n",
       "    </tr>\n",
       "    <tr>\n",
       "      <th>116</th>\n",
       "      <td>1224.00</td>\n",
       "      <td>Other</td>\n",
       "      <td>2020-10-15</td>\n",
       "      <td>2020-11-14</td>\n",
       "      <td>2020-10-15</td>\n",
       "    </tr>\n",
       "    <tr>\n",
       "      <th>48</th>\n",
       "      <td>3813.00</td>\n",
       "      <td>accounting_costs</td>\n",
       "      <td>2022-05-02</td>\n",
       "      <td>2022-05-17</td>\n",
       "      <td>2022-05-30</td>\n",
       "    </tr>\n",
       "    <tr>\n",
       "      <th>70</th>\n",
       "      <td>18238.00</td>\n",
       "      <td>accounting_costs</td>\n",
       "      <td>2024-02-15</td>\n",
       "      <td>2024-03-01</td>\n",
       "      <td>2024-03-05</td>\n",
       "    </tr>\n",
       "    <tr>\n",
       "      <th>631</th>\n",
       "      <td>4400.00</td>\n",
       "      <td>accounting_costs</td>\n",
       "      <td>2021-05-17</td>\n",
       "      <td>2021-06-01</td>\n",
       "      <td>2021-05-24</td>\n",
       "    </tr>\n",
       "    <tr>\n",
       "      <th>377</th>\n",
       "      <td>44834.00</td>\n",
       "      <td>Other</td>\n",
       "      <td>2024-01-04</td>\n",
       "      <td>2024-01-15</td>\n",
       "      <td>2024-01-17</td>\n",
       "    </tr>\n",
       "    <tr>\n",
       "      <th>347</th>\n",
       "      <td>1730.86</td>\n",
       "      <td>Other</td>\n",
       "      <td>2025-07-04</td>\n",
       "      <td>2025-08-03</td>\n",
       "      <td>2025-08-04</td>\n",
       "    </tr>\n",
       "    <tr>\n",
       "      <th>550</th>\n",
       "      <td>884.00</td>\n",
       "      <td>insurance_costs</td>\n",
       "      <td>2020-05-07</td>\n",
       "      <td>2020-05-27</td>\n",
       "      <td>2020-05-18</td>\n",
       "    </tr>\n",
       "  </tbody>\n",
       "</table>\n",
       "</div>"
      ],
      "text/plain": [
       "     invoice_payment    categorization invoice_date    due_date final_pay_date\n",
       "720         29150.00     finance_costs   2024-06-07  2024-06-30     2024-07-01\n",
       "132       4000000.00             Other   2024-03-07  2024-03-08     2024-03-11\n",
       "649          5200.00  accounting_costs   2023-07-03  2023-07-18     2023-07-28\n",
       "116          1224.00             Other   2020-10-15  2020-11-14     2020-10-15\n",
       "48           3813.00  accounting_costs   2022-05-02  2022-05-17     2022-05-30\n",
       "70          18238.00  accounting_costs   2024-02-15  2024-03-01     2024-03-05\n",
       "631          4400.00  accounting_costs   2021-05-17  2021-06-01     2021-05-24\n",
       "377         44834.00             Other   2024-01-04  2024-01-15     2024-01-17\n",
       "347          1730.86             Other   2025-07-04  2025-08-03     2025-08-04\n",
       "550           884.00   insurance_costs   2020-05-07  2020-05-27     2020-05-18"
      ]
     },
     "execution_count": 97,
     "metadata": {},
     "output_type": "execute_result"
    }
   ],
   "source": [
    "df8.sample(10)"
   ]
  },
  {
   "cell_type": "code",
   "execution_count": 98,
   "id": "6fb8ccc8",
   "metadata": {},
   "outputs": [],
   "source": [
    "# combine and process raw data into datasets for analysis \n",
    "def process_data(df1, df9, df7, df8):\n",
    "    \n",
    "    # store datasets \n",
    "    datasets = {}\n",
    "\n",
    "    # create a sales pipeline dataset\n",
    "    sales_columns_order = [\n",
    "        'deal_id', 'owner_id', 'deal_amount', 'weighted_deal_amount', 'create_date', 'close_date',\n",
    "        'deal_name_anon', 'pipeline_stage', 'pipeline_stage_order'\n",
    "    ]\n",
    "    sales_pipeline = (df9.merge(\n",
    "        df1[['pipeline_stage_id', 'pipeline_stage','pipeline_stage_order']],\n",
    "        left_on='deal_stage',\n",
    "        right_on='pipeline_stage_id',\n",
    "        how='left'\n",
    "    )\n",
    "    .drop(columns=['deal_stage', 'pipeline_stage_id', 'is_archived', 'last_modified_date'])\n",
    "    .reindex(columns=sales_columns_order)\n",
    "    )\n",
    "    date_columns = ['create_date', 'close_date']\n",
    "    for col in date_columns:\n",
    "        sales_pipeline[col] = pd.to_datetime(sales_pipeline[col])\n",
    "    datasets['sales_pipeline'] = sales_pipeline\n",
    "    \n",
    "    # create invoices dataset\n",
    "    date_columns = ['due_date', 'invoice_date', 'final_pay_date', 'accounting_year_date'] \n",
    "    # check for dates with years starting with 21-29 (2100s-2900s) and convert to datetime\n",
    "    for col in date_columns:\n",
    "        df7[col] = df7[col].astype(str).apply(\n",
    "            lambda x: '20' + x[2:] if len(x) >= 2 and x[:2] in ['21', '22', '23', '24', '25', '26', '27', '28', '29'] else x\n",
    "        )\n",
    "        df7[col] = pd.to_datetime(df7[col])\n",
    "    df7['broker'] = df7['broker'].fillna('Direct')\n",
    "    invoices = df7.drop(columns=['month_name', 'accounting_month', 'accounting_year'])\n",
    "    datasets['invoices'] = invoices\n",
    "    \n",
    "    # create payments dataset\n",
    "    date_columns = ['final_pay_date']\n",
    "    for col in date_columns:\n",
    "        df8[col] = pd.to_datetime(df8[col])\n",
    "    payments = df8.drop(columns=['invoice_date', 'due_date']) \n",
    "    datasets['payments'] = payments\n",
    "    \n",
    "    # print info for each dataset\n",
    "    print('-'*100)\n",
    "    print(\"DATASETS CREATED\")\n",
    "    print('-'*100)\n",
    "    for name, dataset in datasets.items():\n",
    "        print(f\"\\n{name.upper()} DATASET:\")\n",
    "        print(f\"Shape: {dataset.shape[0]} rows × {dataset.shape[1]} columns\")\n",
    "        print(\"\\nColumn information:\")\n",
    "        buffer = io.StringIO()\n",
    "        dataset.info(buf=buffer)\n",
    "        info_output = buffer.getvalue()\n",
    "        print(info_output)\n",
    "        print('-'*100)\n",
    "        \n",
    "    # return datasets \n",
    "    return sales_pipeline, invoices, payments"
   ]
  },
  {
   "cell_type": "code",
   "execution_count": 99,
   "id": "08926346",
   "metadata": {},
   "outputs": [
    {
     "name": "stdout",
     "output_type": "stream",
     "text": [
      "----------------------------------------------------------------------------------------------------\n",
      "DATASETS CREATED\n",
      "----------------------------------------------------------------------------------------------------\n",
      "\n",
      "SALES_PIPELINE DATASET:\n",
      "Shape: 322 rows × 9 columns\n",
      "\n",
      "Column information:\n",
      "<class 'pandas.core.frame.DataFrame'>\n",
      "RangeIndex: 322 entries, 0 to 321\n",
      "Data columns (total 9 columns):\n",
      " #   Column                Non-Null Count  Dtype              \n",
      "---  ------                --------------  -----              \n",
      " 0   deal_id               322 non-null    int64              \n",
      " 1   owner_id              322 non-null    int64              \n",
      " 2   deal_amount           279 non-null    float64            \n",
      " 3   weighted_deal_amount  279 non-null    float64            \n",
      " 4   create_date           322 non-null    datetime64[ns, UTC]\n",
      " 5   close_date            322 non-null    datetime64[ns, UTC]\n",
      " 6   deal_name_anon        322 non-null    object             \n",
      " 7   pipeline_stage        322 non-null    object             \n",
      " 8   pipeline_stage_order  322 non-null    int64              \n",
      "dtypes: datetime64[ns, UTC](2), float64(2), int64(3), object(2)\n",
      "memory usage: 22.8+ KB\n",
      "\n",
      "----------------------------------------------------------------------------------------------------\n",
      "\n",
      "INVOICES DATASET:\n",
      "Shape: 615 rows × 9 columns\n",
      "\n",
      "Column information:\n",
      "<class 'pandas.core.frame.DataFrame'>\n",
      "RangeIndex: 615 entries, 0 to 614\n",
      "Data columns (total 9 columns):\n",
      " #   Column                Non-Null Count  Dtype         \n",
      "---  ------                --------------  -----         \n",
      " 0   invoice_amount_net    615 non-null    float64       \n",
      " 1   invoice_amount_total  615 non-null    float64       \n",
      " 2   customer_number       615 non-null    int64         \n",
      " 3   due_date              615 non-null    datetime64[ns]\n",
      " 4   invoice_date          615 non-null    datetime64[ns]\n",
      " 5   final_pay_date        594 non-null    datetime64[ns]\n",
      " 6   accounting_year_date  615 non-null    datetime64[ns]\n",
      " 7   broker                615 non-null    object        \n",
      " 8   client_anon           615 non-null    object        \n",
      "dtypes: datetime64[ns](4), float64(2), int64(1), object(2)\n",
      "memory usage: 43.4+ KB\n",
      "\n",
      "----------------------------------------------------------------------------------------------------\n",
      "\n",
      "PAYMENTS DATASET:\n",
      "Shape: 748 rows × 3 columns\n",
      "\n",
      "Column information:\n",
      "<class 'pandas.core.frame.DataFrame'>\n",
      "RangeIndex: 748 entries, 0 to 747\n",
      "Data columns (total 3 columns):\n",
      " #   Column           Non-Null Count  Dtype         \n",
      "---  ------           --------------  -----         \n",
      " 0   invoice_payment  748 non-null    float64       \n",
      " 1   categorization   748 non-null    object        \n",
      " 2   final_pay_date   729 non-null    datetime64[ns]\n",
      "dtypes: datetime64[ns](1), float64(1), object(1)\n",
      "memory usage: 17.7+ KB\n",
      "\n",
      "----------------------------------------------------------------------------------------------------\n"
     ]
    }
   ],
   "source": [
    "sales_pipeline, invoices, payments = process_data(df1, df9, df7, df8)"
   ]
  },
  {
   "cell_type": "markdown",
   "id": "0909ef53",
   "metadata": {},
   "source": [
    "## Plot sales funnel "
   ]
  },
  {
   "cell_type": "code",
   "execution_count": 100,
   "id": "3c4605cc",
   "metadata": {},
   "outputs": [],
   "source": [
    "# first version only with weighted amount filter \n",
    "def sales_funnel_viz(df, weighted_amount=True):\n",
    "    \"\"\"\n",
    "    Sales funnel visualization using Plotly\n",
    "    \n",
    "    Arguments:\n",
    "    df (DataFrame): Sales pipeline dataframe\n",
    "    weighted_amount (bool): If True, use weighted_deal_amount, otherwise use deal_amount\n",
    "    \n",
    "    Returns:\n",
    "    None: Displays the plotly figure\n",
    "    \"\"\"\n",
    "    # select the appropriate amount column based on the parameter\n",
    "    amount_col = 'weighted_deal_amount' if weighted_amount else 'deal_amount'\n",
    "    amount_title = 'Weighted Deal Amount' if weighted_amount else 'Deal Amount'\n",
    "    \n",
    "    # group data by pipeline stage\n",
    "    funnel_data = df.groupby(['pipeline_stage_order', 'pipeline_stage']).agg(\n",
    "        amount=(amount_col, 'sum'),\n",
    "        deal_count=('deal_id', 'count')\n",
    "    ).reset_index().sort_values('pipeline_stage_order')\n",
    "    \n",
    "    # create stage labels\n",
    "    funnel_data['stage_label'] = funnel_data.apply(\n",
    "        lambda x: f\"Stage {int(x['pipeline_stage_order'])}: {x['pipeline_stage']}\", axis=1\n",
    "    )\n",
    "    \n",
    "    # format amount for hover text\n",
    "    funnel_data['amount_fmt'] = funnel_data['amount'].apply(lambda x: f\"{x:,.2f} SEK\")\n",
    "    \n",
    "    # create hover text\n",
    "    funnel_data['hover_text'] = funnel_data.apply(\n",
    "        lambda x: f\"<b>{x['stage_label']}</b><br>\" +\n",
    "                 f\"{amount_title}: {x['amount_fmt']}<br>\" +\n",
    "                 f\"Number of Deals: {x['deal_count']}\", \n",
    "        axis=1\n",
    "    )\n",
    "    \n",
    "    # create funnel chart\n",
    "    fig = go.Figure()\n",
    "    fig.add_trace(go.Funnel(\n",
    "        name='Sales Funnel',\n",
    "        y=funnel_data['stage_label'],\n",
    "        x=funnel_data['amount'],\n",
    "        textposition=\"inside\",\n",
    "        textinfo=\"value+percent initial\",\n",
    "        opacity=0.7,\n",
    "        marker={\n",
    "            \"color\": [\"#1f77b4\", \"#7fc3e5\", \"#4292c6\", \"#2171b5\", \"#08519c\"][:len(funnel_data)],\n",
    "            \"line\": {\"width\": [1] * len(funnel_data), \"color\": [\"white\"] * len(funnel_data)}\n",
    "        },\n",
    "        hovertext=funnel_data['hover_text'],\n",
    "        hoverinfo='text'\n",
    "    ))\n",
    "    \n",
    "    # add title and labels\n",
    "    fig.update_layout(\n",
    "        title={\n",
    "            'text': f'Sales Pipeline Funnel ({amount_title})',\n",
    "            'y': 0.95,\n",
    "            'x': 0.5,\n",
    "            'xanchor': 'center',\n",
    "            'yanchor': 'top',\n",
    "        },\n",
    "        height=500,\n",
    "        width=800\n",
    "    )\n",
    "    fig.show()\n",
    "    \n",
    "    # display a summary table\n",
    "    print(f\"\\nSales Funnel Summary ({amount_title}):\")\n",
    "    summary_df = funnel_data[['stage_label', 'deal_count', 'amount_fmt']]\n",
    "    summary_df.columns = ['Stage', 'Deal Count', f'{amount_title} (SEK)']\n",
    "    display(summary_df)"
   ]
  },
  {
   "cell_type": "code",
   "execution_count": 101,
   "id": "8794d73e",
   "metadata": {},
   "outputs": [
    {
     "data": {
      "application/vnd.plotly.v1+json": {
       "config": {
        "plotlyServerURL": "https://plot.ly"
       },
       "data": [
        {
         "hoverinfo": "text",
         "hovertext": [
          "<b>Stage 0: Lead</b><br>Weighted Deal Amount: 90,050.00 SEK<br>Number of Deals: 4",
          "<b>Stage 1: Qualification</b><br>Weighted Deal Amount: 438,000.00 SEK<br>Number of Deals: 5",
          "<b>Stage 3: Proposal</b><br>Weighted Deal Amount: 420,000.00 SEK<br>Number of Deals: 2",
          "<b>Stage 4: Closed Won</b><br>Weighted Deal Amount: 54,715,400.00 SEK<br>Number of Deals: 93",
          "<b>Stage 5: Closed Lost</b><br>Weighted Deal Amount: 0.00 SEK<br>Number of Deals: 218"
         ],
         "marker": {
          "color": [
           "#1f77b4",
           "#7fc3e5",
           "#4292c6",
           "#2171b5",
           "#08519c"
          ],
          "line": {
           "color": [
            "white",
            "white",
            "white",
            "white",
            "white"
           ],
           "width": [
            1,
            1,
            1,
            1,
            1
           ]
          }
         },
         "name": "Sales Funnel",
         "opacity": 0.7,
         "textinfo": "value+percent initial",
         "textposition": "inside",
         "type": "funnel",
         "x": [
          90050,
          438000,
          420000,
          54715400,
          0
         ],
         "y": [
          "Stage 0: Lead",
          "Stage 1: Qualification",
          "Stage 3: Proposal",
          "Stage 4: Closed Won",
          "Stage 5: Closed Lost"
         ]
        }
       ],
       "layout": {
        "height": 500,
        "template": {
         "data": {
          "bar": [
           {
            "error_x": {
             "color": "#2a3f5f"
            },
            "error_y": {
             "color": "#2a3f5f"
            },
            "marker": {
             "line": {
              "color": "#E5ECF6",
              "width": 0.5
             },
             "pattern": {
              "fillmode": "overlay",
              "size": 10,
              "solidity": 0.2
             }
            },
            "type": "bar"
           }
          ],
          "barpolar": [
           {
            "marker": {
             "line": {
              "color": "#E5ECF6",
              "width": 0.5
             },
             "pattern": {
              "fillmode": "overlay",
              "size": 10,
              "solidity": 0.2
             }
            },
            "type": "barpolar"
           }
          ],
          "carpet": [
           {
            "aaxis": {
             "endlinecolor": "#2a3f5f",
             "gridcolor": "white",
             "linecolor": "white",
             "minorgridcolor": "white",
             "startlinecolor": "#2a3f5f"
            },
            "baxis": {
             "endlinecolor": "#2a3f5f",
             "gridcolor": "white",
             "linecolor": "white",
             "minorgridcolor": "white",
             "startlinecolor": "#2a3f5f"
            },
            "type": "carpet"
           }
          ],
          "choropleth": [
           {
            "colorbar": {
             "outlinewidth": 0,
             "ticks": ""
            },
            "type": "choropleth"
           }
          ],
          "contour": [
           {
            "colorbar": {
             "outlinewidth": 0,
             "ticks": ""
            },
            "colorscale": [
             [
              0,
              "#0d0887"
             ],
             [
              0.1111111111111111,
              "#46039f"
             ],
             [
              0.2222222222222222,
              "#7201a8"
             ],
             [
              0.3333333333333333,
              "#9c179e"
             ],
             [
              0.4444444444444444,
              "#bd3786"
             ],
             [
              0.5555555555555556,
              "#d8576b"
             ],
             [
              0.6666666666666666,
              "#ed7953"
             ],
             [
              0.7777777777777778,
              "#fb9f3a"
             ],
             [
              0.8888888888888888,
              "#fdca26"
             ],
             [
              1,
              "#f0f921"
             ]
            ],
            "type": "contour"
           }
          ],
          "contourcarpet": [
           {
            "colorbar": {
             "outlinewidth": 0,
             "ticks": ""
            },
            "type": "contourcarpet"
           }
          ],
          "heatmap": [
           {
            "colorbar": {
             "outlinewidth": 0,
             "ticks": ""
            },
            "colorscale": [
             [
              0,
              "#0d0887"
             ],
             [
              0.1111111111111111,
              "#46039f"
             ],
             [
              0.2222222222222222,
              "#7201a8"
             ],
             [
              0.3333333333333333,
              "#9c179e"
             ],
             [
              0.4444444444444444,
              "#bd3786"
             ],
             [
              0.5555555555555556,
              "#d8576b"
             ],
             [
              0.6666666666666666,
              "#ed7953"
             ],
             [
              0.7777777777777778,
              "#fb9f3a"
             ],
             [
              0.8888888888888888,
              "#fdca26"
             ],
             [
              1,
              "#f0f921"
             ]
            ],
            "type": "heatmap"
           }
          ],
          "heatmapgl": [
           {
            "colorbar": {
             "outlinewidth": 0,
             "ticks": ""
            },
            "colorscale": [
             [
              0,
              "#0d0887"
             ],
             [
              0.1111111111111111,
              "#46039f"
             ],
             [
              0.2222222222222222,
              "#7201a8"
             ],
             [
              0.3333333333333333,
              "#9c179e"
             ],
             [
              0.4444444444444444,
              "#bd3786"
             ],
             [
              0.5555555555555556,
              "#d8576b"
             ],
             [
              0.6666666666666666,
              "#ed7953"
             ],
             [
              0.7777777777777778,
              "#fb9f3a"
             ],
             [
              0.8888888888888888,
              "#fdca26"
             ],
             [
              1,
              "#f0f921"
             ]
            ],
            "type": "heatmapgl"
           }
          ],
          "histogram": [
           {
            "marker": {
             "pattern": {
              "fillmode": "overlay",
              "size": 10,
              "solidity": 0.2
             }
            },
            "type": "histogram"
           }
          ],
          "histogram2d": [
           {
            "colorbar": {
             "outlinewidth": 0,
             "ticks": ""
            },
            "colorscale": [
             [
              0,
              "#0d0887"
             ],
             [
              0.1111111111111111,
              "#46039f"
             ],
             [
              0.2222222222222222,
              "#7201a8"
             ],
             [
              0.3333333333333333,
              "#9c179e"
             ],
             [
              0.4444444444444444,
              "#bd3786"
             ],
             [
              0.5555555555555556,
              "#d8576b"
             ],
             [
              0.6666666666666666,
              "#ed7953"
             ],
             [
              0.7777777777777778,
              "#fb9f3a"
             ],
             [
              0.8888888888888888,
              "#fdca26"
             ],
             [
              1,
              "#f0f921"
             ]
            ],
            "type": "histogram2d"
           }
          ],
          "histogram2dcontour": [
           {
            "colorbar": {
             "outlinewidth": 0,
             "ticks": ""
            },
            "colorscale": [
             [
              0,
              "#0d0887"
             ],
             [
              0.1111111111111111,
              "#46039f"
             ],
             [
              0.2222222222222222,
              "#7201a8"
             ],
             [
              0.3333333333333333,
              "#9c179e"
             ],
             [
              0.4444444444444444,
              "#bd3786"
             ],
             [
              0.5555555555555556,
              "#d8576b"
             ],
             [
              0.6666666666666666,
              "#ed7953"
             ],
             [
              0.7777777777777778,
              "#fb9f3a"
             ],
             [
              0.8888888888888888,
              "#fdca26"
             ],
             [
              1,
              "#f0f921"
             ]
            ],
            "type": "histogram2dcontour"
           }
          ],
          "mesh3d": [
           {
            "colorbar": {
             "outlinewidth": 0,
             "ticks": ""
            },
            "type": "mesh3d"
           }
          ],
          "parcoords": [
           {
            "line": {
             "colorbar": {
              "outlinewidth": 0,
              "ticks": ""
             }
            },
            "type": "parcoords"
           }
          ],
          "pie": [
           {
            "automargin": true,
            "type": "pie"
           }
          ],
          "scatter": [
           {
            "fillpattern": {
             "fillmode": "overlay",
             "size": 10,
             "solidity": 0.2
            },
            "type": "scatter"
           }
          ],
          "scatter3d": [
           {
            "line": {
             "colorbar": {
              "outlinewidth": 0,
              "ticks": ""
             }
            },
            "marker": {
             "colorbar": {
              "outlinewidth": 0,
              "ticks": ""
             }
            },
            "type": "scatter3d"
           }
          ],
          "scattercarpet": [
           {
            "marker": {
             "colorbar": {
              "outlinewidth": 0,
              "ticks": ""
             }
            },
            "type": "scattercarpet"
           }
          ],
          "scattergeo": [
           {
            "marker": {
             "colorbar": {
              "outlinewidth": 0,
              "ticks": ""
             }
            },
            "type": "scattergeo"
           }
          ],
          "scattergl": [
           {
            "marker": {
             "colorbar": {
              "outlinewidth": 0,
              "ticks": ""
             }
            },
            "type": "scattergl"
           }
          ],
          "scattermapbox": [
           {
            "marker": {
             "colorbar": {
              "outlinewidth": 0,
              "ticks": ""
             }
            },
            "type": "scattermapbox"
           }
          ],
          "scatterpolar": [
           {
            "marker": {
             "colorbar": {
              "outlinewidth": 0,
              "ticks": ""
             }
            },
            "type": "scatterpolar"
           }
          ],
          "scatterpolargl": [
           {
            "marker": {
             "colorbar": {
              "outlinewidth": 0,
              "ticks": ""
             }
            },
            "type": "scatterpolargl"
           }
          ],
          "scatterternary": [
           {
            "marker": {
             "colorbar": {
              "outlinewidth": 0,
              "ticks": ""
             }
            },
            "type": "scatterternary"
           }
          ],
          "surface": [
           {
            "colorbar": {
             "outlinewidth": 0,
             "ticks": ""
            },
            "colorscale": [
             [
              0,
              "#0d0887"
             ],
             [
              0.1111111111111111,
              "#46039f"
             ],
             [
              0.2222222222222222,
              "#7201a8"
             ],
             [
              0.3333333333333333,
              "#9c179e"
             ],
             [
              0.4444444444444444,
              "#bd3786"
             ],
             [
              0.5555555555555556,
              "#d8576b"
             ],
             [
              0.6666666666666666,
              "#ed7953"
             ],
             [
              0.7777777777777778,
              "#fb9f3a"
             ],
             [
              0.8888888888888888,
              "#fdca26"
             ],
             [
              1,
              "#f0f921"
             ]
            ],
            "type": "surface"
           }
          ],
          "table": [
           {
            "cells": {
             "fill": {
              "color": "#EBF0F8"
             },
             "line": {
              "color": "white"
             }
            },
            "header": {
             "fill": {
              "color": "#C8D4E3"
             },
             "line": {
              "color": "white"
             }
            },
            "type": "table"
           }
          ]
         },
         "layout": {
          "annotationdefaults": {
           "arrowcolor": "#2a3f5f",
           "arrowhead": 0,
           "arrowwidth": 1
          },
          "autotypenumbers": "strict",
          "coloraxis": {
           "colorbar": {
            "outlinewidth": 0,
            "ticks": ""
           }
          },
          "colorscale": {
           "diverging": [
            [
             0,
             "#8e0152"
            ],
            [
             0.1,
             "#c51b7d"
            ],
            [
             0.2,
             "#de77ae"
            ],
            [
             0.3,
             "#f1b6da"
            ],
            [
             0.4,
             "#fde0ef"
            ],
            [
             0.5,
             "#f7f7f7"
            ],
            [
             0.6,
             "#e6f5d0"
            ],
            [
             0.7,
             "#b8e186"
            ],
            [
             0.8,
             "#7fbc41"
            ],
            [
             0.9,
             "#4d9221"
            ],
            [
             1,
             "#276419"
            ]
           ],
           "sequential": [
            [
             0,
             "#0d0887"
            ],
            [
             0.1111111111111111,
             "#46039f"
            ],
            [
             0.2222222222222222,
             "#7201a8"
            ],
            [
             0.3333333333333333,
             "#9c179e"
            ],
            [
             0.4444444444444444,
             "#bd3786"
            ],
            [
             0.5555555555555556,
             "#d8576b"
            ],
            [
             0.6666666666666666,
             "#ed7953"
            ],
            [
             0.7777777777777778,
             "#fb9f3a"
            ],
            [
             0.8888888888888888,
             "#fdca26"
            ],
            [
             1,
             "#f0f921"
            ]
           ],
           "sequentialminus": [
            [
             0,
             "#0d0887"
            ],
            [
             0.1111111111111111,
             "#46039f"
            ],
            [
             0.2222222222222222,
             "#7201a8"
            ],
            [
             0.3333333333333333,
             "#9c179e"
            ],
            [
             0.4444444444444444,
             "#bd3786"
            ],
            [
             0.5555555555555556,
             "#d8576b"
            ],
            [
             0.6666666666666666,
             "#ed7953"
            ],
            [
             0.7777777777777778,
             "#fb9f3a"
            ],
            [
             0.8888888888888888,
             "#fdca26"
            ],
            [
             1,
             "#f0f921"
            ]
           ]
          },
          "colorway": [
           "#636efa",
           "#EF553B",
           "#00cc96",
           "#ab63fa",
           "#FFA15A",
           "#19d3f3",
           "#FF6692",
           "#B6E880",
           "#FF97FF",
           "#FECB52"
          ],
          "font": {
           "color": "#2a3f5f"
          },
          "geo": {
           "bgcolor": "white",
           "lakecolor": "white",
           "landcolor": "#E5ECF6",
           "showlakes": true,
           "showland": true,
           "subunitcolor": "white"
          },
          "hoverlabel": {
           "align": "left"
          },
          "hovermode": "closest",
          "mapbox": {
           "style": "light"
          },
          "paper_bgcolor": "white",
          "plot_bgcolor": "#E5ECF6",
          "polar": {
           "angularaxis": {
            "gridcolor": "white",
            "linecolor": "white",
            "ticks": ""
           },
           "bgcolor": "#E5ECF6",
           "radialaxis": {
            "gridcolor": "white",
            "linecolor": "white",
            "ticks": ""
           }
          },
          "scene": {
           "xaxis": {
            "backgroundcolor": "#E5ECF6",
            "gridcolor": "white",
            "gridwidth": 2,
            "linecolor": "white",
            "showbackground": true,
            "ticks": "",
            "zerolinecolor": "white"
           },
           "yaxis": {
            "backgroundcolor": "#E5ECF6",
            "gridcolor": "white",
            "gridwidth": 2,
            "linecolor": "white",
            "showbackground": true,
            "ticks": "",
            "zerolinecolor": "white"
           },
           "zaxis": {
            "backgroundcolor": "#E5ECF6",
            "gridcolor": "white",
            "gridwidth": 2,
            "linecolor": "white",
            "showbackground": true,
            "ticks": "",
            "zerolinecolor": "white"
           }
          },
          "shapedefaults": {
           "line": {
            "color": "#2a3f5f"
           }
          },
          "ternary": {
           "aaxis": {
            "gridcolor": "white",
            "linecolor": "white",
            "ticks": ""
           },
           "baxis": {
            "gridcolor": "white",
            "linecolor": "white",
            "ticks": ""
           },
           "bgcolor": "#E5ECF6",
           "caxis": {
            "gridcolor": "white",
            "linecolor": "white",
            "ticks": ""
           }
          },
          "title": {
           "x": 0.05
          },
          "xaxis": {
           "automargin": true,
           "gridcolor": "white",
           "linecolor": "white",
           "ticks": "",
           "title": {
            "standoff": 15
           },
           "zerolinecolor": "white",
           "zerolinewidth": 2
          },
          "yaxis": {
           "automargin": true,
           "gridcolor": "white",
           "linecolor": "white",
           "ticks": "",
           "title": {
            "standoff": 15
           },
           "zerolinecolor": "white",
           "zerolinewidth": 2
          }
         }
        },
        "title": {
         "text": "Sales Pipeline Funnel (Weighted Deal Amount)",
         "x": 0.5,
         "xanchor": "center",
         "y": 0.95,
         "yanchor": "top"
        },
        "width": 800
       }
      }
     },
     "metadata": {},
     "output_type": "display_data"
    },
    {
     "name": "stdout",
     "output_type": "stream",
     "text": [
      "\n",
      "Sales Funnel Summary (Weighted Deal Amount):\n"
     ]
    },
    {
     "data": {
      "text/html": [
       "<div>\n",
       "<style scoped>\n",
       "    .dataframe tbody tr th:only-of-type {\n",
       "        vertical-align: middle;\n",
       "    }\n",
       "\n",
       "    .dataframe tbody tr th {\n",
       "        vertical-align: top;\n",
       "    }\n",
       "\n",
       "    .dataframe thead th {\n",
       "        text-align: right;\n",
       "    }\n",
       "</style>\n",
       "<table border=\"1\" class=\"dataframe\">\n",
       "  <thead>\n",
       "    <tr style=\"text-align: right;\">\n",
       "      <th></th>\n",
       "      <th>Stage</th>\n",
       "      <th>Deal Count</th>\n",
       "      <th>Weighted Deal Amount (SEK)</th>\n",
       "    </tr>\n",
       "  </thead>\n",
       "  <tbody>\n",
       "    <tr>\n",
       "      <th>0</th>\n",
       "      <td>Stage 0: Lead</td>\n",
       "      <td>4</td>\n",
       "      <td>90,050.00 SEK</td>\n",
       "    </tr>\n",
       "    <tr>\n",
       "      <th>1</th>\n",
       "      <td>Stage 1: Qualification</td>\n",
       "      <td>5</td>\n",
       "      <td>438,000.00 SEK</td>\n",
       "    </tr>\n",
       "    <tr>\n",
       "      <th>2</th>\n",
       "      <td>Stage 3: Proposal</td>\n",
       "      <td>2</td>\n",
       "      <td>420,000.00 SEK</td>\n",
       "    </tr>\n",
       "    <tr>\n",
       "      <th>3</th>\n",
       "      <td>Stage 4: Closed Won</td>\n",
       "      <td>93</td>\n",
       "      <td>54,715,400.00 SEK</td>\n",
       "    </tr>\n",
       "    <tr>\n",
       "      <th>4</th>\n",
       "      <td>Stage 5: Closed Lost</td>\n",
       "      <td>218</td>\n",
       "      <td>0.00 SEK</td>\n",
       "    </tr>\n",
       "  </tbody>\n",
       "</table>\n",
       "</div>"
      ],
      "text/plain": [
       "                    Stage  Deal Count Weighted Deal Amount (SEK)\n",
       "0           Stage 0: Lead           4              90,050.00 SEK\n",
       "1  Stage 1: Qualification           5             438,000.00 SEK\n",
       "2       Stage 3: Proposal           2             420,000.00 SEK\n",
       "3     Stage 4: Closed Won          93          54,715,400.00 SEK\n",
       "4    Stage 5: Closed Lost         218                   0.00 SEK"
      ]
     },
     "metadata": {},
     "output_type": "display_data"
    },
    {
     "data": {
      "application/vnd.plotly.v1+json": {
       "config": {
        "plotlyServerURL": "https://plot.ly"
       },
       "data": [
        {
         "hoverinfo": "text",
         "hovertext": [
          "<b>Stage 0: Lead</b><br>Deal Amount: 900,500.00 SEK<br>Number of Deals: 4",
          "<b>Stage 1: Qualification</b><br>Deal Amount: 2,190,000.00 SEK<br>Number of Deals: 5",
          "<b>Stage 3: Proposal</b><br>Deal Amount: 700,000.00 SEK<br>Number of Deals: 2",
          "<b>Stage 4: Closed Won</b><br>Deal Amount: 54,715,400.00 SEK<br>Number of Deals: 93",
          "<b>Stage 5: Closed Lost</b><br>Deal Amount: 106,954,002.00 SEK<br>Number of Deals: 218"
         ],
         "marker": {
          "color": [
           "#1f77b4",
           "#7fc3e5",
           "#4292c6",
           "#2171b5",
           "#08519c"
          ],
          "line": {
           "color": [
            "white",
            "white",
            "white",
            "white",
            "white"
           ],
           "width": [
            1,
            1,
            1,
            1,
            1
           ]
          }
         },
         "name": "Sales Funnel",
         "opacity": 0.7,
         "textinfo": "value+percent initial",
         "textposition": "inside",
         "type": "funnel",
         "x": [
          900500,
          2190000,
          700000,
          54715400,
          106954002
         ],
         "y": [
          "Stage 0: Lead",
          "Stage 1: Qualification",
          "Stage 3: Proposal",
          "Stage 4: Closed Won",
          "Stage 5: Closed Lost"
         ]
        }
       ],
       "layout": {
        "height": 500,
        "template": {
         "data": {
          "bar": [
           {
            "error_x": {
             "color": "#2a3f5f"
            },
            "error_y": {
             "color": "#2a3f5f"
            },
            "marker": {
             "line": {
              "color": "#E5ECF6",
              "width": 0.5
             },
             "pattern": {
              "fillmode": "overlay",
              "size": 10,
              "solidity": 0.2
             }
            },
            "type": "bar"
           }
          ],
          "barpolar": [
           {
            "marker": {
             "line": {
              "color": "#E5ECF6",
              "width": 0.5
             },
             "pattern": {
              "fillmode": "overlay",
              "size": 10,
              "solidity": 0.2
             }
            },
            "type": "barpolar"
           }
          ],
          "carpet": [
           {
            "aaxis": {
             "endlinecolor": "#2a3f5f",
             "gridcolor": "white",
             "linecolor": "white",
             "minorgridcolor": "white",
             "startlinecolor": "#2a3f5f"
            },
            "baxis": {
             "endlinecolor": "#2a3f5f",
             "gridcolor": "white",
             "linecolor": "white",
             "minorgridcolor": "white",
             "startlinecolor": "#2a3f5f"
            },
            "type": "carpet"
           }
          ],
          "choropleth": [
           {
            "colorbar": {
             "outlinewidth": 0,
             "ticks": ""
            },
            "type": "choropleth"
           }
          ],
          "contour": [
           {
            "colorbar": {
             "outlinewidth": 0,
             "ticks": ""
            },
            "colorscale": [
             [
              0,
              "#0d0887"
             ],
             [
              0.1111111111111111,
              "#46039f"
             ],
             [
              0.2222222222222222,
              "#7201a8"
             ],
             [
              0.3333333333333333,
              "#9c179e"
             ],
             [
              0.4444444444444444,
              "#bd3786"
             ],
             [
              0.5555555555555556,
              "#d8576b"
             ],
             [
              0.6666666666666666,
              "#ed7953"
             ],
             [
              0.7777777777777778,
              "#fb9f3a"
             ],
             [
              0.8888888888888888,
              "#fdca26"
             ],
             [
              1,
              "#f0f921"
             ]
            ],
            "type": "contour"
           }
          ],
          "contourcarpet": [
           {
            "colorbar": {
             "outlinewidth": 0,
             "ticks": ""
            },
            "type": "contourcarpet"
           }
          ],
          "heatmap": [
           {
            "colorbar": {
             "outlinewidth": 0,
             "ticks": ""
            },
            "colorscale": [
             [
              0,
              "#0d0887"
             ],
             [
              0.1111111111111111,
              "#46039f"
             ],
             [
              0.2222222222222222,
              "#7201a8"
             ],
             [
              0.3333333333333333,
              "#9c179e"
             ],
             [
              0.4444444444444444,
              "#bd3786"
             ],
             [
              0.5555555555555556,
              "#d8576b"
             ],
             [
              0.6666666666666666,
              "#ed7953"
             ],
             [
              0.7777777777777778,
              "#fb9f3a"
             ],
             [
              0.8888888888888888,
              "#fdca26"
             ],
             [
              1,
              "#f0f921"
             ]
            ],
            "type": "heatmap"
           }
          ],
          "heatmapgl": [
           {
            "colorbar": {
             "outlinewidth": 0,
             "ticks": ""
            },
            "colorscale": [
             [
              0,
              "#0d0887"
             ],
             [
              0.1111111111111111,
              "#46039f"
             ],
             [
              0.2222222222222222,
              "#7201a8"
             ],
             [
              0.3333333333333333,
              "#9c179e"
             ],
             [
              0.4444444444444444,
              "#bd3786"
             ],
             [
              0.5555555555555556,
              "#d8576b"
             ],
             [
              0.6666666666666666,
              "#ed7953"
             ],
             [
              0.7777777777777778,
              "#fb9f3a"
             ],
             [
              0.8888888888888888,
              "#fdca26"
             ],
             [
              1,
              "#f0f921"
             ]
            ],
            "type": "heatmapgl"
           }
          ],
          "histogram": [
           {
            "marker": {
             "pattern": {
              "fillmode": "overlay",
              "size": 10,
              "solidity": 0.2
             }
            },
            "type": "histogram"
           }
          ],
          "histogram2d": [
           {
            "colorbar": {
             "outlinewidth": 0,
             "ticks": ""
            },
            "colorscale": [
             [
              0,
              "#0d0887"
             ],
             [
              0.1111111111111111,
              "#46039f"
             ],
             [
              0.2222222222222222,
              "#7201a8"
             ],
             [
              0.3333333333333333,
              "#9c179e"
             ],
             [
              0.4444444444444444,
              "#bd3786"
             ],
             [
              0.5555555555555556,
              "#d8576b"
             ],
             [
              0.6666666666666666,
              "#ed7953"
             ],
             [
              0.7777777777777778,
              "#fb9f3a"
             ],
             [
              0.8888888888888888,
              "#fdca26"
             ],
             [
              1,
              "#f0f921"
             ]
            ],
            "type": "histogram2d"
           }
          ],
          "histogram2dcontour": [
           {
            "colorbar": {
             "outlinewidth": 0,
             "ticks": ""
            },
            "colorscale": [
             [
              0,
              "#0d0887"
             ],
             [
              0.1111111111111111,
              "#46039f"
             ],
             [
              0.2222222222222222,
              "#7201a8"
             ],
             [
              0.3333333333333333,
              "#9c179e"
             ],
             [
              0.4444444444444444,
              "#bd3786"
             ],
             [
              0.5555555555555556,
              "#d8576b"
             ],
             [
              0.6666666666666666,
              "#ed7953"
             ],
             [
              0.7777777777777778,
              "#fb9f3a"
             ],
             [
              0.8888888888888888,
              "#fdca26"
             ],
             [
              1,
              "#f0f921"
             ]
            ],
            "type": "histogram2dcontour"
           }
          ],
          "mesh3d": [
           {
            "colorbar": {
             "outlinewidth": 0,
             "ticks": ""
            },
            "type": "mesh3d"
           }
          ],
          "parcoords": [
           {
            "line": {
             "colorbar": {
              "outlinewidth": 0,
              "ticks": ""
             }
            },
            "type": "parcoords"
           }
          ],
          "pie": [
           {
            "automargin": true,
            "type": "pie"
           }
          ],
          "scatter": [
           {
            "fillpattern": {
             "fillmode": "overlay",
             "size": 10,
             "solidity": 0.2
            },
            "type": "scatter"
           }
          ],
          "scatter3d": [
           {
            "line": {
             "colorbar": {
              "outlinewidth": 0,
              "ticks": ""
             }
            },
            "marker": {
             "colorbar": {
              "outlinewidth": 0,
              "ticks": ""
             }
            },
            "type": "scatter3d"
           }
          ],
          "scattercarpet": [
           {
            "marker": {
             "colorbar": {
              "outlinewidth": 0,
              "ticks": ""
             }
            },
            "type": "scattercarpet"
           }
          ],
          "scattergeo": [
           {
            "marker": {
             "colorbar": {
              "outlinewidth": 0,
              "ticks": ""
             }
            },
            "type": "scattergeo"
           }
          ],
          "scattergl": [
           {
            "marker": {
             "colorbar": {
              "outlinewidth": 0,
              "ticks": ""
             }
            },
            "type": "scattergl"
           }
          ],
          "scattermapbox": [
           {
            "marker": {
             "colorbar": {
              "outlinewidth": 0,
              "ticks": ""
             }
            },
            "type": "scattermapbox"
           }
          ],
          "scatterpolar": [
           {
            "marker": {
             "colorbar": {
              "outlinewidth": 0,
              "ticks": ""
             }
            },
            "type": "scatterpolar"
           }
          ],
          "scatterpolargl": [
           {
            "marker": {
             "colorbar": {
              "outlinewidth": 0,
              "ticks": ""
             }
            },
            "type": "scatterpolargl"
           }
          ],
          "scatterternary": [
           {
            "marker": {
             "colorbar": {
              "outlinewidth": 0,
              "ticks": ""
             }
            },
            "type": "scatterternary"
           }
          ],
          "surface": [
           {
            "colorbar": {
             "outlinewidth": 0,
             "ticks": ""
            },
            "colorscale": [
             [
              0,
              "#0d0887"
             ],
             [
              0.1111111111111111,
              "#46039f"
             ],
             [
              0.2222222222222222,
              "#7201a8"
             ],
             [
              0.3333333333333333,
              "#9c179e"
             ],
             [
              0.4444444444444444,
              "#bd3786"
             ],
             [
              0.5555555555555556,
              "#d8576b"
             ],
             [
              0.6666666666666666,
              "#ed7953"
             ],
             [
              0.7777777777777778,
              "#fb9f3a"
             ],
             [
              0.8888888888888888,
              "#fdca26"
             ],
             [
              1,
              "#f0f921"
             ]
            ],
            "type": "surface"
           }
          ],
          "table": [
           {
            "cells": {
             "fill": {
              "color": "#EBF0F8"
             },
             "line": {
              "color": "white"
             }
            },
            "header": {
             "fill": {
              "color": "#C8D4E3"
             },
             "line": {
              "color": "white"
             }
            },
            "type": "table"
           }
          ]
         },
         "layout": {
          "annotationdefaults": {
           "arrowcolor": "#2a3f5f",
           "arrowhead": 0,
           "arrowwidth": 1
          },
          "autotypenumbers": "strict",
          "coloraxis": {
           "colorbar": {
            "outlinewidth": 0,
            "ticks": ""
           }
          },
          "colorscale": {
           "diverging": [
            [
             0,
             "#8e0152"
            ],
            [
             0.1,
             "#c51b7d"
            ],
            [
             0.2,
             "#de77ae"
            ],
            [
             0.3,
             "#f1b6da"
            ],
            [
             0.4,
             "#fde0ef"
            ],
            [
             0.5,
             "#f7f7f7"
            ],
            [
             0.6,
             "#e6f5d0"
            ],
            [
             0.7,
             "#b8e186"
            ],
            [
             0.8,
             "#7fbc41"
            ],
            [
             0.9,
             "#4d9221"
            ],
            [
             1,
             "#276419"
            ]
           ],
           "sequential": [
            [
             0,
             "#0d0887"
            ],
            [
             0.1111111111111111,
             "#46039f"
            ],
            [
             0.2222222222222222,
             "#7201a8"
            ],
            [
             0.3333333333333333,
             "#9c179e"
            ],
            [
             0.4444444444444444,
             "#bd3786"
            ],
            [
             0.5555555555555556,
             "#d8576b"
            ],
            [
             0.6666666666666666,
             "#ed7953"
            ],
            [
             0.7777777777777778,
             "#fb9f3a"
            ],
            [
             0.8888888888888888,
             "#fdca26"
            ],
            [
             1,
             "#f0f921"
            ]
           ],
           "sequentialminus": [
            [
             0,
             "#0d0887"
            ],
            [
             0.1111111111111111,
             "#46039f"
            ],
            [
             0.2222222222222222,
             "#7201a8"
            ],
            [
             0.3333333333333333,
             "#9c179e"
            ],
            [
             0.4444444444444444,
             "#bd3786"
            ],
            [
             0.5555555555555556,
             "#d8576b"
            ],
            [
             0.6666666666666666,
             "#ed7953"
            ],
            [
             0.7777777777777778,
             "#fb9f3a"
            ],
            [
             0.8888888888888888,
             "#fdca26"
            ],
            [
             1,
             "#f0f921"
            ]
           ]
          },
          "colorway": [
           "#636efa",
           "#EF553B",
           "#00cc96",
           "#ab63fa",
           "#FFA15A",
           "#19d3f3",
           "#FF6692",
           "#B6E880",
           "#FF97FF",
           "#FECB52"
          ],
          "font": {
           "color": "#2a3f5f"
          },
          "geo": {
           "bgcolor": "white",
           "lakecolor": "white",
           "landcolor": "#E5ECF6",
           "showlakes": true,
           "showland": true,
           "subunitcolor": "white"
          },
          "hoverlabel": {
           "align": "left"
          },
          "hovermode": "closest",
          "mapbox": {
           "style": "light"
          },
          "paper_bgcolor": "white",
          "plot_bgcolor": "#E5ECF6",
          "polar": {
           "angularaxis": {
            "gridcolor": "white",
            "linecolor": "white",
            "ticks": ""
           },
           "bgcolor": "#E5ECF6",
           "radialaxis": {
            "gridcolor": "white",
            "linecolor": "white",
            "ticks": ""
           }
          },
          "scene": {
           "xaxis": {
            "backgroundcolor": "#E5ECF6",
            "gridcolor": "white",
            "gridwidth": 2,
            "linecolor": "white",
            "showbackground": true,
            "ticks": "",
            "zerolinecolor": "white"
           },
           "yaxis": {
            "backgroundcolor": "#E5ECF6",
            "gridcolor": "white",
            "gridwidth": 2,
            "linecolor": "white",
            "showbackground": true,
            "ticks": "",
            "zerolinecolor": "white"
           },
           "zaxis": {
            "backgroundcolor": "#E5ECF6",
            "gridcolor": "white",
            "gridwidth": 2,
            "linecolor": "white",
            "showbackground": true,
            "ticks": "",
            "zerolinecolor": "white"
           }
          },
          "shapedefaults": {
           "line": {
            "color": "#2a3f5f"
           }
          },
          "ternary": {
           "aaxis": {
            "gridcolor": "white",
            "linecolor": "white",
            "ticks": ""
           },
           "baxis": {
            "gridcolor": "white",
            "linecolor": "white",
            "ticks": ""
           },
           "bgcolor": "#E5ECF6",
           "caxis": {
            "gridcolor": "white",
            "linecolor": "white",
            "ticks": ""
           }
          },
          "title": {
           "x": 0.05
          },
          "xaxis": {
           "automargin": true,
           "gridcolor": "white",
           "linecolor": "white",
           "ticks": "",
           "title": {
            "standoff": 15
           },
           "zerolinecolor": "white",
           "zerolinewidth": 2
          },
          "yaxis": {
           "automargin": true,
           "gridcolor": "white",
           "linecolor": "white",
           "ticks": "",
           "title": {
            "standoff": 15
           },
           "zerolinecolor": "white",
           "zerolinewidth": 2
          }
         }
        },
        "title": {
         "text": "Sales Pipeline Funnel (Deal Amount)",
         "x": 0.5,
         "xanchor": "center",
         "y": 0.95,
         "yanchor": "top"
        },
        "width": 800
       }
      }
     },
     "metadata": {},
     "output_type": "display_data"
    },
    {
     "name": "stdout",
     "output_type": "stream",
     "text": [
      "\n",
      "Sales Funnel Summary (Deal Amount):\n"
     ]
    },
    {
     "data": {
      "text/html": [
       "<div>\n",
       "<style scoped>\n",
       "    .dataframe tbody tr th:only-of-type {\n",
       "        vertical-align: middle;\n",
       "    }\n",
       "\n",
       "    .dataframe tbody tr th {\n",
       "        vertical-align: top;\n",
       "    }\n",
       "\n",
       "    .dataframe thead th {\n",
       "        text-align: right;\n",
       "    }\n",
       "</style>\n",
       "<table border=\"1\" class=\"dataframe\">\n",
       "  <thead>\n",
       "    <tr style=\"text-align: right;\">\n",
       "      <th></th>\n",
       "      <th>Stage</th>\n",
       "      <th>Deal Count</th>\n",
       "      <th>Deal Amount (SEK)</th>\n",
       "    </tr>\n",
       "  </thead>\n",
       "  <tbody>\n",
       "    <tr>\n",
       "      <th>0</th>\n",
       "      <td>Stage 0: Lead</td>\n",
       "      <td>4</td>\n",
       "      <td>900,500.00 SEK</td>\n",
       "    </tr>\n",
       "    <tr>\n",
       "      <th>1</th>\n",
       "      <td>Stage 1: Qualification</td>\n",
       "      <td>5</td>\n",
       "      <td>2,190,000.00 SEK</td>\n",
       "    </tr>\n",
       "    <tr>\n",
       "      <th>2</th>\n",
       "      <td>Stage 3: Proposal</td>\n",
       "      <td>2</td>\n",
       "      <td>700,000.00 SEK</td>\n",
       "    </tr>\n",
       "    <tr>\n",
       "      <th>3</th>\n",
       "      <td>Stage 4: Closed Won</td>\n",
       "      <td>93</td>\n",
       "      <td>54,715,400.00 SEK</td>\n",
       "    </tr>\n",
       "    <tr>\n",
       "      <th>4</th>\n",
       "      <td>Stage 5: Closed Lost</td>\n",
       "      <td>218</td>\n",
       "      <td>106,954,002.00 SEK</td>\n",
       "    </tr>\n",
       "  </tbody>\n",
       "</table>\n",
       "</div>"
      ],
      "text/plain": [
       "                    Stage  Deal Count   Deal Amount (SEK)\n",
       "0           Stage 0: Lead           4      900,500.00 SEK\n",
       "1  Stage 1: Qualification           5    2,190,000.00 SEK\n",
       "2       Stage 3: Proposal           2      700,000.00 SEK\n",
       "3     Stage 4: Closed Won          93   54,715,400.00 SEK\n",
       "4    Stage 5: Closed Lost         218  106,954,002.00 SEK"
      ]
     },
     "metadata": {},
     "output_type": "display_data"
    }
   ],
   "source": [
    "# For weighted deal amounts\n",
    "sales_funnel_viz(sales_pipeline, weighted_amount=True)\n",
    "\n",
    "# For actual deal amounts\n",
    "sales_funnel_viz(sales_pipeline, weighted_amount=False)"
   ]
  },
  {
   "cell_type": "code",
   "execution_count": 102,
   "id": "1ca24d3b",
   "metadata": {},
   "outputs": [],
   "source": [
    "# second version with weighted amount and time range filter \n",
    "def sales_funnel_viz(df, weighted_amount=True, time_filter_start=None, time_filter_stop=None):\n",
    "    \"\"\"\n",
    "    Sales funnel visualization using Plotly with optional time filtering.\n",
    "    \n",
    "    Arguments:\n",
    "    df (DataFrame): Sales pipeline dataframe\n",
    "    weighted_amount (bool): If True, use weighted_deal_amount, otherwise use deal_amount\n",
    "    time_filter_start (str): Start date for filtering in format 'YYYY-MM-DD' \n",
    "    time_filter_stop (str): End date for filtering in format 'YYYY-MM-DD' \n",
    "    \n",
    "    Returns:\n",
    "    None: Displays the plotly figure\n",
    "    \"\"\"\n",
    "    # create a copy of the dataframe to avoid modifying the original\n",
    "    filtered_df = df.copy()\n",
    "    \n",
    "    # apply time filters if provided\n",
    "    if time_filter_start or time_filter_stop:\n",
    "        # get a sample date to check timezone info\n",
    "        date_col = filtered_df['create_date']\n",
    "        \n",
    "        # alternative approach for filtering with timezone-aware dates\n",
    "        if time_filter_start:\n",
    "            # convert to datetime and localize to match dataframe timezone\n",
    "            start_date = pd.to_datetime(time_filter_start)\n",
    "            start_date_str = start_date.strftime('%Y-%m-%d')\n",
    "            # Create a mask by converting to string format first for comparison\n",
    "            filtered_df = filtered_df[filtered_df['create_date'].dt.strftime('%Y-%m-%d') >= start_date_str]\n",
    "        \n",
    "        if time_filter_stop:\n",
    "            # convert to datetime and localize to match dataframe timezone\n",
    "            end_date = pd.to_datetime(time_filter_stop)\n",
    "            end_date_str = end_date.strftime('%Y-%m-%d')\n",
    "            # Create a mask by converting to string format first for comparison\n",
    "            filtered_df = filtered_df[filtered_df['create_date'].dt.strftime('%Y-%m-%d') <= end_date_str]\n",
    "        \n",
    "        # create date range text for title\n",
    "        if time_filter_start and time_filter_stop:\n",
    "            date_range_text = f\" (Created {time_filter_start} to {time_filter_stop})\"\n",
    "        elif time_filter_start:\n",
    "            date_range_text = f\" (Created from {time_filter_start})\"\n",
    "        elif time_filter_stop:\n",
    "            date_range_text = f\" (Created until {time_filter_stop})\"\n",
    "    else:\n",
    "        date_range_text = \"\"\n",
    "    \n",
    "    # check if we have data after filtering\n",
    "    if filtered_df.empty:\n",
    "        print(\"No data available after applying time filters.\")\n",
    "        return\n",
    "    \n",
    "    # select the appropriate amount column based on the parameter\n",
    "    amount_col = 'weighted_deal_amount' if weighted_amount else 'deal_amount'\n",
    "    amount_title = 'Weighted Deal Amount' if weighted_amount else 'Deal Amount'\n",
    "    \n",
    "    # group data by pipeline stage\n",
    "    funnel_data = filtered_df.groupby(['pipeline_stage_order', 'pipeline_stage']).agg(\n",
    "        amount=(amount_col, 'sum'),\n",
    "        deal_count=('deal_id', 'count')\n",
    "    ).reset_index().sort_values('pipeline_stage_order')\n",
    "    \n",
    "    # create stage labels\n",
    "    funnel_data['stage_label'] = funnel_data.apply(\n",
    "        lambda x: f\"Stage {int(x['pipeline_stage_order'])}: {x['pipeline_stage']}\", axis=1\n",
    "    )\n",
    "    \n",
    "    # format amount for hover text\n",
    "    funnel_data['amount_fmt'] = funnel_data['amount'].apply(lambda x: f\"{x:,.2f} SEK\")\n",
    "    \n",
    "    # create hover text\n",
    "    funnel_data['hover_text'] = funnel_data.apply(\n",
    "        lambda x: f\"<b>{x['stage_label']}</b><br>\" +\n",
    "                 f\"{amount_title}: {x['amount_fmt']}<br>\" +\n",
    "                 f\"Number of Deals: {x['deal_count']}\", \n",
    "        axis=1\n",
    "    )\n",
    "    \n",
    "    # create funnel chart\n",
    "    fig = go.Figure()\n",
    "    fig.add_trace(go.Funnel(\n",
    "        name='Sales Funnel',\n",
    "        y=funnel_data['stage_label'],\n",
    "        x=funnel_data['amount'],\n",
    "        textposition=\"inside\",\n",
    "        textinfo=\"value+percent initial\",\n",
    "        opacity=0.7,\n",
    "        marker={\n",
    "            \"color\": [\"#1f77b4\", \"#7fc3e5\", \"#4292c6\", \"#2171b5\", \"#08519c\"][:len(funnel_data)],\n",
    "            \"line\": {\"width\": [1] * len(funnel_data), \"color\": [\"white\"] * len(funnel_data)}\n",
    "        },\n",
    "        hovertext=funnel_data['hover_text'],\n",
    "        hoverinfo='text'\n",
    "    ))\n",
    "    \n",
    "    # add title and labels\n",
    "    fig.update_layout(\n",
    "        title={\n",
    "            'text': f'Sales Pipeline Funnel ({amount_title}){date_range_text}',\n",
    "            'y': 0.95,\n",
    "            'x': 0.5,\n",
    "            'xanchor': 'center',\n",
    "            'yanchor': 'top',\n",
    "        },\n",
    "        height=500,\n",
    "        width=800\n",
    "    )\n",
    "    fig.show()\n",
    "    print(f\"\\nSales Funnel Summary ({amount_title}){date_range_text}:\")\n",
    "    summary_df = funnel_data[['stage_label', 'deal_count', 'amount_fmt']]\n",
    "    summary_df.columns = ['Stage', 'Deal Count', f'{amount_title} (SEK)']\n",
    "    display(summary_df)"
   ]
  },
  {
   "cell_type": "code",
   "execution_count": 103,
   "id": "da99d5f9",
   "metadata": {},
   "outputs": [
    {
     "data": {
      "application/vnd.plotly.v1+json": {
       "config": {
        "plotlyServerURL": "https://plot.ly"
       },
       "data": [
        {
         "hoverinfo": "text",
         "hovertext": [
          "<b>Stage 4: Closed Won</b><br>Weighted Deal Amount: 11,067,400.00 SEK<br>Number of Deals: 11",
          "<b>Stage 5: Closed Lost</b><br>Weighted Deal Amount: 0.00 SEK<br>Number of Deals: 30"
         ],
         "marker": {
          "color": [
           "#1f77b4",
           "#7fc3e5"
          ],
          "line": {
           "color": [
            "white",
            "white"
           ],
           "width": [
            1,
            1
           ]
          }
         },
         "name": "Sales Funnel",
         "opacity": 0.7,
         "textinfo": "value+percent initial",
         "textposition": "inside",
         "type": "funnel",
         "x": [
          11067400,
          0
         ],
         "y": [
          "Stage 4: Closed Won",
          "Stage 5: Closed Lost"
         ]
        }
       ],
       "layout": {
        "height": 500,
        "template": {
         "data": {
          "bar": [
           {
            "error_x": {
             "color": "#2a3f5f"
            },
            "error_y": {
             "color": "#2a3f5f"
            },
            "marker": {
             "line": {
              "color": "#E5ECF6",
              "width": 0.5
             },
             "pattern": {
              "fillmode": "overlay",
              "size": 10,
              "solidity": 0.2
             }
            },
            "type": "bar"
           }
          ],
          "barpolar": [
           {
            "marker": {
             "line": {
              "color": "#E5ECF6",
              "width": 0.5
             },
             "pattern": {
              "fillmode": "overlay",
              "size": 10,
              "solidity": 0.2
             }
            },
            "type": "barpolar"
           }
          ],
          "carpet": [
           {
            "aaxis": {
             "endlinecolor": "#2a3f5f",
             "gridcolor": "white",
             "linecolor": "white",
             "minorgridcolor": "white",
             "startlinecolor": "#2a3f5f"
            },
            "baxis": {
             "endlinecolor": "#2a3f5f",
             "gridcolor": "white",
             "linecolor": "white",
             "minorgridcolor": "white",
             "startlinecolor": "#2a3f5f"
            },
            "type": "carpet"
           }
          ],
          "choropleth": [
           {
            "colorbar": {
             "outlinewidth": 0,
             "ticks": ""
            },
            "type": "choropleth"
           }
          ],
          "contour": [
           {
            "colorbar": {
             "outlinewidth": 0,
             "ticks": ""
            },
            "colorscale": [
             [
              0,
              "#0d0887"
             ],
             [
              0.1111111111111111,
              "#46039f"
             ],
             [
              0.2222222222222222,
              "#7201a8"
             ],
             [
              0.3333333333333333,
              "#9c179e"
             ],
             [
              0.4444444444444444,
              "#bd3786"
             ],
             [
              0.5555555555555556,
              "#d8576b"
             ],
             [
              0.6666666666666666,
              "#ed7953"
             ],
             [
              0.7777777777777778,
              "#fb9f3a"
             ],
             [
              0.8888888888888888,
              "#fdca26"
             ],
             [
              1,
              "#f0f921"
             ]
            ],
            "type": "contour"
           }
          ],
          "contourcarpet": [
           {
            "colorbar": {
             "outlinewidth": 0,
             "ticks": ""
            },
            "type": "contourcarpet"
           }
          ],
          "heatmap": [
           {
            "colorbar": {
             "outlinewidth": 0,
             "ticks": ""
            },
            "colorscale": [
             [
              0,
              "#0d0887"
             ],
             [
              0.1111111111111111,
              "#46039f"
             ],
             [
              0.2222222222222222,
              "#7201a8"
             ],
             [
              0.3333333333333333,
              "#9c179e"
             ],
             [
              0.4444444444444444,
              "#bd3786"
             ],
             [
              0.5555555555555556,
              "#d8576b"
             ],
             [
              0.6666666666666666,
              "#ed7953"
             ],
             [
              0.7777777777777778,
              "#fb9f3a"
             ],
             [
              0.8888888888888888,
              "#fdca26"
             ],
             [
              1,
              "#f0f921"
             ]
            ],
            "type": "heatmap"
           }
          ],
          "heatmapgl": [
           {
            "colorbar": {
             "outlinewidth": 0,
             "ticks": ""
            },
            "colorscale": [
             [
              0,
              "#0d0887"
             ],
             [
              0.1111111111111111,
              "#46039f"
             ],
             [
              0.2222222222222222,
              "#7201a8"
             ],
             [
              0.3333333333333333,
              "#9c179e"
             ],
             [
              0.4444444444444444,
              "#bd3786"
             ],
             [
              0.5555555555555556,
              "#d8576b"
             ],
             [
              0.6666666666666666,
              "#ed7953"
             ],
             [
              0.7777777777777778,
              "#fb9f3a"
             ],
             [
              0.8888888888888888,
              "#fdca26"
             ],
             [
              1,
              "#f0f921"
             ]
            ],
            "type": "heatmapgl"
           }
          ],
          "histogram": [
           {
            "marker": {
             "pattern": {
              "fillmode": "overlay",
              "size": 10,
              "solidity": 0.2
             }
            },
            "type": "histogram"
           }
          ],
          "histogram2d": [
           {
            "colorbar": {
             "outlinewidth": 0,
             "ticks": ""
            },
            "colorscale": [
             [
              0,
              "#0d0887"
             ],
             [
              0.1111111111111111,
              "#46039f"
             ],
             [
              0.2222222222222222,
              "#7201a8"
             ],
             [
              0.3333333333333333,
              "#9c179e"
             ],
             [
              0.4444444444444444,
              "#bd3786"
             ],
             [
              0.5555555555555556,
              "#d8576b"
             ],
             [
              0.6666666666666666,
              "#ed7953"
             ],
             [
              0.7777777777777778,
              "#fb9f3a"
             ],
             [
              0.8888888888888888,
              "#fdca26"
             ],
             [
              1,
              "#f0f921"
             ]
            ],
            "type": "histogram2d"
           }
          ],
          "histogram2dcontour": [
           {
            "colorbar": {
             "outlinewidth": 0,
             "ticks": ""
            },
            "colorscale": [
             [
              0,
              "#0d0887"
             ],
             [
              0.1111111111111111,
              "#46039f"
             ],
             [
              0.2222222222222222,
              "#7201a8"
             ],
             [
              0.3333333333333333,
              "#9c179e"
             ],
             [
              0.4444444444444444,
              "#bd3786"
             ],
             [
              0.5555555555555556,
              "#d8576b"
             ],
             [
              0.6666666666666666,
              "#ed7953"
             ],
             [
              0.7777777777777778,
              "#fb9f3a"
             ],
             [
              0.8888888888888888,
              "#fdca26"
             ],
             [
              1,
              "#f0f921"
             ]
            ],
            "type": "histogram2dcontour"
           }
          ],
          "mesh3d": [
           {
            "colorbar": {
             "outlinewidth": 0,
             "ticks": ""
            },
            "type": "mesh3d"
           }
          ],
          "parcoords": [
           {
            "line": {
             "colorbar": {
              "outlinewidth": 0,
              "ticks": ""
             }
            },
            "type": "parcoords"
           }
          ],
          "pie": [
           {
            "automargin": true,
            "type": "pie"
           }
          ],
          "scatter": [
           {
            "fillpattern": {
             "fillmode": "overlay",
             "size": 10,
             "solidity": 0.2
            },
            "type": "scatter"
           }
          ],
          "scatter3d": [
           {
            "line": {
             "colorbar": {
              "outlinewidth": 0,
              "ticks": ""
             }
            },
            "marker": {
             "colorbar": {
              "outlinewidth": 0,
              "ticks": ""
             }
            },
            "type": "scatter3d"
           }
          ],
          "scattercarpet": [
           {
            "marker": {
             "colorbar": {
              "outlinewidth": 0,
              "ticks": ""
             }
            },
            "type": "scattercarpet"
           }
          ],
          "scattergeo": [
           {
            "marker": {
             "colorbar": {
              "outlinewidth": 0,
              "ticks": ""
             }
            },
            "type": "scattergeo"
           }
          ],
          "scattergl": [
           {
            "marker": {
             "colorbar": {
              "outlinewidth": 0,
              "ticks": ""
             }
            },
            "type": "scattergl"
           }
          ],
          "scattermapbox": [
           {
            "marker": {
             "colorbar": {
              "outlinewidth": 0,
              "ticks": ""
             }
            },
            "type": "scattermapbox"
           }
          ],
          "scatterpolar": [
           {
            "marker": {
             "colorbar": {
              "outlinewidth": 0,
              "ticks": ""
             }
            },
            "type": "scatterpolar"
           }
          ],
          "scatterpolargl": [
           {
            "marker": {
             "colorbar": {
              "outlinewidth": 0,
              "ticks": ""
             }
            },
            "type": "scatterpolargl"
           }
          ],
          "scatterternary": [
           {
            "marker": {
             "colorbar": {
              "outlinewidth": 0,
              "ticks": ""
             }
            },
            "type": "scatterternary"
           }
          ],
          "surface": [
           {
            "colorbar": {
             "outlinewidth": 0,
             "ticks": ""
            },
            "colorscale": [
             [
              0,
              "#0d0887"
             ],
             [
              0.1111111111111111,
              "#46039f"
             ],
             [
              0.2222222222222222,
              "#7201a8"
             ],
             [
              0.3333333333333333,
              "#9c179e"
             ],
             [
              0.4444444444444444,
              "#bd3786"
             ],
             [
              0.5555555555555556,
              "#d8576b"
             ],
             [
              0.6666666666666666,
              "#ed7953"
             ],
             [
              0.7777777777777778,
              "#fb9f3a"
             ],
             [
              0.8888888888888888,
              "#fdca26"
             ],
             [
              1,
              "#f0f921"
             ]
            ],
            "type": "surface"
           }
          ],
          "table": [
           {
            "cells": {
             "fill": {
              "color": "#EBF0F8"
             },
             "line": {
              "color": "white"
             }
            },
            "header": {
             "fill": {
              "color": "#C8D4E3"
             },
             "line": {
              "color": "white"
             }
            },
            "type": "table"
           }
          ]
         },
         "layout": {
          "annotationdefaults": {
           "arrowcolor": "#2a3f5f",
           "arrowhead": 0,
           "arrowwidth": 1
          },
          "autotypenumbers": "strict",
          "coloraxis": {
           "colorbar": {
            "outlinewidth": 0,
            "ticks": ""
           }
          },
          "colorscale": {
           "diverging": [
            [
             0,
             "#8e0152"
            ],
            [
             0.1,
             "#c51b7d"
            ],
            [
             0.2,
             "#de77ae"
            ],
            [
             0.3,
             "#f1b6da"
            ],
            [
             0.4,
             "#fde0ef"
            ],
            [
             0.5,
             "#f7f7f7"
            ],
            [
             0.6,
             "#e6f5d0"
            ],
            [
             0.7,
             "#b8e186"
            ],
            [
             0.8,
             "#7fbc41"
            ],
            [
             0.9,
             "#4d9221"
            ],
            [
             1,
             "#276419"
            ]
           ],
           "sequential": [
            [
             0,
             "#0d0887"
            ],
            [
             0.1111111111111111,
             "#46039f"
            ],
            [
             0.2222222222222222,
             "#7201a8"
            ],
            [
             0.3333333333333333,
             "#9c179e"
            ],
            [
             0.4444444444444444,
             "#bd3786"
            ],
            [
             0.5555555555555556,
             "#d8576b"
            ],
            [
             0.6666666666666666,
             "#ed7953"
            ],
            [
             0.7777777777777778,
             "#fb9f3a"
            ],
            [
             0.8888888888888888,
             "#fdca26"
            ],
            [
             1,
             "#f0f921"
            ]
           ],
           "sequentialminus": [
            [
             0,
             "#0d0887"
            ],
            [
             0.1111111111111111,
             "#46039f"
            ],
            [
             0.2222222222222222,
             "#7201a8"
            ],
            [
             0.3333333333333333,
             "#9c179e"
            ],
            [
             0.4444444444444444,
             "#bd3786"
            ],
            [
             0.5555555555555556,
             "#d8576b"
            ],
            [
             0.6666666666666666,
             "#ed7953"
            ],
            [
             0.7777777777777778,
             "#fb9f3a"
            ],
            [
             0.8888888888888888,
             "#fdca26"
            ],
            [
             1,
             "#f0f921"
            ]
           ]
          },
          "colorway": [
           "#636efa",
           "#EF553B",
           "#00cc96",
           "#ab63fa",
           "#FFA15A",
           "#19d3f3",
           "#FF6692",
           "#B6E880",
           "#FF97FF",
           "#FECB52"
          ],
          "font": {
           "color": "#2a3f5f"
          },
          "geo": {
           "bgcolor": "white",
           "lakecolor": "white",
           "landcolor": "#E5ECF6",
           "showlakes": true,
           "showland": true,
           "subunitcolor": "white"
          },
          "hoverlabel": {
           "align": "left"
          },
          "hovermode": "closest",
          "mapbox": {
           "style": "light"
          },
          "paper_bgcolor": "white",
          "plot_bgcolor": "#E5ECF6",
          "polar": {
           "angularaxis": {
            "gridcolor": "white",
            "linecolor": "white",
            "ticks": ""
           },
           "bgcolor": "#E5ECF6",
           "radialaxis": {
            "gridcolor": "white",
            "linecolor": "white",
            "ticks": ""
           }
          },
          "scene": {
           "xaxis": {
            "backgroundcolor": "#E5ECF6",
            "gridcolor": "white",
            "gridwidth": 2,
            "linecolor": "white",
            "showbackground": true,
            "ticks": "",
            "zerolinecolor": "white"
           },
           "yaxis": {
            "backgroundcolor": "#E5ECF6",
            "gridcolor": "white",
            "gridwidth": 2,
            "linecolor": "white",
            "showbackground": true,
            "ticks": "",
            "zerolinecolor": "white"
           },
           "zaxis": {
            "backgroundcolor": "#E5ECF6",
            "gridcolor": "white",
            "gridwidth": 2,
            "linecolor": "white",
            "showbackground": true,
            "ticks": "",
            "zerolinecolor": "white"
           }
          },
          "shapedefaults": {
           "line": {
            "color": "#2a3f5f"
           }
          },
          "ternary": {
           "aaxis": {
            "gridcolor": "white",
            "linecolor": "white",
            "ticks": ""
           },
           "baxis": {
            "gridcolor": "white",
            "linecolor": "white",
            "ticks": ""
           },
           "bgcolor": "#E5ECF6",
           "caxis": {
            "gridcolor": "white",
            "linecolor": "white",
            "ticks": ""
           }
          },
          "title": {
           "x": 0.05
          },
          "xaxis": {
           "automargin": true,
           "gridcolor": "white",
           "linecolor": "white",
           "ticks": "",
           "title": {
            "standoff": 15
           },
           "zerolinecolor": "white",
           "zerolinewidth": 2
          },
          "yaxis": {
           "automargin": true,
           "gridcolor": "white",
           "linecolor": "white",
           "ticks": "",
           "title": {
            "standoff": 15
           },
           "zerolinecolor": "white",
           "zerolinewidth": 2
          }
         }
        },
        "title": {
         "text": "Sales Pipeline Funnel (Weighted Deal Amount) (Created 2023-01-01 to 2023-06-30)",
         "x": 0.5,
         "xanchor": "center",
         "y": 0.95,
         "yanchor": "top"
        },
        "width": 800
       }
      }
     },
     "metadata": {},
     "output_type": "display_data"
    },
    {
     "name": "stdout",
     "output_type": "stream",
     "text": [
      "\n",
      "Sales Funnel Summary (Weighted Deal Amount) (Created 2023-01-01 to 2023-06-30):\n"
     ]
    },
    {
     "data": {
      "text/html": [
       "<div>\n",
       "<style scoped>\n",
       "    .dataframe tbody tr th:only-of-type {\n",
       "        vertical-align: middle;\n",
       "    }\n",
       "\n",
       "    .dataframe tbody tr th {\n",
       "        vertical-align: top;\n",
       "    }\n",
       "\n",
       "    .dataframe thead th {\n",
       "        text-align: right;\n",
       "    }\n",
       "</style>\n",
       "<table border=\"1\" class=\"dataframe\">\n",
       "  <thead>\n",
       "    <tr style=\"text-align: right;\">\n",
       "      <th></th>\n",
       "      <th>Stage</th>\n",
       "      <th>Deal Count</th>\n",
       "      <th>Weighted Deal Amount (SEK)</th>\n",
       "    </tr>\n",
       "  </thead>\n",
       "  <tbody>\n",
       "    <tr>\n",
       "      <th>0</th>\n",
       "      <td>Stage 4: Closed Won</td>\n",
       "      <td>11</td>\n",
       "      <td>11,067,400.00 SEK</td>\n",
       "    </tr>\n",
       "    <tr>\n",
       "      <th>1</th>\n",
       "      <td>Stage 5: Closed Lost</td>\n",
       "      <td>30</td>\n",
       "      <td>0.00 SEK</td>\n",
       "    </tr>\n",
       "  </tbody>\n",
       "</table>\n",
       "</div>"
      ],
      "text/plain": [
       "                  Stage  Deal Count Weighted Deal Amount (SEK)\n",
       "0   Stage 4: Closed Won          11          11,067,400.00 SEK\n",
       "1  Stage 5: Closed Lost          30                   0.00 SEK"
      ]
     },
     "metadata": {},
     "output_type": "display_data"
    },
    {
     "data": {
      "application/vnd.plotly.v1+json": {
       "config": {
        "plotlyServerURL": "https://plot.ly"
       },
       "data": [
        {
         "hoverinfo": "text",
         "hovertext": [
          "<b>Stage 0: Lead</b><br>Deal Amount: 900,500.00 SEK<br>Number of Deals: 4",
          "<b>Stage 1: Qualification</b><br>Deal Amount: 2,190,000.00 SEK<br>Number of Deals: 5",
          "<b>Stage 3: Proposal</b><br>Deal Amount: 700,000.00 SEK<br>Number of Deals: 2",
          "<b>Stage 4: Closed Won</b><br>Deal Amount: 33,348,400.00 SEK<br>Number of Deals: 55",
          "<b>Stage 5: Closed Lost</b><br>Deal Amount: 74,070,000.00 SEK<br>Number of Deals: 130"
         ],
         "marker": {
          "color": [
           "#1f77b4",
           "#7fc3e5",
           "#4292c6",
           "#2171b5",
           "#08519c"
          ],
          "line": {
           "color": [
            "white",
            "white",
            "white",
            "white",
            "white"
           ],
           "width": [
            1,
            1,
            1,
            1,
            1
           ]
          }
         },
         "name": "Sales Funnel",
         "opacity": 0.7,
         "textinfo": "value+percent initial",
         "textposition": "inside",
         "type": "funnel",
         "x": [
          900500,
          2190000,
          700000,
          33348400,
          74070000
         ],
         "y": [
          "Stage 0: Lead",
          "Stage 1: Qualification",
          "Stage 3: Proposal",
          "Stage 4: Closed Won",
          "Stage 5: Closed Lost"
         ]
        }
       ],
       "layout": {
        "height": 500,
        "template": {
         "data": {
          "bar": [
           {
            "error_x": {
             "color": "#2a3f5f"
            },
            "error_y": {
             "color": "#2a3f5f"
            },
            "marker": {
             "line": {
              "color": "#E5ECF6",
              "width": 0.5
             },
             "pattern": {
              "fillmode": "overlay",
              "size": 10,
              "solidity": 0.2
             }
            },
            "type": "bar"
           }
          ],
          "barpolar": [
           {
            "marker": {
             "line": {
              "color": "#E5ECF6",
              "width": 0.5
             },
             "pattern": {
              "fillmode": "overlay",
              "size": 10,
              "solidity": 0.2
             }
            },
            "type": "barpolar"
           }
          ],
          "carpet": [
           {
            "aaxis": {
             "endlinecolor": "#2a3f5f",
             "gridcolor": "white",
             "linecolor": "white",
             "minorgridcolor": "white",
             "startlinecolor": "#2a3f5f"
            },
            "baxis": {
             "endlinecolor": "#2a3f5f",
             "gridcolor": "white",
             "linecolor": "white",
             "minorgridcolor": "white",
             "startlinecolor": "#2a3f5f"
            },
            "type": "carpet"
           }
          ],
          "choropleth": [
           {
            "colorbar": {
             "outlinewidth": 0,
             "ticks": ""
            },
            "type": "choropleth"
           }
          ],
          "contour": [
           {
            "colorbar": {
             "outlinewidth": 0,
             "ticks": ""
            },
            "colorscale": [
             [
              0,
              "#0d0887"
             ],
             [
              0.1111111111111111,
              "#46039f"
             ],
             [
              0.2222222222222222,
              "#7201a8"
             ],
             [
              0.3333333333333333,
              "#9c179e"
             ],
             [
              0.4444444444444444,
              "#bd3786"
             ],
             [
              0.5555555555555556,
              "#d8576b"
             ],
             [
              0.6666666666666666,
              "#ed7953"
             ],
             [
              0.7777777777777778,
              "#fb9f3a"
             ],
             [
              0.8888888888888888,
              "#fdca26"
             ],
             [
              1,
              "#f0f921"
             ]
            ],
            "type": "contour"
           }
          ],
          "contourcarpet": [
           {
            "colorbar": {
             "outlinewidth": 0,
             "ticks": ""
            },
            "type": "contourcarpet"
           }
          ],
          "heatmap": [
           {
            "colorbar": {
             "outlinewidth": 0,
             "ticks": ""
            },
            "colorscale": [
             [
              0,
              "#0d0887"
             ],
             [
              0.1111111111111111,
              "#46039f"
             ],
             [
              0.2222222222222222,
              "#7201a8"
             ],
             [
              0.3333333333333333,
              "#9c179e"
             ],
             [
              0.4444444444444444,
              "#bd3786"
             ],
             [
              0.5555555555555556,
              "#d8576b"
             ],
             [
              0.6666666666666666,
              "#ed7953"
             ],
             [
              0.7777777777777778,
              "#fb9f3a"
             ],
             [
              0.8888888888888888,
              "#fdca26"
             ],
             [
              1,
              "#f0f921"
             ]
            ],
            "type": "heatmap"
           }
          ],
          "heatmapgl": [
           {
            "colorbar": {
             "outlinewidth": 0,
             "ticks": ""
            },
            "colorscale": [
             [
              0,
              "#0d0887"
             ],
             [
              0.1111111111111111,
              "#46039f"
             ],
             [
              0.2222222222222222,
              "#7201a8"
             ],
             [
              0.3333333333333333,
              "#9c179e"
             ],
             [
              0.4444444444444444,
              "#bd3786"
             ],
             [
              0.5555555555555556,
              "#d8576b"
             ],
             [
              0.6666666666666666,
              "#ed7953"
             ],
             [
              0.7777777777777778,
              "#fb9f3a"
             ],
             [
              0.8888888888888888,
              "#fdca26"
             ],
             [
              1,
              "#f0f921"
             ]
            ],
            "type": "heatmapgl"
           }
          ],
          "histogram": [
           {
            "marker": {
             "pattern": {
              "fillmode": "overlay",
              "size": 10,
              "solidity": 0.2
             }
            },
            "type": "histogram"
           }
          ],
          "histogram2d": [
           {
            "colorbar": {
             "outlinewidth": 0,
             "ticks": ""
            },
            "colorscale": [
             [
              0,
              "#0d0887"
             ],
             [
              0.1111111111111111,
              "#46039f"
             ],
             [
              0.2222222222222222,
              "#7201a8"
             ],
             [
              0.3333333333333333,
              "#9c179e"
             ],
             [
              0.4444444444444444,
              "#bd3786"
             ],
             [
              0.5555555555555556,
              "#d8576b"
             ],
             [
              0.6666666666666666,
              "#ed7953"
             ],
             [
              0.7777777777777778,
              "#fb9f3a"
             ],
             [
              0.8888888888888888,
              "#fdca26"
             ],
             [
              1,
              "#f0f921"
             ]
            ],
            "type": "histogram2d"
           }
          ],
          "histogram2dcontour": [
           {
            "colorbar": {
             "outlinewidth": 0,
             "ticks": ""
            },
            "colorscale": [
             [
              0,
              "#0d0887"
             ],
             [
              0.1111111111111111,
              "#46039f"
             ],
             [
              0.2222222222222222,
              "#7201a8"
             ],
             [
              0.3333333333333333,
              "#9c179e"
             ],
             [
              0.4444444444444444,
              "#bd3786"
             ],
             [
              0.5555555555555556,
              "#d8576b"
             ],
             [
              0.6666666666666666,
              "#ed7953"
             ],
             [
              0.7777777777777778,
              "#fb9f3a"
             ],
             [
              0.8888888888888888,
              "#fdca26"
             ],
             [
              1,
              "#f0f921"
             ]
            ],
            "type": "histogram2dcontour"
           }
          ],
          "mesh3d": [
           {
            "colorbar": {
             "outlinewidth": 0,
             "ticks": ""
            },
            "type": "mesh3d"
           }
          ],
          "parcoords": [
           {
            "line": {
             "colorbar": {
              "outlinewidth": 0,
              "ticks": ""
             }
            },
            "type": "parcoords"
           }
          ],
          "pie": [
           {
            "automargin": true,
            "type": "pie"
           }
          ],
          "scatter": [
           {
            "fillpattern": {
             "fillmode": "overlay",
             "size": 10,
             "solidity": 0.2
            },
            "type": "scatter"
           }
          ],
          "scatter3d": [
           {
            "line": {
             "colorbar": {
              "outlinewidth": 0,
              "ticks": ""
             }
            },
            "marker": {
             "colorbar": {
              "outlinewidth": 0,
              "ticks": ""
             }
            },
            "type": "scatter3d"
           }
          ],
          "scattercarpet": [
           {
            "marker": {
             "colorbar": {
              "outlinewidth": 0,
              "ticks": ""
             }
            },
            "type": "scattercarpet"
           }
          ],
          "scattergeo": [
           {
            "marker": {
             "colorbar": {
              "outlinewidth": 0,
              "ticks": ""
             }
            },
            "type": "scattergeo"
           }
          ],
          "scattergl": [
           {
            "marker": {
             "colorbar": {
              "outlinewidth": 0,
              "ticks": ""
             }
            },
            "type": "scattergl"
           }
          ],
          "scattermapbox": [
           {
            "marker": {
             "colorbar": {
              "outlinewidth": 0,
              "ticks": ""
             }
            },
            "type": "scattermapbox"
           }
          ],
          "scatterpolar": [
           {
            "marker": {
             "colorbar": {
              "outlinewidth": 0,
              "ticks": ""
             }
            },
            "type": "scatterpolar"
           }
          ],
          "scatterpolargl": [
           {
            "marker": {
             "colorbar": {
              "outlinewidth": 0,
              "ticks": ""
             }
            },
            "type": "scatterpolargl"
           }
          ],
          "scatterternary": [
           {
            "marker": {
             "colorbar": {
              "outlinewidth": 0,
              "ticks": ""
             }
            },
            "type": "scatterternary"
           }
          ],
          "surface": [
           {
            "colorbar": {
             "outlinewidth": 0,
             "ticks": ""
            },
            "colorscale": [
             [
              0,
              "#0d0887"
             ],
             [
              0.1111111111111111,
              "#46039f"
             ],
             [
              0.2222222222222222,
              "#7201a8"
             ],
             [
              0.3333333333333333,
              "#9c179e"
             ],
             [
              0.4444444444444444,
              "#bd3786"
             ],
             [
              0.5555555555555556,
              "#d8576b"
             ],
             [
              0.6666666666666666,
              "#ed7953"
             ],
             [
              0.7777777777777778,
              "#fb9f3a"
             ],
             [
              0.8888888888888888,
              "#fdca26"
             ],
             [
              1,
              "#f0f921"
             ]
            ],
            "type": "surface"
           }
          ],
          "table": [
           {
            "cells": {
             "fill": {
              "color": "#EBF0F8"
             },
             "line": {
              "color": "white"
             }
            },
            "header": {
             "fill": {
              "color": "#C8D4E3"
             },
             "line": {
              "color": "white"
             }
            },
            "type": "table"
           }
          ]
         },
         "layout": {
          "annotationdefaults": {
           "arrowcolor": "#2a3f5f",
           "arrowhead": 0,
           "arrowwidth": 1
          },
          "autotypenumbers": "strict",
          "coloraxis": {
           "colorbar": {
            "outlinewidth": 0,
            "ticks": ""
           }
          },
          "colorscale": {
           "diverging": [
            [
             0,
             "#8e0152"
            ],
            [
             0.1,
             "#c51b7d"
            ],
            [
             0.2,
             "#de77ae"
            ],
            [
             0.3,
             "#f1b6da"
            ],
            [
             0.4,
             "#fde0ef"
            ],
            [
             0.5,
             "#f7f7f7"
            ],
            [
             0.6,
             "#e6f5d0"
            ],
            [
             0.7,
             "#b8e186"
            ],
            [
             0.8,
             "#7fbc41"
            ],
            [
             0.9,
             "#4d9221"
            ],
            [
             1,
             "#276419"
            ]
           ],
           "sequential": [
            [
             0,
             "#0d0887"
            ],
            [
             0.1111111111111111,
             "#46039f"
            ],
            [
             0.2222222222222222,
             "#7201a8"
            ],
            [
             0.3333333333333333,
             "#9c179e"
            ],
            [
             0.4444444444444444,
             "#bd3786"
            ],
            [
             0.5555555555555556,
             "#d8576b"
            ],
            [
             0.6666666666666666,
             "#ed7953"
            ],
            [
             0.7777777777777778,
             "#fb9f3a"
            ],
            [
             0.8888888888888888,
             "#fdca26"
            ],
            [
             1,
             "#f0f921"
            ]
           ],
           "sequentialminus": [
            [
             0,
             "#0d0887"
            ],
            [
             0.1111111111111111,
             "#46039f"
            ],
            [
             0.2222222222222222,
             "#7201a8"
            ],
            [
             0.3333333333333333,
             "#9c179e"
            ],
            [
             0.4444444444444444,
             "#bd3786"
            ],
            [
             0.5555555555555556,
             "#d8576b"
            ],
            [
             0.6666666666666666,
             "#ed7953"
            ],
            [
             0.7777777777777778,
             "#fb9f3a"
            ],
            [
             0.8888888888888888,
             "#fdca26"
            ],
            [
             1,
             "#f0f921"
            ]
           ]
          },
          "colorway": [
           "#636efa",
           "#EF553B",
           "#00cc96",
           "#ab63fa",
           "#FFA15A",
           "#19d3f3",
           "#FF6692",
           "#B6E880",
           "#FF97FF",
           "#FECB52"
          ],
          "font": {
           "color": "#2a3f5f"
          },
          "geo": {
           "bgcolor": "white",
           "lakecolor": "white",
           "landcolor": "#E5ECF6",
           "showlakes": true,
           "showland": true,
           "subunitcolor": "white"
          },
          "hoverlabel": {
           "align": "left"
          },
          "hovermode": "closest",
          "mapbox": {
           "style": "light"
          },
          "paper_bgcolor": "white",
          "plot_bgcolor": "#E5ECF6",
          "polar": {
           "angularaxis": {
            "gridcolor": "white",
            "linecolor": "white",
            "ticks": ""
           },
           "bgcolor": "#E5ECF6",
           "radialaxis": {
            "gridcolor": "white",
            "linecolor": "white",
            "ticks": ""
           }
          },
          "scene": {
           "xaxis": {
            "backgroundcolor": "#E5ECF6",
            "gridcolor": "white",
            "gridwidth": 2,
            "linecolor": "white",
            "showbackground": true,
            "ticks": "",
            "zerolinecolor": "white"
           },
           "yaxis": {
            "backgroundcolor": "#E5ECF6",
            "gridcolor": "white",
            "gridwidth": 2,
            "linecolor": "white",
            "showbackground": true,
            "ticks": "",
            "zerolinecolor": "white"
           },
           "zaxis": {
            "backgroundcolor": "#E5ECF6",
            "gridcolor": "white",
            "gridwidth": 2,
            "linecolor": "white",
            "showbackground": true,
            "ticks": "",
            "zerolinecolor": "white"
           }
          },
          "shapedefaults": {
           "line": {
            "color": "#2a3f5f"
           }
          },
          "ternary": {
           "aaxis": {
            "gridcolor": "white",
            "linecolor": "white",
            "ticks": ""
           },
           "baxis": {
            "gridcolor": "white",
            "linecolor": "white",
            "ticks": ""
           },
           "bgcolor": "#E5ECF6",
           "caxis": {
            "gridcolor": "white",
            "linecolor": "white",
            "ticks": ""
           }
          },
          "title": {
           "x": 0.05
          },
          "xaxis": {
           "automargin": true,
           "gridcolor": "white",
           "linecolor": "white",
           "ticks": "",
           "title": {
            "standoff": 15
           },
           "zerolinecolor": "white",
           "zerolinewidth": 2
          },
          "yaxis": {
           "automargin": true,
           "gridcolor": "white",
           "linecolor": "white",
           "ticks": "",
           "title": {
            "standoff": 15
           },
           "zerolinecolor": "white",
           "zerolinewidth": 2
          }
         }
        },
        "title": {
         "text": "Sales Pipeline Funnel (Deal Amount) (Created from 2023-01-01)",
         "x": 0.5,
         "xanchor": "center",
         "y": 0.95,
         "yanchor": "top"
        },
        "width": 800
       }
      }
     },
     "metadata": {},
     "output_type": "display_data"
    },
    {
     "name": "stdout",
     "output_type": "stream",
     "text": [
      "\n",
      "Sales Funnel Summary (Deal Amount) (Created from 2023-01-01):\n"
     ]
    },
    {
     "data": {
      "text/html": [
       "<div>\n",
       "<style scoped>\n",
       "    .dataframe tbody tr th:only-of-type {\n",
       "        vertical-align: middle;\n",
       "    }\n",
       "\n",
       "    .dataframe tbody tr th {\n",
       "        vertical-align: top;\n",
       "    }\n",
       "\n",
       "    .dataframe thead th {\n",
       "        text-align: right;\n",
       "    }\n",
       "</style>\n",
       "<table border=\"1\" class=\"dataframe\">\n",
       "  <thead>\n",
       "    <tr style=\"text-align: right;\">\n",
       "      <th></th>\n",
       "      <th>Stage</th>\n",
       "      <th>Deal Count</th>\n",
       "      <th>Deal Amount (SEK)</th>\n",
       "    </tr>\n",
       "  </thead>\n",
       "  <tbody>\n",
       "    <tr>\n",
       "      <th>0</th>\n",
       "      <td>Stage 0: Lead</td>\n",
       "      <td>4</td>\n",
       "      <td>900,500.00 SEK</td>\n",
       "    </tr>\n",
       "    <tr>\n",
       "      <th>1</th>\n",
       "      <td>Stage 1: Qualification</td>\n",
       "      <td>5</td>\n",
       "      <td>2,190,000.00 SEK</td>\n",
       "    </tr>\n",
       "    <tr>\n",
       "      <th>2</th>\n",
       "      <td>Stage 3: Proposal</td>\n",
       "      <td>2</td>\n",
       "      <td>700,000.00 SEK</td>\n",
       "    </tr>\n",
       "    <tr>\n",
       "      <th>3</th>\n",
       "      <td>Stage 4: Closed Won</td>\n",
       "      <td>55</td>\n",
       "      <td>33,348,400.00 SEK</td>\n",
       "    </tr>\n",
       "    <tr>\n",
       "      <th>4</th>\n",
       "      <td>Stage 5: Closed Lost</td>\n",
       "      <td>130</td>\n",
       "      <td>74,070,000.00 SEK</td>\n",
       "    </tr>\n",
       "  </tbody>\n",
       "</table>\n",
       "</div>"
      ],
      "text/plain": [
       "                    Stage  Deal Count  Deal Amount (SEK)\n",
       "0           Stage 0: Lead           4     900,500.00 SEK\n",
       "1  Stage 1: Qualification           5   2,190,000.00 SEK\n",
       "2       Stage 3: Proposal           2     700,000.00 SEK\n",
       "3     Stage 4: Closed Won          55  33,348,400.00 SEK\n",
       "4    Stage 5: Closed Lost         130  74,070,000.00 SEK"
      ]
     },
     "metadata": {},
     "output_type": "display_data"
    },
    {
     "data": {
      "application/vnd.plotly.v1+json": {
       "config": {
        "plotlyServerURL": "https://plot.ly"
       },
       "data": [
        {
         "hoverinfo": "text",
         "hovertext": [
          "<b>Stage 4: Closed Won</b><br>Weighted Deal Amount: 37,729,400.00 SEK<br>Number of Deals: 57",
          "<b>Stage 5: Closed Lost</b><br>Weighted Deal Amount: 0.00 SEK<br>Number of Deals: 148"
         ],
         "marker": {
          "color": [
           "#1f77b4",
           "#7fc3e5"
          ],
          "line": {
           "color": [
            "white",
            "white"
           ],
           "width": [
            1,
            1
           ]
          }
         },
         "name": "Sales Funnel",
         "opacity": 0.7,
         "textinfo": "value+percent initial",
         "textposition": "inside",
         "type": "funnel",
         "x": [
          37729400,
          0
         ],
         "y": [
          "Stage 4: Closed Won",
          "Stage 5: Closed Lost"
         ]
        }
       ],
       "layout": {
        "height": 500,
        "template": {
         "data": {
          "bar": [
           {
            "error_x": {
             "color": "#2a3f5f"
            },
            "error_y": {
             "color": "#2a3f5f"
            },
            "marker": {
             "line": {
              "color": "#E5ECF6",
              "width": 0.5
             },
             "pattern": {
              "fillmode": "overlay",
              "size": 10,
              "solidity": 0.2
             }
            },
            "type": "bar"
           }
          ],
          "barpolar": [
           {
            "marker": {
             "line": {
              "color": "#E5ECF6",
              "width": 0.5
             },
             "pattern": {
              "fillmode": "overlay",
              "size": 10,
              "solidity": 0.2
             }
            },
            "type": "barpolar"
           }
          ],
          "carpet": [
           {
            "aaxis": {
             "endlinecolor": "#2a3f5f",
             "gridcolor": "white",
             "linecolor": "white",
             "minorgridcolor": "white",
             "startlinecolor": "#2a3f5f"
            },
            "baxis": {
             "endlinecolor": "#2a3f5f",
             "gridcolor": "white",
             "linecolor": "white",
             "minorgridcolor": "white",
             "startlinecolor": "#2a3f5f"
            },
            "type": "carpet"
           }
          ],
          "choropleth": [
           {
            "colorbar": {
             "outlinewidth": 0,
             "ticks": ""
            },
            "type": "choropleth"
           }
          ],
          "contour": [
           {
            "colorbar": {
             "outlinewidth": 0,
             "ticks": ""
            },
            "colorscale": [
             [
              0,
              "#0d0887"
             ],
             [
              0.1111111111111111,
              "#46039f"
             ],
             [
              0.2222222222222222,
              "#7201a8"
             ],
             [
              0.3333333333333333,
              "#9c179e"
             ],
             [
              0.4444444444444444,
              "#bd3786"
             ],
             [
              0.5555555555555556,
              "#d8576b"
             ],
             [
              0.6666666666666666,
              "#ed7953"
             ],
             [
              0.7777777777777778,
              "#fb9f3a"
             ],
             [
              0.8888888888888888,
              "#fdca26"
             ],
             [
              1,
              "#f0f921"
             ]
            ],
            "type": "contour"
           }
          ],
          "contourcarpet": [
           {
            "colorbar": {
             "outlinewidth": 0,
             "ticks": ""
            },
            "type": "contourcarpet"
           }
          ],
          "heatmap": [
           {
            "colorbar": {
             "outlinewidth": 0,
             "ticks": ""
            },
            "colorscale": [
             [
              0,
              "#0d0887"
             ],
             [
              0.1111111111111111,
              "#46039f"
             ],
             [
              0.2222222222222222,
              "#7201a8"
             ],
             [
              0.3333333333333333,
              "#9c179e"
             ],
             [
              0.4444444444444444,
              "#bd3786"
             ],
             [
              0.5555555555555556,
              "#d8576b"
             ],
             [
              0.6666666666666666,
              "#ed7953"
             ],
             [
              0.7777777777777778,
              "#fb9f3a"
             ],
             [
              0.8888888888888888,
              "#fdca26"
             ],
             [
              1,
              "#f0f921"
             ]
            ],
            "type": "heatmap"
           }
          ],
          "heatmapgl": [
           {
            "colorbar": {
             "outlinewidth": 0,
             "ticks": ""
            },
            "colorscale": [
             [
              0,
              "#0d0887"
             ],
             [
              0.1111111111111111,
              "#46039f"
             ],
             [
              0.2222222222222222,
              "#7201a8"
             ],
             [
              0.3333333333333333,
              "#9c179e"
             ],
             [
              0.4444444444444444,
              "#bd3786"
             ],
             [
              0.5555555555555556,
              "#d8576b"
             ],
             [
              0.6666666666666666,
              "#ed7953"
             ],
             [
              0.7777777777777778,
              "#fb9f3a"
             ],
             [
              0.8888888888888888,
              "#fdca26"
             ],
             [
              1,
              "#f0f921"
             ]
            ],
            "type": "heatmapgl"
           }
          ],
          "histogram": [
           {
            "marker": {
             "pattern": {
              "fillmode": "overlay",
              "size": 10,
              "solidity": 0.2
             }
            },
            "type": "histogram"
           }
          ],
          "histogram2d": [
           {
            "colorbar": {
             "outlinewidth": 0,
             "ticks": ""
            },
            "colorscale": [
             [
              0,
              "#0d0887"
             ],
             [
              0.1111111111111111,
              "#46039f"
             ],
             [
              0.2222222222222222,
              "#7201a8"
             ],
             [
              0.3333333333333333,
              "#9c179e"
             ],
             [
              0.4444444444444444,
              "#bd3786"
             ],
             [
              0.5555555555555556,
              "#d8576b"
             ],
             [
              0.6666666666666666,
              "#ed7953"
             ],
             [
              0.7777777777777778,
              "#fb9f3a"
             ],
             [
              0.8888888888888888,
              "#fdca26"
             ],
             [
              1,
              "#f0f921"
             ]
            ],
            "type": "histogram2d"
           }
          ],
          "histogram2dcontour": [
           {
            "colorbar": {
             "outlinewidth": 0,
             "ticks": ""
            },
            "colorscale": [
             [
              0,
              "#0d0887"
             ],
             [
              0.1111111111111111,
              "#46039f"
             ],
             [
              0.2222222222222222,
              "#7201a8"
             ],
             [
              0.3333333333333333,
              "#9c179e"
             ],
             [
              0.4444444444444444,
              "#bd3786"
             ],
             [
              0.5555555555555556,
              "#d8576b"
             ],
             [
              0.6666666666666666,
              "#ed7953"
             ],
             [
              0.7777777777777778,
              "#fb9f3a"
             ],
             [
              0.8888888888888888,
              "#fdca26"
             ],
             [
              1,
              "#f0f921"
             ]
            ],
            "type": "histogram2dcontour"
           }
          ],
          "mesh3d": [
           {
            "colorbar": {
             "outlinewidth": 0,
             "ticks": ""
            },
            "type": "mesh3d"
           }
          ],
          "parcoords": [
           {
            "line": {
             "colorbar": {
              "outlinewidth": 0,
              "ticks": ""
             }
            },
            "type": "parcoords"
           }
          ],
          "pie": [
           {
            "automargin": true,
            "type": "pie"
           }
          ],
          "scatter": [
           {
            "fillpattern": {
             "fillmode": "overlay",
             "size": 10,
             "solidity": 0.2
            },
            "type": "scatter"
           }
          ],
          "scatter3d": [
           {
            "line": {
             "colorbar": {
              "outlinewidth": 0,
              "ticks": ""
             }
            },
            "marker": {
             "colorbar": {
              "outlinewidth": 0,
              "ticks": ""
             }
            },
            "type": "scatter3d"
           }
          ],
          "scattercarpet": [
           {
            "marker": {
             "colorbar": {
              "outlinewidth": 0,
              "ticks": ""
             }
            },
            "type": "scattercarpet"
           }
          ],
          "scattergeo": [
           {
            "marker": {
             "colorbar": {
              "outlinewidth": 0,
              "ticks": ""
             }
            },
            "type": "scattergeo"
           }
          ],
          "scattergl": [
           {
            "marker": {
             "colorbar": {
              "outlinewidth": 0,
              "ticks": ""
             }
            },
            "type": "scattergl"
           }
          ],
          "scattermapbox": [
           {
            "marker": {
             "colorbar": {
              "outlinewidth": 0,
              "ticks": ""
             }
            },
            "type": "scattermapbox"
           }
          ],
          "scatterpolar": [
           {
            "marker": {
             "colorbar": {
              "outlinewidth": 0,
              "ticks": ""
             }
            },
            "type": "scatterpolar"
           }
          ],
          "scatterpolargl": [
           {
            "marker": {
             "colorbar": {
              "outlinewidth": 0,
              "ticks": ""
             }
            },
            "type": "scatterpolargl"
           }
          ],
          "scatterternary": [
           {
            "marker": {
             "colorbar": {
              "outlinewidth": 0,
              "ticks": ""
             }
            },
            "type": "scatterternary"
           }
          ],
          "surface": [
           {
            "colorbar": {
             "outlinewidth": 0,
             "ticks": ""
            },
            "colorscale": [
             [
              0,
              "#0d0887"
             ],
             [
              0.1111111111111111,
              "#46039f"
             ],
             [
              0.2222222222222222,
              "#7201a8"
             ],
             [
              0.3333333333333333,
              "#9c179e"
             ],
             [
              0.4444444444444444,
              "#bd3786"
             ],
             [
              0.5555555555555556,
              "#d8576b"
             ],
             [
              0.6666666666666666,
              "#ed7953"
             ],
             [
              0.7777777777777778,
              "#fb9f3a"
             ],
             [
              0.8888888888888888,
              "#fdca26"
             ],
             [
              1,
              "#f0f921"
             ]
            ],
            "type": "surface"
           }
          ],
          "table": [
           {
            "cells": {
             "fill": {
              "color": "#EBF0F8"
             },
             "line": {
              "color": "white"
             }
            },
            "header": {
             "fill": {
              "color": "#C8D4E3"
             },
             "line": {
              "color": "white"
             }
            },
            "type": "table"
           }
          ]
         },
         "layout": {
          "annotationdefaults": {
           "arrowcolor": "#2a3f5f",
           "arrowhead": 0,
           "arrowwidth": 1
          },
          "autotypenumbers": "strict",
          "coloraxis": {
           "colorbar": {
            "outlinewidth": 0,
            "ticks": ""
           }
          },
          "colorscale": {
           "diverging": [
            [
             0,
             "#8e0152"
            ],
            [
             0.1,
             "#c51b7d"
            ],
            [
             0.2,
             "#de77ae"
            ],
            [
             0.3,
             "#f1b6da"
            ],
            [
             0.4,
             "#fde0ef"
            ],
            [
             0.5,
             "#f7f7f7"
            ],
            [
             0.6,
             "#e6f5d0"
            ],
            [
             0.7,
             "#b8e186"
            ],
            [
             0.8,
             "#7fbc41"
            ],
            [
             0.9,
             "#4d9221"
            ],
            [
             1,
             "#276419"
            ]
           ],
           "sequential": [
            [
             0,
             "#0d0887"
            ],
            [
             0.1111111111111111,
             "#46039f"
            ],
            [
             0.2222222222222222,
             "#7201a8"
            ],
            [
             0.3333333333333333,
             "#9c179e"
            ],
            [
             0.4444444444444444,
             "#bd3786"
            ],
            [
             0.5555555555555556,
             "#d8576b"
            ],
            [
             0.6666666666666666,
             "#ed7953"
            ],
            [
             0.7777777777777778,
             "#fb9f3a"
            ],
            [
             0.8888888888888888,
             "#fdca26"
            ],
            [
             1,
             "#f0f921"
            ]
           ],
           "sequentialminus": [
            [
             0,
             "#0d0887"
            ],
            [
             0.1111111111111111,
             "#46039f"
            ],
            [
             0.2222222222222222,
             "#7201a8"
            ],
            [
             0.3333333333333333,
             "#9c179e"
            ],
            [
             0.4444444444444444,
             "#bd3786"
            ],
            [
             0.5555555555555556,
             "#d8576b"
            ],
            [
             0.6666666666666666,
             "#ed7953"
            ],
            [
             0.7777777777777778,
             "#fb9f3a"
            ],
            [
             0.8888888888888888,
             "#fdca26"
            ],
            [
             1,
             "#f0f921"
            ]
           ]
          },
          "colorway": [
           "#636efa",
           "#EF553B",
           "#00cc96",
           "#ab63fa",
           "#FFA15A",
           "#19d3f3",
           "#FF6692",
           "#B6E880",
           "#FF97FF",
           "#FECB52"
          ],
          "font": {
           "color": "#2a3f5f"
          },
          "geo": {
           "bgcolor": "white",
           "lakecolor": "white",
           "landcolor": "#E5ECF6",
           "showlakes": true,
           "showland": true,
           "subunitcolor": "white"
          },
          "hoverlabel": {
           "align": "left"
          },
          "hovermode": "closest",
          "mapbox": {
           "style": "light"
          },
          "paper_bgcolor": "white",
          "plot_bgcolor": "#E5ECF6",
          "polar": {
           "angularaxis": {
            "gridcolor": "white",
            "linecolor": "white",
            "ticks": ""
           },
           "bgcolor": "#E5ECF6",
           "radialaxis": {
            "gridcolor": "white",
            "linecolor": "white",
            "ticks": ""
           }
          },
          "scene": {
           "xaxis": {
            "backgroundcolor": "#E5ECF6",
            "gridcolor": "white",
            "gridwidth": 2,
            "linecolor": "white",
            "showbackground": true,
            "ticks": "",
            "zerolinecolor": "white"
           },
           "yaxis": {
            "backgroundcolor": "#E5ECF6",
            "gridcolor": "white",
            "gridwidth": 2,
            "linecolor": "white",
            "showbackground": true,
            "ticks": "",
            "zerolinecolor": "white"
           },
           "zaxis": {
            "backgroundcolor": "#E5ECF6",
            "gridcolor": "white",
            "gridwidth": 2,
            "linecolor": "white",
            "showbackground": true,
            "ticks": "",
            "zerolinecolor": "white"
           }
          },
          "shapedefaults": {
           "line": {
            "color": "#2a3f5f"
           }
          },
          "ternary": {
           "aaxis": {
            "gridcolor": "white",
            "linecolor": "white",
            "ticks": ""
           },
           "baxis": {
            "gridcolor": "white",
            "linecolor": "white",
            "ticks": ""
           },
           "bgcolor": "#E5ECF6",
           "caxis": {
            "gridcolor": "white",
            "linecolor": "white",
            "ticks": ""
           }
          },
          "title": {
           "x": 0.05
          },
          "xaxis": {
           "automargin": true,
           "gridcolor": "white",
           "linecolor": "white",
           "ticks": "",
           "title": {
            "standoff": 15
           },
           "zerolinecolor": "white",
           "zerolinewidth": 2
          },
          "yaxis": {
           "automargin": true,
           "gridcolor": "white",
           "linecolor": "white",
           "ticks": "",
           "title": {
            "standoff": 15
           },
           "zerolinecolor": "white",
           "zerolinewidth": 2
          }
         }
        },
        "title": {
         "text": "Sales Pipeline Funnel (Weighted Deal Amount) (Created until 2023-12-31)",
         "x": 0.5,
         "xanchor": "center",
         "y": 0.95,
         "yanchor": "top"
        },
        "width": 800
       }
      }
     },
     "metadata": {},
     "output_type": "display_data"
    },
    {
     "name": "stdout",
     "output_type": "stream",
     "text": [
      "\n",
      "Sales Funnel Summary (Weighted Deal Amount) (Created until 2023-12-31):\n"
     ]
    },
    {
     "data": {
      "text/html": [
       "<div>\n",
       "<style scoped>\n",
       "    .dataframe tbody tr th:only-of-type {\n",
       "        vertical-align: middle;\n",
       "    }\n",
       "\n",
       "    .dataframe tbody tr th {\n",
       "        vertical-align: top;\n",
       "    }\n",
       "\n",
       "    .dataframe thead th {\n",
       "        text-align: right;\n",
       "    }\n",
       "</style>\n",
       "<table border=\"1\" class=\"dataframe\">\n",
       "  <thead>\n",
       "    <tr style=\"text-align: right;\">\n",
       "      <th></th>\n",
       "      <th>Stage</th>\n",
       "      <th>Deal Count</th>\n",
       "      <th>Weighted Deal Amount (SEK)</th>\n",
       "    </tr>\n",
       "  </thead>\n",
       "  <tbody>\n",
       "    <tr>\n",
       "      <th>0</th>\n",
       "      <td>Stage 4: Closed Won</td>\n",
       "      <td>57</td>\n",
       "      <td>37,729,400.00 SEK</td>\n",
       "    </tr>\n",
       "    <tr>\n",
       "      <th>1</th>\n",
       "      <td>Stage 5: Closed Lost</td>\n",
       "      <td>148</td>\n",
       "      <td>0.00 SEK</td>\n",
       "    </tr>\n",
       "  </tbody>\n",
       "</table>\n",
       "</div>"
      ],
      "text/plain": [
       "                  Stage  Deal Count Weighted Deal Amount (SEK)\n",
       "0   Stage 4: Closed Won          57          37,729,400.00 SEK\n",
       "1  Stage 5: Closed Lost         148                   0.00 SEK"
      ]
     },
     "metadata": {},
     "output_type": "display_data"
    },
    {
     "data": {
      "application/vnd.plotly.v1+json": {
       "config": {
        "plotlyServerURL": "https://plot.ly"
       },
       "data": [
        {
         "hoverinfo": "text",
         "hovertext": [
          "<b>Stage 0: Lead</b><br>Weighted Deal Amount: 90,050.00 SEK<br>Number of Deals: 4",
          "<b>Stage 1: Qualification</b><br>Weighted Deal Amount: 438,000.00 SEK<br>Number of Deals: 5",
          "<b>Stage 3: Proposal</b><br>Weighted Deal Amount: 420,000.00 SEK<br>Number of Deals: 2",
          "<b>Stage 4: Closed Won</b><br>Weighted Deal Amount: 54,715,400.00 SEK<br>Number of Deals: 93",
          "<b>Stage 5: Closed Lost</b><br>Weighted Deal Amount: 0.00 SEK<br>Number of Deals: 218"
         ],
         "marker": {
          "color": [
           "#1f77b4",
           "#7fc3e5",
           "#4292c6",
           "#2171b5",
           "#08519c"
          ],
          "line": {
           "color": [
            "white",
            "white",
            "white",
            "white",
            "white"
           ],
           "width": [
            1,
            1,
            1,
            1,
            1
           ]
          }
         },
         "name": "Sales Funnel",
         "opacity": 0.7,
         "textinfo": "value+percent initial",
         "textposition": "inside",
         "type": "funnel",
         "x": [
          90050,
          438000,
          420000,
          54715400,
          0
         ],
         "y": [
          "Stage 0: Lead",
          "Stage 1: Qualification",
          "Stage 3: Proposal",
          "Stage 4: Closed Won",
          "Stage 5: Closed Lost"
         ]
        }
       ],
       "layout": {
        "height": 500,
        "template": {
         "data": {
          "bar": [
           {
            "error_x": {
             "color": "#2a3f5f"
            },
            "error_y": {
             "color": "#2a3f5f"
            },
            "marker": {
             "line": {
              "color": "#E5ECF6",
              "width": 0.5
             },
             "pattern": {
              "fillmode": "overlay",
              "size": 10,
              "solidity": 0.2
             }
            },
            "type": "bar"
           }
          ],
          "barpolar": [
           {
            "marker": {
             "line": {
              "color": "#E5ECF6",
              "width": 0.5
             },
             "pattern": {
              "fillmode": "overlay",
              "size": 10,
              "solidity": 0.2
             }
            },
            "type": "barpolar"
           }
          ],
          "carpet": [
           {
            "aaxis": {
             "endlinecolor": "#2a3f5f",
             "gridcolor": "white",
             "linecolor": "white",
             "minorgridcolor": "white",
             "startlinecolor": "#2a3f5f"
            },
            "baxis": {
             "endlinecolor": "#2a3f5f",
             "gridcolor": "white",
             "linecolor": "white",
             "minorgridcolor": "white",
             "startlinecolor": "#2a3f5f"
            },
            "type": "carpet"
           }
          ],
          "choropleth": [
           {
            "colorbar": {
             "outlinewidth": 0,
             "ticks": ""
            },
            "type": "choropleth"
           }
          ],
          "contour": [
           {
            "colorbar": {
             "outlinewidth": 0,
             "ticks": ""
            },
            "colorscale": [
             [
              0,
              "#0d0887"
             ],
             [
              0.1111111111111111,
              "#46039f"
             ],
             [
              0.2222222222222222,
              "#7201a8"
             ],
             [
              0.3333333333333333,
              "#9c179e"
             ],
             [
              0.4444444444444444,
              "#bd3786"
             ],
             [
              0.5555555555555556,
              "#d8576b"
             ],
             [
              0.6666666666666666,
              "#ed7953"
             ],
             [
              0.7777777777777778,
              "#fb9f3a"
             ],
             [
              0.8888888888888888,
              "#fdca26"
             ],
             [
              1,
              "#f0f921"
             ]
            ],
            "type": "contour"
           }
          ],
          "contourcarpet": [
           {
            "colorbar": {
             "outlinewidth": 0,
             "ticks": ""
            },
            "type": "contourcarpet"
           }
          ],
          "heatmap": [
           {
            "colorbar": {
             "outlinewidth": 0,
             "ticks": ""
            },
            "colorscale": [
             [
              0,
              "#0d0887"
             ],
             [
              0.1111111111111111,
              "#46039f"
             ],
             [
              0.2222222222222222,
              "#7201a8"
             ],
             [
              0.3333333333333333,
              "#9c179e"
             ],
             [
              0.4444444444444444,
              "#bd3786"
             ],
             [
              0.5555555555555556,
              "#d8576b"
             ],
             [
              0.6666666666666666,
              "#ed7953"
             ],
             [
              0.7777777777777778,
              "#fb9f3a"
             ],
             [
              0.8888888888888888,
              "#fdca26"
             ],
             [
              1,
              "#f0f921"
             ]
            ],
            "type": "heatmap"
           }
          ],
          "heatmapgl": [
           {
            "colorbar": {
             "outlinewidth": 0,
             "ticks": ""
            },
            "colorscale": [
             [
              0,
              "#0d0887"
             ],
             [
              0.1111111111111111,
              "#46039f"
             ],
             [
              0.2222222222222222,
              "#7201a8"
             ],
             [
              0.3333333333333333,
              "#9c179e"
             ],
             [
              0.4444444444444444,
              "#bd3786"
             ],
             [
              0.5555555555555556,
              "#d8576b"
             ],
             [
              0.6666666666666666,
              "#ed7953"
             ],
             [
              0.7777777777777778,
              "#fb9f3a"
             ],
             [
              0.8888888888888888,
              "#fdca26"
             ],
             [
              1,
              "#f0f921"
             ]
            ],
            "type": "heatmapgl"
           }
          ],
          "histogram": [
           {
            "marker": {
             "pattern": {
              "fillmode": "overlay",
              "size": 10,
              "solidity": 0.2
             }
            },
            "type": "histogram"
           }
          ],
          "histogram2d": [
           {
            "colorbar": {
             "outlinewidth": 0,
             "ticks": ""
            },
            "colorscale": [
             [
              0,
              "#0d0887"
             ],
             [
              0.1111111111111111,
              "#46039f"
             ],
             [
              0.2222222222222222,
              "#7201a8"
             ],
             [
              0.3333333333333333,
              "#9c179e"
             ],
             [
              0.4444444444444444,
              "#bd3786"
             ],
             [
              0.5555555555555556,
              "#d8576b"
             ],
             [
              0.6666666666666666,
              "#ed7953"
             ],
             [
              0.7777777777777778,
              "#fb9f3a"
             ],
             [
              0.8888888888888888,
              "#fdca26"
             ],
             [
              1,
              "#f0f921"
             ]
            ],
            "type": "histogram2d"
           }
          ],
          "histogram2dcontour": [
           {
            "colorbar": {
             "outlinewidth": 0,
             "ticks": ""
            },
            "colorscale": [
             [
              0,
              "#0d0887"
             ],
             [
              0.1111111111111111,
              "#46039f"
             ],
             [
              0.2222222222222222,
              "#7201a8"
             ],
             [
              0.3333333333333333,
              "#9c179e"
             ],
             [
              0.4444444444444444,
              "#bd3786"
             ],
             [
              0.5555555555555556,
              "#d8576b"
             ],
             [
              0.6666666666666666,
              "#ed7953"
             ],
             [
              0.7777777777777778,
              "#fb9f3a"
             ],
             [
              0.8888888888888888,
              "#fdca26"
             ],
             [
              1,
              "#f0f921"
             ]
            ],
            "type": "histogram2dcontour"
           }
          ],
          "mesh3d": [
           {
            "colorbar": {
             "outlinewidth": 0,
             "ticks": ""
            },
            "type": "mesh3d"
           }
          ],
          "parcoords": [
           {
            "line": {
             "colorbar": {
              "outlinewidth": 0,
              "ticks": ""
             }
            },
            "type": "parcoords"
           }
          ],
          "pie": [
           {
            "automargin": true,
            "type": "pie"
           }
          ],
          "scatter": [
           {
            "fillpattern": {
             "fillmode": "overlay",
             "size": 10,
             "solidity": 0.2
            },
            "type": "scatter"
           }
          ],
          "scatter3d": [
           {
            "line": {
             "colorbar": {
              "outlinewidth": 0,
              "ticks": ""
             }
            },
            "marker": {
             "colorbar": {
              "outlinewidth": 0,
              "ticks": ""
             }
            },
            "type": "scatter3d"
           }
          ],
          "scattercarpet": [
           {
            "marker": {
             "colorbar": {
              "outlinewidth": 0,
              "ticks": ""
             }
            },
            "type": "scattercarpet"
           }
          ],
          "scattergeo": [
           {
            "marker": {
             "colorbar": {
              "outlinewidth": 0,
              "ticks": ""
             }
            },
            "type": "scattergeo"
           }
          ],
          "scattergl": [
           {
            "marker": {
             "colorbar": {
              "outlinewidth": 0,
              "ticks": ""
             }
            },
            "type": "scattergl"
           }
          ],
          "scattermapbox": [
           {
            "marker": {
             "colorbar": {
              "outlinewidth": 0,
              "ticks": ""
             }
            },
            "type": "scattermapbox"
           }
          ],
          "scatterpolar": [
           {
            "marker": {
             "colorbar": {
              "outlinewidth": 0,
              "ticks": ""
             }
            },
            "type": "scatterpolar"
           }
          ],
          "scatterpolargl": [
           {
            "marker": {
             "colorbar": {
              "outlinewidth": 0,
              "ticks": ""
             }
            },
            "type": "scatterpolargl"
           }
          ],
          "scatterternary": [
           {
            "marker": {
             "colorbar": {
              "outlinewidth": 0,
              "ticks": ""
             }
            },
            "type": "scatterternary"
           }
          ],
          "surface": [
           {
            "colorbar": {
             "outlinewidth": 0,
             "ticks": ""
            },
            "colorscale": [
             [
              0,
              "#0d0887"
             ],
             [
              0.1111111111111111,
              "#46039f"
             ],
             [
              0.2222222222222222,
              "#7201a8"
             ],
             [
              0.3333333333333333,
              "#9c179e"
             ],
             [
              0.4444444444444444,
              "#bd3786"
             ],
             [
              0.5555555555555556,
              "#d8576b"
             ],
             [
              0.6666666666666666,
              "#ed7953"
             ],
             [
              0.7777777777777778,
              "#fb9f3a"
             ],
             [
              0.8888888888888888,
              "#fdca26"
             ],
             [
              1,
              "#f0f921"
             ]
            ],
            "type": "surface"
           }
          ],
          "table": [
           {
            "cells": {
             "fill": {
              "color": "#EBF0F8"
             },
             "line": {
              "color": "white"
             }
            },
            "header": {
             "fill": {
              "color": "#C8D4E3"
             },
             "line": {
              "color": "white"
             }
            },
            "type": "table"
           }
          ]
         },
         "layout": {
          "annotationdefaults": {
           "arrowcolor": "#2a3f5f",
           "arrowhead": 0,
           "arrowwidth": 1
          },
          "autotypenumbers": "strict",
          "coloraxis": {
           "colorbar": {
            "outlinewidth": 0,
            "ticks": ""
           }
          },
          "colorscale": {
           "diverging": [
            [
             0,
             "#8e0152"
            ],
            [
             0.1,
             "#c51b7d"
            ],
            [
             0.2,
             "#de77ae"
            ],
            [
             0.3,
             "#f1b6da"
            ],
            [
             0.4,
             "#fde0ef"
            ],
            [
             0.5,
             "#f7f7f7"
            ],
            [
             0.6,
             "#e6f5d0"
            ],
            [
             0.7,
             "#b8e186"
            ],
            [
             0.8,
             "#7fbc41"
            ],
            [
             0.9,
             "#4d9221"
            ],
            [
             1,
             "#276419"
            ]
           ],
           "sequential": [
            [
             0,
             "#0d0887"
            ],
            [
             0.1111111111111111,
             "#46039f"
            ],
            [
             0.2222222222222222,
             "#7201a8"
            ],
            [
             0.3333333333333333,
             "#9c179e"
            ],
            [
             0.4444444444444444,
             "#bd3786"
            ],
            [
             0.5555555555555556,
             "#d8576b"
            ],
            [
             0.6666666666666666,
             "#ed7953"
            ],
            [
             0.7777777777777778,
             "#fb9f3a"
            ],
            [
             0.8888888888888888,
             "#fdca26"
            ],
            [
             1,
             "#f0f921"
            ]
           ],
           "sequentialminus": [
            [
             0,
             "#0d0887"
            ],
            [
             0.1111111111111111,
             "#46039f"
            ],
            [
             0.2222222222222222,
             "#7201a8"
            ],
            [
             0.3333333333333333,
             "#9c179e"
            ],
            [
             0.4444444444444444,
             "#bd3786"
            ],
            [
             0.5555555555555556,
             "#d8576b"
            ],
            [
             0.6666666666666666,
             "#ed7953"
            ],
            [
             0.7777777777777778,
             "#fb9f3a"
            ],
            [
             0.8888888888888888,
             "#fdca26"
            ],
            [
             1,
             "#f0f921"
            ]
           ]
          },
          "colorway": [
           "#636efa",
           "#EF553B",
           "#00cc96",
           "#ab63fa",
           "#FFA15A",
           "#19d3f3",
           "#FF6692",
           "#B6E880",
           "#FF97FF",
           "#FECB52"
          ],
          "font": {
           "color": "#2a3f5f"
          },
          "geo": {
           "bgcolor": "white",
           "lakecolor": "white",
           "landcolor": "#E5ECF6",
           "showlakes": true,
           "showland": true,
           "subunitcolor": "white"
          },
          "hoverlabel": {
           "align": "left"
          },
          "hovermode": "closest",
          "mapbox": {
           "style": "light"
          },
          "paper_bgcolor": "white",
          "plot_bgcolor": "#E5ECF6",
          "polar": {
           "angularaxis": {
            "gridcolor": "white",
            "linecolor": "white",
            "ticks": ""
           },
           "bgcolor": "#E5ECF6",
           "radialaxis": {
            "gridcolor": "white",
            "linecolor": "white",
            "ticks": ""
           }
          },
          "scene": {
           "xaxis": {
            "backgroundcolor": "#E5ECF6",
            "gridcolor": "white",
            "gridwidth": 2,
            "linecolor": "white",
            "showbackground": true,
            "ticks": "",
            "zerolinecolor": "white"
           },
           "yaxis": {
            "backgroundcolor": "#E5ECF6",
            "gridcolor": "white",
            "gridwidth": 2,
            "linecolor": "white",
            "showbackground": true,
            "ticks": "",
            "zerolinecolor": "white"
           },
           "zaxis": {
            "backgroundcolor": "#E5ECF6",
            "gridcolor": "white",
            "gridwidth": 2,
            "linecolor": "white",
            "showbackground": true,
            "ticks": "",
            "zerolinecolor": "white"
           }
          },
          "shapedefaults": {
           "line": {
            "color": "#2a3f5f"
           }
          },
          "ternary": {
           "aaxis": {
            "gridcolor": "white",
            "linecolor": "white",
            "ticks": ""
           },
           "baxis": {
            "gridcolor": "white",
            "linecolor": "white",
            "ticks": ""
           },
           "bgcolor": "#E5ECF6",
           "caxis": {
            "gridcolor": "white",
            "linecolor": "white",
            "ticks": ""
           }
          },
          "title": {
           "x": 0.05
          },
          "xaxis": {
           "automargin": true,
           "gridcolor": "white",
           "linecolor": "white",
           "ticks": "",
           "title": {
            "standoff": 15
           },
           "zerolinecolor": "white",
           "zerolinewidth": 2
          },
          "yaxis": {
           "automargin": true,
           "gridcolor": "white",
           "linecolor": "white",
           "ticks": "",
           "title": {
            "standoff": 15
           },
           "zerolinecolor": "white",
           "zerolinewidth": 2
          }
         }
        },
        "title": {
         "text": "Sales Pipeline Funnel (Weighted Deal Amount)",
         "x": 0.5,
         "xanchor": "center",
         "y": 0.95,
         "yanchor": "top"
        },
        "width": 800
       }
      }
     },
     "metadata": {},
     "output_type": "display_data"
    },
    {
     "name": "stdout",
     "output_type": "stream",
     "text": [
      "\n",
      "Sales Funnel Summary (Weighted Deal Amount):\n"
     ]
    },
    {
     "data": {
      "text/html": [
       "<div>\n",
       "<style scoped>\n",
       "    .dataframe tbody tr th:only-of-type {\n",
       "        vertical-align: middle;\n",
       "    }\n",
       "\n",
       "    .dataframe tbody tr th {\n",
       "        vertical-align: top;\n",
       "    }\n",
       "\n",
       "    .dataframe thead th {\n",
       "        text-align: right;\n",
       "    }\n",
       "</style>\n",
       "<table border=\"1\" class=\"dataframe\">\n",
       "  <thead>\n",
       "    <tr style=\"text-align: right;\">\n",
       "      <th></th>\n",
       "      <th>Stage</th>\n",
       "      <th>Deal Count</th>\n",
       "      <th>Weighted Deal Amount (SEK)</th>\n",
       "    </tr>\n",
       "  </thead>\n",
       "  <tbody>\n",
       "    <tr>\n",
       "      <th>0</th>\n",
       "      <td>Stage 0: Lead</td>\n",
       "      <td>4</td>\n",
       "      <td>90,050.00 SEK</td>\n",
       "    </tr>\n",
       "    <tr>\n",
       "      <th>1</th>\n",
       "      <td>Stage 1: Qualification</td>\n",
       "      <td>5</td>\n",
       "      <td>438,000.00 SEK</td>\n",
       "    </tr>\n",
       "    <tr>\n",
       "      <th>2</th>\n",
       "      <td>Stage 3: Proposal</td>\n",
       "      <td>2</td>\n",
       "      <td>420,000.00 SEK</td>\n",
       "    </tr>\n",
       "    <tr>\n",
       "      <th>3</th>\n",
       "      <td>Stage 4: Closed Won</td>\n",
       "      <td>93</td>\n",
       "      <td>54,715,400.00 SEK</td>\n",
       "    </tr>\n",
       "    <tr>\n",
       "      <th>4</th>\n",
       "      <td>Stage 5: Closed Lost</td>\n",
       "      <td>218</td>\n",
       "      <td>0.00 SEK</td>\n",
       "    </tr>\n",
       "  </tbody>\n",
       "</table>\n",
       "</div>"
      ],
      "text/plain": [
       "                    Stage  Deal Count Weighted Deal Amount (SEK)\n",
       "0           Stage 0: Lead           4              90,050.00 SEK\n",
       "1  Stage 1: Qualification           5             438,000.00 SEK\n",
       "2       Stage 3: Proposal           2             420,000.00 SEK\n",
       "3     Stage 4: Closed Won          93          54,715,400.00 SEK\n",
       "4    Stage 5: Closed Lost         218                   0.00 SEK"
      ]
     },
     "metadata": {},
     "output_type": "display_data"
    }
   ],
   "source": [
    "sales_funnel_viz(sales_pipeline, weighted_amount=True, \n",
    "                   time_filter_start='2023-01-01', \n",
    "                   time_filter_stop='2023-06-30')\n",
    "\n",
    "sales_funnel_viz(sales_pipeline, weighted_amount=False,\n",
    "                   time_filter_start='2023-01-01')\n",
    "\n",
    "sales_funnel_viz(sales_pipeline, weighted_amount=True,\n",
    "                   time_filter_stop='2023-12-31')\n",
    "\n",
    "sales_funnel_viz(sales_pipeline, weighted_amount=True)"
   ]
  },
  {
   "cell_type": "markdown",
   "id": "633ec452",
   "metadata": {},
   "source": [
    "# Invoiced amount by month "
   ]
  },
  {
   "cell_type": "code",
   "execution_count": 104,
   "id": "b61f58f0",
   "metadata": {},
   "outputs": [
    {
     "data": {
      "text/html": [
       "<div>\n",
       "<style scoped>\n",
       "    .dataframe tbody tr th:only-of-type {\n",
       "        vertical-align: middle;\n",
       "    }\n",
       "\n",
       "    .dataframe tbody tr th {\n",
       "        vertical-align: top;\n",
       "    }\n",
       "\n",
       "    .dataframe thead th {\n",
       "        text-align: right;\n",
       "    }\n",
       "</style>\n",
       "<table border=\"1\" class=\"dataframe\">\n",
       "  <thead>\n",
       "    <tr style=\"text-align: right;\">\n",
       "      <th></th>\n",
       "      <th>invoice_amount_net</th>\n",
       "      <th>invoice_amount_total</th>\n",
       "      <th>customer_number</th>\n",
       "      <th>due_date</th>\n",
       "      <th>invoice_date</th>\n",
       "      <th>final_pay_date</th>\n",
       "      <th>accounting_year_date</th>\n",
       "      <th>broker</th>\n",
       "      <th>client_anon</th>\n",
       "    </tr>\n",
       "  </thead>\n",
       "  <tbody>\n",
       "    <tr>\n",
       "      <th>0</th>\n",
       "      <td>52000.0</td>\n",
       "      <td>65000.0</td>\n",
       "      <td>559296</td>\n",
       "      <td>2024-10-15</td>\n",
       "      <td>2024-09-30</td>\n",
       "      <td>NaT</td>\n",
       "      <td>2024-05-28</td>\n",
       "      <td>Direct</td>\n",
       "      <td>Mccoy, Singh and Smith</td>\n",
       "    </tr>\n",
       "    <tr>\n",
       "      <th>1</th>\n",
       "      <td>136500.0</td>\n",
       "      <td>170625.0</td>\n",
       "      <td>559298</td>\n",
       "      <td>2024-12-04</td>\n",
       "      <td>2024-11-04</td>\n",
       "      <td>2024-12-04</td>\n",
       "      <td>2024-07-04</td>\n",
       "      <td>Direct</td>\n",
       "      <td>Atkinson, Bishop and Cohen</td>\n",
       "    </tr>\n",
       "    <tr>\n",
       "      <th>2</th>\n",
       "      <td>192000.0</td>\n",
       "      <td>240000.0</td>\n",
       "      <td>559298</td>\n",
       "      <td>2025-01-01</td>\n",
       "      <td>2024-11-30</td>\n",
       "      <td>2024-12-30</td>\n",
       "      <td>2024-07-28</td>\n",
       "      <td>Direct</td>\n",
       "      <td>Atkinson, Bishop and Cohen</td>\n",
       "    </tr>\n",
       "    <tr>\n",
       "      <th>3</th>\n",
       "      <td>133500.0</td>\n",
       "      <td>166875.0</td>\n",
       "      <td>559298</td>\n",
       "      <td>2025-02-02</td>\n",
       "      <td>2024-12-31</td>\n",
       "      <td>2025-01-31</td>\n",
       "      <td>2024-08-28</td>\n",
       "      <td>Direct</td>\n",
       "      <td>Atkinson, Bishop and Cohen</td>\n",
       "    </tr>\n",
       "    <tr>\n",
       "      <th>4</th>\n",
       "      <td>212800.0</td>\n",
       "      <td>266000.0</td>\n",
       "      <td>559298</td>\n",
       "      <td>2025-03-05</td>\n",
       "      <td>2025-01-31</td>\n",
       "      <td>2025-03-05</td>\n",
       "      <td>2024-09-28</td>\n",
       "      <td>Direct</td>\n",
       "      <td>Atkinson, Bishop and Cohen</td>\n",
       "    </tr>\n",
       "  </tbody>\n",
       "</table>\n",
       "</div>"
      ],
      "text/plain": [
       "   invoice_amount_net  invoice_amount_total  customer_number   due_date  \\\n",
       "0             52000.0               65000.0           559296 2024-10-15   \n",
       "1            136500.0              170625.0           559298 2024-12-04   \n",
       "2            192000.0              240000.0           559298 2025-01-01   \n",
       "3            133500.0              166875.0           559298 2025-02-02   \n",
       "4            212800.0              266000.0           559298 2025-03-05   \n",
       "\n",
       "  invoice_date final_pay_date accounting_year_date  broker  \\\n",
       "0   2024-09-30            NaT           2024-05-28  Direct   \n",
       "1   2024-11-04     2024-12-04           2024-07-04  Direct   \n",
       "2   2024-11-30     2024-12-30           2024-07-28  Direct   \n",
       "3   2024-12-31     2025-01-31           2024-08-28  Direct   \n",
       "4   2025-01-31     2025-03-05           2024-09-28  Direct   \n",
       "\n",
       "                  client_anon  \n",
       "0      Mccoy, Singh and Smith  \n",
       "1  Atkinson, Bishop and Cohen  \n",
       "2  Atkinson, Bishop and Cohen  \n",
       "3  Atkinson, Bishop and Cohen  \n",
       "4  Atkinson, Bishop and Cohen  "
      ]
     },
     "execution_count": 104,
     "metadata": {},
     "output_type": "execute_result"
    }
   ],
   "source": [
    "invoices.head()"
   ]
  },
  {
   "cell_type": "code",
   "execution_count": 105,
   "id": "7fd60a52",
   "metadata": {},
   "outputs": [],
   "source": [
    "def plot_invoice_amounts(df, start_date=None, end_date=None, amount_type='net', hue=False):\n",
    "    \"\"\"\n",
    "    Plot invoice amounts by month based on final payment date.\n",
    "    \n",
    "    Parameters:\n",
    "    -----------\n",
    "    df : pandas DataFrame\n",
    "        The invoice dataframe\n",
    "    start_date : str, optional\n",
    "        Start date for filtering in 'YYYY-MM-DD' format\n",
    "    end_date : str, optional\n",
    "        End date for filtering in 'YYYY-MM-DD' format\n",
    "    amount_type : str, default 'net'\n",
    "        Type of amount to plot: 'net' for invoice_amount_net or 'total' for invoice_amount_total\n",
    "    hue : bool, default False\n",
    "        If True, group and color by broker column\n",
    "        \n",
    "    Returns:\n",
    "    --------\n",
    "    None: Displays the plotly figure\n",
    "    \"\"\"    \n",
    "    # create a copy and drop rows where final_pay_date is NaT \n",
    "    plot_df = df.copy()\n",
    "    plot_df = plot_df.dropna(subset=['final_pay_date'])\n",
    "\n",
    "    # filter on date if argument is passed\n",
    "    if start_date:\n",
    "        start_date = pd.to_datetime(start_date)\n",
    "        plot_df = plot_df[plot_df['final_pay_date'] >= start_date]    \n",
    "    if end_date:\n",
    "        end_date = pd.to_datetime(end_date)\n",
    "        plot_df = plot_df[plot_df['final_pay_date'] <= end_date]\n",
    "    if plot_df.empty:\n",
    "        print(\"No data available after applying date filters.\")\n",
    "        return\n",
    "    \n",
    "    # select the amount column based on passed argument \n",
    "    if amount_type.lower() == 'net':\n",
    "        amount_col = 'invoice_amount_net'\n",
    "        amount_title = 'Net Invoice Amount'\n",
    "    elif amount_type.lower() == 'total':\n",
    "        amount_col = 'invoice_amount_total'\n",
    "        amount_title = 'Total Invoice Amount'\n",
    "    else:\n",
    "        raise ValueError(\"amount_type must be either 'net' or 'total'\")\n",
    "    \n",
    "    # create month column for grouping\n",
    "    plot_df['month'] = plot_df['final_pay_date'].dt.to_period('M')\n",
    "    plot_df['month_str'] = plot_df['month'].dt.strftime('%Y-%m')\n",
    "    \n",
    "    # create date range text for title\n",
    "    if start_date and end_date:\n",
    "        date_range_text = f\" ({start_date.strftime('%Y-%m-%d')} to {end_date.strftime('%Y-%m-%d')})\"\n",
    "    elif start_date:\n",
    "        date_range_text = f\" (from {start_date.strftime('%Y-%m-%d')})\"\n",
    "    elif end_date:\n",
    "        date_range_text = f\" (until {end_date.strftime('%Y-%m-%d')})\"\n",
    "    else:\n",
    "        date_range_text = \"\"\n",
    "    if hue:\n",
    "        # group by month and broker, then sum the amounts\n",
    "        monthly_data = plot_df.groupby(['month_str', 'broker'])[amount_col].sum().reset_index()\n",
    "\n",
    "        # create the plot with color by broker\n",
    "        fig = px.bar(\n",
    "            monthly_data,\n",
    "            x='month_str',\n",
    "            y=amount_col,\n",
    "            color='broker',\n",
    "            title=f'Monthly {amount_title} by Broker{date_range_text}',\n",
    "            labels={\n",
    "                'month_str': 'Month',\n",
    "                amount_col: f'{amount_title} (SEK)',\n",
    "                'broker': 'Broker'\n",
    "            },\n",
    "            barmode='group'\n",
    "        )\n",
    "        fig.update_traces(\n",
    "            hovertemplate='Month: %{x}<br>Broker: %{marker.color}<br>' + f'{amount_title}: %{{y:,.2f}} SEK'\n",
    "        )\n",
    "    else:\n",
    "        # group by month only and sum the amounts\n",
    "        monthly_data = plot_df.groupby('month_str')[amount_col].sum().reset_index()\n",
    "        fig = px.bar(\n",
    "            monthly_data,\n",
    "            x='month_str',\n",
    "            y=amount_col,\n",
    "            title=f'Monthly {amount_title}{date_range_text}',\n",
    "            labels={\n",
    "                'month_str': 'Month',\n",
    "                amount_col: f'{amount_title} (SEK)'\n",
    "            },\n",
    "            text_auto='.2s'\n",
    "        )\n",
    "        fig.update_traces(\n",
    "            hovertemplate='Month: %{x}<br>' + f'{amount_title}: %{{y:,.2f}} SEK'\n",
    "        )\n",
    "    # update plot layout\n",
    "    fig.update_layout(\n",
    "        xaxis_title='Month',\n",
    "        yaxis_title=f'{amount_title} (SEK)',\n",
    "        height=500,\n",
    "        width=900,\n",
    "        xaxis={'categoryorder': 'category ascending'}\n",
    "    )\n",
    "    fig.show()\n",
    "    \n",
    "    # display summary stats\n",
    "    if hue:\n",
    "        # if hue is passed\n",
    "        broker_summary = monthly_data.groupby('broker')[amount_col].agg(['sum', 'mean']).reset_index()\n",
    "        broker_summary.columns = ['Broker', 'Total Amount', 'Average Monthly Amount']\n",
    "        broker_summary['Total Amount'] = broker_summary['Total Amount'].map(lambda x: f\"{x:,.2f} SEK\")\n",
    "        broker_summary['Average Monthly Amount'] = broker_summary['Average Monthly Amount'].map(lambda x: f\"{x:,.2f} SEK\")\n",
    "        \n",
    "        print(f\"\\nSummary Statistics for {amount_title}{date_range_text} by Broker:\")\n",
    "        display(broker_summary)\n",
    "    \n",
    "        total_amount = monthly_data[amount_col].sum()\n",
    "        unique_months = monthly_data['month_str'].nunique()\n",
    "        avg_monthly = total_amount / unique_months if unique_months > 0 else 0\n",
    "        \n",
    "        print(f\"\\nOverall Statistics:\")\n",
    "        print(f\"Total Amount: {total_amount:,.2f} SEK\")\n",
    "        print(f\"Average Monthly Amount: {avg_monthly:,.2f} SEK\")\n",
    "        print(f\"Number of Months: {unique_months}\")\n",
    "    else:\n",
    "        # if hue is not passed\n",
    "        total_amount = monthly_data[amount_col].sum()\n",
    "        avg_monthly = monthly_data[amount_col].mean()\n",
    "        \n",
    "        print(f\"\\nSummary Statistics for {amount_title}{date_range_text}:\")\n",
    "        print(f\"Total Amount: {total_amount:,.2f} SEK\")\n",
    "        print(f\"Average Monthly Amount: {avg_monthly:,.2f} SEK\")\n",
    "        print(f\"Number of Months: {len(monthly_data)}\")\n",
    "    \n",
    "    # return the monthly data for potential further analysis\n",
    "    return monthly_data"
   ]
  },
  {
   "cell_type": "code",
   "execution_count": 106,
   "id": "d0791351",
   "metadata": {},
   "outputs": [
    {
     "data": {
      "application/vnd.plotly.v1+json": {
       "config": {
        "plotlyServerURL": "https://plot.ly"
       },
       "data": [
        {
         "alignmentgroup": "True",
         "hovertemplate": "Month: %{x}<br>Net Invoice Amount: %{y:,.2f} SEK",
         "legendgroup": "",
         "marker": {
          "color": "#636efa",
          "pattern": {
           "shape": ""
          }
         },
         "name": "",
         "offsetgroup": "",
         "orientation": "v",
         "showlegend": false,
         "textposition": "auto",
         "texttemplate": "%{y:.2s}",
         "type": "bar",
         "x": [
          "2019-07",
          "2019-08",
          "2019-09",
          "2019-10",
          "2019-11",
          "2019-12",
          "2020-01",
          "2020-02",
          "2020-03",
          "2020-04",
          "2020-05",
          "2020-06",
          "2020-07",
          "2020-08",
          "2020-09",
          "2020-10",
          "2020-11",
          "2020-12",
          "2021-01",
          "2021-02",
          "2021-03",
          "2021-04",
          "2021-05",
          "2021-06",
          "2021-07",
          "2021-08",
          "2021-09",
          "2021-10",
          "2021-11",
          "2021-12",
          "2022-01",
          "2022-02",
          "2022-03",
          "2022-04",
          "2022-05",
          "2022-06",
          "2022-07",
          "2022-08",
          "2022-09",
          "2022-10",
          "2022-11",
          "2022-12",
          "2023-01",
          "2023-02",
          "2023-03",
          "2023-04",
          "2023-05",
          "2023-06",
          "2023-07",
          "2023-08",
          "2023-09",
          "2023-10",
          "2023-11",
          "2023-12",
          "2024-01",
          "2024-02",
          "2024-03",
          "2024-04",
          "2024-05",
          "2024-06",
          "2024-07",
          "2024-08",
          "2024-09",
          "2024-10",
          "2024-11",
          "2024-12",
          "2025-01",
          "2025-02",
          "2025-03",
          "2025-04",
          "2025-05",
          "2025-06",
          "2025-07",
          "2025-08",
          "2025-09"
         ],
         "xaxis": "x",
         "y": [
          117855,
          214162.5,
          228555,
          366405,
          424095,
          370785,
          335550,
          280005,
          347462.5,
          328487.5,
          295542.5,
          165082.5,
          559657.5,
          352467.5,
          73067.5,
          270517.5,
          419965,
          570422.5,
          564520,
          879530,
          748045,
          1125200,
          615543,
          959790,
          709230.4,
          826883.2,
          264512.8,
          714390,
          608009.2,
          1325140,
          1112314.3,
          644917.2,
          1670549.9440000001,
          1740943,
          1290359.2,
          1344959.11875,
          1572148.308,
          1253510.005,
          791450.872,
          1252396.842,
          1862344.199,
          1341301.5432,
          1545335.715,
          645536.1,
          1142826.988,
          1573293.89,
          1392708.855,
          2104325.3686,
          1312617.80975,
          1448826.31875,
          365695.828,
          1371269.4196000001,
          1765113.84036,
          1569988.70104,
          2116004.941,
          823311.5,
          1306780.216,
          1948558.4479999999,
          1632274.84,
          769059.1276,
          1444319.7286,
          868900.1188,
          765603.5855,
          1328074.9141,
          1135307.0321,
          2200600,
          1497041.4758,
          1158680,
          1776774.0207,
          1948880,
          1001960,
          1313409.01,
          2170080,
          761142.5,
          170050
         ],
         "yaxis": "y"
        }
       ],
       "layout": {
        "barmode": "relative",
        "height": 500,
        "legend": {
         "tracegroupgap": 0
        },
        "template": {
         "data": {
          "bar": [
           {
            "error_x": {
             "color": "#2a3f5f"
            },
            "error_y": {
             "color": "#2a3f5f"
            },
            "marker": {
             "line": {
              "color": "#E5ECF6",
              "width": 0.5
             },
             "pattern": {
              "fillmode": "overlay",
              "size": 10,
              "solidity": 0.2
             }
            },
            "type": "bar"
           }
          ],
          "barpolar": [
           {
            "marker": {
             "line": {
              "color": "#E5ECF6",
              "width": 0.5
             },
             "pattern": {
              "fillmode": "overlay",
              "size": 10,
              "solidity": 0.2
             }
            },
            "type": "barpolar"
           }
          ],
          "carpet": [
           {
            "aaxis": {
             "endlinecolor": "#2a3f5f",
             "gridcolor": "white",
             "linecolor": "white",
             "minorgridcolor": "white",
             "startlinecolor": "#2a3f5f"
            },
            "baxis": {
             "endlinecolor": "#2a3f5f",
             "gridcolor": "white",
             "linecolor": "white",
             "minorgridcolor": "white",
             "startlinecolor": "#2a3f5f"
            },
            "type": "carpet"
           }
          ],
          "choropleth": [
           {
            "colorbar": {
             "outlinewidth": 0,
             "ticks": ""
            },
            "type": "choropleth"
           }
          ],
          "contour": [
           {
            "colorbar": {
             "outlinewidth": 0,
             "ticks": ""
            },
            "colorscale": [
             [
              0,
              "#0d0887"
             ],
             [
              0.1111111111111111,
              "#46039f"
             ],
             [
              0.2222222222222222,
              "#7201a8"
             ],
             [
              0.3333333333333333,
              "#9c179e"
             ],
             [
              0.4444444444444444,
              "#bd3786"
             ],
             [
              0.5555555555555556,
              "#d8576b"
             ],
             [
              0.6666666666666666,
              "#ed7953"
             ],
             [
              0.7777777777777778,
              "#fb9f3a"
             ],
             [
              0.8888888888888888,
              "#fdca26"
             ],
             [
              1,
              "#f0f921"
             ]
            ],
            "type": "contour"
           }
          ],
          "contourcarpet": [
           {
            "colorbar": {
             "outlinewidth": 0,
             "ticks": ""
            },
            "type": "contourcarpet"
           }
          ],
          "heatmap": [
           {
            "colorbar": {
             "outlinewidth": 0,
             "ticks": ""
            },
            "colorscale": [
             [
              0,
              "#0d0887"
             ],
             [
              0.1111111111111111,
              "#46039f"
             ],
             [
              0.2222222222222222,
              "#7201a8"
             ],
             [
              0.3333333333333333,
              "#9c179e"
             ],
             [
              0.4444444444444444,
              "#bd3786"
             ],
             [
              0.5555555555555556,
              "#d8576b"
             ],
             [
              0.6666666666666666,
              "#ed7953"
             ],
             [
              0.7777777777777778,
              "#fb9f3a"
             ],
             [
              0.8888888888888888,
              "#fdca26"
             ],
             [
              1,
              "#f0f921"
             ]
            ],
            "type": "heatmap"
           }
          ],
          "heatmapgl": [
           {
            "colorbar": {
             "outlinewidth": 0,
             "ticks": ""
            },
            "colorscale": [
             [
              0,
              "#0d0887"
             ],
             [
              0.1111111111111111,
              "#46039f"
             ],
             [
              0.2222222222222222,
              "#7201a8"
             ],
             [
              0.3333333333333333,
              "#9c179e"
             ],
             [
              0.4444444444444444,
              "#bd3786"
             ],
             [
              0.5555555555555556,
              "#d8576b"
             ],
             [
              0.6666666666666666,
              "#ed7953"
             ],
             [
              0.7777777777777778,
              "#fb9f3a"
             ],
             [
              0.8888888888888888,
              "#fdca26"
             ],
             [
              1,
              "#f0f921"
             ]
            ],
            "type": "heatmapgl"
           }
          ],
          "histogram": [
           {
            "marker": {
             "pattern": {
              "fillmode": "overlay",
              "size": 10,
              "solidity": 0.2
             }
            },
            "type": "histogram"
           }
          ],
          "histogram2d": [
           {
            "colorbar": {
             "outlinewidth": 0,
             "ticks": ""
            },
            "colorscale": [
             [
              0,
              "#0d0887"
             ],
             [
              0.1111111111111111,
              "#46039f"
             ],
             [
              0.2222222222222222,
              "#7201a8"
             ],
             [
              0.3333333333333333,
              "#9c179e"
             ],
             [
              0.4444444444444444,
              "#bd3786"
             ],
             [
              0.5555555555555556,
              "#d8576b"
             ],
             [
              0.6666666666666666,
              "#ed7953"
             ],
             [
              0.7777777777777778,
              "#fb9f3a"
             ],
             [
              0.8888888888888888,
              "#fdca26"
             ],
             [
              1,
              "#f0f921"
             ]
            ],
            "type": "histogram2d"
           }
          ],
          "histogram2dcontour": [
           {
            "colorbar": {
             "outlinewidth": 0,
             "ticks": ""
            },
            "colorscale": [
             [
              0,
              "#0d0887"
             ],
             [
              0.1111111111111111,
              "#46039f"
             ],
             [
              0.2222222222222222,
              "#7201a8"
             ],
             [
              0.3333333333333333,
              "#9c179e"
             ],
             [
              0.4444444444444444,
              "#bd3786"
             ],
             [
              0.5555555555555556,
              "#d8576b"
             ],
             [
              0.6666666666666666,
              "#ed7953"
             ],
             [
              0.7777777777777778,
              "#fb9f3a"
             ],
             [
              0.8888888888888888,
              "#fdca26"
             ],
             [
              1,
              "#f0f921"
             ]
            ],
            "type": "histogram2dcontour"
           }
          ],
          "mesh3d": [
           {
            "colorbar": {
             "outlinewidth": 0,
             "ticks": ""
            },
            "type": "mesh3d"
           }
          ],
          "parcoords": [
           {
            "line": {
             "colorbar": {
              "outlinewidth": 0,
              "ticks": ""
             }
            },
            "type": "parcoords"
           }
          ],
          "pie": [
           {
            "automargin": true,
            "type": "pie"
           }
          ],
          "scatter": [
           {
            "fillpattern": {
             "fillmode": "overlay",
             "size": 10,
             "solidity": 0.2
            },
            "type": "scatter"
           }
          ],
          "scatter3d": [
           {
            "line": {
             "colorbar": {
              "outlinewidth": 0,
              "ticks": ""
             }
            },
            "marker": {
             "colorbar": {
              "outlinewidth": 0,
              "ticks": ""
             }
            },
            "type": "scatter3d"
           }
          ],
          "scattercarpet": [
           {
            "marker": {
             "colorbar": {
              "outlinewidth": 0,
              "ticks": ""
             }
            },
            "type": "scattercarpet"
           }
          ],
          "scattergeo": [
           {
            "marker": {
             "colorbar": {
              "outlinewidth": 0,
              "ticks": ""
             }
            },
            "type": "scattergeo"
           }
          ],
          "scattergl": [
           {
            "marker": {
             "colorbar": {
              "outlinewidth": 0,
              "ticks": ""
             }
            },
            "type": "scattergl"
           }
          ],
          "scattermapbox": [
           {
            "marker": {
             "colorbar": {
              "outlinewidth": 0,
              "ticks": ""
             }
            },
            "type": "scattermapbox"
           }
          ],
          "scatterpolar": [
           {
            "marker": {
             "colorbar": {
              "outlinewidth": 0,
              "ticks": ""
             }
            },
            "type": "scatterpolar"
           }
          ],
          "scatterpolargl": [
           {
            "marker": {
             "colorbar": {
              "outlinewidth": 0,
              "ticks": ""
             }
            },
            "type": "scatterpolargl"
           }
          ],
          "scatterternary": [
           {
            "marker": {
             "colorbar": {
              "outlinewidth": 0,
              "ticks": ""
             }
            },
            "type": "scatterternary"
           }
          ],
          "surface": [
           {
            "colorbar": {
             "outlinewidth": 0,
             "ticks": ""
            },
            "colorscale": [
             [
              0,
              "#0d0887"
             ],
             [
              0.1111111111111111,
              "#46039f"
             ],
             [
              0.2222222222222222,
              "#7201a8"
             ],
             [
              0.3333333333333333,
              "#9c179e"
             ],
             [
              0.4444444444444444,
              "#bd3786"
             ],
             [
              0.5555555555555556,
              "#d8576b"
             ],
             [
              0.6666666666666666,
              "#ed7953"
             ],
             [
              0.7777777777777778,
              "#fb9f3a"
             ],
             [
              0.8888888888888888,
              "#fdca26"
             ],
             [
              1,
              "#f0f921"
             ]
            ],
            "type": "surface"
           }
          ],
          "table": [
           {
            "cells": {
             "fill": {
              "color": "#EBF0F8"
             },
             "line": {
              "color": "white"
             }
            },
            "header": {
             "fill": {
              "color": "#C8D4E3"
             },
             "line": {
              "color": "white"
             }
            },
            "type": "table"
           }
          ]
         },
         "layout": {
          "annotationdefaults": {
           "arrowcolor": "#2a3f5f",
           "arrowhead": 0,
           "arrowwidth": 1
          },
          "autotypenumbers": "strict",
          "coloraxis": {
           "colorbar": {
            "outlinewidth": 0,
            "ticks": ""
           }
          },
          "colorscale": {
           "diverging": [
            [
             0,
             "#8e0152"
            ],
            [
             0.1,
             "#c51b7d"
            ],
            [
             0.2,
             "#de77ae"
            ],
            [
             0.3,
             "#f1b6da"
            ],
            [
             0.4,
             "#fde0ef"
            ],
            [
             0.5,
             "#f7f7f7"
            ],
            [
             0.6,
             "#e6f5d0"
            ],
            [
             0.7,
             "#b8e186"
            ],
            [
             0.8,
             "#7fbc41"
            ],
            [
             0.9,
             "#4d9221"
            ],
            [
             1,
             "#276419"
            ]
           ],
           "sequential": [
            [
             0,
             "#0d0887"
            ],
            [
             0.1111111111111111,
             "#46039f"
            ],
            [
             0.2222222222222222,
             "#7201a8"
            ],
            [
             0.3333333333333333,
             "#9c179e"
            ],
            [
             0.4444444444444444,
             "#bd3786"
            ],
            [
             0.5555555555555556,
             "#d8576b"
            ],
            [
             0.6666666666666666,
             "#ed7953"
            ],
            [
             0.7777777777777778,
             "#fb9f3a"
            ],
            [
             0.8888888888888888,
             "#fdca26"
            ],
            [
             1,
             "#f0f921"
            ]
           ],
           "sequentialminus": [
            [
             0,
             "#0d0887"
            ],
            [
             0.1111111111111111,
             "#46039f"
            ],
            [
             0.2222222222222222,
             "#7201a8"
            ],
            [
             0.3333333333333333,
             "#9c179e"
            ],
            [
             0.4444444444444444,
             "#bd3786"
            ],
            [
             0.5555555555555556,
             "#d8576b"
            ],
            [
             0.6666666666666666,
             "#ed7953"
            ],
            [
             0.7777777777777778,
             "#fb9f3a"
            ],
            [
             0.8888888888888888,
             "#fdca26"
            ],
            [
             1,
             "#f0f921"
            ]
           ]
          },
          "colorway": [
           "#636efa",
           "#EF553B",
           "#00cc96",
           "#ab63fa",
           "#FFA15A",
           "#19d3f3",
           "#FF6692",
           "#B6E880",
           "#FF97FF",
           "#FECB52"
          ],
          "font": {
           "color": "#2a3f5f"
          },
          "geo": {
           "bgcolor": "white",
           "lakecolor": "white",
           "landcolor": "#E5ECF6",
           "showlakes": true,
           "showland": true,
           "subunitcolor": "white"
          },
          "hoverlabel": {
           "align": "left"
          },
          "hovermode": "closest",
          "mapbox": {
           "style": "light"
          },
          "paper_bgcolor": "white",
          "plot_bgcolor": "#E5ECF6",
          "polar": {
           "angularaxis": {
            "gridcolor": "white",
            "linecolor": "white",
            "ticks": ""
           },
           "bgcolor": "#E5ECF6",
           "radialaxis": {
            "gridcolor": "white",
            "linecolor": "white",
            "ticks": ""
           }
          },
          "scene": {
           "xaxis": {
            "backgroundcolor": "#E5ECF6",
            "gridcolor": "white",
            "gridwidth": 2,
            "linecolor": "white",
            "showbackground": true,
            "ticks": "",
            "zerolinecolor": "white"
           },
           "yaxis": {
            "backgroundcolor": "#E5ECF6",
            "gridcolor": "white",
            "gridwidth": 2,
            "linecolor": "white",
            "showbackground": true,
            "ticks": "",
            "zerolinecolor": "white"
           },
           "zaxis": {
            "backgroundcolor": "#E5ECF6",
            "gridcolor": "white",
            "gridwidth": 2,
            "linecolor": "white",
            "showbackground": true,
            "ticks": "",
            "zerolinecolor": "white"
           }
          },
          "shapedefaults": {
           "line": {
            "color": "#2a3f5f"
           }
          },
          "ternary": {
           "aaxis": {
            "gridcolor": "white",
            "linecolor": "white",
            "ticks": ""
           },
           "baxis": {
            "gridcolor": "white",
            "linecolor": "white",
            "ticks": ""
           },
           "bgcolor": "#E5ECF6",
           "caxis": {
            "gridcolor": "white",
            "linecolor": "white",
            "ticks": ""
           }
          },
          "title": {
           "x": 0.05
          },
          "xaxis": {
           "automargin": true,
           "gridcolor": "white",
           "linecolor": "white",
           "ticks": "",
           "title": {
            "standoff": 15
           },
           "zerolinecolor": "white",
           "zerolinewidth": 2
          },
          "yaxis": {
           "automargin": true,
           "gridcolor": "white",
           "linecolor": "white",
           "ticks": "",
           "title": {
            "standoff": 15
           },
           "zerolinecolor": "white",
           "zerolinewidth": 2
          }
         }
        },
        "title": {
         "text": "Monthly Net Invoice Amount"
        },
        "width": 900,
        "xaxis": {
         "anchor": "y",
         "categoryorder": "category ascending",
         "domain": [
          0,
          1
         ],
         "title": {
          "text": "Month"
         }
        },
        "yaxis": {
         "anchor": "x",
         "domain": [
          0,
          1
         ],
         "title": {
          "text": "Net Invoice Amount (SEK)"
         }
        }
       }
      }
     },
     "metadata": {},
     "output_type": "display_data"
    },
    {
     "name": "stdout",
     "output_type": "stream",
     "text": [
      "\n",
      "Summary Statistics for Net Invoice Amount:\n",
      "Total Amount: 75,312,423.42 SEK\n",
      "Average Monthly Amount: 1,004,165.65 SEK\n",
      "Number of Months: 75\n"
     ]
    },
    {
     "data": {
      "application/vnd.plotly.v1+json": {
       "config": {
        "plotlyServerURL": "https://plot.ly"
       },
       "data": [
        {
         "alignmentgroup": "True",
         "hovertemplate": "Month: %{x}<br>Broker: %{marker.color}<br>Total Invoice Amount: %{y:,.2f} SEK",
         "legendgroup": "Partner",
         "marker": {
          "color": "#636efa",
          "pattern": {
           "shape": ""
          }
         },
         "name": "Partner",
         "offsetgroup": "Partner",
         "orientation": "v",
         "showlegend": true,
         "textposition": "auto",
         "type": "bar",
         "x": [
          "2019-07",
          "2019-08",
          "2019-09",
          "2019-10",
          "2019-11",
          "2019-12",
          "2020-01",
          "2021-12",
          "2023-05",
          "2023-06",
          "2023-07",
          "2023-08",
          "2023-09",
          "2023-10",
          "2023-12",
          "2024-01",
          "2024-05",
          "2024-06",
          "2024-07",
          "2024-08",
          "2024-09",
          "2024-10",
          "2024-11",
          "2024-12",
          "2025-01",
          "2025-02",
          "2025-03",
          "2025-04",
          "2025-05",
          "2025-06",
          "2025-07"
         ],
         "xaxis": "x",
         "y": [
          147319,
          123019,
          243000,
          282488,
          297675,
          226294,
          182250,
          6563,
          293906,
          867281,
          0,
          355747,
          239766,
          912759,
          558587,
          983414,
          118750,
          185250,
          190000,
          201250,
          140000,
          247500,
          354750,
          416125,
          180000,
          135000,
          190000,
          200000,
          200000,
          160000,
          180000
         ],
         "yaxis": "y"
        },
        {
         "alignmentgroup": "True",
         "hovertemplate": "Month: %{x}<br>Broker: %{marker.color}<br>Total Invoice Amount: %{y:,.2f} SEK",
         "legendgroup": "Broker",
         "marker": {
          "color": "#EF553B",
          "pattern": {
           "shape": ""
          }
         },
         "name": "Broker",
         "offsetgroup": "Broker",
         "orientation": "v",
         "showlegend": true,
         "textposition": "auto",
         "type": "bar",
         "x": [
          "2019-08",
          "2019-09",
          "2019-10",
          "2019-11",
          "2019-12",
          "2020-01",
          "2020-02",
          "2020-03",
          "2020-04",
          "2020-05",
          "2020-06",
          "2020-07",
          "2020-08",
          "2020-09",
          "2020-10",
          "2020-11",
          "2020-12",
          "2021-01",
          "2021-02",
          "2021-03",
          "2021-04",
          "2021-05",
          "2021-06",
          "2021-07",
          "2021-08",
          "2021-09",
          "2021-10",
          "2021-11",
          "2021-12",
          "2022-01",
          "2022-02",
          "2022-03",
          "2022-04",
          "2022-05",
          "2022-06",
          "2022-07",
          "2022-08",
          "2022-09",
          "2022-10",
          "2022-11",
          "2022-12",
          "2023-01",
          "2023-02",
          "2023-03",
          "2023-04",
          "2023-05",
          "2023-06",
          "2023-07",
          "2023-08",
          "2023-09",
          "2023-10",
          "2023-11",
          "2023-12",
          "2024-01",
          "2024-02",
          "2024-03",
          "2024-04",
          "2024-05",
          "2024-06",
          "2024-07",
          "2024-08",
          "2024-09",
          "2024-10",
          "2024-11",
          "2024-12",
          "2025-01",
          "2025-02",
          "2025-03",
          "2025-04",
          "2025-05",
          "2025-06",
          "2025-07",
          "2025-08",
          "2025-09"
         ],
         "xaxis": "x",
         "y": [
          144684,
          42694,
          175519,
          232444,
          237188,
          237188,
          350006,
          434328,
          410609,
          369428,
          206353,
          637072,
          440584,
          91334,
          338147,
          464956,
          713028,
          453650,
          582913,
          707057,
          540001,
          625444,
          419775,
          562825,
          832025,
          244250,
          533025,
          557300,
          1216775,
          896075,
          459450,
          567125,
          600750,
          585375,
          431250,
          687000,
          498750,
          479250,
          868500,
          1113000,
          797187,
          843979,
          502195,
          777799,
          678400,
          723900,
          341000,
          441200,
          149600,
          40000,
          275250,
          108000,
          252000,
          264000,
          620050,
          765650,
          1389183,
          666621,
          683375,
          1055585,
          709525,
          751288,
          802775,
          981030,
          1620625,
          1253763,
          1061225,
          1490219,
          1193600,
          989950,
          1060813,
          1779162,
          816550,
          191000
         ],
         "yaxis": "y"
        },
        {
         "alignmentgroup": "True",
         "hovertemplate": "Month: %{x}<br>Broker: %{marker.color}<br>Total Invoice Amount: %{y:,.2f} SEK",
         "legendgroup": "Direct",
         "marker": {
          "color": "#00cc96",
          "pattern": {
           "shape": ""
          }
         },
         "name": "Direct",
         "offsetgroup": "Direct",
         "orientation": "v",
         "showlegend": true,
         "textposition": "auto",
         "type": "bar",
         "x": [
          "2020-07",
          "2020-11",
          "2021-01",
          "2021-02",
          "2021-03",
          "2021-04",
          "2021-05",
          "2021-06",
          "2021-07",
          "2021-08",
          "2021-09",
          "2021-10",
          "2021-11",
          "2021-12",
          "2022-01",
          "2022-02",
          "2022-03",
          "2022-04",
          "2022-05",
          "2022-06",
          "2022-07",
          "2022-08",
          "2022-09",
          "2022-10",
          "2022-11",
          "2022-12",
          "2023-01",
          "2023-02",
          "2023-03",
          "2023-04",
          "2023-05",
          "2023-06",
          "2023-07",
          "2023-08",
          "2023-09",
          "2023-10",
          "2023-11",
          "2023-12",
          "2024-01",
          "2024-02",
          "2024-03",
          "2024-04",
          "2024-05",
          "2024-06",
          "2024-07",
          "2024-08",
          "2024-09",
          "2024-10",
          "2024-11",
          "2024-12",
          "2025-01",
          "2025-02",
          "2025-03",
          "2025-04",
          "2025-05",
          "2025-06",
          "2025-07",
          "2025-08",
          "2025-09"
         ],
         "xaxis": "x",
         "y": [
          62500,
          60000,
          252000,
          516500,
          228000,
          866500,
          143985,
          779963,
          320405,
          201579,
          86391,
          359963,
          188087,
          418463,
          467447.3,
          332072,
          1288443.9440000001,
          1448286,
          931027.2,
          1136428.3012,
          1157798.308,
          1052230.405,
          448400.872,
          594253.142,
          1040371.399,
          737159.5432,
          964972.215,
          224625,
          511905.188,
          1206041.7280000001,
          581952.5164,
          1372056.3772,
          1087347.317,
          1264995.0786000001,
          133883.328,
          504585.3196,
          2029687.47,
          1069679.2872,
          1342009.941,
          379217.3,
          814301.616,
          994822.648,
          1227679.35,
          79934.1276,
          536641.1776,
          140280.1188,
          55498.5855,
          589499.8491,
          66683.0321,
          714000,
          430466.3358,
          252125,
          538999.0207,
          1042500,
          62500,
          420949,
          753438,
          127940.5,
          21563
         ],
         "yaxis": "y"
        }
       ],
       "layout": {
        "barmode": "group",
        "height": 500,
        "legend": {
         "title": {
          "text": "Broker"
         },
         "tracegroupgap": 0
        },
        "template": {
         "data": {
          "bar": [
           {
            "error_x": {
             "color": "#2a3f5f"
            },
            "error_y": {
             "color": "#2a3f5f"
            },
            "marker": {
             "line": {
              "color": "#E5ECF6",
              "width": 0.5
             },
             "pattern": {
              "fillmode": "overlay",
              "size": 10,
              "solidity": 0.2
             }
            },
            "type": "bar"
           }
          ],
          "barpolar": [
           {
            "marker": {
             "line": {
              "color": "#E5ECF6",
              "width": 0.5
             },
             "pattern": {
              "fillmode": "overlay",
              "size": 10,
              "solidity": 0.2
             }
            },
            "type": "barpolar"
           }
          ],
          "carpet": [
           {
            "aaxis": {
             "endlinecolor": "#2a3f5f",
             "gridcolor": "white",
             "linecolor": "white",
             "minorgridcolor": "white",
             "startlinecolor": "#2a3f5f"
            },
            "baxis": {
             "endlinecolor": "#2a3f5f",
             "gridcolor": "white",
             "linecolor": "white",
             "minorgridcolor": "white",
             "startlinecolor": "#2a3f5f"
            },
            "type": "carpet"
           }
          ],
          "choropleth": [
           {
            "colorbar": {
             "outlinewidth": 0,
             "ticks": ""
            },
            "type": "choropleth"
           }
          ],
          "contour": [
           {
            "colorbar": {
             "outlinewidth": 0,
             "ticks": ""
            },
            "colorscale": [
             [
              0,
              "#0d0887"
             ],
             [
              0.1111111111111111,
              "#46039f"
             ],
             [
              0.2222222222222222,
              "#7201a8"
             ],
             [
              0.3333333333333333,
              "#9c179e"
             ],
             [
              0.4444444444444444,
              "#bd3786"
             ],
             [
              0.5555555555555556,
              "#d8576b"
             ],
             [
              0.6666666666666666,
              "#ed7953"
             ],
             [
              0.7777777777777778,
              "#fb9f3a"
             ],
             [
              0.8888888888888888,
              "#fdca26"
             ],
             [
              1,
              "#f0f921"
             ]
            ],
            "type": "contour"
           }
          ],
          "contourcarpet": [
           {
            "colorbar": {
             "outlinewidth": 0,
             "ticks": ""
            },
            "type": "contourcarpet"
           }
          ],
          "heatmap": [
           {
            "colorbar": {
             "outlinewidth": 0,
             "ticks": ""
            },
            "colorscale": [
             [
              0,
              "#0d0887"
             ],
             [
              0.1111111111111111,
              "#46039f"
             ],
             [
              0.2222222222222222,
              "#7201a8"
             ],
             [
              0.3333333333333333,
              "#9c179e"
             ],
             [
              0.4444444444444444,
              "#bd3786"
             ],
             [
              0.5555555555555556,
              "#d8576b"
             ],
             [
              0.6666666666666666,
              "#ed7953"
             ],
             [
              0.7777777777777778,
              "#fb9f3a"
             ],
             [
              0.8888888888888888,
              "#fdca26"
             ],
             [
              1,
              "#f0f921"
             ]
            ],
            "type": "heatmap"
           }
          ],
          "heatmapgl": [
           {
            "colorbar": {
             "outlinewidth": 0,
             "ticks": ""
            },
            "colorscale": [
             [
              0,
              "#0d0887"
             ],
             [
              0.1111111111111111,
              "#46039f"
             ],
             [
              0.2222222222222222,
              "#7201a8"
             ],
             [
              0.3333333333333333,
              "#9c179e"
             ],
             [
              0.4444444444444444,
              "#bd3786"
             ],
             [
              0.5555555555555556,
              "#d8576b"
             ],
             [
              0.6666666666666666,
              "#ed7953"
             ],
             [
              0.7777777777777778,
              "#fb9f3a"
             ],
             [
              0.8888888888888888,
              "#fdca26"
             ],
             [
              1,
              "#f0f921"
             ]
            ],
            "type": "heatmapgl"
           }
          ],
          "histogram": [
           {
            "marker": {
             "pattern": {
              "fillmode": "overlay",
              "size": 10,
              "solidity": 0.2
             }
            },
            "type": "histogram"
           }
          ],
          "histogram2d": [
           {
            "colorbar": {
             "outlinewidth": 0,
             "ticks": ""
            },
            "colorscale": [
             [
              0,
              "#0d0887"
             ],
             [
              0.1111111111111111,
              "#46039f"
             ],
             [
              0.2222222222222222,
              "#7201a8"
             ],
             [
              0.3333333333333333,
              "#9c179e"
             ],
             [
              0.4444444444444444,
              "#bd3786"
             ],
             [
              0.5555555555555556,
              "#d8576b"
             ],
             [
              0.6666666666666666,
              "#ed7953"
             ],
             [
              0.7777777777777778,
              "#fb9f3a"
             ],
             [
              0.8888888888888888,
              "#fdca26"
             ],
             [
              1,
              "#f0f921"
             ]
            ],
            "type": "histogram2d"
           }
          ],
          "histogram2dcontour": [
           {
            "colorbar": {
             "outlinewidth": 0,
             "ticks": ""
            },
            "colorscale": [
             [
              0,
              "#0d0887"
             ],
             [
              0.1111111111111111,
              "#46039f"
             ],
             [
              0.2222222222222222,
              "#7201a8"
             ],
             [
              0.3333333333333333,
              "#9c179e"
             ],
             [
              0.4444444444444444,
              "#bd3786"
             ],
             [
              0.5555555555555556,
              "#d8576b"
             ],
             [
              0.6666666666666666,
              "#ed7953"
             ],
             [
              0.7777777777777778,
              "#fb9f3a"
             ],
             [
              0.8888888888888888,
              "#fdca26"
             ],
             [
              1,
              "#f0f921"
             ]
            ],
            "type": "histogram2dcontour"
           }
          ],
          "mesh3d": [
           {
            "colorbar": {
             "outlinewidth": 0,
             "ticks": ""
            },
            "type": "mesh3d"
           }
          ],
          "parcoords": [
           {
            "line": {
             "colorbar": {
              "outlinewidth": 0,
              "ticks": ""
             }
            },
            "type": "parcoords"
           }
          ],
          "pie": [
           {
            "automargin": true,
            "type": "pie"
           }
          ],
          "scatter": [
           {
            "fillpattern": {
             "fillmode": "overlay",
             "size": 10,
             "solidity": 0.2
            },
            "type": "scatter"
           }
          ],
          "scatter3d": [
           {
            "line": {
             "colorbar": {
              "outlinewidth": 0,
              "ticks": ""
             }
            },
            "marker": {
             "colorbar": {
              "outlinewidth": 0,
              "ticks": ""
             }
            },
            "type": "scatter3d"
           }
          ],
          "scattercarpet": [
           {
            "marker": {
             "colorbar": {
              "outlinewidth": 0,
              "ticks": ""
             }
            },
            "type": "scattercarpet"
           }
          ],
          "scattergeo": [
           {
            "marker": {
             "colorbar": {
              "outlinewidth": 0,
              "ticks": ""
             }
            },
            "type": "scattergeo"
           }
          ],
          "scattergl": [
           {
            "marker": {
             "colorbar": {
              "outlinewidth": 0,
              "ticks": ""
             }
            },
            "type": "scattergl"
           }
          ],
          "scattermapbox": [
           {
            "marker": {
             "colorbar": {
              "outlinewidth": 0,
              "ticks": ""
             }
            },
            "type": "scattermapbox"
           }
          ],
          "scatterpolar": [
           {
            "marker": {
             "colorbar": {
              "outlinewidth": 0,
              "ticks": ""
             }
            },
            "type": "scatterpolar"
           }
          ],
          "scatterpolargl": [
           {
            "marker": {
             "colorbar": {
              "outlinewidth": 0,
              "ticks": ""
             }
            },
            "type": "scatterpolargl"
           }
          ],
          "scatterternary": [
           {
            "marker": {
             "colorbar": {
              "outlinewidth": 0,
              "ticks": ""
             }
            },
            "type": "scatterternary"
           }
          ],
          "surface": [
           {
            "colorbar": {
             "outlinewidth": 0,
             "ticks": ""
            },
            "colorscale": [
             [
              0,
              "#0d0887"
             ],
             [
              0.1111111111111111,
              "#46039f"
             ],
             [
              0.2222222222222222,
              "#7201a8"
             ],
             [
              0.3333333333333333,
              "#9c179e"
             ],
             [
              0.4444444444444444,
              "#bd3786"
             ],
             [
              0.5555555555555556,
              "#d8576b"
             ],
             [
              0.6666666666666666,
              "#ed7953"
             ],
             [
              0.7777777777777778,
              "#fb9f3a"
             ],
             [
              0.8888888888888888,
              "#fdca26"
             ],
             [
              1,
              "#f0f921"
             ]
            ],
            "type": "surface"
           }
          ],
          "table": [
           {
            "cells": {
             "fill": {
              "color": "#EBF0F8"
             },
             "line": {
              "color": "white"
             }
            },
            "header": {
             "fill": {
              "color": "#C8D4E3"
             },
             "line": {
              "color": "white"
             }
            },
            "type": "table"
           }
          ]
         },
         "layout": {
          "annotationdefaults": {
           "arrowcolor": "#2a3f5f",
           "arrowhead": 0,
           "arrowwidth": 1
          },
          "autotypenumbers": "strict",
          "coloraxis": {
           "colorbar": {
            "outlinewidth": 0,
            "ticks": ""
           }
          },
          "colorscale": {
           "diverging": [
            [
             0,
             "#8e0152"
            ],
            [
             0.1,
             "#c51b7d"
            ],
            [
             0.2,
             "#de77ae"
            ],
            [
             0.3,
             "#f1b6da"
            ],
            [
             0.4,
             "#fde0ef"
            ],
            [
             0.5,
             "#f7f7f7"
            ],
            [
             0.6,
             "#e6f5d0"
            ],
            [
             0.7,
             "#b8e186"
            ],
            [
             0.8,
             "#7fbc41"
            ],
            [
             0.9,
             "#4d9221"
            ],
            [
             1,
             "#276419"
            ]
           ],
           "sequential": [
            [
             0,
             "#0d0887"
            ],
            [
             0.1111111111111111,
             "#46039f"
            ],
            [
             0.2222222222222222,
             "#7201a8"
            ],
            [
             0.3333333333333333,
             "#9c179e"
            ],
            [
             0.4444444444444444,
             "#bd3786"
            ],
            [
             0.5555555555555556,
             "#d8576b"
            ],
            [
             0.6666666666666666,
             "#ed7953"
            ],
            [
             0.7777777777777778,
             "#fb9f3a"
            ],
            [
             0.8888888888888888,
             "#fdca26"
            ],
            [
             1,
             "#f0f921"
            ]
           ],
           "sequentialminus": [
            [
             0,
             "#0d0887"
            ],
            [
             0.1111111111111111,
             "#46039f"
            ],
            [
             0.2222222222222222,
             "#7201a8"
            ],
            [
             0.3333333333333333,
             "#9c179e"
            ],
            [
             0.4444444444444444,
             "#bd3786"
            ],
            [
             0.5555555555555556,
             "#d8576b"
            ],
            [
             0.6666666666666666,
             "#ed7953"
            ],
            [
             0.7777777777777778,
             "#fb9f3a"
            ],
            [
             0.8888888888888888,
             "#fdca26"
            ],
            [
             1,
             "#f0f921"
            ]
           ]
          },
          "colorway": [
           "#636efa",
           "#EF553B",
           "#00cc96",
           "#ab63fa",
           "#FFA15A",
           "#19d3f3",
           "#FF6692",
           "#B6E880",
           "#FF97FF",
           "#FECB52"
          ],
          "font": {
           "color": "#2a3f5f"
          },
          "geo": {
           "bgcolor": "white",
           "lakecolor": "white",
           "landcolor": "#E5ECF6",
           "showlakes": true,
           "showland": true,
           "subunitcolor": "white"
          },
          "hoverlabel": {
           "align": "left"
          },
          "hovermode": "closest",
          "mapbox": {
           "style": "light"
          },
          "paper_bgcolor": "white",
          "plot_bgcolor": "#E5ECF6",
          "polar": {
           "angularaxis": {
            "gridcolor": "white",
            "linecolor": "white",
            "ticks": ""
           },
           "bgcolor": "#E5ECF6",
           "radialaxis": {
            "gridcolor": "white",
            "linecolor": "white",
            "ticks": ""
           }
          },
          "scene": {
           "xaxis": {
            "backgroundcolor": "#E5ECF6",
            "gridcolor": "white",
            "gridwidth": 2,
            "linecolor": "white",
            "showbackground": true,
            "ticks": "",
            "zerolinecolor": "white"
           },
           "yaxis": {
            "backgroundcolor": "#E5ECF6",
            "gridcolor": "white",
            "gridwidth": 2,
            "linecolor": "white",
            "showbackground": true,
            "ticks": "",
            "zerolinecolor": "white"
           },
           "zaxis": {
            "backgroundcolor": "#E5ECF6",
            "gridcolor": "white",
            "gridwidth": 2,
            "linecolor": "white",
            "showbackground": true,
            "ticks": "",
            "zerolinecolor": "white"
           }
          },
          "shapedefaults": {
           "line": {
            "color": "#2a3f5f"
           }
          },
          "ternary": {
           "aaxis": {
            "gridcolor": "white",
            "linecolor": "white",
            "ticks": ""
           },
           "baxis": {
            "gridcolor": "white",
            "linecolor": "white",
            "ticks": ""
           },
           "bgcolor": "#E5ECF6",
           "caxis": {
            "gridcolor": "white",
            "linecolor": "white",
            "ticks": ""
           }
          },
          "title": {
           "x": 0.05
          },
          "xaxis": {
           "automargin": true,
           "gridcolor": "white",
           "linecolor": "white",
           "ticks": "",
           "title": {
            "standoff": 15
           },
           "zerolinecolor": "white",
           "zerolinewidth": 2
          },
          "yaxis": {
           "automargin": true,
           "gridcolor": "white",
           "linecolor": "white",
           "ticks": "",
           "title": {
            "standoff": 15
           },
           "zerolinecolor": "white",
           "zerolinewidth": 2
          }
         }
        },
        "title": {
         "text": "Monthly Total Invoice Amount by Broker"
        },
        "width": 900,
        "xaxis": {
         "anchor": "y",
         "categoryorder": "category ascending",
         "domain": [
          0,
          1
         ],
         "title": {
          "text": "Month"
         }
        },
        "yaxis": {
         "anchor": "x",
         "domain": [
          0,
          1
         ],
         "title": {
          "text": "Total Invoice Amount (SEK)"
         }
        }
       }
      }
     },
     "metadata": {},
     "output_type": "display_data"
    },
    {
     "name": "stdout",
     "output_type": "stream",
     "text": [
      "\n",
      "Summary Statistics for Total Invoice Amount by Broker:\n"
     ]
    },
    {
     "data": {
      "text/html": [
       "<div>\n",
       "<style scoped>\n",
       "    .dataframe tbody tr th:only-of-type {\n",
       "        vertical-align: middle;\n",
       "    }\n",
       "\n",
       "    .dataframe tbody tr th {\n",
       "        vertical-align: top;\n",
       "    }\n",
       "\n",
       "    .dataframe thead th {\n",
       "        text-align: right;\n",
       "    }\n",
       "</style>\n",
       "<table border=\"1\" class=\"dataframe\">\n",
       "  <thead>\n",
       "    <tr style=\"text-align: right;\">\n",
       "      <th></th>\n",
       "      <th>Broker</th>\n",
       "      <th>Total Amount</th>\n",
       "      <th>Average Monthly Amount</th>\n",
       "    </tr>\n",
       "  </thead>\n",
       "  <tbody>\n",
       "    <tr>\n",
       "      <th>0</th>\n",
       "      <td>Broker</td>\n",
       "      <td>46,063,626.00 SEK</td>\n",
       "      <td>622,481.43 SEK</td>\n",
       "    </tr>\n",
       "    <tr>\n",
       "      <th>1</th>\n",
       "      <td>Direct</td>\n",
       "      <td>36,661,033.84 SEK</td>\n",
       "      <td>621,373.45 SEK</td>\n",
       "    </tr>\n",
       "    <tr>\n",
       "      <th>2</th>\n",
       "      <td>Partner</td>\n",
       "      <td>8,818,693.00 SEK</td>\n",
       "      <td>284,473.97 SEK</td>\n",
       "    </tr>\n",
       "  </tbody>\n",
       "</table>\n",
       "</div>"
      ],
      "text/plain": [
       "    Broker       Total Amount Average Monthly Amount\n",
       "0   Broker  46,063,626.00 SEK         622,481.43 SEK\n",
       "1   Direct  36,661,033.84 SEK         621,373.45 SEK\n",
       "2  Partner   8,818,693.00 SEK         284,473.97 SEK"
      ]
     },
     "metadata": {},
     "output_type": "display_data"
    },
    {
     "name": "stdout",
     "output_type": "stream",
     "text": [
      "\n",
      "Overall Statistics:\n",
      "Total Amount: 91,543,352.84 SEK\n",
      "Average Monthly Amount: 1,220,578.04 SEK\n",
      "Number of Months: 75\n"
     ]
    },
    {
     "data": {
      "application/vnd.plotly.v1+json": {
       "config": {
        "plotlyServerURL": "https://plot.ly"
       },
       "data": [
        {
         "alignmentgroup": "True",
         "hovertemplate": "Month: %{x}<br>Broker: %{marker.color}<br>Net Invoice Amount: %{y:,.2f} SEK",
         "legendgroup": "Broker",
         "marker": {
          "color": "#636efa",
          "pattern": {
           "shape": ""
          }
         },
         "name": "Broker",
         "offsetgroup": "Broker",
         "orientation": "v",
         "showlegend": true,
         "textposition": "auto",
         "type": "bar",
         "x": [
          "2024-01",
          "2024-02",
          "2024-03",
          "2024-04",
          "2024-05",
          "2024-06",
          "2024-07",
          "2024-08",
          "2024-09",
          "2024-10",
          "2024-11",
          "2024-12"
         ],
         "xaxis": "x",
         "y": [
          211200,
          496040,
          612520,
          1111346,
          533297,
          546700,
          844468,
          567620,
          601030,
          642220,
          784824,
          1296500
         ],
         "yaxis": "y"
        },
        {
         "alignmentgroup": "True",
         "hovertemplate": "Month: %{x}<br>Broker: %{marker.color}<br>Net Invoice Amount: %{y:,.2f} SEK",
         "legendgroup": "Direct",
         "marker": {
          "color": "#EF553B",
          "pattern": {
           "shape": ""
          }
         },
         "name": "Direct",
         "offsetgroup": "Direct",
         "orientation": "v",
         "showlegend": true,
         "textposition": "auto",
         "type": "bar",
         "x": [
          "2024-01",
          "2024-02",
          "2024-03",
          "2024-04",
          "2024-05",
          "2024-06",
          "2024-07",
          "2024-08",
          "2024-09",
          "2024-10",
          "2024-11",
          "2024-12"
         ],
         "xaxis": "x",
         "y": [
          1118073.941,
          327271.5,
          694260.216,
          837212.448,
          1003977.84,
          74159.1276,
          447851.72860000003,
          140280.1188,
          52573.5855,
          487854.9141,
          66683.0321,
          571200
         ],
         "yaxis": "y"
        },
        {
         "alignmentgroup": "True",
         "hovertemplate": "Month: %{x}<br>Broker: %{marker.color}<br>Net Invoice Amount: %{y:,.2f} SEK",
         "legendgroup": "Partner",
         "marker": {
          "color": "#00cc96",
          "pattern": {
           "shape": ""
          }
         },
         "name": "Partner",
         "offsetgroup": "Partner",
         "orientation": "v",
         "showlegend": true,
         "textposition": "auto",
         "type": "bar",
         "x": [
          "2024-01",
          "2024-05",
          "2024-06",
          "2024-07",
          "2024-08",
          "2024-09",
          "2024-10",
          "2024-11",
          "2024-12"
         ],
         "xaxis": "x",
         "y": [
          786731,
          95000,
          148200,
          152000,
          161000,
          112000,
          198000,
          283800,
          332900
         ],
         "yaxis": "y"
        }
       ],
       "layout": {
        "barmode": "group",
        "height": 500,
        "legend": {
         "title": {
          "text": "Broker"
         },
         "tracegroupgap": 0
        },
        "template": {
         "data": {
          "bar": [
           {
            "error_x": {
             "color": "#2a3f5f"
            },
            "error_y": {
             "color": "#2a3f5f"
            },
            "marker": {
             "line": {
              "color": "#E5ECF6",
              "width": 0.5
             },
             "pattern": {
              "fillmode": "overlay",
              "size": 10,
              "solidity": 0.2
             }
            },
            "type": "bar"
           }
          ],
          "barpolar": [
           {
            "marker": {
             "line": {
              "color": "#E5ECF6",
              "width": 0.5
             },
             "pattern": {
              "fillmode": "overlay",
              "size": 10,
              "solidity": 0.2
             }
            },
            "type": "barpolar"
           }
          ],
          "carpet": [
           {
            "aaxis": {
             "endlinecolor": "#2a3f5f",
             "gridcolor": "white",
             "linecolor": "white",
             "minorgridcolor": "white",
             "startlinecolor": "#2a3f5f"
            },
            "baxis": {
             "endlinecolor": "#2a3f5f",
             "gridcolor": "white",
             "linecolor": "white",
             "minorgridcolor": "white",
             "startlinecolor": "#2a3f5f"
            },
            "type": "carpet"
           }
          ],
          "choropleth": [
           {
            "colorbar": {
             "outlinewidth": 0,
             "ticks": ""
            },
            "type": "choropleth"
           }
          ],
          "contour": [
           {
            "colorbar": {
             "outlinewidth": 0,
             "ticks": ""
            },
            "colorscale": [
             [
              0,
              "#0d0887"
             ],
             [
              0.1111111111111111,
              "#46039f"
             ],
             [
              0.2222222222222222,
              "#7201a8"
             ],
             [
              0.3333333333333333,
              "#9c179e"
             ],
             [
              0.4444444444444444,
              "#bd3786"
             ],
             [
              0.5555555555555556,
              "#d8576b"
             ],
             [
              0.6666666666666666,
              "#ed7953"
             ],
             [
              0.7777777777777778,
              "#fb9f3a"
             ],
             [
              0.8888888888888888,
              "#fdca26"
             ],
             [
              1,
              "#f0f921"
             ]
            ],
            "type": "contour"
           }
          ],
          "contourcarpet": [
           {
            "colorbar": {
             "outlinewidth": 0,
             "ticks": ""
            },
            "type": "contourcarpet"
           }
          ],
          "heatmap": [
           {
            "colorbar": {
             "outlinewidth": 0,
             "ticks": ""
            },
            "colorscale": [
             [
              0,
              "#0d0887"
             ],
             [
              0.1111111111111111,
              "#46039f"
             ],
             [
              0.2222222222222222,
              "#7201a8"
             ],
             [
              0.3333333333333333,
              "#9c179e"
             ],
             [
              0.4444444444444444,
              "#bd3786"
             ],
             [
              0.5555555555555556,
              "#d8576b"
             ],
             [
              0.6666666666666666,
              "#ed7953"
             ],
             [
              0.7777777777777778,
              "#fb9f3a"
             ],
             [
              0.8888888888888888,
              "#fdca26"
             ],
             [
              1,
              "#f0f921"
             ]
            ],
            "type": "heatmap"
           }
          ],
          "heatmapgl": [
           {
            "colorbar": {
             "outlinewidth": 0,
             "ticks": ""
            },
            "colorscale": [
             [
              0,
              "#0d0887"
             ],
             [
              0.1111111111111111,
              "#46039f"
             ],
             [
              0.2222222222222222,
              "#7201a8"
             ],
             [
              0.3333333333333333,
              "#9c179e"
             ],
             [
              0.4444444444444444,
              "#bd3786"
             ],
             [
              0.5555555555555556,
              "#d8576b"
             ],
             [
              0.6666666666666666,
              "#ed7953"
             ],
             [
              0.7777777777777778,
              "#fb9f3a"
             ],
             [
              0.8888888888888888,
              "#fdca26"
             ],
             [
              1,
              "#f0f921"
             ]
            ],
            "type": "heatmapgl"
           }
          ],
          "histogram": [
           {
            "marker": {
             "pattern": {
              "fillmode": "overlay",
              "size": 10,
              "solidity": 0.2
             }
            },
            "type": "histogram"
           }
          ],
          "histogram2d": [
           {
            "colorbar": {
             "outlinewidth": 0,
             "ticks": ""
            },
            "colorscale": [
             [
              0,
              "#0d0887"
             ],
             [
              0.1111111111111111,
              "#46039f"
             ],
             [
              0.2222222222222222,
              "#7201a8"
             ],
             [
              0.3333333333333333,
              "#9c179e"
             ],
             [
              0.4444444444444444,
              "#bd3786"
             ],
             [
              0.5555555555555556,
              "#d8576b"
             ],
             [
              0.6666666666666666,
              "#ed7953"
             ],
             [
              0.7777777777777778,
              "#fb9f3a"
             ],
             [
              0.8888888888888888,
              "#fdca26"
             ],
             [
              1,
              "#f0f921"
             ]
            ],
            "type": "histogram2d"
           }
          ],
          "histogram2dcontour": [
           {
            "colorbar": {
             "outlinewidth": 0,
             "ticks": ""
            },
            "colorscale": [
             [
              0,
              "#0d0887"
             ],
             [
              0.1111111111111111,
              "#46039f"
             ],
             [
              0.2222222222222222,
              "#7201a8"
             ],
             [
              0.3333333333333333,
              "#9c179e"
             ],
             [
              0.4444444444444444,
              "#bd3786"
             ],
             [
              0.5555555555555556,
              "#d8576b"
             ],
             [
              0.6666666666666666,
              "#ed7953"
             ],
             [
              0.7777777777777778,
              "#fb9f3a"
             ],
             [
              0.8888888888888888,
              "#fdca26"
             ],
             [
              1,
              "#f0f921"
             ]
            ],
            "type": "histogram2dcontour"
           }
          ],
          "mesh3d": [
           {
            "colorbar": {
             "outlinewidth": 0,
             "ticks": ""
            },
            "type": "mesh3d"
           }
          ],
          "parcoords": [
           {
            "line": {
             "colorbar": {
              "outlinewidth": 0,
              "ticks": ""
             }
            },
            "type": "parcoords"
           }
          ],
          "pie": [
           {
            "automargin": true,
            "type": "pie"
           }
          ],
          "scatter": [
           {
            "fillpattern": {
             "fillmode": "overlay",
             "size": 10,
             "solidity": 0.2
            },
            "type": "scatter"
           }
          ],
          "scatter3d": [
           {
            "line": {
             "colorbar": {
              "outlinewidth": 0,
              "ticks": ""
             }
            },
            "marker": {
             "colorbar": {
              "outlinewidth": 0,
              "ticks": ""
             }
            },
            "type": "scatter3d"
           }
          ],
          "scattercarpet": [
           {
            "marker": {
             "colorbar": {
              "outlinewidth": 0,
              "ticks": ""
             }
            },
            "type": "scattercarpet"
           }
          ],
          "scattergeo": [
           {
            "marker": {
             "colorbar": {
              "outlinewidth": 0,
              "ticks": ""
             }
            },
            "type": "scattergeo"
           }
          ],
          "scattergl": [
           {
            "marker": {
             "colorbar": {
              "outlinewidth": 0,
              "ticks": ""
             }
            },
            "type": "scattergl"
           }
          ],
          "scattermapbox": [
           {
            "marker": {
             "colorbar": {
              "outlinewidth": 0,
              "ticks": ""
             }
            },
            "type": "scattermapbox"
           }
          ],
          "scatterpolar": [
           {
            "marker": {
             "colorbar": {
              "outlinewidth": 0,
              "ticks": ""
             }
            },
            "type": "scatterpolar"
           }
          ],
          "scatterpolargl": [
           {
            "marker": {
             "colorbar": {
              "outlinewidth": 0,
              "ticks": ""
             }
            },
            "type": "scatterpolargl"
           }
          ],
          "scatterternary": [
           {
            "marker": {
             "colorbar": {
              "outlinewidth": 0,
              "ticks": ""
             }
            },
            "type": "scatterternary"
           }
          ],
          "surface": [
           {
            "colorbar": {
             "outlinewidth": 0,
             "ticks": ""
            },
            "colorscale": [
             [
              0,
              "#0d0887"
             ],
             [
              0.1111111111111111,
              "#46039f"
             ],
             [
              0.2222222222222222,
              "#7201a8"
             ],
             [
              0.3333333333333333,
              "#9c179e"
             ],
             [
              0.4444444444444444,
              "#bd3786"
             ],
             [
              0.5555555555555556,
              "#d8576b"
             ],
             [
              0.6666666666666666,
              "#ed7953"
             ],
             [
              0.7777777777777778,
              "#fb9f3a"
             ],
             [
              0.8888888888888888,
              "#fdca26"
             ],
             [
              1,
              "#f0f921"
             ]
            ],
            "type": "surface"
           }
          ],
          "table": [
           {
            "cells": {
             "fill": {
              "color": "#EBF0F8"
             },
             "line": {
              "color": "white"
             }
            },
            "header": {
             "fill": {
              "color": "#C8D4E3"
             },
             "line": {
              "color": "white"
             }
            },
            "type": "table"
           }
          ]
         },
         "layout": {
          "annotationdefaults": {
           "arrowcolor": "#2a3f5f",
           "arrowhead": 0,
           "arrowwidth": 1
          },
          "autotypenumbers": "strict",
          "coloraxis": {
           "colorbar": {
            "outlinewidth": 0,
            "ticks": ""
           }
          },
          "colorscale": {
           "diverging": [
            [
             0,
             "#8e0152"
            ],
            [
             0.1,
             "#c51b7d"
            ],
            [
             0.2,
             "#de77ae"
            ],
            [
             0.3,
             "#f1b6da"
            ],
            [
             0.4,
             "#fde0ef"
            ],
            [
             0.5,
             "#f7f7f7"
            ],
            [
             0.6,
             "#e6f5d0"
            ],
            [
             0.7,
             "#b8e186"
            ],
            [
             0.8,
             "#7fbc41"
            ],
            [
             0.9,
             "#4d9221"
            ],
            [
             1,
             "#276419"
            ]
           ],
           "sequential": [
            [
             0,
             "#0d0887"
            ],
            [
             0.1111111111111111,
             "#46039f"
            ],
            [
             0.2222222222222222,
             "#7201a8"
            ],
            [
             0.3333333333333333,
             "#9c179e"
            ],
            [
             0.4444444444444444,
             "#bd3786"
            ],
            [
             0.5555555555555556,
             "#d8576b"
            ],
            [
             0.6666666666666666,
             "#ed7953"
            ],
            [
             0.7777777777777778,
             "#fb9f3a"
            ],
            [
             0.8888888888888888,
             "#fdca26"
            ],
            [
             1,
             "#f0f921"
            ]
           ],
           "sequentialminus": [
            [
             0,
             "#0d0887"
            ],
            [
             0.1111111111111111,
             "#46039f"
            ],
            [
             0.2222222222222222,
             "#7201a8"
            ],
            [
             0.3333333333333333,
             "#9c179e"
            ],
            [
             0.4444444444444444,
             "#bd3786"
            ],
            [
             0.5555555555555556,
             "#d8576b"
            ],
            [
             0.6666666666666666,
             "#ed7953"
            ],
            [
             0.7777777777777778,
             "#fb9f3a"
            ],
            [
             0.8888888888888888,
             "#fdca26"
            ],
            [
             1,
             "#f0f921"
            ]
           ]
          },
          "colorway": [
           "#636efa",
           "#EF553B",
           "#00cc96",
           "#ab63fa",
           "#FFA15A",
           "#19d3f3",
           "#FF6692",
           "#B6E880",
           "#FF97FF",
           "#FECB52"
          ],
          "font": {
           "color": "#2a3f5f"
          },
          "geo": {
           "bgcolor": "white",
           "lakecolor": "white",
           "landcolor": "#E5ECF6",
           "showlakes": true,
           "showland": true,
           "subunitcolor": "white"
          },
          "hoverlabel": {
           "align": "left"
          },
          "hovermode": "closest",
          "mapbox": {
           "style": "light"
          },
          "paper_bgcolor": "white",
          "plot_bgcolor": "#E5ECF6",
          "polar": {
           "angularaxis": {
            "gridcolor": "white",
            "linecolor": "white",
            "ticks": ""
           },
           "bgcolor": "#E5ECF6",
           "radialaxis": {
            "gridcolor": "white",
            "linecolor": "white",
            "ticks": ""
           }
          },
          "scene": {
           "xaxis": {
            "backgroundcolor": "#E5ECF6",
            "gridcolor": "white",
            "gridwidth": 2,
            "linecolor": "white",
            "showbackground": true,
            "ticks": "",
            "zerolinecolor": "white"
           },
           "yaxis": {
            "backgroundcolor": "#E5ECF6",
            "gridcolor": "white",
            "gridwidth": 2,
            "linecolor": "white",
            "showbackground": true,
            "ticks": "",
            "zerolinecolor": "white"
           },
           "zaxis": {
            "backgroundcolor": "#E5ECF6",
            "gridcolor": "white",
            "gridwidth": 2,
            "linecolor": "white",
            "showbackground": true,
            "ticks": "",
            "zerolinecolor": "white"
           }
          },
          "shapedefaults": {
           "line": {
            "color": "#2a3f5f"
           }
          },
          "ternary": {
           "aaxis": {
            "gridcolor": "white",
            "linecolor": "white",
            "ticks": ""
           },
           "baxis": {
            "gridcolor": "white",
            "linecolor": "white",
            "ticks": ""
           },
           "bgcolor": "#E5ECF6",
           "caxis": {
            "gridcolor": "white",
            "linecolor": "white",
            "ticks": ""
           }
          },
          "title": {
           "x": 0.05
          },
          "xaxis": {
           "automargin": true,
           "gridcolor": "white",
           "linecolor": "white",
           "ticks": "",
           "title": {
            "standoff": 15
           },
           "zerolinecolor": "white",
           "zerolinewidth": 2
          },
          "yaxis": {
           "automargin": true,
           "gridcolor": "white",
           "linecolor": "white",
           "ticks": "",
           "title": {
            "standoff": 15
           },
           "zerolinecolor": "white",
           "zerolinewidth": 2
          }
         }
        },
        "title": {
         "text": "Monthly Net Invoice Amount by Broker (2024-01-01 to 2024-12-31)"
        },
        "width": 900,
        "xaxis": {
         "anchor": "y",
         "categoryorder": "category ascending",
         "domain": [
          0,
          1
         ],
         "title": {
          "text": "Month"
         }
        },
        "yaxis": {
         "anchor": "x",
         "domain": [
          0,
          1
         ],
         "title": {
          "text": "Net Invoice Amount (SEK)"
         }
        }
       }
      }
     },
     "metadata": {},
     "output_type": "display_data"
    },
    {
     "name": "stdout",
     "output_type": "stream",
     "text": [
      "\n",
      "Summary Statistics for Net Invoice Amount (2024-01-01 to 2024-12-31) by Broker:\n"
     ]
    },
    {
     "data": {
      "text/html": [
       "<div>\n",
       "<style scoped>\n",
       "    .dataframe tbody tr th:only-of-type {\n",
       "        vertical-align: middle;\n",
       "    }\n",
       "\n",
       "    .dataframe tbody tr th {\n",
       "        vertical-align: top;\n",
       "    }\n",
       "\n",
       "    .dataframe thead th {\n",
       "        text-align: right;\n",
       "    }\n",
       "</style>\n",
       "<table border=\"1\" class=\"dataframe\">\n",
       "  <thead>\n",
       "    <tr style=\"text-align: right;\">\n",
       "      <th></th>\n",
       "      <th>Broker</th>\n",
       "      <th>Total Amount</th>\n",
       "      <th>Average Monthly Amount</th>\n",
       "    </tr>\n",
       "  </thead>\n",
       "  <tbody>\n",
       "    <tr>\n",
       "      <th>0</th>\n",
       "      <td>Broker</td>\n",
       "      <td>8,247,765.00 SEK</td>\n",
       "      <td>687,313.75 SEK</td>\n",
       "    </tr>\n",
       "    <tr>\n",
       "      <th>1</th>\n",
       "      <td>Direct</td>\n",
       "      <td>5,821,398.45 SEK</td>\n",
       "      <td>485,116.54 SEK</td>\n",
       "    </tr>\n",
       "    <tr>\n",
       "      <th>2</th>\n",
       "      <td>Partner</td>\n",
       "      <td>2,269,631.00 SEK</td>\n",
       "      <td>252,181.22 SEK</td>\n",
       "    </tr>\n",
       "  </tbody>\n",
       "</table>\n",
       "</div>"
      ],
      "text/plain": [
       "    Broker      Total Amount Average Monthly Amount\n",
       "0   Broker  8,247,765.00 SEK         687,313.75 SEK\n",
       "1   Direct  5,821,398.45 SEK         485,116.54 SEK\n",
       "2  Partner  2,269,631.00 SEK         252,181.22 SEK"
      ]
     },
     "metadata": {},
     "output_type": "display_data"
    },
    {
     "name": "stdout",
     "output_type": "stream",
     "text": [
      "\n",
      "Overall Statistics:\n",
      "Total Amount: 16,338,794.45 SEK\n",
      "Average Monthly Amount: 1,361,566.20 SEK\n",
      "Number of Months: 12\n"
     ]
    },
    {
     "data": {
      "application/vnd.plotly.v1+json": {
       "config": {
        "plotlyServerURL": "https://plot.ly"
       },
       "data": [
        {
         "alignmentgroup": "True",
         "hovertemplate": "Month: %{x}<br>Total Invoice Amount: %{y:,.2f} SEK",
         "legendgroup": "",
         "marker": {
          "color": "#636efa",
          "pattern": {
           "shape": ""
          }
         },
         "name": "",
         "offsetgroup": "",
         "orientation": "v",
         "showlegend": false,
         "textposition": "auto",
         "texttemplate": "%{y:.2s}",
         "type": "bar",
         "x": [
          "2024-09",
          "2024-10",
          "2024-11",
          "2024-12",
          "2025-01",
          "2025-02",
          "2025-03",
          "2025-04",
          "2025-05",
          "2025-06",
          "2025-07",
          "2025-08",
          "2025-09"
         ],
         "xaxis": "x",
         "y": [
          946786.5855,
          1639774.8491,
          1402463.0321,
          2750750,
          1864229.3358,
          1448350,
          2219218.0207,
          2436100,
          1252450,
          1641762,
          2712600,
          944490.5,
          212563
         ],
         "yaxis": "y"
        }
       ],
       "layout": {
        "barmode": "relative",
        "height": 500,
        "legend": {
         "tracegroupgap": 0
        },
        "template": {
         "data": {
          "bar": [
           {
            "error_x": {
             "color": "#2a3f5f"
            },
            "error_y": {
             "color": "#2a3f5f"
            },
            "marker": {
             "line": {
              "color": "#E5ECF6",
              "width": 0.5
             },
             "pattern": {
              "fillmode": "overlay",
              "size": 10,
              "solidity": 0.2
             }
            },
            "type": "bar"
           }
          ],
          "barpolar": [
           {
            "marker": {
             "line": {
              "color": "#E5ECF6",
              "width": 0.5
             },
             "pattern": {
              "fillmode": "overlay",
              "size": 10,
              "solidity": 0.2
             }
            },
            "type": "barpolar"
           }
          ],
          "carpet": [
           {
            "aaxis": {
             "endlinecolor": "#2a3f5f",
             "gridcolor": "white",
             "linecolor": "white",
             "minorgridcolor": "white",
             "startlinecolor": "#2a3f5f"
            },
            "baxis": {
             "endlinecolor": "#2a3f5f",
             "gridcolor": "white",
             "linecolor": "white",
             "minorgridcolor": "white",
             "startlinecolor": "#2a3f5f"
            },
            "type": "carpet"
           }
          ],
          "choropleth": [
           {
            "colorbar": {
             "outlinewidth": 0,
             "ticks": ""
            },
            "type": "choropleth"
           }
          ],
          "contour": [
           {
            "colorbar": {
             "outlinewidth": 0,
             "ticks": ""
            },
            "colorscale": [
             [
              0,
              "#0d0887"
             ],
             [
              0.1111111111111111,
              "#46039f"
             ],
             [
              0.2222222222222222,
              "#7201a8"
             ],
             [
              0.3333333333333333,
              "#9c179e"
             ],
             [
              0.4444444444444444,
              "#bd3786"
             ],
             [
              0.5555555555555556,
              "#d8576b"
             ],
             [
              0.6666666666666666,
              "#ed7953"
             ],
             [
              0.7777777777777778,
              "#fb9f3a"
             ],
             [
              0.8888888888888888,
              "#fdca26"
             ],
             [
              1,
              "#f0f921"
             ]
            ],
            "type": "contour"
           }
          ],
          "contourcarpet": [
           {
            "colorbar": {
             "outlinewidth": 0,
             "ticks": ""
            },
            "type": "contourcarpet"
           }
          ],
          "heatmap": [
           {
            "colorbar": {
             "outlinewidth": 0,
             "ticks": ""
            },
            "colorscale": [
             [
              0,
              "#0d0887"
             ],
             [
              0.1111111111111111,
              "#46039f"
             ],
             [
              0.2222222222222222,
              "#7201a8"
             ],
             [
              0.3333333333333333,
              "#9c179e"
             ],
             [
              0.4444444444444444,
              "#bd3786"
             ],
             [
              0.5555555555555556,
              "#d8576b"
             ],
             [
              0.6666666666666666,
              "#ed7953"
             ],
             [
              0.7777777777777778,
              "#fb9f3a"
             ],
             [
              0.8888888888888888,
              "#fdca26"
             ],
             [
              1,
              "#f0f921"
             ]
            ],
            "type": "heatmap"
           }
          ],
          "heatmapgl": [
           {
            "colorbar": {
             "outlinewidth": 0,
             "ticks": ""
            },
            "colorscale": [
             [
              0,
              "#0d0887"
             ],
             [
              0.1111111111111111,
              "#46039f"
             ],
             [
              0.2222222222222222,
              "#7201a8"
             ],
             [
              0.3333333333333333,
              "#9c179e"
             ],
             [
              0.4444444444444444,
              "#bd3786"
             ],
             [
              0.5555555555555556,
              "#d8576b"
             ],
             [
              0.6666666666666666,
              "#ed7953"
             ],
             [
              0.7777777777777778,
              "#fb9f3a"
             ],
             [
              0.8888888888888888,
              "#fdca26"
             ],
             [
              1,
              "#f0f921"
             ]
            ],
            "type": "heatmapgl"
           }
          ],
          "histogram": [
           {
            "marker": {
             "pattern": {
              "fillmode": "overlay",
              "size": 10,
              "solidity": 0.2
             }
            },
            "type": "histogram"
           }
          ],
          "histogram2d": [
           {
            "colorbar": {
             "outlinewidth": 0,
             "ticks": ""
            },
            "colorscale": [
             [
              0,
              "#0d0887"
             ],
             [
              0.1111111111111111,
              "#46039f"
             ],
             [
              0.2222222222222222,
              "#7201a8"
             ],
             [
              0.3333333333333333,
              "#9c179e"
             ],
             [
              0.4444444444444444,
              "#bd3786"
             ],
             [
              0.5555555555555556,
              "#d8576b"
             ],
             [
              0.6666666666666666,
              "#ed7953"
             ],
             [
              0.7777777777777778,
              "#fb9f3a"
             ],
             [
              0.8888888888888888,
              "#fdca26"
             ],
             [
              1,
              "#f0f921"
             ]
            ],
            "type": "histogram2d"
           }
          ],
          "histogram2dcontour": [
           {
            "colorbar": {
             "outlinewidth": 0,
             "ticks": ""
            },
            "colorscale": [
             [
              0,
              "#0d0887"
             ],
             [
              0.1111111111111111,
              "#46039f"
             ],
             [
              0.2222222222222222,
              "#7201a8"
             ],
             [
              0.3333333333333333,
              "#9c179e"
             ],
             [
              0.4444444444444444,
              "#bd3786"
             ],
             [
              0.5555555555555556,
              "#d8576b"
             ],
             [
              0.6666666666666666,
              "#ed7953"
             ],
             [
              0.7777777777777778,
              "#fb9f3a"
             ],
             [
              0.8888888888888888,
              "#fdca26"
             ],
             [
              1,
              "#f0f921"
             ]
            ],
            "type": "histogram2dcontour"
           }
          ],
          "mesh3d": [
           {
            "colorbar": {
             "outlinewidth": 0,
             "ticks": ""
            },
            "type": "mesh3d"
           }
          ],
          "parcoords": [
           {
            "line": {
             "colorbar": {
              "outlinewidth": 0,
              "ticks": ""
             }
            },
            "type": "parcoords"
           }
          ],
          "pie": [
           {
            "automargin": true,
            "type": "pie"
           }
          ],
          "scatter": [
           {
            "fillpattern": {
             "fillmode": "overlay",
             "size": 10,
             "solidity": 0.2
            },
            "type": "scatter"
           }
          ],
          "scatter3d": [
           {
            "line": {
             "colorbar": {
              "outlinewidth": 0,
              "ticks": ""
             }
            },
            "marker": {
             "colorbar": {
              "outlinewidth": 0,
              "ticks": ""
             }
            },
            "type": "scatter3d"
           }
          ],
          "scattercarpet": [
           {
            "marker": {
             "colorbar": {
              "outlinewidth": 0,
              "ticks": ""
             }
            },
            "type": "scattercarpet"
           }
          ],
          "scattergeo": [
           {
            "marker": {
             "colorbar": {
              "outlinewidth": 0,
              "ticks": ""
             }
            },
            "type": "scattergeo"
           }
          ],
          "scattergl": [
           {
            "marker": {
             "colorbar": {
              "outlinewidth": 0,
              "ticks": ""
             }
            },
            "type": "scattergl"
           }
          ],
          "scattermapbox": [
           {
            "marker": {
             "colorbar": {
              "outlinewidth": 0,
              "ticks": ""
             }
            },
            "type": "scattermapbox"
           }
          ],
          "scatterpolar": [
           {
            "marker": {
             "colorbar": {
              "outlinewidth": 0,
              "ticks": ""
             }
            },
            "type": "scatterpolar"
           }
          ],
          "scatterpolargl": [
           {
            "marker": {
             "colorbar": {
              "outlinewidth": 0,
              "ticks": ""
             }
            },
            "type": "scatterpolargl"
           }
          ],
          "scatterternary": [
           {
            "marker": {
             "colorbar": {
              "outlinewidth": 0,
              "ticks": ""
             }
            },
            "type": "scatterternary"
           }
          ],
          "surface": [
           {
            "colorbar": {
             "outlinewidth": 0,
             "ticks": ""
            },
            "colorscale": [
             [
              0,
              "#0d0887"
             ],
             [
              0.1111111111111111,
              "#46039f"
             ],
             [
              0.2222222222222222,
              "#7201a8"
             ],
             [
              0.3333333333333333,
              "#9c179e"
             ],
             [
              0.4444444444444444,
              "#bd3786"
             ],
             [
              0.5555555555555556,
              "#d8576b"
             ],
             [
              0.6666666666666666,
              "#ed7953"
             ],
             [
              0.7777777777777778,
              "#fb9f3a"
             ],
             [
              0.8888888888888888,
              "#fdca26"
             ],
             [
              1,
              "#f0f921"
             ]
            ],
            "type": "surface"
           }
          ],
          "table": [
           {
            "cells": {
             "fill": {
              "color": "#EBF0F8"
             },
             "line": {
              "color": "white"
             }
            },
            "header": {
             "fill": {
              "color": "#C8D4E3"
             },
             "line": {
              "color": "white"
             }
            },
            "type": "table"
           }
          ]
         },
         "layout": {
          "annotationdefaults": {
           "arrowcolor": "#2a3f5f",
           "arrowhead": 0,
           "arrowwidth": 1
          },
          "autotypenumbers": "strict",
          "coloraxis": {
           "colorbar": {
            "outlinewidth": 0,
            "ticks": ""
           }
          },
          "colorscale": {
           "diverging": [
            [
             0,
             "#8e0152"
            ],
            [
             0.1,
             "#c51b7d"
            ],
            [
             0.2,
             "#de77ae"
            ],
            [
             0.3,
             "#f1b6da"
            ],
            [
             0.4,
             "#fde0ef"
            ],
            [
             0.5,
             "#f7f7f7"
            ],
            [
             0.6,
             "#e6f5d0"
            ],
            [
             0.7,
             "#b8e186"
            ],
            [
             0.8,
             "#7fbc41"
            ],
            [
             0.9,
             "#4d9221"
            ],
            [
             1,
             "#276419"
            ]
           ],
           "sequential": [
            [
             0,
             "#0d0887"
            ],
            [
             0.1111111111111111,
             "#46039f"
            ],
            [
             0.2222222222222222,
             "#7201a8"
            ],
            [
             0.3333333333333333,
             "#9c179e"
            ],
            [
             0.4444444444444444,
             "#bd3786"
            ],
            [
             0.5555555555555556,
             "#d8576b"
            ],
            [
             0.6666666666666666,
             "#ed7953"
            ],
            [
             0.7777777777777778,
             "#fb9f3a"
            ],
            [
             0.8888888888888888,
             "#fdca26"
            ],
            [
             1,
             "#f0f921"
            ]
           ],
           "sequentialminus": [
            [
             0,
             "#0d0887"
            ],
            [
             0.1111111111111111,
             "#46039f"
            ],
            [
             0.2222222222222222,
             "#7201a8"
            ],
            [
             0.3333333333333333,
             "#9c179e"
            ],
            [
             0.4444444444444444,
             "#bd3786"
            ],
            [
             0.5555555555555556,
             "#d8576b"
            ],
            [
             0.6666666666666666,
             "#ed7953"
            ],
            [
             0.7777777777777778,
             "#fb9f3a"
            ],
            [
             0.8888888888888888,
             "#fdca26"
            ],
            [
             1,
             "#f0f921"
            ]
           ]
          },
          "colorway": [
           "#636efa",
           "#EF553B",
           "#00cc96",
           "#ab63fa",
           "#FFA15A",
           "#19d3f3",
           "#FF6692",
           "#B6E880",
           "#FF97FF",
           "#FECB52"
          ],
          "font": {
           "color": "#2a3f5f"
          },
          "geo": {
           "bgcolor": "white",
           "lakecolor": "white",
           "landcolor": "#E5ECF6",
           "showlakes": true,
           "showland": true,
           "subunitcolor": "white"
          },
          "hoverlabel": {
           "align": "left"
          },
          "hovermode": "closest",
          "mapbox": {
           "style": "light"
          },
          "paper_bgcolor": "white",
          "plot_bgcolor": "#E5ECF6",
          "polar": {
           "angularaxis": {
            "gridcolor": "white",
            "linecolor": "white",
            "ticks": ""
           },
           "bgcolor": "#E5ECF6",
           "radialaxis": {
            "gridcolor": "white",
            "linecolor": "white",
            "ticks": ""
           }
          },
          "scene": {
           "xaxis": {
            "backgroundcolor": "#E5ECF6",
            "gridcolor": "white",
            "gridwidth": 2,
            "linecolor": "white",
            "showbackground": true,
            "ticks": "",
            "zerolinecolor": "white"
           },
           "yaxis": {
            "backgroundcolor": "#E5ECF6",
            "gridcolor": "white",
            "gridwidth": 2,
            "linecolor": "white",
            "showbackground": true,
            "ticks": "",
            "zerolinecolor": "white"
           },
           "zaxis": {
            "backgroundcolor": "#E5ECF6",
            "gridcolor": "white",
            "gridwidth": 2,
            "linecolor": "white",
            "showbackground": true,
            "ticks": "",
            "zerolinecolor": "white"
           }
          },
          "shapedefaults": {
           "line": {
            "color": "#2a3f5f"
           }
          },
          "ternary": {
           "aaxis": {
            "gridcolor": "white",
            "linecolor": "white",
            "ticks": ""
           },
           "baxis": {
            "gridcolor": "white",
            "linecolor": "white",
            "ticks": ""
           },
           "bgcolor": "#E5ECF6",
           "caxis": {
            "gridcolor": "white",
            "linecolor": "white",
            "ticks": ""
           }
          },
          "title": {
           "x": 0.05
          },
          "xaxis": {
           "automargin": true,
           "gridcolor": "white",
           "linecolor": "white",
           "ticks": "",
           "title": {
            "standoff": 15
           },
           "zerolinecolor": "white",
           "zerolinewidth": 2
          },
          "yaxis": {
           "automargin": true,
           "gridcolor": "white",
           "linecolor": "white",
           "ticks": "",
           "title": {
            "standoff": 15
           },
           "zerolinecolor": "white",
           "zerolinewidth": 2
          }
         }
        },
        "title": {
         "text": "Monthly Total Invoice Amount (from 2024-09-01)"
        },
        "width": 900,
        "xaxis": {
         "anchor": "y",
         "categoryorder": "category ascending",
         "domain": [
          0,
          1
         ],
         "title": {
          "text": "Month"
         }
        },
        "yaxis": {
         "anchor": "x",
         "domain": [
          0,
          1
         ],
         "title": {
          "text": "Total Invoice Amount (SEK)"
         }
        }
       }
      }
     },
     "metadata": {},
     "output_type": "display_data"
    },
    {
     "name": "stdout",
     "output_type": "stream",
     "text": [
      "\n",
      "Summary Statistics for Total Invoice Amount (from 2024-09-01):\n",
      "Total Amount: 21,471,537.32 SEK\n",
      "Average Monthly Amount: 1,651,656.72 SEK\n",
      "Number of Months: 13\n"
     ]
    },
    {
     "data": {
      "text/html": [
       "<div>\n",
       "<style scoped>\n",
       "    .dataframe tbody tr th:only-of-type {\n",
       "        vertical-align: middle;\n",
       "    }\n",
       "\n",
       "    .dataframe tbody tr th {\n",
       "        vertical-align: top;\n",
       "    }\n",
       "\n",
       "    .dataframe thead th {\n",
       "        text-align: right;\n",
       "    }\n",
       "</style>\n",
       "<table border=\"1\" class=\"dataframe\">\n",
       "  <thead>\n",
       "    <tr style=\"text-align: right;\">\n",
       "      <th></th>\n",
       "      <th>month_str</th>\n",
       "      <th>invoice_amount_total</th>\n",
       "    </tr>\n",
       "  </thead>\n",
       "  <tbody>\n",
       "    <tr>\n",
       "      <th>0</th>\n",
       "      <td>2024-09</td>\n",
       "      <td>9.467866e+05</td>\n",
       "    </tr>\n",
       "    <tr>\n",
       "      <th>1</th>\n",
       "      <td>2024-10</td>\n",
       "      <td>1.639775e+06</td>\n",
       "    </tr>\n",
       "    <tr>\n",
       "      <th>2</th>\n",
       "      <td>2024-11</td>\n",
       "      <td>1.402463e+06</td>\n",
       "    </tr>\n",
       "    <tr>\n",
       "      <th>3</th>\n",
       "      <td>2024-12</td>\n",
       "      <td>2.750750e+06</td>\n",
       "    </tr>\n",
       "    <tr>\n",
       "      <th>4</th>\n",
       "      <td>2025-01</td>\n",
       "      <td>1.864229e+06</td>\n",
       "    </tr>\n",
       "    <tr>\n",
       "      <th>5</th>\n",
       "      <td>2025-02</td>\n",
       "      <td>1.448350e+06</td>\n",
       "    </tr>\n",
       "    <tr>\n",
       "      <th>6</th>\n",
       "      <td>2025-03</td>\n",
       "      <td>2.219218e+06</td>\n",
       "    </tr>\n",
       "    <tr>\n",
       "      <th>7</th>\n",
       "      <td>2025-04</td>\n",
       "      <td>2.436100e+06</td>\n",
       "    </tr>\n",
       "    <tr>\n",
       "      <th>8</th>\n",
       "      <td>2025-05</td>\n",
       "      <td>1.252450e+06</td>\n",
       "    </tr>\n",
       "    <tr>\n",
       "      <th>9</th>\n",
       "      <td>2025-06</td>\n",
       "      <td>1.641762e+06</td>\n",
       "    </tr>\n",
       "    <tr>\n",
       "      <th>10</th>\n",
       "      <td>2025-07</td>\n",
       "      <td>2.712600e+06</td>\n",
       "    </tr>\n",
       "    <tr>\n",
       "      <th>11</th>\n",
       "      <td>2025-08</td>\n",
       "      <td>9.444905e+05</td>\n",
       "    </tr>\n",
       "    <tr>\n",
       "      <th>12</th>\n",
       "      <td>2025-09</td>\n",
       "      <td>2.125630e+05</td>\n",
       "    </tr>\n",
       "  </tbody>\n",
       "</table>\n",
       "</div>"
      ],
      "text/plain": [
       "   month_str  invoice_amount_total\n",
       "0    2024-09          9.467866e+05\n",
       "1    2024-10          1.639775e+06\n",
       "2    2024-11          1.402463e+06\n",
       "3    2024-12          2.750750e+06\n",
       "4    2025-01          1.864229e+06\n",
       "5    2025-02          1.448350e+06\n",
       "6    2025-03          2.219218e+06\n",
       "7    2025-04          2.436100e+06\n",
       "8    2025-05          1.252450e+06\n",
       "9    2025-06          1.641762e+06\n",
       "10   2025-07          2.712600e+06\n",
       "11   2025-08          9.444905e+05\n",
       "12   2025-09          2.125630e+05"
      ]
     },
     "execution_count": 106,
     "metadata": {},
     "output_type": "execute_result"
    }
   ],
   "source": [
    "# Plot net amounts for all dates\n",
    "plot_invoice_amounts(invoices, amount_type='net')\n",
    "\n",
    "# Plot total amounts with broker as hue\n",
    "plot_invoice_amounts(invoices, amount_type='total', hue=True)\n",
    "\n",
    "# Plot net amounts for a specific date range with broker coloring\n",
    "plot_invoice_amounts(invoices, start_date='2024-01-01', end_date='2024-12-31', amount_type='net', hue=True)\n",
    "\n",
    "# Plot total amounts for dates after a specific date without hue\n",
    "plot_invoice_amounts(invoices, start_date='2024-09-01', amount_type='total', hue=False)"
   ]
  },
  {
   "cell_type": "markdown",
   "id": "646141fa",
   "metadata": {},
   "source": [
    "# Key financial metrics table "
   ]
  },
  {
   "cell_type": "code",
   "execution_count": 107,
   "id": "c8220ca0",
   "metadata": {},
   "outputs": [],
   "source": [
    "def get_monthly_invoice_pivot(df, start_date=None, end_date=None):\n",
    "    \"\"\"\n",
    "    Create a pivoted dataframe with monthly invoice statistics by broker type.\n",
    "    \n",
    "    Parameters:\n",
    "    -----------\n",
    "    df : pandas DataFrame\n",
    "        The invoice dataframe\n",
    "    start_date : str, optional\n",
    "        Start date for filtering in 'YYYY-MM-DD' format\n",
    "    end_date : str, optional\n",
    "        End date for filtering in 'YYYY-MM-DD' format\n",
    "        \n",
    "    Returns:\n",
    "    --------\n",
    "    pandas DataFrame: Pivoted dataframe with months as columns and invoice metrics as rows\n",
    "    \"\"\"\n",
    "    # Create a copy to avoid modifying the original\n",
    "    plot_df = df.copy()\n",
    "    \n",
    "    # Drop rows where final_pay_date is NaT\n",
    "    plot_df = plot_df.dropna(subset=['final_pay_date'])\n",
    "    \n",
    "    # Convert dates to datetime if they're not already\n",
    "    plot_df['final_pay_date'] = pd.to_datetime(plot_df['final_pay_date'])\n",
    "    \n",
    "    # Apply date filters if provided\n",
    "    if start_date:\n",
    "        start_date = pd.to_datetime(start_date)\n",
    "        plot_df = plot_df[plot_df['final_pay_date'] >= start_date]\n",
    "        \n",
    "    if end_date:\n",
    "        end_date = pd.to_datetime(end_date)\n",
    "        plot_df = plot_df[plot_df['final_pay_date'] <= end_date]\n",
    "    \n",
    "    # Check if we have data after filtering\n",
    "    if plot_df.empty:\n",
    "        print(\"No data available after applying date filters.\")\n",
    "        return pd.DataFrame()\n",
    "    \n",
    "    # Create month column for grouping\n",
    "    plot_df['month'] = plot_df['final_pay_date'].dt.to_period('M')\n",
    "    plot_df['month_str'] = plot_df['month'].dt.strftime('%Y-%m')\n",
    "    \n",
    "    # Create a broker type column with standardized categories\n",
    "    plot_df['broker_type'] = plot_df['broker'].apply(\n",
    "        lambda x: 'Broker' if 'broker' in str(x).lower() else \n",
    "                 ('Partner' if 'partner' in str(x).lower() else 'Direct')\n",
    "    )\n",
    "    \n",
    "    # Group by month and calculate totals\n",
    "    monthly_totals = plot_df.groupby('month_str').agg(\n",
    "        total_net=('invoice_amount_net', 'sum'),\n",
    "        total_total=('invoice_amount_total', 'sum')\n",
    "    )\n",
    "    \n",
    "    # Group by month and broker type\n",
    "    broker_data = plot_df.groupby(['month_str', 'broker_type']).agg(\n",
    "        net_amount=('invoice_amount_net', 'sum'),\n",
    "        total_amount=('invoice_amount_total', 'sum')\n",
    "    ).reset_index()\n",
    "    \n",
    "    # Calculate percentage of total net for each broker type\n",
    "    broker_data = broker_data.merge(monthly_totals, on='month_str')\n",
    "    broker_data['pct_of_net'] = (broker_data['net_amount'] / broker_data['total_net']) * 100\n",
    "    \n",
    "    # Create a list to store the rows for our pivot table\n",
    "    pivot_rows = []\n",
    "    \n",
    "    # Add total rows (independent of broker type)\n",
    "    pivot_rows.append(('Total Net Amount', plot_df.groupby('month_str')['invoice_amount_net'].sum()))\n",
    "    pivot_rows.append(('Total Invoice Amount', plot_df.groupby('month_str')['invoice_amount_total'].sum()))\n",
    "    \n",
    "    # Add rows for each broker type\n",
    "    for broker_type in ['Broker', 'Direct', 'Partner']:\n",
    "        # Filter for the current broker type\n",
    "        broker_subset = broker_data[broker_data['broker_type'] == broker_type]\n",
    "        \n",
    "        if not broker_subset.empty:\n",
    "            # Set the month_str as index for easy pivoting\n",
    "            broker_subset = broker_subset.set_index('month_str')\n",
    "            \n",
    "            # Add rows for this broker type\n",
    "            pivot_rows.append((f'{broker_type} Net Amount', broker_subset['net_amount']))\n",
    "            pivot_rows.append((f'{broker_type} Total Amount', broker_subset['total_amount']))\n",
    "            pivot_rows.append((f'{broker_type} % of Total Net', broker_subset['pct_of_net']))\n",
    "    \n",
    "    # Create the pivot table\n",
    "    result = pd.DataFrame({row_name: data for row_name, data in pivot_rows})\n",
    "    \n",
    "    # Clean up and format the DataFrame\n",
    "    result = result.fillna(0)\n",
    "    \n",
    "    # Format percentage columns\n",
    "    for col in result.index:\n",
    "        if '% of Total' in col:\n",
    "            result.loc[col] = result.loc[col].map(lambda x: f\"{x:.2f}%\")\n",
    "    \n",
    "    # Ensure columns are sorted chronologically\n",
    "    result = result.reindex(sorted(result.columns), axis=1)\n",
    "    \n",
    "    # Create a date range text for summary\n",
    "    if start_date and end_date:\n",
    "        date_range_text = f\"Data from {start_date.strftime('%Y-%m-%d')} to {end_date.strftime('%Y-%m-%d')}\"\n",
    "    elif start_date:\n",
    "        date_range_text = f\"Data from {start_date.strftime('%Y-%m-%d')}\"\n",
    "    elif end_date:\n",
    "        date_range_text = f\"Data until {end_date.strftime('%Y-%m-%d')}\"\n",
    "    else:\n",
    "        date_range_text = \"All available data\"\n",
    "    \n",
    "    print(f\"Monthly Invoice Statistics ({date_range_text})\")\n",
    "    \n",
    "    return result.T  # Transpose so months are columns"
   ]
  },
  {
   "cell_type": "code",
   "execution_count": 108,
   "id": "c20c19d5",
   "metadata": {},
   "outputs": [
    {
     "name": "stdout",
     "output_type": "stream",
     "text": [
      "Monthly Invoice Statistics (All available data)\n"
     ]
    },
    {
     "data": {
      "text/html": [
       "<div>\n",
       "<style scoped>\n",
       "    .dataframe tbody tr th:only-of-type {\n",
       "        vertical-align: middle;\n",
       "    }\n",
       "\n",
       "    .dataframe tbody tr th {\n",
       "        vertical-align: top;\n",
       "    }\n",
       "\n",
       "    .dataframe thead th {\n",
       "        text-align: right;\n",
       "    }\n",
       "</style>\n",
       "<table border=\"1\" class=\"dataframe\">\n",
       "  <thead>\n",
       "    <tr style=\"text-align: right;\">\n",
       "      <th>month_str</th>\n",
       "      <th>2019-07</th>\n",
       "      <th>2019-08</th>\n",
       "      <th>2019-09</th>\n",
       "      <th>2019-10</th>\n",
       "      <th>2019-11</th>\n",
       "      <th>2019-12</th>\n",
       "      <th>2020-01</th>\n",
       "      <th>2020-02</th>\n",
       "      <th>2020-03</th>\n",
       "      <th>2020-04</th>\n",
       "      <th>...</th>\n",
       "      <th>2024-12</th>\n",
       "      <th>2025-01</th>\n",
       "      <th>2025-02</th>\n",
       "      <th>2025-03</th>\n",
       "      <th>2025-04</th>\n",
       "      <th>2025-05</th>\n",
       "      <th>2025-06</th>\n",
       "      <th>2025-07</th>\n",
       "      <th>2025-08</th>\n",
       "      <th>2025-09</th>\n",
       "    </tr>\n",
       "  </thead>\n",
       "  <tbody>\n",
       "    <tr>\n",
       "      <th>Broker % of Total Net</th>\n",
       "      <td>0.0</td>\n",
       "      <td>54.046577</td>\n",
       "      <td>14.943887</td>\n",
       "      <td>38.322348</td>\n",
       "      <td>43.847487</td>\n",
       "      <td>51.175209</td>\n",
       "      <td>56.548949</td>\n",
       "      <td>100.0</td>\n",
       "      <td>100.0</td>\n",
       "      <td>100.0</td>\n",
       "      <td>...</td>\n",
       "      <td>5.891575e+01</td>\n",
       "      <td>6.699948e+01</td>\n",
       "      <td>7.327131e+01</td>\n",
       "      <td>6.709773e+01</td>\n",
       "      <td>4.899635e+01</td>\n",
       "      <td>7.904108e+01</td>\n",
       "      <td>6.461430e+01</td>\n",
       "      <td>6.558883e+01</td>\n",
       "      <td>85.823614</td>\n",
       "      <td>89.855925</td>\n",
       "    </tr>\n",
       "    <tr>\n",
       "      <th>Broker Net Amount</th>\n",
       "      <td>0.0</td>\n",
       "      <td>115747.500000</td>\n",
       "      <td>34155.000000</td>\n",
       "      <td>140415.000000</td>\n",
       "      <td>185955.000000</td>\n",
       "      <td>189750.000000</td>\n",
       "      <td>189750.000000</td>\n",
       "      <td>280005.0</td>\n",
       "      <td>347462.5</td>\n",
       "      <td>328487.5</td>\n",
       "      <td>...</td>\n",
       "      <td>1.296500e+06</td>\n",
       "      <td>1.003010e+06</td>\n",
       "      <td>8.489800e+05</td>\n",
       "      <td>1.192175e+06</td>\n",
       "      <td>9.548800e+05</td>\n",
       "      <td>7.919600e+05</td>\n",
       "      <td>8.486500e+05</td>\n",
       "      <td>1.423330e+06</td>\n",
       "      <td>653240.000000</td>\n",
       "      <td>152800.000000</td>\n",
       "    </tr>\n",
       "    <tr>\n",
       "      <th>Broker Total Amount</th>\n",
       "      <td>0.0</td>\n",
       "      <td>144684.000000</td>\n",
       "      <td>42694.000000</td>\n",
       "      <td>175519.000000</td>\n",
       "      <td>232444.000000</td>\n",
       "      <td>237188.000000</td>\n",
       "      <td>237188.000000</td>\n",
       "      <td>350006.0</td>\n",
       "      <td>434328.0</td>\n",
       "      <td>410609.0</td>\n",
       "      <td>...</td>\n",
       "      <td>1.620625e+06</td>\n",
       "      <td>1.253763e+06</td>\n",
       "      <td>1.061225e+06</td>\n",
       "      <td>1.490219e+06</td>\n",
       "      <td>1.193600e+06</td>\n",
       "      <td>9.899500e+05</td>\n",
       "      <td>1.060813e+06</td>\n",
       "      <td>1.779162e+06</td>\n",
       "      <td>816550.000000</td>\n",
       "      <td>191000.000000</td>\n",
       "    </tr>\n",
       "    <tr>\n",
       "      <th>Direct % of Total Net</th>\n",
       "      <td>0.0</td>\n",
       "      <td>0.000000</td>\n",
       "      <td>0.000000</td>\n",
       "      <td>0.000000</td>\n",
       "      <td>0.000000</td>\n",
       "      <td>0.000000</td>\n",
       "      <td>0.000000</td>\n",
       "      <td>0.0</td>\n",
       "      <td>0.0</td>\n",
       "      <td>0.0</td>\n",
       "      <td>...</td>\n",
       "      <td>2.595656e+01</td>\n",
       "      <td>2.338155e+01</td>\n",
       "      <td>1.740774e+01</td>\n",
       "      <td>2.434744e+01</td>\n",
       "      <td>4.279381e+01</td>\n",
       "      <td>4.990219e+00</td>\n",
       "      <td>2.564007e+01</td>\n",
       "      <td>2.777547e+01</td>\n",
       "      <td>14.176386</td>\n",
       "      <td>10.144075</td>\n",
       "    </tr>\n",
       "    <tr>\n",
       "      <th>Direct Net Amount</th>\n",
       "      <td>0.0</td>\n",
       "      <td>0.000000</td>\n",
       "      <td>0.000000</td>\n",
       "      <td>0.000000</td>\n",
       "      <td>0.000000</td>\n",
       "      <td>0.000000</td>\n",
       "      <td>0.000000</td>\n",
       "      <td>0.0</td>\n",
       "      <td>0.0</td>\n",
       "      <td>0.0</td>\n",
       "      <td>...</td>\n",
       "      <td>5.712000e+05</td>\n",
       "      <td>3.500315e+05</td>\n",
       "      <td>2.017000e+05</td>\n",
       "      <td>4.325990e+05</td>\n",
       "      <td>8.340000e+05</td>\n",
       "      <td>5.000000e+04</td>\n",
       "      <td>3.367590e+05</td>\n",
       "      <td>6.027500e+05</td>\n",
       "      <td>107902.500000</td>\n",
       "      <td>17250.000000</td>\n",
       "    </tr>\n",
       "    <tr>\n",
       "      <th>Direct Total Amount</th>\n",
       "      <td>0.0</td>\n",
       "      <td>0.000000</td>\n",
       "      <td>0.000000</td>\n",
       "      <td>0.000000</td>\n",
       "      <td>0.000000</td>\n",
       "      <td>0.000000</td>\n",
       "      <td>0.000000</td>\n",
       "      <td>0.0</td>\n",
       "      <td>0.0</td>\n",
       "      <td>0.0</td>\n",
       "      <td>...</td>\n",
       "      <td>7.140000e+05</td>\n",
       "      <td>4.304663e+05</td>\n",
       "      <td>2.521250e+05</td>\n",
       "      <td>5.389990e+05</td>\n",
       "      <td>1.042500e+06</td>\n",
       "      <td>6.250000e+04</td>\n",
       "      <td>4.209490e+05</td>\n",
       "      <td>7.534380e+05</td>\n",
       "      <td>127940.500000</td>\n",
       "      <td>21563.000000</td>\n",
       "    </tr>\n",
       "    <tr>\n",
       "      <th>Partner % of Total Net</th>\n",
       "      <td>100.0</td>\n",
       "      <td>45.953423</td>\n",
       "      <td>85.056113</td>\n",
       "      <td>61.677652</td>\n",
       "      <td>56.152513</td>\n",
       "      <td>48.824791</td>\n",
       "      <td>43.451051</td>\n",
       "      <td>0.0</td>\n",
       "      <td>0.0</td>\n",
       "      <td>0.0</td>\n",
       "      <td>...</td>\n",
       "      <td>1.512769e+01</td>\n",
       "      <td>9.618972e+00</td>\n",
       "      <td>9.320951e+00</td>\n",
       "      <td>8.554830e+00</td>\n",
       "      <td>8.209844e+00</td>\n",
       "      <td>1.596870e+01</td>\n",
       "      <td>9.745631e+00</td>\n",
       "      <td>6.635700e+00</td>\n",
       "      <td>0.000000</td>\n",
       "      <td>0.000000</td>\n",
       "    </tr>\n",
       "    <tr>\n",
       "      <th>Partner Net Amount</th>\n",
       "      <td>117855.0</td>\n",
       "      <td>98415.000000</td>\n",
       "      <td>194400.000000</td>\n",
       "      <td>225990.000000</td>\n",
       "      <td>238140.000000</td>\n",
       "      <td>181035.000000</td>\n",
       "      <td>145800.000000</td>\n",
       "      <td>0.0</td>\n",
       "      <td>0.0</td>\n",
       "      <td>0.0</td>\n",
       "      <td>...</td>\n",
       "      <td>3.329000e+05</td>\n",
       "      <td>1.440000e+05</td>\n",
       "      <td>1.080000e+05</td>\n",
       "      <td>1.520000e+05</td>\n",
       "      <td>1.600000e+05</td>\n",
       "      <td>1.600000e+05</td>\n",
       "      <td>1.280000e+05</td>\n",
       "      <td>1.440000e+05</td>\n",
       "      <td>0.000000</td>\n",
       "      <td>0.000000</td>\n",
       "    </tr>\n",
       "    <tr>\n",
       "      <th>Partner Total Amount</th>\n",
       "      <td>147319.0</td>\n",
       "      <td>123019.000000</td>\n",
       "      <td>243000.000000</td>\n",
       "      <td>282488.000000</td>\n",
       "      <td>297675.000000</td>\n",
       "      <td>226294.000000</td>\n",
       "      <td>182250.000000</td>\n",
       "      <td>0.0</td>\n",
       "      <td>0.0</td>\n",
       "      <td>0.0</td>\n",
       "      <td>...</td>\n",
       "      <td>4.161250e+05</td>\n",
       "      <td>1.800000e+05</td>\n",
       "      <td>1.350000e+05</td>\n",
       "      <td>1.900000e+05</td>\n",
       "      <td>2.000000e+05</td>\n",
       "      <td>2.000000e+05</td>\n",
       "      <td>1.600000e+05</td>\n",
       "      <td>1.800000e+05</td>\n",
       "      <td>0.000000</td>\n",
       "      <td>0.000000</td>\n",
       "    </tr>\n",
       "    <tr>\n",
       "      <th>Total Invoice Amount</th>\n",
       "      <td>147319.0</td>\n",
       "      <td>267703.000000</td>\n",
       "      <td>285694.000000</td>\n",
       "      <td>458007.000000</td>\n",
       "      <td>530119.000000</td>\n",
       "      <td>463482.000000</td>\n",
       "      <td>419438.000000</td>\n",
       "      <td>350006.0</td>\n",
       "      <td>434328.0</td>\n",
       "      <td>410609.0</td>\n",
       "      <td>...</td>\n",
       "      <td>2.750750e+06</td>\n",
       "      <td>1.864229e+06</td>\n",
       "      <td>1.448350e+06</td>\n",
       "      <td>2.219218e+06</td>\n",
       "      <td>2.436100e+06</td>\n",
       "      <td>1.252450e+06</td>\n",
       "      <td>1.641762e+06</td>\n",
       "      <td>2.712600e+06</td>\n",
       "      <td>944490.500000</td>\n",
       "      <td>212563.000000</td>\n",
       "    </tr>\n",
       "    <tr>\n",
       "      <th>Total Net Amount</th>\n",
       "      <td>117855.0</td>\n",
       "      <td>214162.500000</td>\n",
       "      <td>228555.000000</td>\n",
       "      <td>366405.000000</td>\n",
       "      <td>424095.000000</td>\n",
       "      <td>370785.000000</td>\n",
       "      <td>335550.000000</td>\n",
       "      <td>280005.0</td>\n",
       "      <td>347462.5</td>\n",
       "      <td>328487.5</td>\n",
       "      <td>...</td>\n",
       "      <td>2.200600e+06</td>\n",
       "      <td>1.497041e+06</td>\n",
       "      <td>1.158680e+06</td>\n",
       "      <td>1.776774e+06</td>\n",
       "      <td>1.948880e+06</td>\n",
       "      <td>1.001960e+06</td>\n",
       "      <td>1.313409e+06</td>\n",
       "      <td>2.170080e+06</td>\n",
       "      <td>761142.500000</td>\n",
       "      <td>170050.000000</td>\n",
       "    </tr>\n",
       "  </tbody>\n",
       "</table>\n",
       "<p>11 rows × 75 columns</p>\n",
       "</div>"
      ],
      "text/plain": [
       "month_str                2019-07        2019-08        2019-09        2019-10  \\\n",
       "Broker % of Total Net        0.0      54.046577      14.943887      38.322348   \n",
       "Broker Net Amount            0.0  115747.500000   34155.000000  140415.000000   \n",
       "Broker Total Amount          0.0  144684.000000   42694.000000  175519.000000   \n",
       "Direct % of Total Net        0.0       0.000000       0.000000       0.000000   \n",
       "Direct Net Amount            0.0       0.000000       0.000000       0.000000   \n",
       "Direct Total Amount          0.0       0.000000       0.000000       0.000000   \n",
       "Partner % of Total Net     100.0      45.953423      85.056113      61.677652   \n",
       "Partner Net Amount      117855.0   98415.000000  194400.000000  225990.000000   \n",
       "Partner Total Amount    147319.0  123019.000000  243000.000000  282488.000000   \n",
       "Total Invoice Amount    147319.0  267703.000000  285694.000000  458007.000000   \n",
       "Total Net Amount        117855.0  214162.500000  228555.000000  366405.000000   \n",
       "\n",
       "month_str                     2019-11        2019-12        2020-01   2020-02  \\\n",
       "Broker % of Total Net       43.847487      51.175209      56.548949     100.0   \n",
       "Broker Net Amount       185955.000000  189750.000000  189750.000000  280005.0   \n",
       "Broker Total Amount     232444.000000  237188.000000  237188.000000  350006.0   \n",
       "Direct % of Total Net        0.000000       0.000000       0.000000       0.0   \n",
       "Direct Net Amount            0.000000       0.000000       0.000000       0.0   \n",
       "Direct Total Amount          0.000000       0.000000       0.000000       0.0   \n",
       "Partner % of Total Net      56.152513      48.824791      43.451051       0.0   \n",
       "Partner Net Amount      238140.000000  181035.000000  145800.000000       0.0   \n",
       "Partner Total Amount    297675.000000  226294.000000  182250.000000       0.0   \n",
       "Total Invoice Amount    530119.000000  463482.000000  419438.000000  350006.0   \n",
       "Total Net Amount        424095.000000  370785.000000  335550.000000  280005.0   \n",
       "\n",
       "month_str                2020-03   2020-04  ...       2024-12       2025-01  \\\n",
       "Broker % of Total Net      100.0     100.0  ...  5.891575e+01  6.699948e+01   \n",
       "Broker Net Amount       347462.5  328487.5  ...  1.296500e+06  1.003010e+06   \n",
       "Broker Total Amount     434328.0  410609.0  ...  1.620625e+06  1.253763e+06   \n",
       "Direct % of Total Net        0.0       0.0  ...  2.595656e+01  2.338155e+01   \n",
       "Direct Net Amount            0.0       0.0  ...  5.712000e+05  3.500315e+05   \n",
       "Direct Total Amount          0.0       0.0  ...  7.140000e+05  4.304663e+05   \n",
       "Partner % of Total Net       0.0       0.0  ...  1.512769e+01  9.618972e+00   \n",
       "Partner Net Amount           0.0       0.0  ...  3.329000e+05  1.440000e+05   \n",
       "Partner Total Amount         0.0       0.0  ...  4.161250e+05  1.800000e+05   \n",
       "Total Invoice Amount    434328.0  410609.0  ...  2.750750e+06  1.864229e+06   \n",
       "Total Net Amount        347462.5  328487.5  ...  2.200600e+06  1.497041e+06   \n",
       "\n",
       "month_str                    2025-02       2025-03       2025-04  \\\n",
       "Broker % of Total Net   7.327131e+01  6.709773e+01  4.899635e+01   \n",
       "Broker Net Amount       8.489800e+05  1.192175e+06  9.548800e+05   \n",
       "Broker Total Amount     1.061225e+06  1.490219e+06  1.193600e+06   \n",
       "Direct % of Total Net   1.740774e+01  2.434744e+01  4.279381e+01   \n",
       "Direct Net Amount       2.017000e+05  4.325990e+05  8.340000e+05   \n",
       "Direct Total Amount     2.521250e+05  5.389990e+05  1.042500e+06   \n",
       "Partner % of Total Net  9.320951e+00  8.554830e+00  8.209844e+00   \n",
       "Partner Net Amount      1.080000e+05  1.520000e+05  1.600000e+05   \n",
       "Partner Total Amount    1.350000e+05  1.900000e+05  2.000000e+05   \n",
       "Total Invoice Amount    1.448350e+06  2.219218e+06  2.436100e+06   \n",
       "Total Net Amount        1.158680e+06  1.776774e+06  1.948880e+06   \n",
       "\n",
       "month_str                    2025-05       2025-06       2025-07  \\\n",
       "Broker % of Total Net   7.904108e+01  6.461430e+01  6.558883e+01   \n",
       "Broker Net Amount       7.919600e+05  8.486500e+05  1.423330e+06   \n",
       "Broker Total Amount     9.899500e+05  1.060813e+06  1.779162e+06   \n",
       "Direct % of Total Net   4.990219e+00  2.564007e+01  2.777547e+01   \n",
       "Direct Net Amount       5.000000e+04  3.367590e+05  6.027500e+05   \n",
       "Direct Total Amount     6.250000e+04  4.209490e+05  7.534380e+05   \n",
       "Partner % of Total Net  1.596870e+01  9.745631e+00  6.635700e+00   \n",
       "Partner Net Amount      1.600000e+05  1.280000e+05  1.440000e+05   \n",
       "Partner Total Amount    2.000000e+05  1.600000e+05  1.800000e+05   \n",
       "Total Invoice Amount    1.252450e+06  1.641762e+06  2.712600e+06   \n",
       "Total Net Amount        1.001960e+06  1.313409e+06  2.170080e+06   \n",
       "\n",
       "month_str                     2025-08        2025-09  \n",
       "Broker % of Total Net       85.823614      89.855925  \n",
       "Broker Net Amount       653240.000000  152800.000000  \n",
       "Broker Total Amount     816550.000000  191000.000000  \n",
       "Direct % of Total Net       14.176386      10.144075  \n",
       "Direct Net Amount       107902.500000   17250.000000  \n",
       "Direct Total Amount     127940.500000   21563.000000  \n",
       "Partner % of Total Net       0.000000       0.000000  \n",
       "Partner Net Amount           0.000000       0.000000  \n",
       "Partner Total Amount         0.000000       0.000000  \n",
       "Total Invoice Amount    944490.500000  212563.000000  \n",
       "Total Net Amount        761142.500000  170050.000000  \n",
       "\n",
       "[11 rows x 75 columns]"
      ]
     },
     "metadata": {},
     "output_type": "display_data"
    },
    {
     "name": "stdout",
     "output_type": "stream",
     "text": [
      "Monthly Invoice Statistics (Data from 2024-01-01 to 2024-12-31)\n"
     ]
    },
    {
     "data": {
      "text/html": [
       "<div>\n",
       "<style scoped>\n",
       "    .dataframe tbody tr th:only-of-type {\n",
       "        vertical-align: middle;\n",
       "    }\n",
       "\n",
       "    .dataframe tbody tr th {\n",
       "        vertical-align: top;\n",
       "    }\n",
       "\n",
       "    .dataframe thead th {\n",
       "        text-align: right;\n",
       "    }\n",
       "</style>\n",
       "<table border=\"1\" class=\"dataframe\">\n",
       "  <thead>\n",
       "    <tr style=\"text-align: right;\">\n",
       "      <th>month_str</th>\n",
       "      <th>2024-01</th>\n",
       "      <th>2024-02</th>\n",
       "      <th>2024-03</th>\n",
       "      <th>2024-04</th>\n",
       "      <th>2024-05</th>\n",
       "      <th>2024-06</th>\n",
       "      <th>2024-07</th>\n",
       "      <th>2024-08</th>\n",
       "      <th>2024-09</th>\n",
       "      <th>2024-10</th>\n",
       "      <th>2024-11</th>\n",
       "      <th>2024-12</th>\n",
       "    </tr>\n",
       "  </thead>\n",
       "  <tbody>\n",
       "    <tr>\n",
       "      <th>Broker % of Total Net</th>\n",
       "      <td>9.981073e+00</td>\n",
       "      <td>60.249371</td>\n",
       "      <td>4.687246e+01</td>\n",
       "      <td>5.703427e+01</td>\n",
       "      <td>3.267201e+01</td>\n",
       "      <td>71.086862</td>\n",
       "      <td>5.846822e+01</td>\n",
       "      <td>6.532627e+01</td>\n",
       "      <td>78.504073</td>\n",
       "      <td>4.835721e+01</td>\n",
       "      <td>6.912879e+01</td>\n",
       "      <td>5.891575e+01</td>\n",
       "    </tr>\n",
       "    <tr>\n",
       "      <th>Broker Net Amount</th>\n",
       "      <td>2.112000e+05</td>\n",
       "      <td>496040.000000</td>\n",
       "      <td>6.125200e+05</td>\n",
       "      <td>1.111346e+06</td>\n",
       "      <td>5.332970e+05</td>\n",
       "      <td>546700.000000</td>\n",
       "      <td>8.444680e+05</td>\n",
       "      <td>5.676200e+05</td>\n",
       "      <td>601030.000000</td>\n",
       "      <td>6.422200e+05</td>\n",
       "      <td>7.848240e+05</td>\n",
       "      <td>1.296500e+06</td>\n",
       "    </tr>\n",
       "    <tr>\n",
       "      <th>Broker Total Amount</th>\n",
       "      <td>2.640000e+05</td>\n",
       "      <td>620050.000000</td>\n",
       "      <td>7.656500e+05</td>\n",
       "      <td>1.389183e+06</td>\n",
       "      <td>6.666210e+05</td>\n",
       "      <td>683375.000000</td>\n",
       "      <td>1.055585e+06</td>\n",
       "      <td>7.095250e+05</td>\n",
       "      <td>751288.000000</td>\n",
       "      <td>8.027750e+05</td>\n",
       "      <td>9.810300e+05</td>\n",
       "      <td>1.620625e+06</td>\n",
       "    </tr>\n",
       "    <tr>\n",
       "      <th>Direct % of Total Net</th>\n",
       "      <td>5.283891e+01</td>\n",
       "      <td>39.750629</td>\n",
       "      <td>5.312754e+01</td>\n",
       "      <td>4.296573e+01</td>\n",
       "      <td>6.150789e+01</td>\n",
       "      <td>9.642838</td>\n",
       "      <td>3.100780e+01</td>\n",
       "      <td>1.614456e+01</td>\n",
       "      <td>6.866946</td>\n",
       "      <td>3.673399e+01</td>\n",
       "      <td>5.873568e+00</td>\n",
       "      <td>2.595656e+01</td>\n",
       "    </tr>\n",
       "    <tr>\n",
       "      <th>Direct Net Amount</th>\n",
       "      <td>1.118074e+06</td>\n",
       "      <td>327271.500000</td>\n",
       "      <td>6.942602e+05</td>\n",
       "      <td>8.372124e+05</td>\n",
       "      <td>1.003978e+06</td>\n",
       "      <td>74159.127600</td>\n",
       "      <td>4.478517e+05</td>\n",
       "      <td>1.402801e+05</td>\n",
       "      <td>52573.585500</td>\n",
       "      <td>4.878549e+05</td>\n",
       "      <td>6.668303e+04</td>\n",
       "      <td>5.712000e+05</td>\n",
       "    </tr>\n",
       "    <tr>\n",
       "      <th>Direct Total Amount</th>\n",
       "      <td>1.342010e+06</td>\n",
       "      <td>379217.300000</td>\n",
       "      <td>8.143016e+05</td>\n",
       "      <td>9.948226e+05</td>\n",
       "      <td>1.227679e+06</td>\n",
       "      <td>79934.127600</td>\n",
       "      <td>5.366412e+05</td>\n",
       "      <td>1.402801e+05</td>\n",
       "      <td>55498.585500</td>\n",
       "      <td>5.894998e+05</td>\n",
       "      <td>6.668303e+04</td>\n",
       "      <td>7.140000e+05</td>\n",
       "    </tr>\n",
       "    <tr>\n",
       "      <th>Partner % of Total Net</th>\n",
       "      <td>3.718002e+01</td>\n",
       "      <td>0.000000</td>\n",
       "      <td>0.000000e+00</td>\n",
       "      <td>0.000000e+00</td>\n",
       "      <td>5.820098e+00</td>\n",
       "      <td>19.270300</td>\n",
       "      <td>1.052399e+01</td>\n",
       "      <td>1.852917e+01</td>\n",
       "      <td>14.628981</td>\n",
       "      <td>1.490880e+01</td>\n",
       "      <td>2.499764e+01</td>\n",
       "      <td>1.512769e+01</td>\n",
       "    </tr>\n",
       "    <tr>\n",
       "      <th>Partner Net Amount</th>\n",
       "      <td>7.867310e+05</td>\n",
       "      <td>0.000000</td>\n",
       "      <td>0.000000e+00</td>\n",
       "      <td>0.000000e+00</td>\n",
       "      <td>9.500000e+04</td>\n",
       "      <td>148200.000000</td>\n",
       "      <td>1.520000e+05</td>\n",
       "      <td>1.610000e+05</td>\n",
       "      <td>112000.000000</td>\n",
       "      <td>1.980000e+05</td>\n",
       "      <td>2.838000e+05</td>\n",
       "      <td>3.329000e+05</td>\n",
       "    </tr>\n",
       "    <tr>\n",
       "      <th>Partner Total Amount</th>\n",
       "      <td>9.834140e+05</td>\n",
       "      <td>0.000000</td>\n",
       "      <td>0.000000e+00</td>\n",
       "      <td>0.000000e+00</td>\n",
       "      <td>1.187500e+05</td>\n",
       "      <td>185250.000000</td>\n",
       "      <td>1.900000e+05</td>\n",
       "      <td>2.012500e+05</td>\n",
       "      <td>140000.000000</td>\n",
       "      <td>2.475000e+05</td>\n",
       "      <td>3.547500e+05</td>\n",
       "      <td>4.161250e+05</td>\n",
       "    </tr>\n",
       "    <tr>\n",
       "      <th>Total Invoice Amount</th>\n",
       "      <td>2.589424e+06</td>\n",
       "      <td>999267.300000</td>\n",
       "      <td>1.579952e+06</td>\n",
       "      <td>2.384006e+06</td>\n",
       "      <td>2.013050e+06</td>\n",
       "      <td>948559.127600</td>\n",
       "      <td>1.782226e+06</td>\n",
       "      <td>1.051055e+06</td>\n",
       "      <td>946786.585500</td>\n",
       "      <td>1.639775e+06</td>\n",
       "      <td>1.402463e+06</td>\n",
       "      <td>2.750750e+06</td>\n",
       "    </tr>\n",
       "    <tr>\n",
       "      <th>Total Net Amount</th>\n",
       "      <td>2.116005e+06</td>\n",
       "      <td>823311.500000</td>\n",
       "      <td>1.306780e+06</td>\n",
       "      <td>1.948558e+06</td>\n",
       "      <td>1.632275e+06</td>\n",
       "      <td>769059.127600</td>\n",
       "      <td>1.444320e+06</td>\n",
       "      <td>8.689001e+05</td>\n",
       "      <td>765603.585500</td>\n",
       "      <td>1.328075e+06</td>\n",
       "      <td>1.135307e+06</td>\n",
       "      <td>2.200600e+06</td>\n",
       "    </tr>\n",
       "  </tbody>\n",
       "</table>\n",
       "</div>"
      ],
      "text/plain": [
       "month_str                    2024-01        2024-02       2024-03  \\\n",
       "Broker % of Total Net   9.981073e+00      60.249371  4.687246e+01   \n",
       "Broker Net Amount       2.112000e+05  496040.000000  6.125200e+05   \n",
       "Broker Total Amount     2.640000e+05  620050.000000  7.656500e+05   \n",
       "Direct % of Total Net   5.283891e+01      39.750629  5.312754e+01   \n",
       "Direct Net Amount       1.118074e+06  327271.500000  6.942602e+05   \n",
       "Direct Total Amount     1.342010e+06  379217.300000  8.143016e+05   \n",
       "Partner % of Total Net  3.718002e+01       0.000000  0.000000e+00   \n",
       "Partner Net Amount      7.867310e+05       0.000000  0.000000e+00   \n",
       "Partner Total Amount    9.834140e+05       0.000000  0.000000e+00   \n",
       "Total Invoice Amount    2.589424e+06  999267.300000  1.579952e+06   \n",
       "Total Net Amount        2.116005e+06  823311.500000  1.306780e+06   \n",
       "\n",
       "month_str                    2024-04       2024-05        2024-06  \\\n",
       "Broker % of Total Net   5.703427e+01  3.267201e+01      71.086862   \n",
       "Broker Net Amount       1.111346e+06  5.332970e+05  546700.000000   \n",
       "Broker Total Amount     1.389183e+06  6.666210e+05  683375.000000   \n",
       "Direct % of Total Net   4.296573e+01  6.150789e+01       9.642838   \n",
       "Direct Net Amount       8.372124e+05  1.003978e+06   74159.127600   \n",
       "Direct Total Amount     9.948226e+05  1.227679e+06   79934.127600   \n",
       "Partner % of Total Net  0.000000e+00  5.820098e+00      19.270300   \n",
       "Partner Net Amount      0.000000e+00  9.500000e+04  148200.000000   \n",
       "Partner Total Amount    0.000000e+00  1.187500e+05  185250.000000   \n",
       "Total Invoice Amount    2.384006e+06  2.013050e+06  948559.127600   \n",
       "Total Net Amount        1.948558e+06  1.632275e+06  769059.127600   \n",
       "\n",
       "month_str                    2024-07       2024-08        2024-09  \\\n",
       "Broker % of Total Net   5.846822e+01  6.532627e+01      78.504073   \n",
       "Broker Net Amount       8.444680e+05  5.676200e+05  601030.000000   \n",
       "Broker Total Amount     1.055585e+06  7.095250e+05  751288.000000   \n",
       "Direct % of Total Net   3.100780e+01  1.614456e+01       6.866946   \n",
       "Direct Net Amount       4.478517e+05  1.402801e+05   52573.585500   \n",
       "Direct Total Amount     5.366412e+05  1.402801e+05   55498.585500   \n",
       "Partner % of Total Net  1.052399e+01  1.852917e+01      14.628981   \n",
       "Partner Net Amount      1.520000e+05  1.610000e+05  112000.000000   \n",
       "Partner Total Amount    1.900000e+05  2.012500e+05  140000.000000   \n",
       "Total Invoice Amount    1.782226e+06  1.051055e+06  946786.585500   \n",
       "Total Net Amount        1.444320e+06  8.689001e+05  765603.585500   \n",
       "\n",
       "month_str                    2024-10       2024-11       2024-12  \n",
       "Broker % of Total Net   4.835721e+01  6.912879e+01  5.891575e+01  \n",
       "Broker Net Amount       6.422200e+05  7.848240e+05  1.296500e+06  \n",
       "Broker Total Amount     8.027750e+05  9.810300e+05  1.620625e+06  \n",
       "Direct % of Total Net   3.673399e+01  5.873568e+00  2.595656e+01  \n",
       "Direct Net Amount       4.878549e+05  6.668303e+04  5.712000e+05  \n",
       "Direct Total Amount     5.894998e+05  6.668303e+04  7.140000e+05  \n",
       "Partner % of Total Net  1.490880e+01  2.499764e+01  1.512769e+01  \n",
       "Partner Net Amount      1.980000e+05  2.838000e+05  3.329000e+05  \n",
       "Partner Total Amount    2.475000e+05  3.547500e+05  4.161250e+05  \n",
       "Total Invoice Amount    1.639775e+06  1.402463e+06  2.750750e+06  \n",
       "Total Net Amount        1.328075e+06  1.135307e+06  2.200600e+06  "
      ]
     },
     "metadata": {},
     "output_type": "display_data"
    },
    {
     "name": "stdout",
     "output_type": "stream",
     "text": [
      "Monthly Invoice Statistics (Data from 2024-06-01)\n"
     ]
    },
    {
     "data": {
      "text/html": [
       "<div>\n",
       "<style scoped>\n",
       "    .dataframe tbody tr th:only-of-type {\n",
       "        vertical-align: middle;\n",
       "    }\n",
       "\n",
       "    .dataframe tbody tr th {\n",
       "        vertical-align: top;\n",
       "    }\n",
       "\n",
       "    .dataframe thead th {\n",
       "        text-align: right;\n",
       "    }\n",
       "</style>\n",
       "<table border=\"1\" class=\"dataframe\">\n",
       "  <thead>\n",
       "    <tr style=\"text-align: right;\">\n",
       "      <th>month_str</th>\n",
       "      <th>2024-06</th>\n",
       "      <th>2024-07</th>\n",
       "      <th>2024-08</th>\n",
       "      <th>2024-09</th>\n",
       "      <th>2024-10</th>\n",
       "      <th>2024-11</th>\n",
       "      <th>2024-12</th>\n",
       "      <th>2025-01</th>\n",
       "      <th>2025-02</th>\n",
       "      <th>2025-03</th>\n",
       "      <th>2025-04</th>\n",
       "      <th>2025-05</th>\n",
       "      <th>2025-06</th>\n",
       "      <th>2025-07</th>\n",
       "      <th>2025-08</th>\n",
       "      <th>2025-09</th>\n",
       "    </tr>\n",
       "  </thead>\n",
       "  <tbody>\n",
       "    <tr>\n",
       "      <th>Broker % of Total Net</th>\n",
       "      <td>71.086862</td>\n",
       "      <td>5.846822e+01</td>\n",
       "      <td>6.532627e+01</td>\n",
       "      <td>78.504073</td>\n",
       "      <td>4.835721e+01</td>\n",
       "      <td>6.912879e+01</td>\n",
       "      <td>5.891575e+01</td>\n",
       "      <td>6.699948e+01</td>\n",
       "      <td>7.327131e+01</td>\n",
       "      <td>6.709773e+01</td>\n",
       "      <td>4.899635e+01</td>\n",
       "      <td>7.904108e+01</td>\n",
       "      <td>6.461430e+01</td>\n",
       "      <td>6.558883e+01</td>\n",
       "      <td>85.823614</td>\n",
       "      <td>89.855925</td>\n",
       "    </tr>\n",
       "    <tr>\n",
       "      <th>Broker Net Amount</th>\n",
       "      <td>546700.000000</td>\n",
       "      <td>8.444680e+05</td>\n",
       "      <td>5.676200e+05</td>\n",
       "      <td>601030.000000</td>\n",
       "      <td>6.422200e+05</td>\n",
       "      <td>7.848240e+05</td>\n",
       "      <td>1.296500e+06</td>\n",
       "      <td>1.003010e+06</td>\n",
       "      <td>8.489800e+05</td>\n",
       "      <td>1.192175e+06</td>\n",
       "      <td>9.548800e+05</td>\n",
       "      <td>7.919600e+05</td>\n",
       "      <td>8.486500e+05</td>\n",
       "      <td>1.423330e+06</td>\n",
       "      <td>653240.000000</td>\n",
       "      <td>152800.000000</td>\n",
       "    </tr>\n",
       "    <tr>\n",
       "      <th>Broker Total Amount</th>\n",
       "      <td>683375.000000</td>\n",
       "      <td>1.055585e+06</td>\n",
       "      <td>7.095250e+05</td>\n",
       "      <td>751288.000000</td>\n",
       "      <td>8.027750e+05</td>\n",
       "      <td>9.810300e+05</td>\n",
       "      <td>1.620625e+06</td>\n",
       "      <td>1.253763e+06</td>\n",
       "      <td>1.061225e+06</td>\n",
       "      <td>1.490219e+06</td>\n",
       "      <td>1.193600e+06</td>\n",
       "      <td>9.899500e+05</td>\n",
       "      <td>1.060813e+06</td>\n",
       "      <td>1.779162e+06</td>\n",
       "      <td>816550.000000</td>\n",
       "      <td>191000.000000</td>\n",
       "    </tr>\n",
       "    <tr>\n",
       "      <th>Direct % of Total Net</th>\n",
       "      <td>9.642838</td>\n",
       "      <td>3.100780e+01</td>\n",
       "      <td>1.614456e+01</td>\n",
       "      <td>6.866946</td>\n",
       "      <td>3.673399e+01</td>\n",
       "      <td>5.873568e+00</td>\n",
       "      <td>2.595656e+01</td>\n",
       "      <td>2.338155e+01</td>\n",
       "      <td>1.740774e+01</td>\n",
       "      <td>2.434744e+01</td>\n",
       "      <td>4.279381e+01</td>\n",
       "      <td>4.990219e+00</td>\n",
       "      <td>2.564007e+01</td>\n",
       "      <td>2.777547e+01</td>\n",
       "      <td>14.176386</td>\n",
       "      <td>10.144075</td>\n",
       "    </tr>\n",
       "    <tr>\n",
       "      <th>Direct Net Amount</th>\n",
       "      <td>74159.127600</td>\n",
       "      <td>4.478517e+05</td>\n",
       "      <td>1.402801e+05</td>\n",
       "      <td>52573.585500</td>\n",
       "      <td>4.878549e+05</td>\n",
       "      <td>6.668303e+04</td>\n",
       "      <td>5.712000e+05</td>\n",
       "      <td>3.500315e+05</td>\n",
       "      <td>2.017000e+05</td>\n",
       "      <td>4.325990e+05</td>\n",
       "      <td>8.340000e+05</td>\n",
       "      <td>5.000000e+04</td>\n",
       "      <td>3.367590e+05</td>\n",
       "      <td>6.027500e+05</td>\n",
       "      <td>107902.500000</td>\n",
       "      <td>17250.000000</td>\n",
       "    </tr>\n",
       "    <tr>\n",
       "      <th>Direct Total Amount</th>\n",
       "      <td>79934.127600</td>\n",
       "      <td>5.366412e+05</td>\n",
       "      <td>1.402801e+05</td>\n",
       "      <td>55498.585500</td>\n",
       "      <td>5.894998e+05</td>\n",
       "      <td>6.668303e+04</td>\n",
       "      <td>7.140000e+05</td>\n",
       "      <td>4.304663e+05</td>\n",
       "      <td>2.521250e+05</td>\n",
       "      <td>5.389990e+05</td>\n",
       "      <td>1.042500e+06</td>\n",
       "      <td>6.250000e+04</td>\n",
       "      <td>4.209490e+05</td>\n",
       "      <td>7.534380e+05</td>\n",
       "      <td>127940.500000</td>\n",
       "      <td>21563.000000</td>\n",
       "    </tr>\n",
       "    <tr>\n",
       "      <th>Partner % of Total Net</th>\n",
       "      <td>19.270300</td>\n",
       "      <td>1.052399e+01</td>\n",
       "      <td>1.852917e+01</td>\n",
       "      <td>14.628981</td>\n",
       "      <td>1.490880e+01</td>\n",
       "      <td>2.499764e+01</td>\n",
       "      <td>1.512769e+01</td>\n",
       "      <td>9.618972e+00</td>\n",
       "      <td>9.320951e+00</td>\n",
       "      <td>8.554830e+00</td>\n",
       "      <td>8.209844e+00</td>\n",
       "      <td>1.596870e+01</td>\n",
       "      <td>9.745631e+00</td>\n",
       "      <td>6.635700e+00</td>\n",
       "      <td>0.000000</td>\n",
       "      <td>0.000000</td>\n",
       "    </tr>\n",
       "    <tr>\n",
       "      <th>Partner Net Amount</th>\n",
       "      <td>148200.000000</td>\n",
       "      <td>1.520000e+05</td>\n",
       "      <td>1.610000e+05</td>\n",
       "      <td>112000.000000</td>\n",
       "      <td>1.980000e+05</td>\n",
       "      <td>2.838000e+05</td>\n",
       "      <td>3.329000e+05</td>\n",
       "      <td>1.440000e+05</td>\n",
       "      <td>1.080000e+05</td>\n",
       "      <td>1.520000e+05</td>\n",
       "      <td>1.600000e+05</td>\n",
       "      <td>1.600000e+05</td>\n",
       "      <td>1.280000e+05</td>\n",
       "      <td>1.440000e+05</td>\n",
       "      <td>0.000000</td>\n",
       "      <td>0.000000</td>\n",
       "    </tr>\n",
       "    <tr>\n",
       "      <th>Partner Total Amount</th>\n",
       "      <td>185250.000000</td>\n",
       "      <td>1.900000e+05</td>\n",
       "      <td>2.012500e+05</td>\n",
       "      <td>140000.000000</td>\n",
       "      <td>2.475000e+05</td>\n",
       "      <td>3.547500e+05</td>\n",
       "      <td>4.161250e+05</td>\n",
       "      <td>1.800000e+05</td>\n",
       "      <td>1.350000e+05</td>\n",
       "      <td>1.900000e+05</td>\n",
       "      <td>2.000000e+05</td>\n",
       "      <td>2.000000e+05</td>\n",
       "      <td>1.600000e+05</td>\n",
       "      <td>1.800000e+05</td>\n",
       "      <td>0.000000</td>\n",
       "      <td>0.000000</td>\n",
       "    </tr>\n",
       "    <tr>\n",
       "      <th>Total Invoice Amount</th>\n",
       "      <td>948559.127600</td>\n",
       "      <td>1.782226e+06</td>\n",
       "      <td>1.051055e+06</td>\n",
       "      <td>946786.585500</td>\n",
       "      <td>1.639775e+06</td>\n",
       "      <td>1.402463e+06</td>\n",
       "      <td>2.750750e+06</td>\n",
       "      <td>1.864229e+06</td>\n",
       "      <td>1.448350e+06</td>\n",
       "      <td>2.219218e+06</td>\n",
       "      <td>2.436100e+06</td>\n",
       "      <td>1.252450e+06</td>\n",
       "      <td>1.641762e+06</td>\n",
       "      <td>2.712600e+06</td>\n",
       "      <td>944490.500000</td>\n",
       "      <td>212563.000000</td>\n",
       "    </tr>\n",
       "    <tr>\n",
       "      <th>Total Net Amount</th>\n",
       "      <td>769059.127600</td>\n",
       "      <td>1.444320e+06</td>\n",
       "      <td>8.689001e+05</td>\n",
       "      <td>765603.585500</td>\n",
       "      <td>1.328075e+06</td>\n",
       "      <td>1.135307e+06</td>\n",
       "      <td>2.200600e+06</td>\n",
       "      <td>1.497041e+06</td>\n",
       "      <td>1.158680e+06</td>\n",
       "      <td>1.776774e+06</td>\n",
       "      <td>1.948880e+06</td>\n",
       "      <td>1.001960e+06</td>\n",
       "      <td>1.313409e+06</td>\n",
       "      <td>2.170080e+06</td>\n",
       "      <td>761142.500000</td>\n",
       "      <td>170050.000000</td>\n",
       "    </tr>\n",
       "  </tbody>\n",
       "</table>\n",
       "</div>"
      ],
      "text/plain": [
       "month_str                     2024-06       2024-07       2024-08  \\\n",
       "Broker % of Total Net       71.086862  5.846822e+01  6.532627e+01   \n",
       "Broker Net Amount       546700.000000  8.444680e+05  5.676200e+05   \n",
       "Broker Total Amount     683375.000000  1.055585e+06  7.095250e+05   \n",
       "Direct % of Total Net        9.642838  3.100780e+01  1.614456e+01   \n",
       "Direct Net Amount        74159.127600  4.478517e+05  1.402801e+05   \n",
       "Direct Total Amount      79934.127600  5.366412e+05  1.402801e+05   \n",
       "Partner % of Total Net      19.270300  1.052399e+01  1.852917e+01   \n",
       "Partner Net Amount      148200.000000  1.520000e+05  1.610000e+05   \n",
       "Partner Total Amount    185250.000000  1.900000e+05  2.012500e+05   \n",
       "Total Invoice Amount    948559.127600  1.782226e+06  1.051055e+06   \n",
       "Total Net Amount        769059.127600  1.444320e+06  8.689001e+05   \n",
       "\n",
       "month_str                     2024-09       2024-10       2024-11  \\\n",
       "Broker % of Total Net       78.504073  4.835721e+01  6.912879e+01   \n",
       "Broker Net Amount       601030.000000  6.422200e+05  7.848240e+05   \n",
       "Broker Total Amount     751288.000000  8.027750e+05  9.810300e+05   \n",
       "Direct % of Total Net        6.866946  3.673399e+01  5.873568e+00   \n",
       "Direct Net Amount        52573.585500  4.878549e+05  6.668303e+04   \n",
       "Direct Total Amount      55498.585500  5.894998e+05  6.668303e+04   \n",
       "Partner % of Total Net      14.628981  1.490880e+01  2.499764e+01   \n",
       "Partner Net Amount      112000.000000  1.980000e+05  2.838000e+05   \n",
       "Partner Total Amount    140000.000000  2.475000e+05  3.547500e+05   \n",
       "Total Invoice Amount    946786.585500  1.639775e+06  1.402463e+06   \n",
       "Total Net Amount        765603.585500  1.328075e+06  1.135307e+06   \n",
       "\n",
       "month_str                    2024-12       2025-01       2025-02  \\\n",
       "Broker % of Total Net   5.891575e+01  6.699948e+01  7.327131e+01   \n",
       "Broker Net Amount       1.296500e+06  1.003010e+06  8.489800e+05   \n",
       "Broker Total Amount     1.620625e+06  1.253763e+06  1.061225e+06   \n",
       "Direct % of Total Net   2.595656e+01  2.338155e+01  1.740774e+01   \n",
       "Direct Net Amount       5.712000e+05  3.500315e+05  2.017000e+05   \n",
       "Direct Total Amount     7.140000e+05  4.304663e+05  2.521250e+05   \n",
       "Partner % of Total Net  1.512769e+01  9.618972e+00  9.320951e+00   \n",
       "Partner Net Amount      3.329000e+05  1.440000e+05  1.080000e+05   \n",
       "Partner Total Amount    4.161250e+05  1.800000e+05  1.350000e+05   \n",
       "Total Invoice Amount    2.750750e+06  1.864229e+06  1.448350e+06   \n",
       "Total Net Amount        2.200600e+06  1.497041e+06  1.158680e+06   \n",
       "\n",
       "month_str                    2025-03       2025-04       2025-05  \\\n",
       "Broker % of Total Net   6.709773e+01  4.899635e+01  7.904108e+01   \n",
       "Broker Net Amount       1.192175e+06  9.548800e+05  7.919600e+05   \n",
       "Broker Total Amount     1.490219e+06  1.193600e+06  9.899500e+05   \n",
       "Direct % of Total Net   2.434744e+01  4.279381e+01  4.990219e+00   \n",
       "Direct Net Amount       4.325990e+05  8.340000e+05  5.000000e+04   \n",
       "Direct Total Amount     5.389990e+05  1.042500e+06  6.250000e+04   \n",
       "Partner % of Total Net  8.554830e+00  8.209844e+00  1.596870e+01   \n",
       "Partner Net Amount      1.520000e+05  1.600000e+05  1.600000e+05   \n",
       "Partner Total Amount    1.900000e+05  2.000000e+05  2.000000e+05   \n",
       "Total Invoice Amount    2.219218e+06  2.436100e+06  1.252450e+06   \n",
       "Total Net Amount        1.776774e+06  1.948880e+06  1.001960e+06   \n",
       "\n",
       "month_str                    2025-06       2025-07        2025-08  \\\n",
       "Broker % of Total Net   6.461430e+01  6.558883e+01      85.823614   \n",
       "Broker Net Amount       8.486500e+05  1.423330e+06  653240.000000   \n",
       "Broker Total Amount     1.060813e+06  1.779162e+06  816550.000000   \n",
       "Direct % of Total Net   2.564007e+01  2.777547e+01      14.176386   \n",
       "Direct Net Amount       3.367590e+05  6.027500e+05  107902.500000   \n",
       "Direct Total Amount     4.209490e+05  7.534380e+05  127940.500000   \n",
       "Partner % of Total Net  9.745631e+00  6.635700e+00       0.000000   \n",
       "Partner Net Amount      1.280000e+05  1.440000e+05       0.000000   \n",
       "Partner Total Amount    1.600000e+05  1.800000e+05       0.000000   \n",
       "Total Invoice Amount    1.641762e+06  2.712600e+06  944490.500000   \n",
       "Total Net Amount        1.313409e+06  2.170080e+06  761142.500000   \n",
       "\n",
       "month_str                     2025-09  \n",
       "Broker % of Total Net       89.855925  \n",
       "Broker Net Amount       152800.000000  \n",
       "Broker Total Amount     191000.000000  \n",
       "Direct % of Total Net       10.144075  \n",
       "Direct Net Amount        17250.000000  \n",
       "Direct Total Amount      21563.000000  \n",
       "Partner % of Total Net       0.000000  \n",
       "Partner Net Amount           0.000000  \n",
       "Partner Total Amount         0.000000  \n",
       "Total Invoice Amount    212563.000000  \n",
       "Total Net Amount        170050.000000  "
      ]
     },
     "metadata": {},
     "output_type": "display_data"
    }
   ],
   "source": [
    "# Get data for all dates\n",
    "monthly_pivot = get_monthly_invoice_pivot(invoices)\n",
    "display(monthly_pivot)\n",
    "\n",
    "# Get data for a specific date range\n",
    "monthly_pivot_2024 = get_monthly_invoice_pivot(\n",
    "    invoices, \n",
    "    start_date='2024-01-01', \n",
    "    end_date='2024-12-31'\n",
    ")\n",
    "display(monthly_pivot_2024)\n",
    "\n",
    "# Get data from a specific start date\n",
    "monthly_pivot_recent = get_monthly_invoice_pivot(\n",
    "    invoices, \n",
    "    start_date='2024-06-01'\n",
    ")\n",
    "display(monthly_pivot_recent)"
   ]
  },
  {
   "cell_type": "code",
   "execution_count": 109,
   "id": "3b0c3895",
   "metadata": {},
   "outputs": [],
   "source": [
    "# version 2 of the above function \n",
    "def get_invoice_pivot(df, start_date=None, end_date=None, by_month=True):\n",
    "    \"\"\"\n",
    "    Create a pivoted dataframe with invoice statistics by broker type, grouped by either month or week.\n",
    "    \n",
    "    Parameters:\n",
    "    -----------\n",
    "    df : pandas DataFrame\n",
    "        The invoice dataframe\n",
    "    start_date : str, optional\n",
    "        Start date for filtering in 'YYYY-MM-DD' format\n",
    "    end_date : str, optional\n",
    "        End date for filtering in 'YYYY-MM-DD' format\n",
    "    by_month : bool, default True\n",
    "        If True, group by month; if False, group by week\n",
    "        \n",
    "    Returns:\n",
    "    --------\n",
    "    pandas DataFrame: Pivoted dataframe with invoice metrics as rows and time periods as columns\n",
    "    \"\"\"\n",
    "    # Create a copy to avoid modifying the original\n",
    "    plot_df = df.copy()\n",
    "    \n",
    "    # Drop rows where final_pay_date is NaT\n",
    "    plot_df = plot_df.dropna(subset=['final_pay_date'])\n",
    "    \n",
    "    # Convert dates to datetime if they're not already\n",
    "    plot_df['final_pay_date'] = pd.to_datetime(plot_df['final_pay_date'])\n",
    "    \n",
    "    # Apply date filters if provided\n",
    "    if start_date:\n",
    "        start_date = pd.to_datetime(start_date)\n",
    "        plot_df = plot_df[plot_df['final_pay_date'] >= start_date]\n",
    "        \n",
    "    if end_date:\n",
    "        end_date = pd.to_datetime(end_date)\n",
    "        plot_df = plot_df[plot_df['final_pay_date'] <= end_date]\n",
    "    \n",
    "    # Check if we have data after filtering\n",
    "    if plot_df.empty:\n",
    "        print(\"No data available after applying date filters.\")\n",
    "        return pd.DataFrame()\n",
    "    \n",
    "    # Create time period column for grouping\n",
    "    if by_month:\n",
    "        plot_df['period'] = plot_df['final_pay_date'].dt.to_period('M')\n",
    "        plot_df['period_str'] = plot_df['period'].dt.strftime('%Y-%m')\n",
    "        period_type = \"month\"\n",
    "    else:\n",
    "        plot_df['period'] = plot_df['final_pay_date'].dt.to_period('W')\n",
    "        plot_df['period_str'] = plot_df['period'].dt.strftime('%Y-W%U')\n",
    "        period_type = \"week\"\n",
    "    \n",
    "    # Create a broker type column with standardized categories\n",
    "    plot_df['broker_type'] = plot_df['broker'].apply(\n",
    "        lambda x: 'Broker' if 'broker' in str(x).lower() else \n",
    "                 ('Partner' if 'partner' in str(x).lower() else 'Direct')\n",
    "    )\n",
    "    \n",
    "    # Create an empty DataFrame for our result\n",
    "    result_data = {}\n",
    "    \n",
    "    # Get all unique periods for columns\n",
    "    all_periods = sorted(plot_df['period_str'].unique())\n",
    "    \n",
    "    # Calculate total amounts\n",
    "    total_invoiced = plot_df.groupby('period_str')['invoice_amount_total'].sum()\n",
    "    net_invoiced = plot_df.groupby('period_str')['invoice_amount_net'].sum()\n",
    "    \n",
    "    # Add totals to result\n",
    "    result_data['Total invoiced amount'] = total_invoiced\n",
    "    result_data['Net invoiced amount'] = net_invoiced\n",
    "    \n",
    "    # Calculate percentages for each broker type\n",
    "    for broker_type in ['Broker', 'Direct', 'Partner']:\n",
    "        # Filter for this broker type\n",
    "        broker_data = plot_df[plot_df['broker_type'] == broker_type]\n",
    "        \n",
    "        if not broker_data.empty:\n",
    "            # Group by period and calculate net amount\n",
    "            broker_by_period = broker_data.groupby('period_str')['invoice_amount_net'].sum()\n",
    "            \n",
    "            # Calculate percentage for each period\n",
    "            percentages = {}\n",
    "            for period in all_periods:\n",
    "                if period in broker_by_period.index and period in net_invoiced.index:\n",
    "                    if net_invoiced[period] > 0:\n",
    "                        percentages[period] = (broker_by_period.get(period, 0) / net_invoiced[period]) * 100\n",
    "                    else:\n",
    "                        percentages[period] = 0\n",
    "                else:\n",
    "                    percentages[period] = 0\n",
    "            \n",
    "            # Convert to Series and add to result\n",
    "            result_data[f'{broker_type} % of Net invoiced amount'] = pd.Series(percentages)\n",
    "    \n",
    "    # Create DataFrame from the data\n",
    "    result = pd.DataFrame(result_data)\n",
    "    \n",
    "    # Format percentage columns\n",
    "    for col in result.columns:\n",
    "        if '% of Net' in col:\n",
    "            result[col] = result[col].map(lambda x: f\"{x:.2f}%\")\n",
    "    \n",
    "    # Transpose so metrics are rows and time periods are columns\n",
    "    result = result.T\n",
    "    \n",
    "    # Create a date range text for summary\n",
    "    if start_date and end_date:\n",
    "        date_range_text = f\"Data from {start_date.strftime('%Y-%m-%d')} to {end_date.strftime('%Y-%m-%d')}\"\n",
    "    elif start_date:\n",
    "        date_range_text = f\"Data from {start_date.strftime('%Y-%m-%d')}\"\n",
    "    elif end_date:\n",
    "        date_range_text = f\"Data until {end_date.strftime('%Y-%m-%d')}\"\n",
    "    else:\n",
    "        date_range_text = \"All available data\"\n",
    "    \n",
    "    print(f\"Invoice Statistics by {period_type.capitalize()} ({date_range_text})\")\n",
    "    \n",
    "    return result"
   ]
  },
  {
   "cell_type": "code",
   "execution_count": 110,
   "id": "30dc4832",
   "metadata": {},
   "outputs": [
    {
     "name": "stdout",
     "output_type": "stream",
     "text": [
      "Invoice Statistics by Month (All available data)\n"
     ]
    },
    {
     "data": {
      "text/html": [
       "<div>\n",
       "<style scoped>\n",
       "    .dataframe tbody tr th:only-of-type {\n",
       "        vertical-align: middle;\n",
       "    }\n",
       "\n",
       "    .dataframe tbody tr th {\n",
       "        vertical-align: top;\n",
       "    }\n",
       "\n",
       "    .dataframe thead th {\n",
       "        text-align: right;\n",
       "    }\n",
       "</style>\n",
       "<table border=\"1\" class=\"dataframe\">\n",
       "  <thead>\n",
       "    <tr style=\"text-align: right;\">\n",
       "      <th></th>\n",
       "      <th>2019-07</th>\n",
       "      <th>2019-08</th>\n",
       "      <th>2019-09</th>\n",
       "      <th>2019-10</th>\n",
       "      <th>2019-11</th>\n",
       "      <th>2019-12</th>\n",
       "      <th>2020-01</th>\n",
       "      <th>2020-02</th>\n",
       "      <th>2020-03</th>\n",
       "      <th>2020-04</th>\n",
       "      <th>...</th>\n",
       "      <th>2024-12</th>\n",
       "      <th>2025-01</th>\n",
       "      <th>2025-02</th>\n",
       "      <th>2025-03</th>\n",
       "      <th>2025-04</th>\n",
       "      <th>2025-05</th>\n",
       "      <th>2025-06</th>\n",
       "      <th>2025-07</th>\n",
       "      <th>2025-08</th>\n",
       "      <th>2025-09</th>\n",
       "    </tr>\n",
       "  </thead>\n",
       "  <tbody>\n",
       "    <tr>\n",
       "      <th>Total invoiced amount</th>\n",
       "      <td>147319.0</td>\n",
       "      <td>267703.0</td>\n",
       "      <td>285694.0</td>\n",
       "      <td>458007.0</td>\n",
       "      <td>530119.0</td>\n",
       "      <td>463482.0</td>\n",
       "      <td>419438.0</td>\n",
       "      <td>350006.0</td>\n",
       "      <td>434328.0</td>\n",
       "      <td>410609.0</td>\n",
       "      <td>...</td>\n",
       "      <td>2750750.0</td>\n",
       "      <td>1864229.3358</td>\n",
       "      <td>1448350.0</td>\n",
       "      <td>2219218.0207</td>\n",
       "      <td>2436100.0</td>\n",
       "      <td>1252450.0</td>\n",
       "      <td>1641762.0</td>\n",
       "      <td>2712600.0</td>\n",
       "      <td>944490.5</td>\n",
       "      <td>212563.0</td>\n",
       "    </tr>\n",
       "    <tr>\n",
       "      <th>Net invoiced amount</th>\n",
       "      <td>117855.0</td>\n",
       "      <td>214162.5</td>\n",
       "      <td>228555.0</td>\n",
       "      <td>366405.0</td>\n",
       "      <td>424095.0</td>\n",
       "      <td>370785.0</td>\n",
       "      <td>335550.0</td>\n",
       "      <td>280005.0</td>\n",
       "      <td>347462.5</td>\n",
       "      <td>328487.5</td>\n",
       "      <td>...</td>\n",
       "      <td>2200600.0</td>\n",
       "      <td>1497041.4758</td>\n",
       "      <td>1158680.0</td>\n",
       "      <td>1776774.0207</td>\n",
       "      <td>1948880.0</td>\n",
       "      <td>1001960.0</td>\n",
       "      <td>1313409.01</td>\n",
       "      <td>2170080.0</td>\n",
       "      <td>761142.5</td>\n",
       "      <td>170050.0</td>\n",
       "    </tr>\n",
       "    <tr>\n",
       "      <th>Broker % of Net invoiced amount</th>\n",
       "      <td>0.00%</td>\n",
       "      <td>54.05%</td>\n",
       "      <td>14.94%</td>\n",
       "      <td>38.32%</td>\n",
       "      <td>43.85%</td>\n",
       "      <td>51.18%</td>\n",
       "      <td>56.55%</td>\n",
       "      <td>100.00%</td>\n",
       "      <td>100.00%</td>\n",
       "      <td>100.00%</td>\n",
       "      <td>...</td>\n",
       "      <td>58.92%</td>\n",
       "      <td>67.00%</td>\n",
       "      <td>73.27%</td>\n",
       "      <td>67.10%</td>\n",
       "      <td>49.00%</td>\n",
       "      <td>79.04%</td>\n",
       "      <td>64.61%</td>\n",
       "      <td>65.59%</td>\n",
       "      <td>85.82%</td>\n",
       "      <td>89.86%</td>\n",
       "    </tr>\n",
       "    <tr>\n",
       "      <th>Direct % of Net invoiced amount</th>\n",
       "      <td>0.00%</td>\n",
       "      <td>0.00%</td>\n",
       "      <td>0.00%</td>\n",
       "      <td>0.00%</td>\n",
       "      <td>0.00%</td>\n",
       "      <td>0.00%</td>\n",
       "      <td>0.00%</td>\n",
       "      <td>0.00%</td>\n",
       "      <td>0.00%</td>\n",
       "      <td>0.00%</td>\n",
       "      <td>...</td>\n",
       "      <td>25.96%</td>\n",
       "      <td>23.38%</td>\n",
       "      <td>17.41%</td>\n",
       "      <td>24.35%</td>\n",
       "      <td>42.79%</td>\n",
       "      <td>4.99%</td>\n",
       "      <td>25.64%</td>\n",
       "      <td>27.78%</td>\n",
       "      <td>14.18%</td>\n",
       "      <td>10.14%</td>\n",
       "    </tr>\n",
       "    <tr>\n",
       "      <th>Partner % of Net invoiced amount</th>\n",
       "      <td>100.00%</td>\n",
       "      <td>45.95%</td>\n",
       "      <td>85.06%</td>\n",
       "      <td>61.68%</td>\n",
       "      <td>56.15%</td>\n",
       "      <td>48.82%</td>\n",
       "      <td>43.45%</td>\n",
       "      <td>0.00%</td>\n",
       "      <td>0.00%</td>\n",
       "      <td>0.00%</td>\n",
       "      <td>...</td>\n",
       "      <td>15.13%</td>\n",
       "      <td>9.62%</td>\n",
       "      <td>9.32%</td>\n",
       "      <td>8.55%</td>\n",
       "      <td>8.21%</td>\n",
       "      <td>15.97%</td>\n",
       "      <td>9.75%</td>\n",
       "      <td>6.64%</td>\n",
       "      <td>0.00%</td>\n",
       "      <td>0.00%</td>\n",
       "    </tr>\n",
       "  </tbody>\n",
       "</table>\n",
       "<p>5 rows × 75 columns</p>\n",
       "</div>"
      ],
      "text/plain": [
       "                                   2019-07   2019-08   2019-09   2019-10  \\\n",
       "Total invoiced amount             147319.0  267703.0  285694.0  458007.0   \n",
       "Net invoiced amount               117855.0  214162.5  228555.0  366405.0   \n",
       "Broker % of Net invoiced amount      0.00%    54.05%    14.94%    38.32%   \n",
       "Direct % of Net invoiced amount      0.00%     0.00%     0.00%     0.00%   \n",
       "Partner % of Net invoiced amount   100.00%    45.95%    85.06%    61.68%   \n",
       "\n",
       "                                   2019-11   2019-12   2020-01   2020-02  \\\n",
       "Total invoiced amount             530119.0  463482.0  419438.0  350006.0   \n",
       "Net invoiced amount               424095.0  370785.0  335550.0  280005.0   \n",
       "Broker % of Net invoiced amount     43.85%    51.18%    56.55%   100.00%   \n",
       "Direct % of Net invoiced amount      0.00%     0.00%     0.00%     0.00%   \n",
       "Partner % of Net invoiced amount    56.15%    48.82%    43.45%     0.00%   \n",
       "\n",
       "                                   2020-03   2020-04  ...    2024-12  \\\n",
       "Total invoiced amount             434328.0  410609.0  ...  2750750.0   \n",
       "Net invoiced amount               347462.5  328487.5  ...  2200600.0   \n",
       "Broker % of Net invoiced amount    100.00%   100.00%  ...     58.92%   \n",
       "Direct % of Net invoiced amount      0.00%     0.00%  ...     25.96%   \n",
       "Partner % of Net invoiced amount     0.00%     0.00%  ...     15.13%   \n",
       "\n",
       "                                       2025-01    2025-02       2025-03  \\\n",
       "Total invoiced amount             1864229.3358  1448350.0  2219218.0207   \n",
       "Net invoiced amount               1497041.4758  1158680.0  1776774.0207   \n",
       "Broker % of Net invoiced amount         67.00%     73.27%        67.10%   \n",
       "Direct % of Net invoiced amount         23.38%     17.41%        24.35%   \n",
       "Partner % of Net invoiced amount         9.62%      9.32%         8.55%   \n",
       "\n",
       "                                    2025-04    2025-05     2025-06    2025-07  \\\n",
       "Total invoiced amount             2436100.0  1252450.0   1641762.0  2712600.0   \n",
       "Net invoiced amount               1948880.0  1001960.0  1313409.01  2170080.0   \n",
       "Broker % of Net invoiced amount      49.00%     79.04%      64.61%     65.59%   \n",
       "Direct % of Net invoiced amount      42.79%      4.99%      25.64%     27.78%   \n",
       "Partner % of Net invoiced amount      8.21%     15.97%       9.75%      6.64%   \n",
       "\n",
       "                                   2025-08   2025-09  \n",
       "Total invoiced amount             944490.5  212563.0  \n",
       "Net invoiced amount               761142.5  170050.0  \n",
       "Broker % of Net invoiced amount     85.82%    89.86%  \n",
       "Direct % of Net invoiced amount     14.18%    10.14%  \n",
       "Partner % of Net invoiced amount     0.00%     0.00%  \n",
       "\n",
       "[5 rows x 75 columns]"
      ]
     },
     "metadata": {},
     "output_type": "display_data"
    },
    {
     "name": "stdout",
     "output_type": "stream",
     "text": [
      "Invoice Statistics by Week (All available data)\n"
     ]
    },
    {
     "data": {
      "text/html": [
       "<div>\n",
       "<style scoped>\n",
       "    .dataframe tbody tr th:only-of-type {\n",
       "        vertical-align: middle;\n",
       "    }\n",
       "\n",
       "    .dataframe tbody tr th {\n",
       "        vertical-align: top;\n",
       "    }\n",
       "\n",
       "    .dataframe thead th {\n",
       "        text-align: right;\n",
       "    }\n",
       "</style>\n",
       "<table border=\"1\" class=\"dataframe\">\n",
       "  <thead>\n",
       "    <tr style=\"text-align: right;\">\n",
       "      <th></th>\n",
       "      <th>2019-W31</th>\n",
       "      <th>2019-W34</th>\n",
       "      <th>2019-W35</th>\n",
       "      <th>2019-W38</th>\n",
       "      <th>2019-W40</th>\n",
       "      <th>2019-W44</th>\n",
       "      <th>2019-W48</th>\n",
       "      <th>2019-W51</th>\n",
       "      <th>2019-W52</th>\n",
       "      <th>2020-W03</th>\n",
       "      <th>...</th>\n",
       "      <th>2025-W27</th>\n",
       "      <th>2025-W28</th>\n",
       "      <th>2025-W29</th>\n",
       "      <th>2025-W30</th>\n",
       "      <th>2025-W31</th>\n",
       "      <th>2025-W32</th>\n",
       "      <th>2025-W33</th>\n",
       "      <th>2025-W34</th>\n",
       "      <th>2025-W35</th>\n",
       "      <th>2025-W36</th>\n",
       "    </tr>\n",
       "  </thead>\n",
       "  <tbody>\n",
       "    <tr>\n",
       "      <th>Total invoiced amount</th>\n",
       "      <td>147319.0</td>\n",
       "      <td>144684.0</td>\n",
       "      <td>123019.0</td>\n",
       "      <td>42694.0</td>\n",
       "      <td>243000.0</td>\n",
       "      <td>458007.0</td>\n",
       "      <td>530119.0</td>\n",
       "      <td>237188.0</td>\n",
       "      <td>226294.0</td>\n",
       "      <td>237188.0</td>\n",
       "      <td>...</td>\n",
       "      <td>1350480.0</td>\n",
       "      <td>471531.0</td>\n",
       "      <td>429300.0</td>\n",
       "      <td>172800.0</td>\n",
       "      <td>579438.0</td>\n",
       "      <td>268690.5</td>\n",
       "      <td>421250.0</td>\n",
       "      <td>210800.0</td>\n",
       "      <td>43750.0</td>\n",
       "      <td>212563.0</td>\n",
       "    </tr>\n",
       "    <tr>\n",
       "      <th>Net invoiced amount</th>\n",
       "      <td>117855.0</td>\n",
       "      <td>115747.5</td>\n",
       "      <td>98415.0</td>\n",
       "      <td>34155.0</td>\n",
       "      <td>194400.0</td>\n",
       "      <td>366405.0</td>\n",
       "      <td>424095.0</td>\n",
       "      <td>189750.0</td>\n",
       "      <td>181035.0</td>\n",
       "      <td>189750.0</td>\n",
       "      <td>...</td>\n",
       "      <td>1080384.01</td>\n",
       "      <td>377225.0</td>\n",
       "      <td>343440.0</td>\n",
       "      <td>138240.0</td>\n",
       "      <td>463550.0</td>\n",
       "      <td>220502.5</td>\n",
       "      <td>337000.0</td>\n",
       "      <td>168640.0</td>\n",
       "      <td>35000.0</td>\n",
       "      <td>170050.0</td>\n",
       "    </tr>\n",
       "    <tr>\n",
       "      <th>Broker % of Net invoiced amount</th>\n",
       "      <td>0.00%</td>\n",
       "      <td>100.00%</td>\n",
       "      <td>0.00%</td>\n",
       "      <td>100.00%</td>\n",
       "      <td>0.00%</td>\n",
       "      <td>38.32%</td>\n",
       "      <td>43.85%</td>\n",
       "      <td>100.00%</td>\n",
       "      <td>0.00%</td>\n",
       "      <td>100.00%</td>\n",
       "      <td>...</td>\n",
       "      <td>41.58%</td>\n",
       "      <td>100.00%</td>\n",
       "      <td>100.00%</td>\n",
       "      <td>100.00%</td>\n",
       "      <td>50.74%</td>\n",
       "      <td>66.94%</td>\n",
       "      <td>100.00%</td>\n",
       "      <td>100.00%</td>\n",
       "      <td>0.00%</td>\n",
       "      <td>89.86%</td>\n",
       "    </tr>\n",
       "    <tr>\n",
       "      <th>Direct % of Net invoiced amount</th>\n",
       "      <td>0.00%</td>\n",
       "      <td>0.00%</td>\n",
       "      <td>0.00%</td>\n",
       "      <td>0.00%</td>\n",
       "      <td>0.00%</td>\n",
       "      <td>0.00%</td>\n",
       "      <td>0.00%</td>\n",
       "      <td>0.00%</td>\n",
       "      <td>0.00%</td>\n",
       "      <td>0.00%</td>\n",
       "      <td>...</td>\n",
       "      <td>45.09%</td>\n",
       "      <td>0.00%</td>\n",
       "      <td>0.00%</td>\n",
       "      <td>0.00%</td>\n",
       "      <td>49.26%</td>\n",
       "      <td>33.06%</td>\n",
       "      <td>0.00%</td>\n",
       "      <td>0.00%</td>\n",
       "      <td>100.00%</td>\n",
       "      <td>10.14%</td>\n",
       "    </tr>\n",
       "    <tr>\n",
       "      <th>Partner % of Net invoiced amount</th>\n",
       "      <td>100.00%</td>\n",
       "      <td>0.00%</td>\n",
       "      <td>100.00%</td>\n",
       "      <td>0.00%</td>\n",
       "      <td>100.00%</td>\n",
       "      <td>61.68%</td>\n",
       "      <td>56.15%</td>\n",
       "      <td>0.00%</td>\n",
       "      <td>100.00%</td>\n",
       "      <td>0.00%</td>\n",
       "      <td>...</td>\n",
       "      <td>13.33%</td>\n",
       "      <td>0.00%</td>\n",
       "      <td>0.00%</td>\n",
       "      <td>0.00%</td>\n",
       "      <td>0.00%</td>\n",
       "      <td>0.00%</td>\n",
       "      <td>0.00%</td>\n",
       "      <td>0.00%</td>\n",
       "      <td>0.00%</td>\n",
       "      <td>0.00%</td>\n",
       "    </tr>\n",
       "  </tbody>\n",
       "</table>\n",
       "<p>5 rows × 217 columns</p>\n",
       "</div>"
      ],
      "text/plain": [
       "                                  2019-W31  2019-W34  2019-W35 2019-W38  \\\n",
       "Total invoiced amount             147319.0  144684.0  123019.0  42694.0   \n",
       "Net invoiced amount               117855.0  115747.5   98415.0  34155.0   \n",
       "Broker % of Net invoiced amount      0.00%   100.00%     0.00%  100.00%   \n",
       "Direct % of Net invoiced amount      0.00%     0.00%     0.00%    0.00%   \n",
       "Partner % of Net invoiced amount   100.00%     0.00%   100.00%    0.00%   \n",
       "\n",
       "                                  2019-W40  2019-W44  2019-W48  2019-W51  \\\n",
       "Total invoiced amount             243000.0  458007.0  530119.0  237188.0   \n",
       "Net invoiced amount               194400.0  366405.0  424095.0  189750.0   \n",
       "Broker % of Net invoiced amount      0.00%    38.32%    43.85%   100.00%   \n",
       "Direct % of Net invoiced amount      0.00%     0.00%     0.00%     0.00%   \n",
       "Partner % of Net invoiced amount   100.00%    61.68%    56.15%     0.00%   \n",
       "\n",
       "                                  2019-W52  2020-W03  ...    2025-W27  \\\n",
       "Total invoiced amount             226294.0  237188.0  ...   1350480.0   \n",
       "Net invoiced amount               181035.0  189750.0  ...  1080384.01   \n",
       "Broker % of Net invoiced amount      0.00%   100.00%  ...      41.58%   \n",
       "Direct % of Net invoiced amount      0.00%     0.00%  ...      45.09%   \n",
       "Partner % of Net invoiced amount   100.00%     0.00%  ...      13.33%   \n",
       "\n",
       "                                  2025-W28  2025-W29  2025-W30  2025-W31  \\\n",
       "Total invoiced amount             471531.0  429300.0  172800.0  579438.0   \n",
       "Net invoiced amount               377225.0  343440.0  138240.0  463550.0   \n",
       "Broker % of Net invoiced amount    100.00%   100.00%   100.00%    50.74%   \n",
       "Direct % of Net invoiced amount      0.00%     0.00%     0.00%    49.26%   \n",
       "Partner % of Net invoiced amount     0.00%     0.00%     0.00%     0.00%   \n",
       "\n",
       "                                  2025-W32  2025-W33  2025-W34 2025-W35  \\\n",
       "Total invoiced amount             268690.5  421250.0  210800.0  43750.0   \n",
       "Net invoiced amount               220502.5  337000.0  168640.0  35000.0   \n",
       "Broker % of Net invoiced amount     66.94%   100.00%   100.00%    0.00%   \n",
       "Direct % of Net invoiced amount     33.06%     0.00%     0.00%  100.00%   \n",
       "Partner % of Net invoiced amount     0.00%     0.00%     0.00%    0.00%   \n",
       "\n",
       "                                  2025-W36  \n",
       "Total invoiced amount             212563.0  \n",
       "Net invoiced amount               170050.0  \n",
       "Broker % of Net invoiced amount     89.86%  \n",
       "Direct % of Net invoiced amount     10.14%  \n",
       "Partner % of Net invoiced amount     0.00%  \n",
       "\n",
       "[5 rows x 217 columns]"
      ]
     },
     "metadata": {},
     "output_type": "display_data"
    },
    {
     "name": "stdout",
     "output_type": "stream",
     "text": [
      "Invoice Statistics by Month (Data from 2024-01-01 to 2024-12-31)\n"
     ]
    },
    {
     "data": {
      "text/html": [
       "<div>\n",
       "<style scoped>\n",
       "    .dataframe tbody tr th:only-of-type {\n",
       "        vertical-align: middle;\n",
       "    }\n",
       "\n",
       "    .dataframe tbody tr th {\n",
       "        vertical-align: top;\n",
       "    }\n",
       "\n",
       "    .dataframe thead th {\n",
       "        text-align: right;\n",
       "    }\n",
       "</style>\n",
       "<table border=\"1\" class=\"dataframe\">\n",
       "  <thead>\n",
       "    <tr style=\"text-align: right;\">\n",
       "      <th></th>\n",
       "      <th>2024-01</th>\n",
       "      <th>2024-02</th>\n",
       "      <th>2024-03</th>\n",
       "      <th>2024-04</th>\n",
       "      <th>2024-05</th>\n",
       "      <th>2024-06</th>\n",
       "      <th>2024-07</th>\n",
       "      <th>2024-08</th>\n",
       "      <th>2024-09</th>\n",
       "      <th>2024-10</th>\n",
       "      <th>2024-11</th>\n",
       "      <th>2024-12</th>\n",
       "    </tr>\n",
       "  </thead>\n",
       "  <tbody>\n",
       "    <tr>\n",
       "      <th>Total invoiced amount</th>\n",
       "      <td>2589423.941</td>\n",
       "      <td>999267.3</td>\n",
       "      <td>1579951.616</td>\n",
       "      <td>2384005.648</td>\n",
       "      <td>2013050.35</td>\n",
       "      <td>948559.1276</td>\n",
       "      <td>1782226.1776</td>\n",
       "      <td>1051055.1188</td>\n",
       "      <td>946786.5855</td>\n",
       "      <td>1639774.8491</td>\n",
       "      <td>1402463.0321</td>\n",
       "      <td>2750750.0</td>\n",
       "    </tr>\n",
       "    <tr>\n",
       "      <th>Net invoiced amount</th>\n",
       "      <td>2116004.941</td>\n",
       "      <td>823311.5</td>\n",
       "      <td>1306780.216</td>\n",
       "      <td>1948558.448</td>\n",
       "      <td>1632274.84</td>\n",
       "      <td>769059.1276</td>\n",
       "      <td>1444319.7286</td>\n",
       "      <td>868900.1188</td>\n",
       "      <td>765603.5855</td>\n",
       "      <td>1328074.9141</td>\n",
       "      <td>1135307.0321</td>\n",
       "      <td>2200600.0</td>\n",
       "    </tr>\n",
       "    <tr>\n",
       "      <th>Broker % of Net invoiced amount</th>\n",
       "      <td>9.98%</td>\n",
       "      <td>60.25%</td>\n",
       "      <td>46.87%</td>\n",
       "      <td>57.03%</td>\n",
       "      <td>32.67%</td>\n",
       "      <td>71.09%</td>\n",
       "      <td>58.47%</td>\n",
       "      <td>65.33%</td>\n",
       "      <td>78.50%</td>\n",
       "      <td>48.36%</td>\n",
       "      <td>69.13%</td>\n",
       "      <td>58.92%</td>\n",
       "    </tr>\n",
       "    <tr>\n",
       "      <th>Direct % of Net invoiced amount</th>\n",
       "      <td>52.84%</td>\n",
       "      <td>39.75%</td>\n",
       "      <td>53.13%</td>\n",
       "      <td>42.97%</td>\n",
       "      <td>61.51%</td>\n",
       "      <td>9.64%</td>\n",
       "      <td>31.01%</td>\n",
       "      <td>16.14%</td>\n",
       "      <td>6.87%</td>\n",
       "      <td>36.73%</td>\n",
       "      <td>5.87%</td>\n",
       "      <td>25.96%</td>\n",
       "    </tr>\n",
       "    <tr>\n",
       "      <th>Partner % of Net invoiced amount</th>\n",
       "      <td>37.18%</td>\n",
       "      <td>0.00%</td>\n",
       "      <td>0.00%</td>\n",
       "      <td>0.00%</td>\n",
       "      <td>5.82%</td>\n",
       "      <td>19.27%</td>\n",
       "      <td>10.52%</td>\n",
       "      <td>18.53%</td>\n",
       "      <td>14.63%</td>\n",
       "      <td>14.91%</td>\n",
       "      <td>25.00%</td>\n",
       "      <td>15.13%</td>\n",
       "    </tr>\n",
       "  </tbody>\n",
       "</table>\n",
       "</div>"
      ],
      "text/plain": [
       "                                      2024-01   2024-02      2024-03  \\\n",
       "Total invoiced amount             2589423.941  999267.3  1579951.616   \n",
       "Net invoiced amount               2116004.941  823311.5  1306780.216   \n",
       "Broker % of Net invoiced amount         9.98%    60.25%       46.87%   \n",
       "Direct % of Net invoiced amount        52.84%    39.75%       53.13%   \n",
       "Partner % of Net invoiced amount       37.18%     0.00%        0.00%   \n",
       "\n",
       "                                      2024-04     2024-05      2024-06  \\\n",
       "Total invoiced amount             2384005.648  2013050.35  948559.1276   \n",
       "Net invoiced amount               1948558.448  1632274.84  769059.1276   \n",
       "Broker % of Net invoiced amount        57.03%      32.67%       71.09%   \n",
       "Direct % of Net invoiced amount        42.97%      61.51%        9.64%   \n",
       "Partner % of Net invoiced amount        0.00%       5.82%       19.27%   \n",
       "\n",
       "                                       2024-07       2024-08      2024-09  \\\n",
       "Total invoiced amount             1782226.1776  1051055.1188  946786.5855   \n",
       "Net invoiced amount               1444319.7286   868900.1188  765603.5855   \n",
       "Broker % of Net invoiced amount         58.47%        65.33%       78.50%   \n",
       "Direct % of Net invoiced amount         31.01%        16.14%        6.87%   \n",
       "Partner % of Net invoiced amount        10.52%        18.53%       14.63%   \n",
       "\n",
       "                                       2024-10       2024-11    2024-12  \n",
       "Total invoiced amount             1639774.8491  1402463.0321  2750750.0  \n",
       "Net invoiced amount               1328074.9141  1135307.0321  2200600.0  \n",
       "Broker % of Net invoiced amount         48.36%        69.13%     58.92%  \n",
       "Direct % of Net invoiced amount         36.73%         5.87%     25.96%  \n",
       "Partner % of Net invoiced amount        14.91%        25.00%     15.13%  "
      ]
     },
     "metadata": {},
     "output_type": "display_data"
    },
    {
     "name": "stdout",
     "output_type": "stream",
     "text": [
      "Invoice Statistics by Week (Data from 2024-01-01 to 2024-03-31)\n"
     ]
    },
    {
     "data": {
      "text/html": [
       "<div>\n",
       "<style scoped>\n",
       "    .dataframe tbody tr th:only-of-type {\n",
       "        vertical-align: middle;\n",
       "    }\n",
       "\n",
       "    .dataframe tbody tr th {\n",
       "        vertical-align: top;\n",
       "    }\n",
       "\n",
       "    .dataframe thead th {\n",
       "        text-align: right;\n",
       "    }\n",
       "</style>\n",
       "<table border=\"1\" class=\"dataframe\">\n",
       "  <thead>\n",
       "    <tr style=\"text-align: right;\">\n",
       "      <th></th>\n",
       "      <th>2024-W01</th>\n",
       "      <th>2024-W02</th>\n",
       "      <th>2024-W03</th>\n",
       "      <th>2024-W05</th>\n",
       "      <th>2024-W06</th>\n",
       "      <th>2024-W07</th>\n",
       "      <th>2024-W09</th>\n",
       "      <th>2024-W10</th>\n",
       "      <th>2024-W11</th>\n",
       "    </tr>\n",
       "  </thead>\n",
       "  <tbody>\n",
       "    <tr>\n",
       "      <th>Total invoiced amount</th>\n",
       "      <td>1346121.4</td>\n",
       "      <td>314176.112</td>\n",
       "      <td>235907.429</td>\n",
       "      <td>843219.0</td>\n",
       "      <td>739540.3</td>\n",
       "      <td>109727.0</td>\n",
       "      <td>185260.88</td>\n",
       "      <td>932453.0</td>\n",
       "      <td>462237.736</td>\n",
       "    </tr>\n",
       "    <tr>\n",
       "      <th>Net invoiced amount</th>\n",
       "      <td>1109296.4</td>\n",
       "      <td>261376.112</td>\n",
       "      <td>190757.429</td>\n",
       "      <td>674575.0</td>\n",
       "      <td>615530.3</td>\n",
       "      <td>87781.2</td>\n",
       "      <td>157510.88</td>\n",
       "      <td>745961.6</td>\n",
       "      <td>403307.736</td>\n",
       "    </tr>\n",
       "    <tr>\n",
       "      <th>Broker % of Net invoiced amount</th>\n",
       "      <td>0.00%</td>\n",
       "      <td>80.80%</td>\n",
       "      <td>0.00%</td>\n",
       "      <td>0.00%</td>\n",
       "      <td>80.59%</td>\n",
       "      <td>0.00%</td>\n",
       "      <td>60.95%</td>\n",
       "      <td>37.64%</td>\n",
       "      <td>58.45%</td>\n",
       "    </tr>\n",
       "    <tr>\n",
       "      <th>Direct % of Net invoiced amount</th>\n",
       "      <td>62.62%</td>\n",
       "      <td>19.20%</td>\n",
       "      <td>100.00%</td>\n",
       "      <td>44.84%</td>\n",
       "      <td>19.41%</td>\n",
       "      <td>100.00%</td>\n",
       "      <td>39.05%</td>\n",
       "      <td>62.36%</td>\n",
       "      <td>41.55%</td>\n",
       "    </tr>\n",
       "    <tr>\n",
       "      <th>Partner % of Net invoiced amount</th>\n",
       "      <td>37.38%</td>\n",
       "      <td>0.00%</td>\n",
       "      <td>0.00%</td>\n",
       "      <td>55.16%</td>\n",
       "      <td>0.00%</td>\n",
       "      <td>0.00%</td>\n",
       "      <td>0.00%</td>\n",
       "      <td>0.00%</td>\n",
       "      <td>0.00%</td>\n",
       "    </tr>\n",
       "  </tbody>\n",
       "</table>\n",
       "</div>"
      ],
      "text/plain": [
       "                                   2024-W01    2024-W02    2024-W03  2024-W05  \\\n",
       "Total invoiced amount             1346121.4  314176.112  235907.429  843219.0   \n",
       "Net invoiced amount               1109296.4  261376.112  190757.429  674575.0   \n",
       "Broker % of Net invoiced amount       0.00%      80.80%       0.00%     0.00%   \n",
       "Direct % of Net invoiced amount      62.62%      19.20%     100.00%    44.84%   \n",
       "Partner % of Net invoiced amount     37.38%       0.00%       0.00%    55.16%   \n",
       "\n",
       "                                  2024-W06  2024-W07   2024-W09  2024-W10  \\\n",
       "Total invoiced amount             739540.3  109727.0  185260.88  932453.0   \n",
       "Net invoiced amount               615530.3   87781.2  157510.88  745961.6   \n",
       "Broker % of Net invoiced amount     80.59%     0.00%     60.95%    37.64%   \n",
       "Direct % of Net invoiced amount     19.41%   100.00%     39.05%    62.36%   \n",
       "Partner % of Net invoiced amount     0.00%     0.00%      0.00%     0.00%   \n",
       "\n",
       "                                    2024-W11  \n",
       "Total invoiced amount             462237.736  \n",
       "Net invoiced amount               403307.736  \n",
       "Broker % of Net invoiced amount       58.45%  \n",
       "Direct % of Net invoiced amount       41.55%  \n",
       "Partner % of Net invoiced amount       0.00%  "
      ]
     },
     "metadata": {},
     "output_type": "display_data"
    }
   ],
   "source": [
    "# Get monthly data for all dates\n",
    "monthly_pivot = get_invoice_pivot(invoices, by_month=True)\n",
    "display(monthly_pivot)\n",
    "\n",
    "# Get weekly data for all dates\n",
    "weekly_pivot = get_invoice_pivot(invoices, by_month=False)\n",
    "display(weekly_pivot)\n",
    "\n",
    "# Get monthly data for a specific date range\n",
    "monthly_pivot_2024 = get_invoice_pivot(\n",
    "    invoices, \n",
    "    start_date='2024-01-01', \n",
    "    end_date='2024-12-31',\n",
    "    by_month=True\n",
    ")\n",
    "display(monthly_pivot_2024)\n",
    "\n",
    "# Get weekly data for a specific date range\n",
    "weekly_pivot_q1 = get_invoice_pivot(\n",
    "    invoices, \n",
    "    start_date='2024-01-01', \n",
    "    end_date='2024-03-31',\n",
    "    by_month=False\n",
    ")\n",
    "display(weekly_pivot_q1)"
   ]
  },
  {
   "cell_type": "code",
   "execution_count": 111,
   "id": "e9f976d4",
   "metadata": {},
   "outputs": [
    {
     "data": {
      "text/html": [
       "<div>\n",
       "<style scoped>\n",
       "    .dataframe tbody tr th:only-of-type {\n",
       "        vertical-align: middle;\n",
       "    }\n",
       "\n",
       "    .dataframe tbody tr th {\n",
       "        vertical-align: top;\n",
       "    }\n",
       "\n",
       "    .dataframe thead th {\n",
       "        text-align: right;\n",
       "    }\n",
       "</style>\n",
       "<table border=\"1\" class=\"dataframe\">\n",
       "  <thead>\n",
       "    <tr style=\"text-align: right;\">\n",
       "      <th></th>\n",
       "      <th>invoice_amount_net</th>\n",
       "      <th>invoice_amount_total</th>\n",
       "      <th>customer_number</th>\n",
       "      <th>due_date</th>\n",
       "      <th>invoice_date</th>\n",
       "      <th>final_pay_date</th>\n",
       "      <th>accounting_year_date</th>\n",
       "      <th>broker</th>\n",
       "      <th>client_anon</th>\n",
       "    </tr>\n",
       "  </thead>\n",
       "  <tbody>\n",
       "    <tr>\n",
       "      <th>0</th>\n",
       "      <td>52000.0</td>\n",
       "      <td>65000.0</td>\n",
       "      <td>559296</td>\n",
       "      <td>2024-10-15</td>\n",
       "      <td>2024-09-30</td>\n",
       "      <td>NaT</td>\n",
       "      <td>2024-05-28</td>\n",
       "      <td>Direct</td>\n",
       "      <td>Mccoy, Singh and Smith</td>\n",
       "    </tr>\n",
       "    <tr>\n",
       "      <th>1</th>\n",
       "      <td>136500.0</td>\n",
       "      <td>170625.0</td>\n",
       "      <td>559298</td>\n",
       "      <td>2024-12-04</td>\n",
       "      <td>2024-11-04</td>\n",
       "      <td>2024-12-04</td>\n",
       "      <td>2024-07-04</td>\n",
       "      <td>Direct</td>\n",
       "      <td>Atkinson, Bishop and Cohen</td>\n",
       "    </tr>\n",
       "    <tr>\n",
       "      <th>2</th>\n",
       "      <td>192000.0</td>\n",
       "      <td>240000.0</td>\n",
       "      <td>559298</td>\n",
       "      <td>2025-01-01</td>\n",
       "      <td>2024-11-30</td>\n",
       "      <td>2024-12-30</td>\n",
       "      <td>2024-07-28</td>\n",
       "      <td>Direct</td>\n",
       "      <td>Atkinson, Bishop and Cohen</td>\n",
       "    </tr>\n",
       "    <tr>\n",
       "      <th>3</th>\n",
       "      <td>133500.0</td>\n",
       "      <td>166875.0</td>\n",
       "      <td>559298</td>\n",
       "      <td>2025-02-02</td>\n",
       "      <td>2024-12-31</td>\n",
       "      <td>2025-01-31</td>\n",
       "      <td>2024-08-28</td>\n",
       "      <td>Direct</td>\n",
       "      <td>Atkinson, Bishop and Cohen</td>\n",
       "    </tr>\n",
       "    <tr>\n",
       "      <th>4</th>\n",
       "      <td>212800.0</td>\n",
       "      <td>266000.0</td>\n",
       "      <td>559298</td>\n",
       "      <td>2025-03-05</td>\n",
       "      <td>2025-01-31</td>\n",
       "      <td>2025-03-05</td>\n",
       "      <td>2024-09-28</td>\n",
       "      <td>Direct</td>\n",
       "      <td>Atkinson, Bishop and Cohen</td>\n",
       "    </tr>\n",
       "  </tbody>\n",
       "</table>\n",
       "</div>"
      ],
      "text/plain": [
       "   invoice_amount_net  invoice_amount_total  customer_number   due_date  \\\n",
       "0             52000.0               65000.0           559296 2024-10-15   \n",
       "1            136500.0              170625.0           559298 2024-12-04   \n",
       "2            192000.0              240000.0           559298 2025-01-01   \n",
       "3            133500.0              166875.0           559298 2025-02-02   \n",
       "4            212800.0              266000.0           559298 2025-03-05   \n",
       "\n",
       "  invoice_date final_pay_date accounting_year_date  broker  \\\n",
       "0   2024-09-30            NaT           2024-05-28  Direct   \n",
       "1   2024-11-04     2024-12-04           2024-07-04  Direct   \n",
       "2   2024-11-30     2024-12-30           2024-07-28  Direct   \n",
       "3   2024-12-31     2025-01-31           2024-08-28  Direct   \n",
       "4   2025-01-31     2025-03-05           2024-09-28  Direct   \n",
       "\n",
       "                  client_anon  \n",
       "0      Mccoy, Singh and Smith  \n",
       "1  Atkinson, Bishop and Cohen  \n",
       "2  Atkinson, Bishop and Cohen  \n",
       "3  Atkinson, Bishop and Cohen  \n",
       "4  Atkinson, Bishop and Cohen  "
      ]
     },
     "execution_count": 111,
     "metadata": {},
     "output_type": "execute_result"
    }
   ],
   "source": [
    "invoices.head()"
   ]
  },
  {
   "cell_type": "code",
   "execution_count": 112,
   "id": "27471bb8",
   "metadata": {},
   "outputs": [
    {
     "data": {
      "text/html": [
       "<div>\n",
       "<style scoped>\n",
       "    .dataframe tbody tr th:only-of-type {\n",
       "        vertical-align: middle;\n",
       "    }\n",
       "\n",
       "    .dataframe tbody tr th {\n",
       "        vertical-align: top;\n",
       "    }\n",
       "\n",
       "    .dataframe thead th {\n",
       "        text-align: right;\n",
       "    }\n",
       "</style>\n",
       "<table border=\"1\" class=\"dataframe\">\n",
       "  <thead>\n",
       "    <tr style=\"text-align: right;\">\n",
       "      <th></th>\n",
       "      <th>invoice_payment</th>\n",
       "      <th>categorization</th>\n",
       "      <th>invoice_date</th>\n",
       "      <th>due_date</th>\n",
       "      <th>final_pay_date</th>\n",
       "    </tr>\n",
       "  </thead>\n",
       "  <tbody>\n",
       "    <tr>\n",
       "      <th>0</th>\n",
       "      <td>296.50</td>\n",
       "      <td>mobile_costs</td>\n",
       "      <td>2019-11-04</td>\n",
       "      <td>2019-11-28</td>\n",
       "      <td>2019-11-26</td>\n",
       "    </tr>\n",
       "    <tr>\n",
       "      <th>1</th>\n",
       "      <td>253.20</td>\n",
       "      <td>mobile_costs</td>\n",
       "      <td>2019-10-03</td>\n",
       "      <td>2019-10-27</td>\n",
       "      <td>2019-10-25</td>\n",
       "    </tr>\n",
       "    <tr>\n",
       "      <th>2</th>\n",
       "      <td>516.55</td>\n",
       "      <td>mobile_costs</td>\n",
       "      <td>2020-04-01</td>\n",
       "      <td>2020-04-01</td>\n",
       "      <td>2020-04-27</td>\n",
       "    </tr>\n",
       "    <tr>\n",
       "      <th>3</th>\n",
       "      <td>452.71</td>\n",
       "      <td>mobile_costs</td>\n",
       "      <td>2020-03-03</td>\n",
       "      <td>2020-03-27</td>\n",
       "      <td>2020-04-08</td>\n",
       "    </tr>\n",
       "    <tr>\n",
       "      <th>4</th>\n",
       "      <td>353.05</td>\n",
       "      <td>mobile_costs</td>\n",
       "      <td>2020-02-03</td>\n",
       "      <td>2020-02-27</td>\n",
       "      <td>2020-02-05</td>\n",
       "    </tr>\n",
       "    <tr>\n",
       "      <th>...</th>\n",
       "      <td>...</td>\n",
       "      <td>...</td>\n",
       "      <td>...</td>\n",
       "      <td>...</td>\n",
       "      <td>...</td>\n",
       "    </tr>\n",
       "    <tr>\n",
       "      <th>743</th>\n",
       "      <td>253361.00</td>\n",
       "      <td>Other</td>\n",
       "      <td>2023-12-07</td>\n",
       "      <td>2023-12-29</td>\n",
       "      <td>2023-12-29</td>\n",
       "    </tr>\n",
       "    <tr>\n",
       "      <th>744</th>\n",
       "      <td>253361.00</td>\n",
       "      <td>Other</td>\n",
       "      <td>2024-09-11</td>\n",
       "      <td>2024-09-30</td>\n",
       "      <td>2024-09-30</td>\n",
       "    </tr>\n",
       "    <tr>\n",
       "      <th>745</th>\n",
       "      <td>257029.00</td>\n",
       "      <td>Other</td>\n",
       "      <td>2025-06-09</td>\n",
       "      <td>2025-06-30</td>\n",
       "      <td>2025-06-30</td>\n",
       "    </tr>\n",
       "    <tr>\n",
       "      <th>746</th>\n",
       "      <td>257029.00</td>\n",
       "      <td>Other</td>\n",
       "      <td>2025-03-06</td>\n",
       "      <td>2025-03-31</td>\n",
       "      <td>2025-03-31</td>\n",
       "    </tr>\n",
       "    <tr>\n",
       "      <th>747</th>\n",
       "      <td>257029.00</td>\n",
       "      <td>Other</td>\n",
       "      <td>2024-12-05</td>\n",
       "      <td>2024-12-30</td>\n",
       "      <td>2024-12-30</td>\n",
       "    </tr>\n",
       "  </tbody>\n",
       "</table>\n",
       "<p>748 rows × 5 columns</p>\n",
       "</div>"
      ],
      "text/plain": [
       "     invoice_payment categorization invoice_date    due_date final_pay_date\n",
       "0             296.50   mobile_costs   2019-11-04  2019-11-28     2019-11-26\n",
       "1             253.20   mobile_costs   2019-10-03  2019-10-27     2019-10-25\n",
       "2             516.55   mobile_costs   2020-04-01  2020-04-01     2020-04-27\n",
       "3             452.71   mobile_costs   2020-03-03  2020-03-27     2020-04-08\n",
       "4             353.05   mobile_costs   2020-02-03  2020-02-27     2020-02-05\n",
       "..               ...            ...          ...         ...            ...\n",
       "743        253361.00          Other   2023-12-07  2023-12-29     2023-12-29\n",
       "744        253361.00          Other   2024-09-11  2024-09-30     2024-09-30\n",
       "745        257029.00          Other   2025-06-09  2025-06-30     2025-06-30\n",
       "746        257029.00          Other   2025-03-06  2025-03-31     2025-03-31\n",
       "747        257029.00          Other   2024-12-05  2024-12-30     2024-12-30\n",
       "\n",
       "[748 rows x 5 columns]"
      ]
     },
     "execution_count": 112,
     "metadata": {},
     "output_type": "execute_result"
    }
   ],
   "source": [
    "df8"
   ]
  },
  {
   "cell_type": "code",
   "execution_count": 113,
   "id": "5aba14a3",
   "metadata": {},
   "outputs": [
    {
     "name": "stdout",
     "output_type": "stream",
     "text": [
      "<class 'pandas.core.frame.DataFrame'>\n",
      "RangeIndex: 748 entries, 0 to 747\n",
      "Data columns (total 5 columns):\n",
      " #   Column           Non-Null Count  Dtype         \n",
      "---  ------           --------------  -----         \n",
      " 0   invoice_payment  748 non-null    float64       \n",
      " 1   categorization   748 non-null    object        \n",
      " 2   invoice_date     748 non-null    object        \n",
      " 3   due_date         748 non-null    object        \n",
      " 4   final_pay_date   729 non-null    datetime64[ns]\n",
      "dtypes: datetime64[ns](1), float64(1), object(3)\n",
      "memory usage: 29.3+ KB\n"
     ]
    }
   ],
   "source": [
    "df8.info()"
   ]
  },
  {
   "cell_type": "code",
   "execution_count": 114,
   "id": "7566d526",
   "metadata": {},
   "outputs": [
    {
     "name": "stdout",
     "output_type": "stream",
     "text": [
      "<class 'pandas.core.frame.DataFrame'>\n",
      "RangeIndex: 9808 entries, 0 to 9807\n",
      "Data columns (total 7 columns):\n",
      " #   Column          Non-Null Count  Dtype  \n",
      "---  ------          --------------  -----  \n",
      " 0   dt              9808 non-null   object \n",
      " 1   time_entry_id   9808 non-null   object \n",
      " 2   project_id      9808 non-null   object \n",
      " 3   user_id         9808 non-null   object \n",
      " 4   billable        9808 non-null   bool   \n",
      " 5   hours           9808 non-null   float64\n",
      " 6   billable_hours  5534 non-null   float64\n",
      "dtypes: bool(1), float64(2), object(4)\n",
      "memory usage: 469.5+ KB\n"
     ]
    }
   ],
   "source": [
    "df10.info()"
   ]
  },
  {
   "cell_type": "code",
   "execution_count": 115,
   "id": "4e2fa08c",
   "metadata": {},
   "outputs": [
    {
     "data": {
      "text/html": [
       "<div>\n",
       "<style scoped>\n",
       "    .dataframe tbody tr th:only-of-type {\n",
       "        vertical-align: middle;\n",
       "    }\n",
       "\n",
       "    .dataframe tbody tr th {\n",
       "        vertical-align: top;\n",
       "    }\n",
       "\n",
       "    .dataframe thead th {\n",
       "        text-align: right;\n",
       "    }\n",
       "</style>\n",
       "<table border=\"1\" class=\"dataframe\">\n",
       "  <thead>\n",
       "    <tr style=\"text-align: right;\">\n",
       "      <th></th>\n",
       "      <th>dt</th>\n",
       "      <th>time_entry_id</th>\n",
       "      <th>project_id</th>\n",
       "      <th>user_id</th>\n",
       "      <th>billable</th>\n",
       "      <th>hours</th>\n",
       "      <th>billable_hours</th>\n",
       "    </tr>\n",
       "  </thead>\n",
       "  <tbody>\n",
       "    <tr>\n",
       "      <th>0</th>\n",
       "      <td>2025-11-28</td>\n",
       "      <td>67c592453f4d6b42ba2ee7bb</td>\n",
       "      <td>60106d6e9ab6ce7c1dacbc9c</td>\n",
       "      <td>64e5f63d97f5910c716406b8</td>\n",
       "      <td>False</td>\n",
       "      <td>8.0</td>\n",
       "      <td>NaN</td>\n",
       "    </tr>\n",
       "    <tr>\n",
       "      <th>1</th>\n",
       "      <td>2025-11-27</td>\n",
       "      <td>67c592453f4d6b42ba2ee7ba</td>\n",
       "      <td>60106d6e9ab6ce7c1dacbc9c</td>\n",
       "      <td>64e5f63d97f5910c716406b8</td>\n",
       "      <td>False</td>\n",
       "      <td>8.0</td>\n",
       "      <td>NaN</td>\n",
       "    </tr>\n",
       "    <tr>\n",
       "      <th>2</th>\n",
       "      <td>2025-11-26</td>\n",
       "      <td>67c592453f4d6b42ba2ee7b9</td>\n",
       "      <td>60106d6e9ab6ce7c1dacbc9c</td>\n",
       "      <td>64e5f63d97f5910c716406b8</td>\n",
       "      <td>False</td>\n",
       "      <td>8.0</td>\n",
       "      <td>NaN</td>\n",
       "    </tr>\n",
       "    <tr>\n",
       "      <th>3</th>\n",
       "      <td>2025-11-25</td>\n",
       "      <td>67c592453f4d6b42ba2ee7b8</td>\n",
       "      <td>60106d6e9ab6ce7c1dacbc9c</td>\n",
       "      <td>64e5f63d97f5910c716406b8</td>\n",
       "      <td>False</td>\n",
       "      <td>8.0</td>\n",
       "      <td>NaN</td>\n",
       "    </tr>\n",
       "    <tr>\n",
       "      <th>4</th>\n",
       "      <td>2025-11-24</td>\n",
       "      <td>67c592453f4d6b42ba2ee7b7</td>\n",
       "      <td>60106d6e9ab6ce7c1dacbc9c</td>\n",
       "      <td>64e5f63d97f5910c716406b8</td>\n",
       "      <td>False</td>\n",
       "      <td>8.0</td>\n",
       "      <td>NaN</td>\n",
       "    </tr>\n",
       "  </tbody>\n",
       "</table>\n",
       "</div>"
      ],
      "text/plain": [
       "           dt             time_entry_id                project_id  \\\n",
       "0  2025-11-28  67c592453f4d6b42ba2ee7bb  60106d6e9ab6ce7c1dacbc9c   \n",
       "1  2025-11-27  67c592453f4d6b42ba2ee7ba  60106d6e9ab6ce7c1dacbc9c   \n",
       "2  2025-11-26  67c592453f4d6b42ba2ee7b9  60106d6e9ab6ce7c1dacbc9c   \n",
       "3  2025-11-25  67c592453f4d6b42ba2ee7b8  60106d6e9ab6ce7c1dacbc9c   \n",
       "4  2025-11-24  67c592453f4d6b42ba2ee7b7  60106d6e9ab6ce7c1dacbc9c   \n",
       "\n",
       "                    user_id  billable  hours  billable_hours  \n",
       "0  64e5f63d97f5910c716406b8     False    8.0             NaN  \n",
       "1  64e5f63d97f5910c716406b8     False    8.0             NaN  \n",
       "2  64e5f63d97f5910c716406b8     False    8.0             NaN  \n",
       "3  64e5f63d97f5910c716406b8     False    8.0             NaN  \n",
       "4  64e5f63d97f5910c716406b8     False    8.0             NaN  "
      ]
     },
     "execution_count": 115,
     "metadata": {},
     "output_type": "execute_result"
    }
   ],
   "source": [
    "df10.head()"
   ]
  },
  {
   "cell_type": "code",
   "execution_count": 116,
   "id": "63236a4a",
   "metadata": {},
   "outputs": [
    {
     "data": {
      "text/plain": [
       "count    5534.000000\n",
       "mean        6.772374\n",
       "std         2.146303\n",
       "min         0.000000\n",
       "25%         6.000000\n",
       "50%         8.000000\n",
       "75%         8.000000\n",
       "max        12.000000\n",
       "Name: billable_hours, dtype: float64"
      ]
     },
     "execution_count": 116,
     "metadata": {},
     "output_type": "execute_result"
    }
   ],
   "source": [
    "df10['billable_hours'].describe()"
   ]
  },
  {
   "cell_type": "code",
   "execution_count": 117,
   "id": "44e6ddce",
   "metadata": {},
   "outputs": [
    {
     "data": {
      "text/html": [
       "<div>\n",
       "<style scoped>\n",
       "    .dataframe tbody tr th:only-of-type {\n",
       "        vertical-align: middle;\n",
       "    }\n",
       "\n",
       "    .dataframe tbody tr th {\n",
       "        vertical-align: top;\n",
       "    }\n",
       "\n",
       "    .dataframe thead th {\n",
       "        text-align: right;\n",
       "    }\n",
       "</style>\n",
       "<table border=\"1\" class=\"dataframe\">\n",
       "  <thead>\n",
       "    <tr style=\"text-align: right;\">\n",
       "      <th></th>\n",
       "      <th>dt</th>\n",
       "      <th>time_entry_id</th>\n",
       "      <th>project_id</th>\n",
       "      <th>user_id</th>\n",
       "      <th>billable</th>\n",
       "      <th>hours</th>\n",
       "      <th>billable_hours</th>\n",
       "    </tr>\n",
       "  </thead>\n",
       "  <tbody>\n",
       "    <tr>\n",
       "      <th>8939</th>\n",
       "      <td>2021-07-01</td>\n",
       "      <td>6103fe6698f70c2c851b561a</td>\n",
       "      <td>60de22e5dbd2a938db63bdea</td>\n",
       "      <td>5f68ec6a633ecf60f5e863ce</td>\n",
       "      <td>True</td>\n",
       "      <td>8.0</td>\n",
       "      <td>8.0</td>\n",
       "    </tr>\n",
       "  </tbody>\n",
       "</table>\n",
       "</div>"
      ],
      "text/plain": [
       "              dt             time_entry_id                project_id  \\\n",
       "8939  2021-07-01  6103fe6698f70c2c851b561a  60de22e5dbd2a938db63bdea   \n",
       "\n",
       "                       user_id  billable  hours  billable_hours  \n",
       "8939  5f68ec6a633ecf60f5e863ce      True    8.0             8.0  "
      ]
     },
     "execution_count": 117,
     "metadata": {},
     "output_type": "execute_result"
    }
   ],
   "source": [
    "df10.sample()"
   ]
  },
  {
   "cell_type": "code",
   "execution_count": 118,
   "id": "03d487d9",
   "metadata": {},
   "outputs": [
    {
     "data": {
      "text/html": [
       "<div>\n",
       "<style scoped>\n",
       "    .dataframe tbody tr th:only-of-type {\n",
       "        vertical-align: middle;\n",
       "    }\n",
       "\n",
       "    .dataframe tbody tr th {\n",
       "        vertical-align: top;\n",
       "    }\n",
       "\n",
       "    .dataframe thead th {\n",
       "        text-align: right;\n",
       "    }\n",
       "</style>\n",
       "<table border=\"1\" class=\"dataframe\">\n",
       "  <thead>\n",
       "    <tr style=\"text-align: right;\">\n",
       "      <th></th>\n",
       "      <th>dt</th>\n",
       "      <th>time_entry_id</th>\n",
       "      <th>project_id</th>\n",
       "      <th>user_id</th>\n",
       "      <th>billable</th>\n",
       "      <th>hours</th>\n",
       "      <th>billable_hours</th>\n",
       "    </tr>\n",
       "  </thead>\n",
       "  <tbody>\n",
       "    <tr>\n",
       "      <th>1809</th>\n",
       "      <td>2024-10-09</td>\n",
       "      <td>67208a7ada93b313ccd11885</td>\n",
       "      <td>65eecc5033c90b16ead59691</td>\n",
       "      <td>638dc19ed9c69c33cb579f6b</td>\n",
       "      <td>True</td>\n",
       "      <td>8.0</td>\n",
       "      <td>8.0</td>\n",
       "    </tr>\n",
       "    <tr>\n",
       "      <th>4100</th>\n",
       "      <td>2023-12-15</td>\n",
       "      <td>65845a4f34df133eba7c8846</td>\n",
       "      <td>5f437b557d26442bf54530ac</td>\n",
       "      <td>6569cd007deb44467624660e</td>\n",
       "      <td>False</td>\n",
       "      <td>8.0</td>\n",
       "      <td>NaN</td>\n",
       "    </tr>\n",
       "    <tr>\n",
       "      <th>9212</th>\n",
       "      <td>2021-03-30</td>\n",
       "      <td>6045f7793c29ee3f11abb4de</td>\n",
       "      <td>5f437b18d13ed94468add25e</td>\n",
       "      <td>5f437e3d9decb91192e3784a</td>\n",
       "      <td>True</td>\n",
       "      <td>8.0</td>\n",
       "      <td>8.0</td>\n",
       "    </tr>\n",
       "    <tr>\n",
       "      <th>4321</th>\n",
       "      <td>2023-11-22</td>\n",
       "      <td>6565e70ab695164e470b6283</td>\n",
       "      <td>5f437b557d26442bf54530ac</td>\n",
       "      <td>5f437ae67d26442bf5452ecd</td>\n",
       "      <td>False</td>\n",
       "      <td>4.0</td>\n",
       "      <td>NaN</td>\n",
       "    </tr>\n",
       "    <tr>\n",
       "      <th>6004</th>\n",
       "      <td>2023-03-30</td>\n",
       "      <td>6425be86d766a97a41e5d885</td>\n",
       "      <td>626a5a6334fd3c736767565b</td>\n",
       "      <td>640f2ad98c3e1105ccb78609</td>\n",
       "      <td>True</td>\n",
       "      <td>8.0</td>\n",
       "      <td>8.0</td>\n",
       "    </tr>\n",
       "    <tr>\n",
       "      <th>5653</th>\n",
       "      <td>2023-05-24</td>\n",
       "      <td>6474e6010356654fa2341f19</td>\n",
       "      <td>5f437b557d26442bf54530ac</td>\n",
       "      <td>5f7c718cf3fda011462c67c1</td>\n",
       "      <td>False</td>\n",
       "      <td>0.5</td>\n",
       "      <td>NaN</td>\n",
       "    </tr>\n",
       "    <tr>\n",
       "      <th>8427</th>\n",
       "      <td>2021-11-24</td>\n",
       "      <td>61a9c8a949a95f25e070b5c7</td>\n",
       "      <td>60de22e5dbd2a938db63bdea</td>\n",
       "      <td>5f68ec6a633ecf60f5e863ce</td>\n",
       "      <td>True</td>\n",
       "      <td>8.0</td>\n",
       "      <td>8.0</td>\n",
       "    </tr>\n",
       "    <tr>\n",
       "      <th>7855</th>\n",
       "      <td>2022-03-30</td>\n",
       "      <td>6244097ac192c61dab66430d</td>\n",
       "      <td>615df4cc939aa5668fb2890b</td>\n",
       "      <td>5f437ae67d26442bf5452ecd</td>\n",
       "      <td>True</td>\n",
       "      <td>8.0</td>\n",
       "      <td>8.0</td>\n",
       "    </tr>\n",
       "    <tr>\n",
       "      <th>457</th>\n",
       "      <td>2025-03-21</td>\n",
       "      <td>67e665701b872e13363654a7</td>\n",
       "      <td>66c73f7caf3a79534feebd76</td>\n",
       "      <td>640f2ad98c3e1105ccb78609</td>\n",
       "      <td>True</td>\n",
       "      <td>8.0</td>\n",
       "      <td>8.0</td>\n",
       "    </tr>\n",
       "    <tr>\n",
       "      <th>6940</th>\n",
       "      <td>2022-09-30</td>\n",
       "      <td>633563e682274401b54c768c</td>\n",
       "      <td>626a5a6334fd3c736767565b</td>\n",
       "      <td>61e06b0375015b508b28241b</td>\n",
       "      <td>True</td>\n",
       "      <td>5.6</td>\n",
       "      <td>5.6</td>\n",
       "    </tr>\n",
       "    <tr>\n",
       "      <th>5422</th>\n",
       "      <td>2023-06-27</td>\n",
       "      <td>649c031e40f7307dc7c9446c</td>\n",
       "      <td>5f437b557d26442bf54530ac</td>\n",
       "      <td>5f7c718cf3fda011462c67c1</td>\n",
       "      <td>False</td>\n",
       "      <td>0.5</td>\n",
       "      <td>NaN</td>\n",
       "    </tr>\n",
       "    <tr>\n",
       "      <th>3154</th>\n",
       "      <td>2024-04-17</td>\n",
       "      <td>65d5f906a530402fe46d66c4</td>\n",
       "      <td>60106d6e9ab6ce7c1dacbc9c</td>\n",
       "      <td>5f437e3d9decb91192e3784a</td>\n",
       "      <td>False</td>\n",
       "      <td>8.0</td>\n",
       "      <td>NaN</td>\n",
       "    </tr>\n",
       "    <tr>\n",
       "      <th>7458</th>\n",
       "      <td>2022-06-17</td>\n",
       "      <td>62c1e1fc8efd6e1422b32942</td>\n",
       "      <td>6245fd02b3683a40aaf47c65</td>\n",
       "      <td>5f7c718cf3fda011462c67c1</td>\n",
       "      <td>True</td>\n",
       "      <td>8.0</td>\n",
       "      <td>8.0</td>\n",
       "    </tr>\n",
       "    <tr>\n",
       "      <th>7356</th>\n",
       "      <td>2022-07-06</td>\n",
       "      <td>62e77eec171e6e1f3bf4e7ee</td>\n",
       "      <td>5f437b557d26442bf54530ac</td>\n",
       "      <td>5f437ae67d26442bf5452ecd</td>\n",
       "      <td>False</td>\n",
       "      <td>2.0</td>\n",
       "      <td>NaN</td>\n",
       "    </tr>\n",
       "    <tr>\n",
       "      <th>7062</th>\n",
       "      <td>2022-09-09</td>\n",
       "      <td>633563cf1fb26704da99f527</td>\n",
       "      <td>5f437b557d26442bf54530ac</td>\n",
       "      <td>61e06b0375015b508b28241b</td>\n",
       "      <td>False</td>\n",
       "      <td>2.4</td>\n",
       "      <td>NaN</td>\n",
       "    </tr>\n",
       "    <tr>\n",
       "      <th>654</th>\n",
       "      <td>2025-02-27</td>\n",
       "      <td>67bd9d941570653e9991313f</td>\n",
       "      <td>66fe75d1e316642842e5dc8c</td>\n",
       "      <td>66cf0a91d9fd470646f99eb9</td>\n",
       "      <td>True</td>\n",
       "      <td>8.0</td>\n",
       "      <td>8.0</td>\n",
       "    </tr>\n",
       "    <tr>\n",
       "      <th>9479</th>\n",
       "      <td>2021-01-04</td>\n",
       "      <td>6012e6a8530c3e41455abbd7</td>\n",
       "      <td>6012e665c57d2118e911c6cc</td>\n",
       "      <td>5f7c718cf3fda011462c67c1</td>\n",
       "      <td>True</td>\n",
       "      <td>8.0</td>\n",
       "      <td>8.0</td>\n",
       "    </tr>\n",
       "    <tr>\n",
       "      <th>6359</th>\n",
       "      <td>2023-01-30</td>\n",
       "      <td>63d7b29089d1a14857d75001</td>\n",
       "      <td>626a5a6334fd3c736767565b</td>\n",
       "      <td>61e06b0375015b508b28241b</td>\n",
       "      <td>True</td>\n",
       "      <td>8.0</td>\n",
       "      <td>8.0</td>\n",
       "    </tr>\n",
       "    <tr>\n",
       "      <th>3216</th>\n",
       "      <td>2024-04-09</td>\n",
       "      <td>6630a9c83c5df5418a0e4628</td>\n",
       "      <td>642c32258f07b05a812deafe</td>\n",
       "      <td>5f68ec6a633ecf60f5e863ce</td>\n",
       "      <td>True</td>\n",
       "      <td>5.0</td>\n",
       "      <td>5.0</td>\n",
       "    </tr>\n",
       "    <tr>\n",
       "      <th>2691</th>\n",
       "      <td>2024-06-18</td>\n",
       "      <td>667c03bedf8d5921b3c52866</td>\n",
       "      <td>65eecc5033c90b16ead59691</td>\n",
       "      <td>64f5e9f270d77d3906fdbcf0</td>\n",
       "      <td>True</td>\n",
       "      <td>8.0</td>\n",
       "      <td>8.0</td>\n",
       "    </tr>\n",
       "  </tbody>\n",
       "</table>\n",
       "</div>"
      ],
      "text/plain": [
       "              dt             time_entry_id                project_id  \\\n",
       "1809  2024-10-09  67208a7ada93b313ccd11885  65eecc5033c90b16ead59691   \n",
       "4100  2023-12-15  65845a4f34df133eba7c8846  5f437b557d26442bf54530ac   \n",
       "9212  2021-03-30  6045f7793c29ee3f11abb4de  5f437b18d13ed94468add25e   \n",
       "4321  2023-11-22  6565e70ab695164e470b6283  5f437b557d26442bf54530ac   \n",
       "6004  2023-03-30  6425be86d766a97a41e5d885  626a5a6334fd3c736767565b   \n",
       "5653  2023-05-24  6474e6010356654fa2341f19  5f437b557d26442bf54530ac   \n",
       "8427  2021-11-24  61a9c8a949a95f25e070b5c7  60de22e5dbd2a938db63bdea   \n",
       "7855  2022-03-30  6244097ac192c61dab66430d  615df4cc939aa5668fb2890b   \n",
       "457   2025-03-21  67e665701b872e13363654a7  66c73f7caf3a79534feebd76   \n",
       "6940  2022-09-30  633563e682274401b54c768c  626a5a6334fd3c736767565b   \n",
       "5422  2023-06-27  649c031e40f7307dc7c9446c  5f437b557d26442bf54530ac   \n",
       "3154  2024-04-17  65d5f906a530402fe46d66c4  60106d6e9ab6ce7c1dacbc9c   \n",
       "7458  2022-06-17  62c1e1fc8efd6e1422b32942  6245fd02b3683a40aaf47c65   \n",
       "7356  2022-07-06  62e77eec171e6e1f3bf4e7ee  5f437b557d26442bf54530ac   \n",
       "7062  2022-09-09  633563cf1fb26704da99f527  5f437b557d26442bf54530ac   \n",
       "654   2025-02-27  67bd9d941570653e9991313f  66fe75d1e316642842e5dc8c   \n",
       "9479  2021-01-04  6012e6a8530c3e41455abbd7  6012e665c57d2118e911c6cc   \n",
       "6359  2023-01-30  63d7b29089d1a14857d75001  626a5a6334fd3c736767565b   \n",
       "3216  2024-04-09  6630a9c83c5df5418a0e4628  642c32258f07b05a812deafe   \n",
       "2691  2024-06-18  667c03bedf8d5921b3c52866  65eecc5033c90b16ead59691   \n",
       "\n",
       "                       user_id  billable  hours  billable_hours  \n",
       "1809  638dc19ed9c69c33cb579f6b      True    8.0             8.0  \n",
       "4100  6569cd007deb44467624660e     False    8.0             NaN  \n",
       "9212  5f437e3d9decb91192e3784a      True    8.0             8.0  \n",
       "4321  5f437ae67d26442bf5452ecd     False    4.0             NaN  \n",
       "6004  640f2ad98c3e1105ccb78609      True    8.0             8.0  \n",
       "5653  5f7c718cf3fda011462c67c1     False    0.5             NaN  \n",
       "8427  5f68ec6a633ecf60f5e863ce      True    8.0             8.0  \n",
       "7855  5f437ae67d26442bf5452ecd      True    8.0             8.0  \n",
       "457   640f2ad98c3e1105ccb78609      True    8.0             8.0  \n",
       "6940  61e06b0375015b508b28241b      True    5.6             5.6  \n",
       "5422  5f7c718cf3fda011462c67c1     False    0.5             NaN  \n",
       "3154  5f437e3d9decb91192e3784a     False    8.0             NaN  \n",
       "7458  5f7c718cf3fda011462c67c1      True    8.0             8.0  \n",
       "7356  5f437ae67d26442bf5452ecd     False    2.0             NaN  \n",
       "7062  61e06b0375015b508b28241b     False    2.4             NaN  \n",
       "654   66cf0a91d9fd470646f99eb9      True    8.0             8.0  \n",
       "9479  5f7c718cf3fda011462c67c1      True    8.0             8.0  \n",
       "6359  61e06b0375015b508b28241b      True    8.0             8.0  \n",
       "3216  5f68ec6a633ecf60f5e863ce      True    5.0             5.0  \n",
       "2691  64f5e9f270d77d3906fdbcf0      True    8.0             8.0  "
      ]
     },
     "execution_count": 118,
     "metadata": {},
     "output_type": "execute_result"
    }
   ],
   "source": [
    "df10.sample(20)"
   ]
  },
  {
   "cell_type": "code",
   "execution_count": 119,
   "id": "7a7b731a",
   "metadata": {},
   "outputs": [],
   "source": [
    "# create new master dataframe with columns: date, billable_hours, non_billable_hours, total_hours, is_billable\n",
    "\n",
    "\n",
    "def build_master_df(df10):\n",
    "    records = []\n",
    "    for _, row in df10.iterrows():\n",
    "        date = pd.to_datetime(row['dt'])\n",
    "        is_billable = bool(row['billable'])\n",
    "        billable_hours = row['hours'] if is_billable else 0\n",
    "        non_billable_hours = row['hours'] if not is_billable else 0\n",
    "        total_hours = row['hours']\n",
    "        records.append({\n",
    "            'date': date,\n",
    "            'billable_hours': billable_hours,\n",
    "            'non_billable_hours': non_billable_hours,\n",
    "            'total_hours': total_hours,\n",
    "        })\n",
    "    master_df = pd.DataFrame(records)\n",
    "    return master_df\n",
    "\n",
    "# Usage:\n",
    "master_df = build_master_df(df10)"
   ]
  },
  {
   "cell_type": "code",
   "execution_count": 120,
   "id": "e41bb1e3",
   "metadata": {},
   "outputs": [],
   "source": [
    "def build_master_df(df10, df11):\n",
    "    records = []\n",
    "\n",
    "    # iterate though df10 and add hours to master df based on is_billable flag \n",
    "    for _, row in df10.iterrows():\n",
    "        date = pd.to_datetime(row['dt'])\n",
    "        is_billable = bool(row['billable'])\n",
    "        billable_hours = row['hours'] if is_billable else 0\n",
    "        non_billable_hours = row['hours'] if not is_billable else 0\n",
    "        total_hours = row['hours']\n",
    "        records.append({\n",
    "            'date': date,\n",
    "            'billable_hours': billable_hours,\n",
    "            'non_billable_hours': non_billable_hours,\n",
    "            'total_hours': total_hours,\n",
    "        })\n",
    "\n",
    "    # iterate though df11 and add hours to master df based on factor_value flag \n",
    "    for _, row in df11.iterrows():\n",
    "        date = pd.to_datetime(row['activity_date'])\n",
    "        hours = row['minutes'] / 60.0\n",
    "        is_billable = row['factor_value'] == 1.0\n",
    "        billable_hours = hours if is_billable else 0\n",
    "        non_billable_hours = hours if not is_billable else 0\n",
    "        total_hours = hours\n",
    "        records.append({\n",
    "            'date': date,\n",
    "            'billable_hours': billable_hours,\n",
    "            'non_billable_hours': non_billable_hours,\n",
    "            'total_hours': total_hours,\n",
    "        })\n",
    "\n",
    "    master_df = pd.DataFrame(records)\n",
    "    return master_df\n",
    "\n",
    "# Usage:\n",
    "master_df = build_master_df(df10, df11)"
   ]
  },
  {
   "cell_type": "code",
   "execution_count": 121,
   "id": "f6e26d1b",
   "metadata": {},
   "outputs": [
    {
     "data": {
      "text/html": [
       "<div>\n",
       "<style scoped>\n",
       "    .dataframe tbody tr th:only-of-type {\n",
       "        vertical-align: middle;\n",
       "    }\n",
       "\n",
       "    .dataframe tbody tr th {\n",
       "        vertical-align: top;\n",
       "    }\n",
       "\n",
       "    .dataframe thead th {\n",
       "        text-align: right;\n",
       "    }\n",
       "</style>\n",
       "<table border=\"1\" class=\"dataframe\">\n",
       "  <thead>\n",
       "    <tr style=\"text-align: right;\">\n",
       "      <th></th>\n",
       "      <th>date</th>\n",
       "      <th>billable_hours</th>\n",
       "      <th>non_billable_hours</th>\n",
       "      <th>total_hours</th>\n",
       "    </tr>\n",
       "  </thead>\n",
       "  <tbody>\n",
       "    <tr>\n",
       "      <th>10458</th>\n",
       "      <td>2025-04-25</td>\n",
       "      <td>8.0</td>\n",
       "      <td>0.0</td>\n",
       "      <td>8.0</td>\n",
       "    </tr>\n",
       "    <tr>\n",
       "      <th>6575</th>\n",
       "      <td>2022-12-15</td>\n",
       "      <td>0.0</td>\n",
       "      <td>8.0</td>\n",
       "      <td>8.0</td>\n",
       "    </tr>\n",
       "    <tr>\n",
       "      <th>3709</th>\n",
       "      <td>2024-02-06</td>\n",
       "      <td>0.0</td>\n",
       "      <td>6.0</td>\n",
       "      <td>6.0</td>\n",
       "    </tr>\n",
       "    <tr>\n",
       "      <th>1933</th>\n",
       "      <td>2024-09-24</td>\n",
       "      <td>0.0</td>\n",
       "      <td>8.0</td>\n",
       "      <td>8.0</td>\n",
       "    </tr>\n",
       "    <tr>\n",
       "      <th>2972</th>\n",
       "      <td>2024-05-13</td>\n",
       "      <td>0.0</td>\n",
       "      <td>8.0</td>\n",
       "      <td>8.0</td>\n",
       "    </tr>\n",
       "    <tr>\n",
       "      <th>...</th>\n",
       "      <td>...</td>\n",
       "      <td>...</td>\n",
       "      <td>...</td>\n",
       "      <td>...</td>\n",
       "    </tr>\n",
       "    <tr>\n",
       "      <th>3520</th>\n",
       "      <td>2024-02-28</td>\n",
       "      <td>0.0</td>\n",
       "      <td>4.0</td>\n",
       "      <td>4.0</td>\n",
       "    </tr>\n",
       "    <tr>\n",
       "      <th>1206</th>\n",
       "      <td>2024-12-17</td>\n",
       "      <td>2.0</td>\n",
       "      <td>0.0</td>\n",
       "      <td>2.0</td>\n",
       "    </tr>\n",
       "    <tr>\n",
       "      <th>2477</th>\n",
       "      <td>2024-07-17</td>\n",
       "      <td>8.0</td>\n",
       "      <td>0.0</td>\n",
       "      <td>8.0</td>\n",
       "    </tr>\n",
       "    <tr>\n",
       "      <th>5730</th>\n",
       "      <td>2023-05-15</td>\n",
       "      <td>0.0</td>\n",
       "      <td>8.0</td>\n",
       "      <td>8.0</td>\n",
       "    </tr>\n",
       "    <tr>\n",
       "      <th>2214</th>\n",
       "      <td>2024-08-21</td>\n",
       "      <td>0.0</td>\n",
       "      <td>8.0</td>\n",
       "      <td>8.0</td>\n",
       "    </tr>\n",
       "  </tbody>\n",
       "</table>\n",
       "<p>100 rows × 4 columns</p>\n",
       "</div>"
      ],
      "text/plain": [
       "            date  billable_hours  non_billable_hours  total_hours\n",
       "10458 2025-04-25             8.0                 0.0          8.0\n",
       "6575  2022-12-15             0.0                 8.0          8.0\n",
       "3709  2024-02-06             0.0                 6.0          6.0\n",
       "1933  2024-09-24             0.0                 8.0          8.0\n",
       "2972  2024-05-13             0.0                 8.0          8.0\n",
       "...          ...             ...                 ...          ...\n",
       "3520  2024-02-28             0.0                 4.0          4.0\n",
       "1206  2024-12-17             2.0                 0.0          2.0\n",
       "2477  2024-07-17             8.0                 0.0          8.0\n",
       "5730  2023-05-15             0.0                 8.0          8.0\n",
       "2214  2024-08-21             0.0                 8.0          8.0\n",
       "\n",
       "[100 rows x 4 columns]"
      ]
     },
     "execution_count": 121,
     "metadata": {},
     "output_type": "execute_result"
    }
   ],
   "source": [
    "master_df.sample(100)"
   ]
  },
  {
   "cell_type": "code",
   "execution_count": 122,
   "id": "3f043a5c",
   "metadata": {},
   "outputs": [
    {
     "data": {
      "text/html": [
       "<div>\n",
       "<style scoped>\n",
       "    .dataframe tbody tr th:only-of-type {\n",
       "        vertical-align: middle;\n",
       "    }\n",
       "\n",
       "    .dataframe tbody tr th {\n",
       "        vertical-align: top;\n",
       "    }\n",
       "\n",
       "    .dataframe thead th {\n",
       "        text-align: right;\n",
       "    }\n",
       "</style>\n",
       "<table border=\"1\" class=\"dataframe\">\n",
       "  <thead>\n",
       "    <tr style=\"text-align: right;\">\n",
       "      <th></th>\n",
       "      <th>role_id</th>\n",
       "      <th>industry_name</th>\n",
       "      <th>role_category_name</th>\n",
       "      <th>hourly_rate</th>\n",
       "      <th>billing_type</th>\n",
       "      <th>seniority</th>\n",
       "      <th>startdate</th>\n",
       "      <th>name_anon</th>\n",
       "    </tr>\n",
       "  </thead>\n",
       "  <tbody>\n",
       "    <tr>\n",
       "      <th>0</th>\n",
       "      <td>68fb318f-438b-4257-95f2-3893564ebd01</td>\n",
       "      <td>NaN</td>\n",
       "      <td>NaN</td>\n",
       "      <td>NaN</td>\n",
       "      <td>NaN</td>\n",
       "      <td>K2</td>\n",
       "      <td>2023-10-01</td>\n",
       "      <td>NaN</td>\n",
       "    </tr>\n",
       "    <tr>\n",
       "      <th>1</th>\n",
       "      <td>b5a1a16b-99d7-4895-b927-0d0afa074c35</td>\n",
       "      <td>NaN</td>\n",
       "      <td>NaN</td>\n",
       "      <td>NaN</td>\n",
       "      <td>NaN</td>\n",
       "      <td>NaN</td>\n",
       "      <td>NaN</td>\n",
       "      <td>NaN</td>\n",
       "    </tr>\n",
       "    <tr>\n",
       "      <th>2</th>\n",
       "      <td>264b42da-30b3-8026-b4e1-f6a7c2832cc2</td>\n",
       "      <td>NaN</td>\n",
       "      <td>Data Analyst</td>\n",
       "      <td>900.0</td>\n",
       "      <td>Direct</td>\n",
       "      <td>NaN</td>\n",
       "      <td>2025-09-04</td>\n",
       "      <td>Terry and Sons</td>\n",
       "    </tr>\n",
       "    <tr>\n",
       "      <th>3</th>\n",
       "      <td>0517e8f8-b88c-41fa-ae1a-57458f4571d0</td>\n",
       "      <td>NaN</td>\n",
       "      <td>Data Engineer</td>\n",
       "      <td>1100.0</td>\n",
       "      <td>Invoicing(Right people Group)</td>\n",
       "      <td>NaN</td>\n",
       "      <td>2022-12-05</td>\n",
       "      <td>Payne-Nelson</td>\n",
       "    </tr>\n",
       "    <tr>\n",
       "      <th>4</th>\n",
       "      <td>347c5d6b-8487-437c-8945-612a32c0b866</td>\n",
       "      <td>NaN</td>\n",
       "      <td>NaN</td>\n",
       "      <td>1100.0</td>\n",
       "      <td>NaN</td>\n",
       "      <td>NaN</td>\n",
       "      <td>2022-09-11</td>\n",
       "      <td>Payne-Nelson</td>\n",
       "    </tr>\n",
       "    <tr>\n",
       "      <th>...</th>\n",
       "      <td>...</td>\n",
       "      <td>...</td>\n",
       "      <td>...</td>\n",
       "      <td>...</td>\n",
       "      <td>...</td>\n",
       "      <td>...</td>\n",
       "      <td>...</td>\n",
       "      <td>...</td>\n",
       "    </tr>\n",
       "    <tr>\n",
       "      <th>96</th>\n",
       "      <td>c90ee650-07ac-4725-a75d-f0b4d5f6b5e6</td>\n",
       "      <td>Tech</td>\n",
       "      <td>Data Scientist</td>\n",
       "      <td>1000.0</td>\n",
       "      <td>Self-billing(Tingent)</td>\n",
       "      <td>NaN</td>\n",
       "      <td>2022-09-01</td>\n",
       "      <td>Richards, Acosta and Mccall</td>\n",
       "    </tr>\n",
       "    <tr>\n",
       "      <th>97</th>\n",
       "      <td>a53e017d-e456-49bd-89b6-fdbeec1b30b4</td>\n",
       "      <td>Tech</td>\n",
       "      <td>Business Developer</td>\n",
       "      <td>1350.0</td>\n",
       "      <td>NaN</td>\n",
       "      <td>K4</td>\n",
       "      <td>2021-06-21</td>\n",
       "      <td>Richards, Acosta and Mccall</td>\n",
       "    </tr>\n",
       "    <tr>\n",
       "      <th>98</th>\n",
       "      <td>60b9abb5-6ff3-4bcd-be3c-ec6f396305c3</td>\n",
       "      <td>Tech</td>\n",
       "      <td>Business Developer</td>\n",
       "      <td>1000.0</td>\n",
       "      <td>Direct billing</td>\n",
       "      <td>NaN</td>\n",
       "      <td>2023-02-07</td>\n",
       "      <td>Price and Sons</td>\n",
       "    </tr>\n",
       "    <tr>\n",
       "      <th>99</th>\n",
       "      <td>38968285-7e0f-4c8b-b473-9cbacd5f0ab4</td>\n",
       "      <td>Tech</td>\n",
       "      <td>NaN</td>\n",
       "      <td>1700.0</td>\n",
       "      <td>Direct billing</td>\n",
       "      <td>K4</td>\n",
       "      <td>2023-02-07</td>\n",
       "      <td>Price and Sons</td>\n",
       "    </tr>\n",
       "    <tr>\n",
       "      <th>100</th>\n",
       "      <td>a80d6f1c-0863-48a9-a49c-fc8c7a24896b</td>\n",
       "      <td>Transportation and Logistics</td>\n",
       "      <td>Data Engineer</td>\n",
       "      <td>1200.0</td>\n",
       "      <td>Self bill</td>\n",
       "      <td>NaN</td>\n",
       "      <td>2023-07-04</td>\n",
       "      <td>Morris, Juarez and Chavez</td>\n",
       "    </tr>\n",
       "  </tbody>\n",
       "</table>\n",
       "<p>101 rows × 8 columns</p>\n",
       "</div>"
      ],
      "text/plain": [
       "                                  role_id                 industry_name  \\\n",
       "0    68fb318f-438b-4257-95f2-3893564ebd01                           NaN   \n",
       "1    b5a1a16b-99d7-4895-b927-0d0afa074c35                           NaN   \n",
       "2    264b42da-30b3-8026-b4e1-f6a7c2832cc2                           NaN   \n",
       "3    0517e8f8-b88c-41fa-ae1a-57458f4571d0                           NaN   \n",
       "4    347c5d6b-8487-437c-8945-612a32c0b866                           NaN   \n",
       "..                                    ...                           ...   \n",
       "96   c90ee650-07ac-4725-a75d-f0b4d5f6b5e6                          Tech   \n",
       "97   a53e017d-e456-49bd-89b6-fdbeec1b30b4                          Tech   \n",
       "98   60b9abb5-6ff3-4bcd-be3c-ec6f396305c3                          Tech   \n",
       "99   38968285-7e0f-4c8b-b473-9cbacd5f0ab4                          Tech   \n",
       "100  a80d6f1c-0863-48a9-a49c-fc8c7a24896b  Transportation and Logistics   \n",
       "\n",
       "     role_category_name  hourly_rate                   billing_type seniority  \\\n",
       "0                   NaN          NaN                            NaN        K2   \n",
       "1                   NaN          NaN                            NaN       NaN   \n",
       "2          Data Analyst        900.0                         Direct       NaN   \n",
       "3         Data Engineer       1100.0  Invoicing(Right people Group)       NaN   \n",
       "4                   NaN       1100.0                            NaN       NaN   \n",
       "..                  ...          ...                            ...       ...   \n",
       "96       Data Scientist       1000.0          Self-billing(Tingent)       NaN   \n",
       "97   Business Developer       1350.0                            NaN        K4   \n",
       "98   Business Developer       1000.0                 Direct billing       NaN   \n",
       "99                  NaN       1700.0                 Direct billing        K4   \n",
       "100       Data Engineer       1200.0                      Self bill       NaN   \n",
       "\n",
       "      startdate                    name_anon  \n",
       "0    2023-10-01                          NaN  \n",
       "1           NaN                          NaN  \n",
       "2    2025-09-04               Terry and Sons  \n",
       "3    2022-12-05                 Payne-Nelson  \n",
       "4    2022-09-11                 Payne-Nelson  \n",
       "..          ...                          ...  \n",
       "96   2022-09-01  Richards, Acosta and Mccall  \n",
       "97   2021-06-21  Richards, Acosta and Mccall  \n",
       "98   2023-02-07               Price and Sons  \n",
       "99   2023-02-07               Price and Sons  \n",
       "100  2023-07-04    Morris, Juarez and Chavez  \n",
       "\n",
       "[101 rows x 8 columns]"
      ]
     },
     "execution_count": 122,
     "metadata": {},
     "output_type": "execute_result"
    }
   ],
   "source": [
    "df4"
   ]
  },
  {
   "cell_type": "code",
   "execution_count": 123,
   "id": "27280e93",
   "metadata": {},
   "outputs": [
    {
     "data": {
      "text/html": [
       "<div>\n",
       "<style scoped>\n",
       "    .dataframe tbody tr th:only-of-type {\n",
       "        vertical-align: middle;\n",
       "    }\n",
       "\n",
       "    .dataframe tbody tr th {\n",
       "        vertical-align: top;\n",
       "    }\n",
       "\n",
       "    .dataframe thead th {\n",
       "        text-align: right;\n",
       "    }\n",
       "</style>\n",
       "<table border=\"1\" class=\"dataframe\">\n",
       "  <thead>\n",
       "    <tr style=\"text-align: right;\">\n",
       "      <th></th>\n",
       "      <th>role_id</th>\n",
       "      <th>enddate</th>\n",
       "    </tr>\n",
       "  </thead>\n",
       "  <tbody>\n",
       "    <tr>\n",
       "      <th>0</th>\n",
       "      <td>68fb318f-438b-4257-95f2-3893564ebd01</td>\n",
       "      <td>2023-11-30</td>\n",
       "    </tr>\n",
       "    <tr>\n",
       "      <th>1</th>\n",
       "      <td>b5a1a16b-99d7-4895-b927-0d0afa074c35</td>\n",
       "      <td>NaN</td>\n",
       "    </tr>\n",
       "    <tr>\n",
       "      <th>2</th>\n",
       "      <td>6fad142b-c2f6-4a68-b3e6-aa309dbb0bc7</td>\n",
       "      <td>2023-05-01</td>\n",
       "    </tr>\n",
       "    <tr>\n",
       "      <th>3</th>\n",
       "      <td>849de986-d3ce-40d4-9b7d-ac24ad54ddcf</td>\n",
       "      <td>2023-04-28</td>\n",
       "    </tr>\n",
       "    <tr>\n",
       "      <th>4</th>\n",
       "      <td>185b42da-30b3-80c5-b9c3-ca3ea65ff40b</td>\n",
       "      <td>2025-03-05</td>\n",
       "    </tr>\n",
       "    <tr>\n",
       "      <th>...</th>\n",
       "      <td>...</td>\n",
       "      <td>...</td>\n",
       "    </tr>\n",
       "    <tr>\n",
       "      <th>98</th>\n",
       "      <td>72a4562c-6320-43de-8511-6bcd6c0eadcd</td>\n",
       "      <td>2023-12-31</td>\n",
       "    </tr>\n",
       "    <tr>\n",
       "      <th>99</th>\n",
       "      <td>b1dbfce2-eb64-4565-a041-ed9c6e669aa6</td>\n",
       "      <td>2022-01-03</td>\n",
       "    </tr>\n",
       "    <tr>\n",
       "      <th>100</th>\n",
       "      <td>fbebcca2-2f78-4a2c-996b-ca0e9c0b3a5d</td>\n",
       "      <td>2023-06-30</td>\n",
       "    </tr>\n",
       "    <tr>\n",
       "      <th>101</th>\n",
       "      <td>3de8fb70-add9-477a-b139-1a5176007b26</td>\n",
       "      <td>2023-11-17</td>\n",
       "    </tr>\n",
       "    <tr>\n",
       "      <th>102</th>\n",
       "      <td>babc12fb-9b1b-45bc-ab70-649968bb222d</td>\n",
       "      <td>2024-04-30</td>\n",
       "    </tr>\n",
       "  </tbody>\n",
       "</table>\n",
       "<p>103 rows × 2 columns</p>\n",
       "</div>"
      ],
      "text/plain": [
       "                                  role_id     enddate\n",
       "0    68fb318f-438b-4257-95f2-3893564ebd01  2023-11-30\n",
       "1    b5a1a16b-99d7-4895-b927-0d0afa074c35         NaN\n",
       "2    6fad142b-c2f6-4a68-b3e6-aa309dbb0bc7  2023-05-01\n",
       "3    849de986-d3ce-40d4-9b7d-ac24ad54ddcf  2023-04-28\n",
       "4    185b42da-30b3-80c5-b9c3-ca3ea65ff40b  2025-03-05\n",
       "..                                    ...         ...\n",
       "98   72a4562c-6320-43de-8511-6bcd6c0eadcd  2023-12-31\n",
       "99   b1dbfce2-eb64-4565-a041-ed9c6e669aa6  2022-01-03\n",
       "100  fbebcca2-2f78-4a2c-996b-ca0e9c0b3a5d  2023-06-30\n",
       "101  3de8fb70-add9-477a-b139-1a5176007b26  2023-11-17\n",
       "102  babc12fb-9b1b-45bc-ab70-649968bb222d  2024-04-30\n",
       "\n",
       "[103 rows x 2 columns]"
      ]
     },
     "execution_count": 123,
     "metadata": {},
     "output_type": "execute_result"
    }
   ],
   "source": [
    "df13"
   ]
  },
  {
   "cell_type": "code",
   "execution_count": 128,
   "id": "0c24d40b",
   "metadata": {},
   "outputs": [
    {
     "data": {
      "text/html": [
       "<div>\n",
       "<style scoped>\n",
       "    .dataframe tbody tr th:only-of-type {\n",
       "        vertical-align: middle;\n",
       "    }\n",
       "\n",
       "    .dataframe tbody tr th {\n",
       "        vertical-align: top;\n",
       "    }\n",
       "\n",
       "    .dataframe thead th {\n",
       "        text-align: right;\n",
       "    }\n",
       "</style>\n",
       "<table border=\"1\" class=\"dataframe\">\n",
       "  <thead>\n",
       "    <tr style=\"text-align: right;\">\n",
       "      <th></th>\n",
       "      <th>month</th>\n",
       "      <th>role_id</th>\n",
       "      <th>consultant_value</th>\n",
       "    </tr>\n",
       "  </thead>\n",
       "  <tbody>\n",
       "    <tr>\n",
       "      <th>0</th>\n",
       "      <td>2025-09-01</td>\n",
       "      <td>264b42da-30b3-8026-b4e1-f6a7c2832cc2</td>\n",
       "      <td>28800.0</td>\n",
       "    </tr>\n",
       "    <tr>\n",
       "      <th>1</th>\n",
       "      <td>2025-10-01</td>\n",
       "      <td>264b42da-30b3-8026-b4e1-f6a7c2832cc2</td>\n",
       "      <td>28800.0</td>\n",
       "    </tr>\n",
       "    <tr>\n",
       "      <th>2</th>\n",
       "      <td>2025-11-01</td>\n",
       "      <td>264b42da-30b3-8026-b4e1-f6a7c2832cc2</td>\n",
       "      <td>28800.0</td>\n",
       "    </tr>\n",
       "    <tr>\n",
       "      <th>3</th>\n",
       "      <td>2025-12-01</td>\n",
       "      <td>264b42da-30b3-8026-b4e1-f6a7c2832cc2</td>\n",
       "      <td>28800.0</td>\n",
       "    </tr>\n",
       "    <tr>\n",
       "      <th>4</th>\n",
       "      <td>2022-12-01</td>\n",
       "      <td>0517e8f8-b88c-41fa-ae1a-57458f4571d0</td>\n",
       "      <td>35200.0</td>\n",
       "    </tr>\n",
       "  </tbody>\n",
       "</table>\n",
       "</div>"
      ],
      "text/plain": [
       "       month                               role_id  consultant_value\n",
       "0 2025-09-01  264b42da-30b3-8026-b4e1-f6a7c2832cc2           28800.0\n",
       "1 2025-10-01  264b42da-30b3-8026-b4e1-f6a7c2832cc2           28800.0\n",
       "2 2025-11-01  264b42da-30b3-8026-b4e1-f6a7c2832cc2           28800.0\n",
       "3 2025-12-01  264b42da-30b3-8026-b4e1-f6a7c2832cc2           28800.0\n",
       "4 2022-12-01  0517e8f8-b88c-41fa-ae1a-57458f4571d0           35200.0"
      ]
     },
     "metadata": {},
     "output_type": "display_data"
    },
    {
     "data": {
      "text/html": [
       "<div>\n",
       "<style scoped>\n",
       "    .dataframe tbody tr th:only-of-type {\n",
       "        vertical-align: middle;\n",
       "    }\n",
       "\n",
       "    .dataframe tbody tr th {\n",
       "        vertical-align: top;\n",
       "    }\n",
       "\n",
       "    .dataframe thead th {\n",
       "        text-align: right;\n",
       "    }\n",
       "</style>\n",
       "<table border=\"1\" class=\"dataframe\">\n",
       "  <thead>\n",
       "    <tr style=\"text-align: right;\">\n",
       "      <th></th>\n",
       "      <th>month</th>\n",
       "      <th>total_consultant_value</th>\n",
       "    </tr>\n",
       "  </thead>\n",
       "  <tbody>\n",
       "    <tr>\n",
       "      <th>0</th>\n",
       "      <td>2020-10-01</td>\n",
       "      <td>41600.0</td>\n",
       "    </tr>\n",
       "    <tr>\n",
       "      <th>1</th>\n",
       "      <td>2020-11-01</td>\n",
       "      <td>41600.0</td>\n",
       "    </tr>\n",
       "    <tr>\n",
       "      <th>2</th>\n",
       "      <td>2020-12-01</td>\n",
       "      <td>41600.0</td>\n",
       "    </tr>\n",
       "    <tr>\n",
       "      <th>3</th>\n",
       "      <td>2021-01-01</td>\n",
       "      <td>41600.0</td>\n",
       "    </tr>\n",
       "    <tr>\n",
       "      <th>4</th>\n",
       "      <td>2021-02-01</td>\n",
       "      <td>41600.0</td>\n",
       "    </tr>\n",
       "    <tr>\n",
       "      <th>...</th>\n",
       "      <td>...</td>\n",
       "      <td>...</td>\n",
       "    </tr>\n",
       "    <tr>\n",
       "      <th>64</th>\n",
       "      <td>2026-02-01</td>\n",
       "      <td>72480.0</td>\n",
       "    </tr>\n",
       "    <tr>\n",
       "      <th>65</th>\n",
       "      <td>2026-03-01</td>\n",
       "      <td>72480.0</td>\n",
       "    </tr>\n",
       "    <tr>\n",
       "      <th>66</th>\n",
       "      <td>2026-04-01</td>\n",
       "      <td>72480.0</td>\n",
       "    </tr>\n",
       "    <tr>\n",
       "      <th>67</th>\n",
       "      <td>2026-05-01</td>\n",
       "      <td>39680.0</td>\n",
       "    </tr>\n",
       "    <tr>\n",
       "      <th>68</th>\n",
       "      <td>2026-06-01</td>\n",
       "      <td>39680.0</td>\n",
       "    </tr>\n",
       "  </tbody>\n",
       "</table>\n",
       "<p>69 rows × 2 columns</p>\n",
       "</div>"
      ],
      "text/plain": [
       "        month  total_consultant_value\n",
       "0  2020-10-01                 41600.0\n",
       "1  2020-11-01                 41600.0\n",
       "2  2020-12-01                 41600.0\n",
       "3  2021-01-01                 41600.0\n",
       "4  2021-02-01                 41600.0\n",
       "..        ...                     ...\n",
       "64 2026-02-01                 72480.0\n",
       "65 2026-03-01                 72480.0\n",
       "66 2026-04-01                 72480.0\n",
       "67 2026-05-01                 39680.0\n",
       "68 2026-06-01                 39680.0\n",
       "\n",
       "[69 rows x 2 columns]"
      ]
     },
     "metadata": {},
     "output_type": "display_data"
    }
   ],
   "source": [
    "# Left join df4 (main) with df13 based on role_id\n",
    "consultants = df4.merge(\n",
    "    df13,\n",
    "    on='role_id',\n",
    "    how='left'\n",
    ")\n",
    "\n",
    "today = pd.Timestamp.today().normalize()\n",
    "consultants_clean = consultants.copy()\n",
    "consultants_clean['startdate'] = pd.to_datetime(consultants_clean['startdate'])\n",
    "consultants_clean['enddate'] = pd.to_datetime(consultants_clean['enddate']).fillna(today)\n",
    "consultants_clean = consultants_clean.dropna(subset=['startdate', 'hourly_rate'])\n",
    "consultants_clean.loc[consultants_clean['enddate'] < consultants_clean['startdate'], 'enddate'] = consultants_clean['startdate']\n",
    "\n",
    "records = []\n",
    "for row in consultants_clean.itertuples():\n",
    "    months = pd.period_range(row.startdate, row.enddate, freq='M')\n",
    "    for month in months:\n",
    "        records.append({\n",
    "            'month': month.to_timestamp(),\n",
    "            'role_id': row.role_id,\n",
    "            'consultant_value': row.hourly_rate * 32\n",
    "        })\n",
    "\n",
    "consultant_monthly = pd.DataFrame(records)\n",
    "monthly_totals = (\n",
    "    consultant_monthly.groupby('month', as_index=False)['consultant_value']\n",
    "    .sum()\n",
    "    .rename(columns={'consultant_value': 'total_consultant_value'})\n",
    ")\n",
    "\n",
    "display(consultant_monthly.head())\n",
    "display(monthly_totals)"
   ]
  }
 ],
 "metadata": {
  "kernelspec": {
   "display_name": "base",
   "language": "python",
   "name": "python3"
  },
  "language_info": {
   "codemirror_mode": {
    "name": "ipython",
    "version": 3
   },
   "file_extension": ".py",
   "mimetype": "text/x-python",
   "name": "python",
   "nbconvert_exporter": "python",
   "pygments_lexer": "ipython3",
   "version": "3.12.7"
  }
 },
 "nbformat": 4,
 "nbformat_minor": 5
}
